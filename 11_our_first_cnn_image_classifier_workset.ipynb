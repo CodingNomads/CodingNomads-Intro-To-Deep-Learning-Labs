{
 "cells": [
  {
   "cell_type": "code",
   "execution_count": 1,
   "metadata": {
    "executionInfo": {
     "elapsed": 13716,
     "status": "ok",
     "timestamp": 1645217433228,
     "user": {
      "displayName": "Mike Frantz",
      "photoUrl": "https://lh3.googleusercontent.com/a-/AOh14GiGYCwZXGfGg-CE4_33PQcH9SW8fN6MyRkenN8-IA=s64",
      "userId": "08482506601269125384"
     },
     "user_tz": 480
    },
    "id": "oH3FdUWcC-aG"
   },
   "outputs": [],
   "source": [
    "%%capture\n",
    "!pip install -Uqq fastai\n",
    "!apt-get install tree"
   ]
  },
  {
   "cell_type": "code",
   "execution_count": 2,
   "metadata": {
    "executionInfo": {
     "elapsed": 8580,
     "status": "ok",
     "timestamp": 1645217441798,
     "user": {
      "displayName": "Mike Frantz",
      "photoUrl": "https://lh3.googleusercontent.com/a-/AOh14GiGYCwZXGfGg-CE4_33PQcH9SW8fN6MyRkenN8-IA=s64",
      "userId": "08482506601269125384"
     },
     "user_tz": 480
    },
    "id": "H4QMDFeqDbnF"
   },
   "outputs": [],
   "source": [
    "import torch\n",
    "from torch import nn, optim\n",
    "from torch.nn import functional as F\n",
    "from fastai.vision.all import *\n",
    "from fastai import *\n",
    "from torchvision import transforms\n",
    "import pandas as pd"
   ]
  },
  {
   "cell_type": "code",
   "execution_count": 3,
   "metadata": {
    "colab": {
     "base_uri": "https://localhost:8080/",
     "height": 37
    },
    "executionInfo": {
     "elapsed": 29453,
     "status": "ok",
     "timestamp": 1645217471225,
     "user": {
      "displayName": "Mike Frantz",
      "photoUrl": "https://lh3.googleusercontent.com/a-/AOh14GiGYCwZXGfGg-CE4_33PQcH9SW8fN6MyRkenN8-IA=s64",
      "userId": "08482506601269125384"
     },
     "user_tz": 480
    },
    "id": "aYR4_WHt9ZK-",
    "outputId": "e3dd8574-9573-42d3-d1cb-37bbfd1f7a6a"
   },
   "outputs": [],
   "source": [
    "path = untar_data(URLs.MNIST)"
   ]
  },
  {
   "cell_type": "code",
   "execution_count": 4,
   "metadata": {
    "colab": {
     "base_uri": "https://localhost:8080/"
    },
    "executionInfo": {
     "elapsed": 267,
     "status": "ok",
     "timestamp": 1645217471468,
     "user": {
      "displayName": "Mike Frantz",
      "photoUrl": "https://lh3.googleusercontent.com/a-/AOh14GiGYCwZXGfGg-CE4_33PQcH9SW8fN6MyRkenN8-IA=s64",
      "userId": "08482506601269125384"
     },
     "user_tz": 480
    },
    "id": "kAfPDPZAQX7w",
    "outputId": "2a8fe6f0-8aa3-4109-a446-dda9b6e85216"
   },
   "outputs": [],
   "source": [
    "print('First 2 levels of the data directory... \\n')\n",
    "!tree -L 2 {str(path)}\n",
    "# print('\\nLooking at the first 10 files in the training/0 directory...\\n')\n",
    "!ls {str(path/'training/0')} | head -n 10"
   ]
  },
  {
   "cell_type": "code",
   "execution_count": 5,
   "metadata": {
    "executionInfo": {
     "elapsed": 18488,
     "status": "ok",
     "timestamp": 1645217489953,
     "user": {
      "displayName": "Mike Frantz",
      "photoUrl": "https://lh3.googleusercontent.com/a-/AOh14GiGYCwZXGfGg-CE4_33PQcH9SW8fN6MyRkenN8-IA=s64",
      "userId": "08482506601269125384"
     },
     "user_tz": 480
    },
    "id": "3EjamsZC9lf2"
   },
   "outputs": [],
   "source": [
    "dls = ImageDataLoaders.from_folder(path, 'training', 'testing')"
   ]
  },
  {
   "cell_type": "code",
   "execution_count": 6,
   "metadata": {
    "colab": {
     "base_uri": "https://localhost:8080/",
     "height": 536
    },
    "executionInfo": {
     "elapsed": 563,
     "status": "ok",
     "timestamp": 1645217490502,
     "user": {
      "displayName": "Mike Frantz",
      "photoUrl": "https://lh3.googleusercontent.com/a-/AOh14GiGYCwZXGfGg-CE4_33PQcH9SW8fN6MyRkenN8-IA=s64",
      "userId": "08482506601269125384"
     },
     "user_tz": 480
    },
    "id": "Q0249nNPHQ7p",
    "outputId": "6702f451-4662-46f1-c6ed-ac3901485587"
   },
   "outputs": [],
   "source": [
    "dls.show_batch()"
   ]
  },
  {
   "cell_type": "code",
   "execution_count": 7,
   "metadata": {
    "colab": {
     "base_uri": "https://localhost:8080/"
    },
    "executionInfo": {
     "elapsed": 255,
     "status": "ok",
     "timestamp": 1645217490752,
     "user": {
      "displayName": "Mike Frantz",
      "photoUrl": "https://lh3.googleusercontent.com/a-/AOh14GiGYCwZXGfGg-CE4_33PQcH9SW8fN6MyRkenN8-IA=s64",
      "userId": "08482506601269125384"
     },
     "user_tz": 480
    },
    "id": "ZxbyaardGJ7B",
    "outputId": "be1bf965-2b3e-4696-dccc-3ed0d8bdc9a1"
   },
   "outputs": [],
   "source": [
    "x_b, y_b = dls.one_batch()\n",
    "\n",
    "x_b.max(), x_b.min(), x_b.shape, y_b"
   ]
  },
  {
   "cell_type": "code",
   "execution_count": 8,
   "metadata": {
    "executionInfo": {
     "elapsed": 12,
     "status": "ok",
     "timestamp": 1645217490753,
     "user": {
      "displayName": "Mike Frantz",
      "photoUrl": "https://lh3.googleusercontent.com/a-/AOh14GiGYCwZXGfGg-CE4_33PQcH9SW8fN6MyRkenN8-IA=s64",
      "userId": "08482506601269125384"
     },
     "user_tz": 480
    },
    "id": "7PDtufjVFlJ7"
   },
   "outputs": [],
   "source": [
    "def conv_block(in_channels, out_channels, kernel_size=3, padding=1, stride=1, dropout=0.2, *args, **kwargs):\n",
    "    \"\"\"\n",
    "    Returns a sequential module of a conv block that we want to repeat.\n",
    "    \"\"\"\n",
    "    return nn.Sequential(\n",
    "        nn.Conv2d(in_channels=in_channels, out_channels=out_channels, kernel_size=kernel_size, stride=stride, padding=padding, **kwargs),\n",
    "        nn.PReLU(),\n",
    "        nn.BatchNorm2d(out_channels),\n",
    "        nn.Dropout2d(dropout)\n",
    "    )"
   ]
  },
  {
   "cell_type": "code",
   "execution_count": 9,
   "metadata": {
    "colab": {
     "base_uri": "https://localhost:8080/"
    },
    "executionInfo": {
     "elapsed": 13,
     "status": "ok",
     "timestamp": 1645217490754,
     "user": {
      "displayName": "Mike Frantz",
      "photoUrl": "https://lh3.googleusercontent.com/a-/AOh14GiGYCwZXGfGg-CE4_33PQcH9SW8fN6MyRkenN8-IA=s64",
      "userId": "08482506601269125384"
     },
     "user_tz": 480
    },
    "id": "2eICy_4C-TCF",
    "outputId": "0081d0a7-253e-434c-a7a8-d21ae5adcb07"
   },
   "outputs": [],
   "source": [
    "# Build our model\n",
    "model = nn.Sequential(\n",
    "    conv_block(3, 32), # 3x28x28 --> 32x28x28\n",
    "    conv_block(32, 64), # 32x28x28 --> 64x28x28\n",
    "    conv_block(64, 64, stride=2), # 64x28x28 --> 64x14x14\n",
    "    conv_block(64, 128), # 64x14x14 --> 128x14x14\n",
    "    conv_block(128, 128, stride=2), # 128x14x14 --> 128x7x7\n",
    "    nn.AdaptiveMaxPool2d(1), # 128x7x7 --> 128\n",
    "    nn.Flatten(), # 1x1x128 --> 128\n",
    "    nn.Linear(128, 10) # 128 features --> 10 outputs\n",
    ")\n",
    "\n",
    "# Display our model\n",
    "model"
   ]
  },
  {
   "cell_type": "code",
   "execution_count": 10,
   "metadata": {
    "executionInfo": {
     "elapsed": 11,
     "status": "ok",
     "timestamp": 1645217490755,
     "user": {
      "displayName": "Mike Frantz",
      "photoUrl": "https://lh3.googleusercontent.com/a-/AOh14GiGYCwZXGfGg-CE4_33PQcH9SW8fN6MyRkenN8-IA=s64",
      "userId": "08482506601269125384"
     },
     "user_tz": 480
    },
    "id": "TNNTXAR6_kU7"
   },
   "outputs": [],
   "source": [
    "cbs = [\n",
    "    EarlyStoppingCallback()\n",
    "]\n",
    "\n",
    "mets = [\n",
    "    metrics.accuracy,\n",
    "    metrics.error_rate\n",
    "]\n",
    "\n",
    "loss = CrossEntropyLossFlat()"
   ]
  },
  {
   "cell_type": "code",
   "execution_count": 11,
   "metadata": {
    "executionInfo": {
     "elapsed": 13,
     "status": "ok",
     "timestamp": 1645217490757,
     "user": {
      "displayName": "Mike Frantz",
      "photoUrl": "https://lh3.googleusercontent.com/a-/AOh14GiGYCwZXGfGg-CE4_33PQcH9SW8fN6MyRkenN8-IA=s64",
      "userId": "08482506601269125384"
     },
     "user_tz": 480
    },
    "id": "sHyqcuKS-YqB"
   },
   "outputs": [],
   "source": [
    "learn = Learner(dls, model, loss, metrics=mets, cbs=cbs)"
   ]
  },
  {
   "cell_type": "code",
   "execution_count": 12,
   "metadata": {
    "colab": {
     "base_uri": "https://localhost:8080/",
     "height": 112
    },
    "executionInfo": {
     "elapsed": 187250,
     "status": "ok",
     "timestamp": 1645217677995,
     "user": {
      "displayName": "Mike Frantz",
      "photoUrl": "https://lh3.googleusercontent.com/a-/AOh14GiGYCwZXGfGg-CE4_33PQcH9SW8fN6MyRkenN8-IA=s64",
      "userId": "08482506601269125384"
     },
     "user_tz": 480
    },
    "id": "o-0PhCG2_hvn",
    "outputId": "4ec43844-db79-4c39-ca52-04bc5ee5ed21"
   },
   "outputs": [],
   "source": [
    "LR = 1e-3\n",
    "learn.fit_one_cycle(2, LR)"
   ]
  },
  {
   "cell_type": "code",
   "execution_count": 13,
   "metadata": {
    "colab": {
     "base_uri": "https://localhost:8080/",
     "height": 265
    },
    "executionInfo": {
     "elapsed": 299,
     "status": "ok",
     "timestamp": 1645217678277,
     "user": {
      "displayName": "Mike Frantz",
      "photoUrl": "https://lh3.googleusercontent.com/a-/AOh14GiGYCwZXGfGg-CE4_33PQcH9SW8fN6MyRkenN8-IA=s64",
      "userId": "08482506601269125384"
     },
     "user_tz": 480
    },
    "id": "zjPqrVXA3jsY",
    "outputId": "56a96993-dc8d-4b5b-f296-36c49387b785"
   },
   "outputs": [],
   "source": [
    "learn.recorder.plot_sched()"
   ]
  },
  {
   "cell_type": "code",
   "execution_count": 14,
   "metadata": {
    "executionInfo": {
     "elapsed": 6,
     "status": "ok",
     "timestamp": 1645217678278,
     "user": {
      "displayName": "Mike Frantz",
      "photoUrl": "https://lh3.googleusercontent.com/a-/AOh14GiGYCwZXGfGg-CE4_33PQcH9SW8fN6MyRkenN8-IA=s64",
      "userId": "08482506601269125384"
     },
     "user_tz": 480
    },
    "id": "75B1xINbg9ED"
   },
   "outputs": [],
   "source": [
    "def visualize_filters(layer, batch, batch_idx):\n",
    "    with hook_output(model[layer][0]) as hook:\n",
    "        # Pass one batch through the model, outputs will be stored in hook.stored\n",
    "        with torch.no_grad():\n",
    "            _ = learn.model(batch)\n",
    "            # Store the outputs\n",
    "            outputs = hook.stored\n",
    "    \n",
    "    # Pick an index in the batch\n",
    "    n_filters = outputs.shape[1]\n",
    "    output_size = outputs.shape[2]\n",
    "    # Pick 9 random filters to visualize\n",
    "    sampled_filters = np.random.choice(range(n_filters), 9)\n",
    "\n",
    "    # Show the outputs for our 9 randomly sampled filters\n",
    "    fig = plt.figure(figsize=(10, 10))\n",
    "    for i, fidx in enumerate(sampled_filters):\n",
    "        ax = fig.add_subplot(3, 3, 1+i)\n",
    "        if i == 0: # Plot the original image in the upper left\n",
    "            show_image(batch[batch_idx], title='Original', ax=ax)\n",
    "            # plt.close()\n",
    "        else: # Plot activation maps of the randomly sampled filters\n",
    "            ax.matshow(\n",
    "                outputs[batch_idx, fidx].squeeze().cpu().numpy(), \n",
    "                cmap='Greys_r'\n",
    "            )\n",
    "        # Get rid of ticks & labels\n",
    "        ax.set_xticklabels([])\n",
    "        ax.set_xticks([])\n",
    "        ax.set_yticklabels([])\n",
    "        ax.set_yticks([])\n",
    "    fig.tight_layout()\n",
    "    plt.close()\n",
    "    return fig"
   ]
  },
  {
   "cell_type": "code",
   "execution_count": 15,
   "metadata": {
    "colab": {
     "base_uri": "https://localhost:8080/",
     "height": 729
    },
    "executionInfo": {
     "elapsed": 417,
     "status": "ok",
     "timestamp": 1645217678690,
     "user": {
      "displayName": "Mike Frantz",
      "photoUrl": "https://lh3.googleusercontent.com/a-/AOh14GiGYCwZXGfGg-CE4_33PQcH9SW8fN6MyRkenN8-IA=s64",
      "userId": "08482506601269125384"
     },
     "user_tz": 480
    },
    "id": "otQ8X2Aehu2U",
    "outputId": "dd0a5fcb-b8ec-4d7b-855f-2ad544126c36"
   },
   "outputs": [],
   "source": [
    "visualize_filters(0, x_b, 2)"
   ]
  },
  {
   "cell_type": "code",
   "execution_count": 16,
   "metadata": {
    "colab": {
     "base_uri": "https://localhost:8080/",
     "height": 729
    },
    "executionInfo": {
     "elapsed": 692,
     "status": "ok",
     "timestamp": 1645217679721,
     "user": {
      "displayName": "Mike Frantz",
      "photoUrl": "https://lh3.googleusercontent.com/a-/AOh14GiGYCwZXGfGg-CE4_33PQcH9SW8fN6MyRkenN8-IA=s64",
      "userId": "08482506601269125384"
     },
     "user_tz": 480
    },
    "id": "l3VAY3xhjXJv",
    "outputId": "6d9f8004-a502-4628-b152-d07f84a0dc3a"
   },
   "outputs": [],
   "source": [
    "visualize_filters(2, x_b, 2)"
   ]
  },
  {
   "cell_type": "code",
   "execution_count": 17,
   "metadata": {
    "colab": {
     "base_uri": "https://localhost:8080/",
     "height": 729
    },
    "executionInfo": {
     "elapsed": 601,
     "status": "ok",
     "timestamp": 1645217680320,
     "user": {
      "displayName": "Mike Frantz",
      "photoUrl": "https://lh3.googleusercontent.com/a-/AOh14GiGYCwZXGfGg-CE4_33PQcH9SW8fN6MyRkenN8-IA=s64",
      "userId": "08482506601269125384"
     },
     "user_tz": 480
    },
    "id": "MXRGs5hhjnth",
    "outputId": "9d7d3dbb-0a0c-40be-ea70-448f4783d19e"
   },
   "outputs": [],
   "source": [
    "visualize_filters(4, x_b, 2)"
   ]
  },
  {
   "cell_type": "code",
   "execution_count": 17,
   "metadata": {
    "executionInfo": {
     "elapsed": 8,
     "status": "ok",
     "timestamp": 1645217680321,
     "user": {
      "displayName": "Mike Frantz",
      "photoUrl": "https://lh3.googleusercontent.com/a-/AOh14GiGYCwZXGfGg-CE4_33PQcH9SW8fN6MyRkenN8-IA=s64",
      "userId": "08482506601269125384"
     },
     "user_tz": 480
    },
    "id": "gwBOd4mB42lb"
   },
   "outputs": [],
   "source": []
  }
 ],
 "metadata": {
  "accelerator": "GPU",
  "colab": {
   "authorship_tag": "ABX9TyP+TtphqsDzgw2F/mI6WrBq",
   "collapsed_sections": [],
   "name": "11_our_first_cnn_image_classifier.ipynb",
   "provenance": []
  },
  "kernelspec": {
   "display_name": "Python 3",
   "name": "python3"
  },
  "language_info": {
   "name": "python"
  }
 },
 "nbformat": 4,
 "nbformat_minor": 0
}
