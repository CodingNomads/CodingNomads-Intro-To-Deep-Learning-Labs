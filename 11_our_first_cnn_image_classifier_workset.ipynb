{
 "cells": [
  {
   "cell_type": "code",
   "execution_count": 1,
   "metadata": {
    "id": "oH3FdUWcC-aG"
   },
   "outputs": [],
   "source": [
    "%%capture\n",
    "!pip install -Uqq fastai\n",
    "!apt-get install tree"
   ]
  },
  {
   "cell_type": "code",
   "execution_count": 2,
   "metadata": {
    "id": "H4QMDFeqDbnF"
   },
   "outputs": [],
   "source": [
    "import torch\n",
    "from torch import nn, optim\n",
    "from torch.nn import functional as F\n",
    "from fastai.vision.all import *\n",
    "from fastai import *\n",
    "from torchvision import transforms\n",
    "import pandas as pd"
   ]
  },
  {
   "cell_type": "code",
   "execution_count": 3,
   "metadata": {
    "colab": {
     "base_uri": "https://localhost:8080/",
     "height": 37
    },
    "id": "aYR4_WHt9ZK-",
    "outputId": "fcbf8412-0162-46a8-ddd2-4f73f359c717"
   },
   "outputs": [],
   "source": [
    "path = untar_data(URLs.MNIST)"
   ]
  },
  {
   "cell_type": "code",
   "execution_count": 4,
   "metadata": {
    "colab": {
     "base_uri": "https://localhost:8080/"
    },
    "id": "kAfPDPZAQX7w",
    "outputId": "6148fea2-fe1d-4224-effd-064d06b7a12f"
   },
   "outputs": [],
   "source": [
    "print('First 2 levels of the data directory... \\n')\n",
    "!tree -L 2 {str(path)}\n",
    "# print('\\nLooking at the first 10 files in the training/0 directory...\\n')\n",
    "!ls {str(path/'training/0')} | head -n 10"
   ]
  },
  {
   "cell_type": "code",
   "execution_count": 5,
   "metadata": {
    "id": "3EjamsZC9lf2"
   },
   "outputs": [],
   "source": [
    "dls = ImageDataLoaders.from_folder(path, 'training', 'testing')"
   ]
  },
  {
   "cell_type": "code",
   "execution_count": 6,
   "metadata": {
    "colab": {
     "base_uri": "https://localhost:8080/",
     "height": 536
    },
    "id": "Q0249nNPHQ7p",
    "outputId": "c83331c9-3946-463a-d5ca-34fded05b340"
   },
   "outputs": [],
   "source": [
    "dls.show_batch()"
   ]
  },
  {
   "cell_type": "code",
   "execution_count": 7,
   "metadata": {
    "colab": {
     "base_uri": "https://localhost:8080/"
    },
    "id": "ZxbyaardGJ7B",
    "outputId": "bac0e33d-f1a2-40b2-a727-e0224b1670e3"
   },
   "outputs": [],
   "source": [
    "x_b, y_b = dls.one_batch()\n",
    "\n",
    "x_b.max(), x_b.min(), x_b.shape, y_b"
   ]
  },
  {
   "cell_type": "code",
   "execution_count": 8,
   "metadata": {
    "id": "7PDtufjVFlJ7"
   },
   "outputs": [],
   "source": [
    "def conv_block(in_channels, out_channels, kernel_size=3, padding=1, stride=1, dropout=0.2, *args, **kwargs):\n",
    "    \"\"\"\n",
    "    Returns a sequential module of a conv block that we want to repeat.\n",
    "    \"\"\"\n",
    "    return nn.Sequential(\n",
    "        nn.Conv2d(in_channels=in_channels, out_channels=out_channels, kernel_size=kernel_size, stride=stride, padding=padding, **kwargs),\n",
    "        nn.PReLU(),\n",
    "        nn.BatchNorm2d(out_channels),\n",
    "        nn.Dropout2d(dropout)\n",
    "    )"
   ]
  },
  {
   "cell_type": "code",
   "execution_count": 9,
   "metadata": {
    "colab": {
     "base_uri": "https://localhost:8080/"
    },
    "id": "2eICy_4C-TCF",
    "outputId": "faa20cbb-70bf-41f4-dd75-08afea99d245"
   },
   "outputs": [],
   "source": [
    "# Build our model\n",
    "model = nn.Sequential(\n",
    "    conv_block(3, 32), # 3x28x28 --> 32x28x28\n",
    "    conv_block(32, 64), # 32x28x28 --> 64x28x28\n",
    "    conv_block(64, 64, stride=2), # 64x28x28 --> 64x14x14\n",
    "    conv_block(64, 128), # 64x14x14 --> 128x14x14\n",
    "    conv_block(128, 128, stride=2), # 128x14x14 --> 128x7x7\n",
    "    nn.AdaptiveMaxPool2d(1), # 128x7x7 --> 128\n",
    "    nn.Flatten(), # 1x1x128 --> 128\n",
    "    nn.Linear(128, 10) # 128 features --> 10 outputs\n",
    ")\n",
    "\n",
    "# Display our model\n",
    "model"
   ]
  },
  {
   "cell_type": "code",
   "execution_count": 10,
   "metadata": {
    "id": "TNNTXAR6_kU7"
   },
   "outputs": [],
   "source": [
    "cbs = [\n",
    "    EarlyStoppingCallback()\n",
    "]\n",
    "\n",
    "mets = [\n",
    "    metrics.accuracy,\n",
    "    metrics.error_rate\n",
    "]\n",
    "\n",
    "loss = CrossEntropyLossFlat()"
   ]
  },
  {
   "cell_type": "code",
   "execution_count": 11,
   "metadata": {
    "id": "sHyqcuKS-YqB"
   },
   "outputs": [],
   "source": [
    "learn = Learner(dls, model, loss, metrics=mets, cbs=cbs)"
   ]
  },
  {
   "cell_type": "code",
   "execution_count": 12,
   "metadata": {
    "colab": {
     "base_uri": "https://localhost:8080/",
     "height": 112
    },
    "id": "o-0PhCG2_hvn",
    "outputId": "c053473c-0d2a-47d1-ab4c-ee9bf8944aa9"
   },
   "outputs": [],
   "source": [
    "LR = 1e-3\n",
    "learn.fit_one_cycle(2, LR)"
   ]
  },
  {
   "cell_type": "code",
   "execution_count": 13,
   "metadata": {
    "colab": {
     "base_uri": "https://localhost:8080/",
     "height": 285
    },
    "id": "zjPqrVXA3jsY",
    "outputId": "c6249aaf-ffe0-4596-fedc-ec2eb1709efb"
   },
   "outputs": [],
   "source": [
    "learn.recorder.plot_sched()"
   ]
  },
  {
   "cell_type": "code",
   "execution_count": 14,
   "metadata": {
    "id": "75B1xINbg9ED"
   },
   "outputs": [],
   "source": [
    "def visualize_filters(layer, batch, batch_idx):\n",
    "    with hook_output(model[layer][0]) as hook:\n",
    "        # Pass one batch through the model, outputs will be stored in hook.stored\n",
    "        with torch.no_grad():\n",
    "            _ = learn.model(batch)\n",
    "            # Store the outputs\n",
    "            outputs = hook.stored\n",
    "    \n",
    "    # Pick an index in the batch\n",
    "    n_filters = outputs.shape[1]\n",
    "    output_size = outputs.shape[2]\n",
    "    # Pick 9 random filters to visualize\n",
    "    sampled_filters = np.random.choice(range(n_filters), 9)\n",
    "\n",
    "    # Show the outputs for our 9 randomly sampled filters\n",
    "    fig = plt.figure(figsize=(10, 10))\n",
    "    for i, fidx in enumerate(sampled_filters):\n",
    "        ax = fig.add_subplot(3, 3, 1+i)\n",
    "        if i == 0: # Plot the original image in the upper left\n",
    "            show_image(batch[batch_idx], title='Original', ax=ax)\n",
    "            # plt.close()\n",
    "        else: # Plot activation maps of the randomly sampled filters\n",
    "            ax.matshow(\n",
    "                outputs[batch_idx, fidx].squeeze().cpu().numpy(), \n",
    "                cmap='Greys_r'\n",
    "            )\n",
    "        # Get rid of ticks & labels\n",
    "        ax.set_xticklabels([])\n",
    "        ax.set_xticks([])\n",
    "        ax.set_yticklabels([])\n",
    "        ax.set_yticks([])\n",
    "    fig.tight_layout()\n",
    "    plt.close()\n",
    "    return fig"
   ]
  },
  {
   "cell_type": "code",
   "execution_count": 15,
   "metadata": {
    "colab": {
     "base_uri": "https://localhost:8080/",
     "height": 729
    },
    "id": "otQ8X2Aehu2U",
    "outputId": "ada4c491-1d9f-43c9-a673-fab284a38656"
   },
   "outputs": [],
   "source": [
    "visualize_filters(0, x_b, 2)"
   ]
  },
  {
   "cell_type": "code",
   "execution_count": 16,
   "metadata": {
    "colab": {
     "base_uri": "https://localhost:8080/",
     "height": 729
    },
    "id": "l3VAY3xhjXJv",
    "outputId": "23b29b05-a461-40d7-c979-1b0c14cd7d80"
   },
   "outputs": [],
   "source": [
    "visualize_filters(2, x_b, 2)"
   ]
  },
  {
   "cell_type": "code",
   "execution_count": 17,
   "metadata": {
    "colab": {
     "base_uri": "https://localhost:8080/",
     "height": 729
    },
    "id": "MXRGs5hhjnth",
    "outputId": "dd2bb8eb-cd5e-4dad-bdeb-d44e1c385553"
   },
   "outputs": [],
   "source": [
    "visualize_filters(4, x_b, 2)"
   ]
  },
  {
   "cell_type": "code",
   "execution_count": null,
   "metadata": {
    "id": "gwBOd4mB42lb"
   },
   "outputs": [],
   "source": []
  }
 ],
 "metadata": {
  "accelerator": "GPU",
  "colab": {
   "authorship_tag": "ABX9TyP+TtphqsDzgw2F/mI6WrBq",
   "include_colab_link": true,
   "name": "11_our_first_cnn_image_classifier.ipynb",
   "provenance": []
  },
  "kernelspec": {
   "display_name": "Python 3",
   "name": "python3"
  },
  "language_info": {
   "name": "python"
  }
 },
 "nbformat": 4,
 "nbformat_minor": 0
}
