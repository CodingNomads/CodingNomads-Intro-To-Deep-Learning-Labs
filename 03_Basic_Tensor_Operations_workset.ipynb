{
 "cells": [
  {
   "cell_type": "code",
   "execution_count": 1,
   "metadata": {
    "id": "YN_OuApGfaNk"
   },
   "outputs": [],
   "source": [
    "import torch\n",
    "import matplotlib.pyplot as plt"
   ]
  },
  {
   "cell_type": "code",
   "execution_count": 2,
   "metadata": {
    "id": "wfgIgCezf7Np"
   },
   "outputs": [],
   "source": [
    "def describe_tensor(t):\n",
    "    \"\"\"\n",
    "    Describes a few basic elements about any torch.Tensor.\n",
    "    Prints out shape, number of elements, and rank.\n",
    "    \"\"\"\n",
    "    print(f\"Shape (Tensor.shape): {t.shape}\")\n",
    "    print(f\"Number of elements (Tensor.numel()): {t.numel()}\")\n",
    "    print(f\"Number of dimensions, or rank + 1 (Tensor.ndim): {t.ndim}\")\n",
    "    print(f\"Tensor type (Tensor.dtype): {t.dtype}\")"
   ]
  },
  {
   "cell_type": "code",
   "execution_count": 3,
   "metadata": {
    "colab": {
     "base_uri": "https://localhost:8080/"
    },
    "id": "oirVvHHfffQG",
    "outputId": "62a2e9f6-756c-4dbc-c0c9-a0c228434a98"
   },
   "outputs": [],
   "source": [
    "rank0tensor = torch.tensor(1)\n",
    "rank0tensor"
   ]
  },
  {
   "cell_type": "code",
   "execution_count": 4,
   "metadata": {
    "colab": {
     "base_uri": "https://localhost:8080/"
    },
    "id": "jesrSj-1f39S",
    "outputId": "959280a5-d8a1-41ea-9c65-b1ee3e626c20"
   },
   "outputs": [],
   "source": [
    "describe_tensor(rank0tensor)"
   ]
  },
  {
   "cell_type": "code",
   "execution_count": 5,
   "metadata": {
    "colab": {
     "base_uri": "https://localhost:8080/"
    },
    "id": "O4Yrr3jCfjmv",
    "outputId": "ab48462e-690a-4bf4-9739-a0ecd22ffa83"
   },
   "outputs": [],
   "source": [
    "rank1tensor = torch.tensor([1.,2,3])\n",
    "rank1tensor"
   ]
  },
  {
   "cell_type": "code",
   "execution_count": 6,
   "metadata": {
    "colab": {
     "base_uri": "https://localhost:8080/"
    },
    "id": "B-exG67igb13",
    "outputId": "24372064-41ed-4f97-a926-28b83c3613bf"
   },
   "outputs": [],
   "source": [
    "describe_tensor(rank1tensor)"
   ]
  },
  {
   "cell_type": "code",
   "execution_count": 7,
   "metadata": {
    "colab": {
     "base_uri": "https://localhost:8080/"
    },
    "id": "OIWFlVYwfnkf",
    "outputId": "e3eb104d-0e80-4a41-aed0-a32d734778a1"
   },
   "outputs": [],
   "source": [
    "rank2tensor = torch.tensor(\n",
    "    [\n",
    "     [1.,2,3],\n",
    "     [4,5,6],\n",
    "     [7,8,9]\n",
    "    ]\n",
    ")\n",
    "rank2tensor"
   ]
  },
  {
   "cell_type": "code",
   "execution_count": 8,
   "metadata": {
    "colab": {
     "base_uri": "https://localhost:8080/"
    },
    "id": "QxbWJouzgenG",
    "outputId": "9188ddd1-10c8-4f7e-ef66-e4e7103a67e0"
   },
   "outputs": [],
   "source": [
    "describe_tensor(rank2tensor)"
   ]
  },
  {
   "cell_type": "code",
   "execution_count": 9,
   "metadata": {
    "colab": {
     "base_uri": "https://localhost:8080/"
    },
    "id": "Yu4OKI3fggue",
    "outputId": "cdad3638-03f9-484c-db0f-2f470431b84c"
   },
   "outputs": [],
   "source": [
    "rank3tensor = torch.rand(3, 3, 3)\n",
    "rank3tensor"
   ]
  },
  {
   "cell_type": "code",
   "execution_count": 10,
   "metadata": {
    "colab": {
     "base_uri": "https://localhost:8080/"
    },
    "id": "TOwckWKKgsz1",
    "outputId": "59f4d464-211d-4b5e-dbc3-982f6345d6f8"
   },
   "outputs": [],
   "source": [
    "describe_tensor(rank3tensor)"
   ]
  },
  {
   "cell_type": "code",
   "execution_count": 11,
   "metadata": {
    "colab": {
     "base_uri": "https://localhost:8080/"
    },
    "id": "ORXrY8XRgxUs",
    "outputId": "250bd780-326f-4722-c5ad-1ba494614823"
   },
   "outputs": [],
   "source": [
    "# You won't try to visualize this tensor since it doesn't fit neatly into my brain.\n",
    "# This is just to show you can make big tensors, even if you don't have a practical use for them.\n",
    "n_dim = 10\n",
    "describe_tensor(torch.randn(*(tuple([3] * n_dim))))"
   ]
  },
  {
   "cell_type": "code",
   "execution_count": 12,
   "metadata": {
    "id": "ZZBZEr1J6s6F"
   },
   "outputs": [],
   "source": [
    "def memory_footprint(tensor):\n",
    "    raise NotImplementedError('Implement this function!')"
   ]
  },
  {
   "cell_type": "code",
   "execution_count": 14,
   "metadata": {
    "colab": {
     "base_uri": "https://localhost:8080/"
    },
    "id": "cLYIUTlkvaTr",
    "outputId": "cd26cad4-2ffb-41bd-e976-7637939df494"
   },
   "outputs": [],
   "source": [
    "tensors = [\n",
    "    torch.tensor(100, dtype=torch.float16),\n",
    "    torch.tensor(100, dtype=torch.float32),\n",
    "    torch.tensor(100, dtype=torch.int32),\n",
    "    torch.tensor(100, dtype=torch.long) # I think this is int64\n",
    "]\n",
    "\n",
    "for t in tensors:\n",
    "    print(f\"\"\"\n",
    "    Tensor:\n",
    "    {t}\n",
    "    dtype: {t.dtype}\n",
    "    memory footprint (MB): {memory_footprint(t)}\n",
    "    ----------------\n",
    "    \"\"\")"
   ]
  },
  {
   "cell_type": "code",
   "execution_count": 15,
   "metadata": {
    "colab": {
     "base_uri": "https://localhost:8080/"
    },
    "id": "PXmQt7lWCUtg",
    "outputId": "30d0a271-25bf-494a-befe-6cbe994fed4d"
   },
   "outputs": [],
   "source": [
    "x = torch.ones(4).float()\n",
    "x"
   ]
  },
  {
   "cell_type": "code",
   "execution_count": 16,
   "metadata": {
    "colab": {
     "base_uri": "https://localhost:8080/"
    },
    "id": "tub5MGNWDBRa",
    "outputId": "cc5c49e7-f016-445f-8f0b-fcdddaaea4b3"
   },
   "outputs": [],
   "source": [
    "(\n",
    "    x * 4, # python int\n",
    "    x * 4.0, # python float\n",
    "    x * torch.tensor(4)) # torch tensor"
   ]
  },
  {
   "cell_type": "code",
   "execution_count": 17,
   "metadata": {
    "colab": {
     "base_uri": "https://localhost:8080/"
    },
    "id": "0oub394LDEBl",
    "outputId": "4d03ef42-1746-4e2f-f139-f786ca418f2e"
   },
   "outputs": [],
   "source": [
    "(\n",
    "    x + 4, # python int\n",
    "    x + 4., # python float\n",
    "    x + torch.tensor(4) # torch tensor\n",
    ")\n"
   ]
  },
  {
   "cell_type": "code",
   "execution_count": 18,
   "metadata": {
    "colab": {
     "base_uri": "https://localhost:8080/"
    },
    "id": "TtFlMX5LDFdz",
    "outputId": "5fcad857-f3b0-46dc-b40e-d3cfd9eaccbf"
   },
   "outputs": [],
   "source": [
    "(\n",
    "    x - 2, # python int\n",
    "    x - 2., # python float\n",
    "    x - torch.tensor(2) # torch tensor\n",
    ")"
   ]
  },
  {
   "cell_type": "code",
   "execution_count": 19,
   "metadata": {
    "colab": {
     "base_uri": "https://localhost:8080/"
    },
    "id": "MEnlgHOuDGlQ",
    "outputId": "2029ab29-93a0-4054-cf0d-a337f8f59633"
   },
   "outputs": [],
   "source": [
    "(\n",
    "    x / 4, # python int\n",
    "    x / 4., # python float\n",
    "    x / torch.tensor(4) # torch tensor\n",
    ")"
   ]
  },
  {
   "cell_type": "code",
   "execution_count": 20,
   "metadata": {
    "colab": {
     "base_uri": "https://localhost:8080/"
    },
    "id": "TdU_O2ORDl35",
    "outputId": "4a8bfdc8-05a6-4a9a-a82c-6660760784a8"
   },
   "outputs": [],
   "source": [
    "x = torch.rand(2,2)\n",
    "y = torch.rand(2,2)\n",
    "x, y"
   ]
  },
  {
   "cell_type": "code",
   "execution_count": 21,
   "metadata": {
    "colab": {
     "base_uri": "https://localhost:8080/"
    },
    "id": "P3ybugeRDrCl",
    "outputId": "4e2a8d32-fbb6-4fd1-a010-60026f0ae0c4"
   },
   "outputs": [],
   "source": [
    "x + y"
   ]
  },
  {
   "cell_type": "code",
   "execution_count": 22,
   "metadata": {
    "colab": {
     "base_uri": "https://localhost:8080/"
    },
    "id": "zXZUTYLHDsV7",
    "outputId": "b9f57204-656f-4a46-abcb-0ab620309c06"
   },
   "outputs": [],
   "source": [
    "x - y"
   ]
  },
  {
   "cell_type": "code",
   "execution_count": 23,
   "metadata": {
    "colab": {
     "base_uri": "https://localhost:8080/"
    },
    "id": "MtCXRnFbDxZ2",
    "outputId": "b31073d7-3c5d-4118-b13f-ab3442c019ea"
   },
   "outputs": [],
   "source": [
    "x * y"
   ]
  },
  {
   "cell_type": "code",
   "execution_count": 24,
   "metadata": {
    "colab": {
     "base_uri": "https://localhost:8080/"
    },
    "id": "Onlau0_tDysg",
    "outputId": "707697f9-8be6-48da-d59a-54a0d8305140"
   },
   "outputs": [],
   "source": [
    "x / y"
   ]
  },
  {
   "cell_type": "code",
   "execution_count": 25,
   "metadata": {
    "colab": {
     "base_uri": "https://localhost:8080/"
    },
    "id": "RalqgfDjD0Nx",
    "outputId": "8038ec90-1d21-40e4-9d4c-2710833d3f0b"
   },
   "outputs": [],
   "source": [
    "x = torch.rand(2, 4)\n",
    "y = torch.rand(4)\n",
    "x, y"
   ]
  },
  {
   "cell_type": "code",
   "execution_count": 26,
   "metadata": {
    "colab": {
     "base_uri": "https://localhost:8080/"
    },
    "id": "weIf9RNyU8wr",
    "outputId": "41782249-3167-4288-9048-c958e67d305f"
   },
   "outputs": [],
   "source": [
    "torch.stack([x[0] * y, x[1] * y])"
   ]
  },
  {
   "cell_type": "code",
   "execution_count": 27,
   "metadata": {
    "colab": {
     "base_uri": "https://localhost:8080/"
    },
    "id": "Pqk2_U_sD4JW",
    "outputId": "c0465704-0b93-416f-a263-c985cfca070d"
   },
   "outputs": [],
   "source": [
    "x * y"
   ]
  },
  {
   "cell_type": "code",
   "execution_count": 28,
   "metadata": {
    "colab": {
     "base_uri": "https://localhost:8080/"
    },
    "id": "IUf3fJFyEn4l",
    "outputId": "425e1135-b7da-4298-f695-47c972a90321"
   },
   "outputs": [],
   "source": [
    "x = torch.rand(3, 2, 4)\n",
    "x"
   ]
  },
  {
   "cell_type": "code",
   "execution_count": 29,
   "metadata": {
    "colab": {
     "base_uri": "https://localhost:8080/"
    },
    "id": "n-8_uK76VQaZ",
    "outputId": "e06b3cc1-5ec3-4126-c3fd-60cfc79a5e89"
   },
   "outputs": [],
   "source": [
    "torch.stack([torch.stack([i * y for i in a]) for a in x])"
   ]
  },
  {
   "cell_type": "code",
   "execution_count": 30,
   "metadata": {
    "colab": {
     "base_uri": "https://localhost:8080/"
    },
    "id": "BdkIij6qJmQ_",
    "outputId": "43119d6c-4ced-4fa3-8fa9-88ea054e9c61"
   },
   "outputs": [],
   "source": [
    "x * y"
   ]
  },
  {
   "cell_type": "code",
   "execution_count": 31,
   "metadata": {
    "id": "BtQjJwU8pygJ"
   },
   "outputs": [],
   "source": [
    "x = torch.tensor([1, 2, 3, 4])\n",
    "y = torch.tensor([2, 3, 4, 5])"
   ]
  },
  {
   "cell_type": "code",
   "execution_count": 32,
   "metadata": {
    "colab": {
     "base_uri": "https://localhost:8080/"
    },
    "id": "C4sxHFjCKzrD",
    "outputId": "f57fa9c8-3b48-421f-8cf7-8990eb6befa5"
   },
   "outputs": [],
   "source": [
    "# Let's do this using element-wise operations\n",
    "(x * y).sum()"
   ]
  },
  {
   "cell_type": "code",
   "execution_count": 33,
   "metadata": {
    "colab": {
     "base_uri": "https://localhost:8080/"
    },
    "id": "XhUqjR2-p-M_",
    "outputId": "0cd3b9f6-273e-4e08-86d7-81aed3c83b29"
   },
   "outputs": [],
   "source": [
    "# torch.matmul does matrix multiplication.\n",
    "torch.matmul(x, y)"
   ]
  },
  {
   "cell_type": "code",
   "execution_count": 34,
   "metadata": {
    "colab": {
     "base_uri": "https://localhost:8080/"
    },
    "id": "uaDdfNlfp9HV",
    "outputId": "e4a3b43b-0d08-4e2c-c57a-d9b462b6f2e6"
   },
   "outputs": [],
   "source": [
    "# @ is shorthand for matrix multiplication as well.\n",
    "x@y"
   ]
  },
  {
   "cell_type": "code",
   "execution_count": 35,
   "metadata": {
    "colab": {
     "base_uri": "https://localhost:8080/"
    },
    "id": "b5hCp0rfLfSt",
    "outputId": "74cd4b8d-5199-4c4f-d364-6a5402d77296"
   },
   "outputs": [],
   "source": [
    "y@x"
   ]
  },
  {
   "cell_type": "code",
   "execution_count": 36,
   "metadata": {
    "id": "AcaOBkxOYDlt"
   },
   "outputs": [],
   "source": [
    "assert x@y == y@x == torch.matmul(x,y) == (x * y).sum()"
   ]
  },
  {
   "cell_type": "code",
   "execution_count": 37,
   "metadata": {
    "id": "KBjsj76RqvR0"
   },
   "outputs": [],
   "source": [
    "X = torch.tensor([[1, 2], [3, 4]])\n",
    "Y = torch.tensor([[2, 3, 4], [5, 6, 7]])"
   ]
  },
  {
   "cell_type": "code",
   "execution_count": 38,
   "metadata": {
    "colab": {
     "base_uri": "https://localhost:8080/"
    },
    "id": "tyb7F-9Hs40g",
    "outputId": "a9f1e93d-fd45-4fc0-aecd-537dde9d78f2"
   },
   "outputs": [],
   "source": [
    "X@Y"
   ]
  },
  {
   "cell_type": "code",
   "execution_count": 39,
   "metadata": {
    "colab": {
     "base_uri": "https://localhost:8080/"
    },
    "id": "osQMTXao5n08",
    "outputId": "c274df90-1949-4b57-88a8-8d9ae2c689d7"
   },
   "outputs": [],
   "source": [
    "(torch.randn(16, 3, 3, 3) @ torch.randn(3, 3, 12)).shape"
   ]
  },
  {
   "cell_type": "code",
   "execution_count": 40,
   "metadata": {
    "id": "3HgK5T6RtN3n"
   },
   "outputs": [],
   "source": [
    "A = torch.rand(4, 2)\n",
    "B = ..."
   ]
  },
  {
   "cell_type": "code",
   "execution_count": 42,
   "metadata": {
    "id": "_d_BiKLJD0s9"
   },
   "outputs": [],
   "source": [
    "if not isinstance(B, type(...)):\n",
    "    assert (A@B).shape == (4, 7)\n",
    "else:\n",
    "    print('Please define B such that (A@B).shape = (4, 7)')"
   ]
  },
  {
   "cell_type": "code",
   "execution_count": 43,
   "metadata": {
    "colab": {
     "base_uri": "https://localhost:8080/"
    },
    "id": "orXRC7LsrRBv",
    "outputId": "de70ea1d-3a0b-4412-b9ae-447fafa8792f"
   },
   "outputs": [],
   "source": [
    "X = torch.tensor(list(range(27))).reshape(3,3,3)\n",
    "X"
   ]
  },
  {
   "cell_type": "code",
   "execution_count": 44,
   "metadata": {
    "colab": {
     "base_uri": "https://localhost:8080/"
    },
    "id": "Ow1QpNZFrW5l",
    "outputId": "b86f0862-bc1f-4864-d956-78d3395c267e"
   },
   "outputs": [],
   "source": [
    "X.sum()"
   ]
  },
  {
   "cell_type": "code",
   "execution_count": 45,
   "metadata": {
    "colab": {
     "base_uri": "https://localhost:8080/"
    },
    "id": "YfZ1IVRBrdC9",
    "outputId": "5e514e77-5c0a-44ad-dc7a-15555617fe1a"
   },
   "outputs": [],
   "source": [
    "# Change the dim parameter to see how the results change\n",
    "X.sum(dim=0)"
   ]
  },
  {
   "cell_type": "code",
   "execution_count": 46,
   "metadata": {
    "colab": {
     "base_uri": "https://localhost:8080/"
    },
    "id": "93qmY8pv8Lej",
    "outputId": "6b43a779-b1db-4eb4-b68b-ef0e6ca9d212"
   },
   "outputs": [],
   "source": [
    "# Create a vector\n",
    "X = torch.arange(0, 3*3*3)\n",
    "X"
   ]
  },
  {
   "cell_type": "code",
   "execution_count": 47,
   "metadata": {
    "colab": {
     "base_uri": "https://localhost:8080/"
    },
    "id": "3I8zUv138Lek",
    "outputId": "ed26b931-18b1-4978-a74b-3d67db6590aa"
   },
   "outputs": [],
   "source": [
    "# Reshape it into a 3x3x3 to be \"image-like\"\n",
    "X = X.reshape(3, 3, 3)\n",
    "X"
   ]
  },
  {
   "cell_type": "code",
   "execution_count": 48,
   "metadata": {
    "colab": {
     "base_uri": "https://localhost:8080/"
    },
    "id": "aAAyqkXR8Lek",
    "outputId": "9cd749e8-89c9-4457-853a-f7cb5cf3c507"
   },
   "outputs": [],
   "source": [
    "# How do you add a \"batch_dim\"?\n",
    "# Unsqueeze addes an empty dimension\n",
    "# Squeeze takes away empty dimensions\n",
    "X.shape, X.unsqueeze(0).shape"
   ]
  },
  {
   "cell_type": "code",
   "execution_count": 49,
   "metadata": {
    "colab": {
     "base_uri": "https://localhost:8080/"
    },
    "id": "NEi5A-6H8Lek",
    "outputId": "8f204ee5-b74e-4a89-d031-4374eb09ecd6"
   },
   "outputs": [],
   "source": [
    "# Use unsqueeze to create a \"batch\"\n",
    "torch.cat([X.unsqueeze(0), X.unsqueeze(0)]).shape"
   ]
  },
  {
   "cell_type": "code",
   "execution_count": 50,
   "metadata": {
    "colab": {
     "base_uri": "https://localhost:8080/"
    },
    "id": "7ERgwobz8Lel",
    "outputId": "8e233d6d-1e77-4096-b11b-730859637ea0"
   },
   "outputs": [],
   "source": [
    "y = torch.randn(1, 1, 1, 1, 1, 1, 8)\n",
    "y, y.shape, y.squeeze(), y.squeeze().shape, y.squeeze(2).shape"
   ]
  },
  {
   "cell_type": "code",
   "execution_count": 51,
   "metadata": {
    "id": "zH81Ceg58Lel"
   },
   "outputs": [],
   "source": [
    "# squeeze and unsqueeze are opposites\n",
    "assert X.shape == X.unsqueeze(0).squeeze(0).shape"
   ]
  },
  {
   "cell_type": "code",
   "execution_count": 52,
   "metadata": {
    "colab": {
     "base_uri": "https://localhost:8080/"
    },
    "id": "Qbj3_Heg8Lel",
    "outputId": "e40aa878-ecfa-47a5-e9c6-58104e4433d6"
   },
   "outputs": [],
   "source": [
    "# Swap the 1nd and 2rd dim\n",
    "X.permute(0, 2, 1)"
   ]
  },
  {
   "cell_type": "code",
   "execution_count": 53,
   "metadata": {
    "id": "T3OWeHDZ_ATC"
   },
   "outputs": [],
   "source": [
    "def sigmoid(x):\n",
    "    raise NotImplementedError()\n",
    "\n",
    "def softmax(x, dim):\n",
    "    raise torch.exp(x)/torch.exp(x).sum(dim=dim)"
   ]
  },
  {
   "cell_type": "code",
   "execution_count": 55,
   "metadata": {
    "colab": {
     "base_uri": "https://localhost:8080/",
     "height": 447
    },
    "id": "Nd2ZJ8aX8cRN",
    "outputId": "a3b03c29-deed-4a7a-a554-e39e72d13a75"
   },
   "outputs": [],
   "source": [
    "x = torch.arange(-8, 8, 0.05)\n",
    "plt.plot(x, sigmoid(x), label='our sigmoid', ls='--', color='r', linewidth=4)\n",
    "plt.plot(x, torch.sigmoid(x), label='torch sigmoid', c='b', alpha=0.8)\n",
    "plt.legend()"
   ]
  },
  {
   "cell_type": "code",
   "execution_count": 56,
   "metadata": {
    "colab": {
     "base_uri": "https://localhost:8080/"
    },
    "id": "vl1V-i_69tcd",
    "outputId": "3225c373-753f-475d-c212-638e9c4ae244"
   },
   "outputs": [],
   "source": [
    "X = torch.rand(3, 3)\n",
    "print(\n",
    "    'X:', X,\n",
    "    'Our softmax(x):', softmax(X, dim=0),\n",
    "    'Torch softmax(x):', torch.softmax(X, dim=0),\n",
    "    'Sanity check: row sums:', softmax(X, dim=0).sum(dim=0),\n",
    "    sep='\\n'\n",
    ")"
   ]
  },
  {
   "cell_type": "code",
   "execution_count": 57,
   "metadata": {
    "colab": {
     "base_uri": "https://localhost:8080/"
    },
    "id": "cLgGQ-DBJB14",
    "outputId": "55632fcd-ad66-4616-ccbd-b4a74ef16b31"
   },
   "outputs": [],
   "source": [
    "# You can also call softmax on a tensor\n",
    "X.softmax(dim=0)"
   ]
  },
  {
   "cell_type": "code",
   "execution_count": 58,
   "metadata": {
    "colab": {
     "base_uri": "https://localhost:8080/"
    },
    "id": "OxKqhnztM9qr",
    "outputId": "517dc83b-9bc6-4f86-a753-b4dd40b74aac"
   },
   "outputs": [],
   "source": [
    "(torch.randn(16, 3, 4) * torch.randn(3, 4)).shape"
   ]
  },
  {
   "cell_type": "code",
   "execution_count": 59,
   "metadata": {
    "colab": {
     "base_uri": "https://localhost:8080/",
     "height": 166
    },
    "id": "D36jx2ebNF7h",
    "outputId": "19741115-3039-481c-b53d-5120fd23732e"
   },
   "outputs": [],
   "source": [
    "(torch.randn(16, 3, 4) @ torch.randn(3, 4)).shape"
   ]
  },
  {
   "cell_type": "code",
   "execution_count": 60,
   "metadata": {
    "colab": {
     "base_uri": "https://localhost:8080/"
    },
    "id": "uxvmDsePNQFX",
    "outputId": "a143d012-ece6-4303-c417-79ea1ecd7da0"
   },
   "outputs": [],
   "source": [
    "(torch.randn(16, 3, 4) @ torch.randn(4, 7)).shape"
   ]
  },
  {
   "cell_type": "code",
   "execution_count": 61,
   "metadata": {
    "colab": {
     "base_uri": "https://localhost:8080/",
     "height": 166
    },
    "id": "-zcrvRyaNR8e",
    "outputId": "5c5a5274-3b2e-4829-d4ce-72b133cddb75"
   },
   "outputs": [],
   "source": [
    "torch.randn(3, 4) * torch.randn(4, 3)"
   ]
  },
  {
   "cell_type": "code",
   "execution_count": 62,
   "metadata": {
    "colab": {
     "base_uri": "https://localhost:8080/"
    },
    "id": "iGz5XhoYNvtw",
    "outputId": "4449128f-98b8-4d70-9b4e-0bb24b064b3c"
   },
   "outputs": [],
   "source": [
    "torch.randn(3, 4) @ torch.randn(4, 3)"
   ]
  },
  {
   "cell_type": "code",
   "execution_count": null,
   "metadata": {
    "id": "NfqOjwTKaiJx"
   },
   "outputs": [],
   "source": []
  }
 ],
 "metadata": {
  "colab": {
   "name": "03_Basic_Tensor_Operations.ipynb",
   "provenance": []
  },
  "kernelspec": {
   "display_name": "cndl",
   "language": "python",
   "name": "cndl"
  },
  "language_info": {
   "codemirror_mode": {
    "name": "ipython",
    "version": 3
   },
   "file_extension": ".py",
   "mimetype": "text/x-python",
   "name": "python",
   "nbconvert_exporter": "python",
   "pygments_lexer": "ipython3",
   "version": "3.9.4"
  }
 },
 "nbformat": 4,
 "nbformat_minor": 0
}
