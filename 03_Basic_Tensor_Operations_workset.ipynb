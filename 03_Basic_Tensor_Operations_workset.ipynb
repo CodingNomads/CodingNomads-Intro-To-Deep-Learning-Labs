{
 "cells": [
  {
   "cell_type": "code",
   "execution_count": null,
   "metadata": {
    "id": "YN_OuApGfaNk"
   },
   "outputs": [],
   "source": [
    "import torch\n",
    "import matplotlib.pyplot as plt"
   ]
  },
  {
   "cell_type": "code",
   "execution_count": null,
   "metadata": {
    "id": "wfgIgCezf7Np"
   },
   "outputs": [],
   "source": [
    "def describe_tensor(t):\n",
    "    \"\"\"\n",
    "    Describes a few basic elements about any torch.Tensor.\n",
    "    Prints out shape, number of elements, and rank.\n",
    "    \"\"\"\n",
    "    print(f\"Shape (Tensor.shape): {t.shape}\")\n",
    "    print(f\"Number of elements (Tensor.numel()): {t.numel()}\")\n",
    "    print(f\"Number of dimensions, or rank + 1 (Tensor.ndim): {t.ndim}\")\n",
    "    print(f\"Tensor type (Tensor.dtype): {t.dtype}\")"
   ]
  },
  {
   "cell_type": "code",
   "execution_count": null,
   "metadata": {
    "colab": {
     "base_uri": "https://localhost:8080/"
    },
    "executionInfo": {
     "elapsed": 12,
     "status": "ok",
     "timestamp": 1641377003189,
     "user": {
      "displayName": "Mike Frantz",
      "photoUrl": "https://lh3.googleusercontent.com/a-/AOh14GiGYCwZXGfGg-CE4_33PQcH9SW8fN6MyRkenN8-IA=s64",
      "userId": "08482506601269125384"
     },
     "user_tz": 480
    },
    "id": "oirVvHHfffQG",
    "outputId": "0fb493d7-450a-415a-e9a7-3b2f1da27502"
   },
   "outputs": [],
   "source": [
    "rank0tensor = torch.tensor(1)\n",
    "rank0tensor"
   ]
  },
  {
   "cell_type": "code",
   "execution_count": null,
   "metadata": {
    "colab": {
     "base_uri": "https://localhost:8080/"
    },
    "executionInfo": {
     "elapsed": 11,
     "status": "ok",
     "timestamp": 1641377003190,
     "user": {
      "displayName": "Mike Frantz",
      "photoUrl": "https://lh3.googleusercontent.com/a-/AOh14GiGYCwZXGfGg-CE4_33PQcH9SW8fN6MyRkenN8-IA=s64",
      "userId": "08482506601269125384"
     },
     "user_tz": 480
    },
    "id": "jesrSj-1f39S",
    "outputId": "d822c4db-3084-4f3d-9b4b-bbec427d269b"
   },
   "outputs": [],
   "source": [
    "describe_tensor(rank0tensor)"
   ]
  },
  {
   "cell_type": "code",
   "execution_count": null,
   "metadata": {
    "colab": {
     "base_uri": "https://localhost:8080/"
    },
    "executionInfo": {
     "elapsed": 213,
     "status": "ok",
     "timestamp": 1641377003395,
     "user": {
      "displayName": "Mike Frantz",
      "photoUrl": "https://lh3.googleusercontent.com/a-/AOh14GiGYCwZXGfGg-CE4_33PQcH9SW8fN6MyRkenN8-IA=s64",
      "userId": "08482506601269125384"
     },
     "user_tz": 480
    },
    "id": "O4Yrr3jCfjmv",
    "outputId": "79866eee-6a35-41d1-917e-a3eb4e322566"
   },
   "outputs": [],
   "source": [
    "rank1tensor = torch.tensor([1.,2,3])\n",
    "rank1tensor"
   ]
  },
  {
   "cell_type": "code",
   "execution_count": null,
   "metadata": {
    "colab": {
     "base_uri": "https://localhost:8080/"
    },
    "executionInfo": {
     "elapsed": 25,
     "status": "ok",
     "timestamp": 1641377003398,
     "user": {
      "displayName": "Mike Frantz",
      "photoUrl": "https://lh3.googleusercontent.com/a-/AOh14GiGYCwZXGfGg-CE4_33PQcH9SW8fN6MyRkenN8-IA=s64",
      "userId": "08482506601269125384"
     },
     "user_tz": 480
    },
    "id": "B-exG67igb13",
    "outputId": "9816af8d-fc38-4604-bfa4-873952566599"
   },
   "outputs": [],
   "source": [
    "describe_tensor(rank1tensor)"
   ]
  },
  {
   "cell_type": "code",
   "execution_count": null,
   "metadata": {
    "colab": {
     "base_uri": "https://localhost:8080/"
    },
    "executionInfo": {
     "elapsed": 23,
     "status": "ok",
     "timestamp": 1641377003398,
     "user": {
      "displayName": "Mike Frantz",
      "photoUrl": "https://lh3.googleusercontent.com/a-/AOh14GiGYCwZXGfGg-CE4_33PQcH9SW8fN6MyRkenN8-IA=s64",
      "userId": "08482506601269125384"
     },
     "user_tz": 480
    },
    "id": "OIWFlVYwfnkf",
    "outputId": "9777b8cc-2cf8-4bae-b9be-6e723be42cc4"
   },
   "outputs": [],
   "source": [
    "rank2tensor = torch.tensor(\n",
    "    [\n",
    "     [1.,2,3],\n",
    "     [4,5,6],\n",
    "     [7,8,9]\n",
    "    ]\n",
    ")\n",
    "rank2tensor"
   ]
  },
  {
   "cell_type": "code",
   "execution_count": null,
   "metadata": {
    "colab": {
     "base_uri": "https://localhost:8080/"
    },
    "executionInfo": {
     "elapsed": 20,
     "status": "ok",
     "timestamp": 1641377003399,
     "user": {
      "displayName": "Mike Frantz",
      "photoUrl": "https://lh3.googleusercontent.com/a-/AOh14GiGYCwZXGfGg-CE4_33PQcH9SW8fN6MyRkenN8-IA=s64",
      "userId": "08482506601269125384"
     },
     "user_tz": 480
    },
    "id": "QxbWJouzgenG",
    "outputId": "9303f2e5-8863-4184-c795-e286c10c7af4"
   },
   "outputs": [],
   "source": [
    "describe_tensor(rank2tensor)"
   ]
  },
  {
   "cell_type": "code",
   "execution_count": null,
   "metadata": {
    "colab": {
     "base_uri": "https://localhost:8080/"
    },
    "executionInfo": {
     "elapsed": 18,
     "status": "ok",
     "timestamp": 1641377003399,
     "user": {
      "displayName": "Mike Frantz",
      "photoUrl": "https://lh3.googleusercontent.com/a-/AOh14GiGYCwZXGfGg-CE4_33PQcH9SW8fN6MyRkenN8-IA=s64",
      "userId": "08482506601269125384"
     },
     "user_tz": 480
    },
    "id": "Yu4OKI3fggue",
    "outputId": "954b9030-8161-4b90-fb58-d3b55b04d5c7"
   },
   "outputs": [],
   "source": [
    "rank3tensor = torch.rand(3, 3, 3)\n",
    "rank3tensor"
   ]
  },
  {
   "cell_type": "code",
   "execution_count": null,
   "metadata": {
    "colab": {
     "base_uri": "https://localhost:8080/"
    },
    "executionInfo": {
     "elapsed": 16,
     "status": "ok",
     "timestamp": 1641377003400,
     "user": {
      "displayName": "Mike Frantz",
      "photoUrl": "https://lh3.googleusercontent.com/a-/AOh14GiGYCwZXGfGg-CE4_33PQcH9SW8fN6MyRkenN8-IA=s64",
      "userId": "08482506601269125384"
     },
     "user_tz": 480
    },
    "id": "TOwckWKKgsz1",
    "outputId": "b842b6ff-ad4a-447e-f0ce-f1da0cad4974"
   },
   "outputs": [],
   "source": [
    "describe_tensor(rank3tensor)"
   ]
  },
  {
   "cell_type": "code",
   "execution_count": null,
   "metadata": {
    "colab": {
     "base_uri": "https://localhost:8080/"
    },
    "executionInfo": {
     "elapsed": 15,
     "status": "ok",
     "timestamp": 1641377003401,
     "user": {
      "displayName": "Mike Frantz",
      "photoUrl": "https://lh3.googleusercontent.com/a-/AOh14GiGYCwZXGfGg-CE4_33PQcH9SW8fN6MyRkenN8-IA=s64",
      "userId": "08482506601269125384"
     },
     "user_tz": 480
    },
    "id": "ORXrY8XRgxUs",
    "outputId": "be510088-26a7-4a35-a1a8-8e80d7b2d40f"
   },
   "outputs": [],
   "source": [
    "# We won't try to visualize this tensor since it doesn't fit neatly into my brain.\n",
    "# This is just to show we can make big tensors, even if we don't have a practical use for them.\n",
    "n_dim = 10\n",
    "describe_tensor(torch.randn(*(tuple([3] * n_dim))))"
   ]
  },
  {
   "cell_type": "markdown",
   "metadata": {
    "id": "Rf509u1C4ZFb"
   },
   "source": [
    "# Exercise 3.1: Torch `dtype`s\n",
    "\n",
    "Read through the [documentation](https://pytorch.org/docs/stable/tensor_attributes.html#torch-dtype) on different tensor types.\n",
    "\n",
    "Create a function that uses the [`Tensor.element_size()`](https://pytorch.org/docs/stable/generated/torch.Tensor.element_size.html#) and `Tensor.numel()` methods to calculate the memory footprint of a tensor in megabytes.\n",
    "There are 1e6 bytes in a megabyte.\n",
    "Then, create at least 3 tensors with the same shape but different `dtype`s like `torch.float16` and `torch.float32`.\n",
    "What's the difference in the memory footprints of the following tensors?\n",
    "\n",
    "<!-- startquestion -->\n"
   ]
  },
  {
   "cell_type": "code",
   "execution_count": null,
   "metadata": {
    "id": "ZZBZEr1J6s6F"
   },
   "outputs": [],
   "source": [
    "def memory_footprint(tensor):\n",
    "    raise NotImplementedError('Implement this function!')"
   ]
  },
  {
   "cell_type": "code",
   "execution_count": null,
   "metadata": {
    "colab": {
     "base_uri": "https://localhost:8080/"
    },
    "executionInfo": {
     "elapsed": 3,
     "status": "ok",
     "timestamp": 1641377808165,
     "user": {
      "displayName": "Mike Frantz",
      "photoUrl": "https://lh3.googleusercontent.com/a-/AOh14GiGYCwZXGfGg-CE4_33PQcH9SW8fN6MyRkenN8-IA=s64",
      "userId": "08482506601269125384"
     },
     "user_tz": 480
    },
    "id": "cLYIUTlkvaTr",
    "outputId": "ec004db7-f29e-43e1-e892-a10378b17c40"
   },
   "outputs": [],
   "source": [
    "tensors = [\n",
    "    torch.tensor(100, dtype=torch.float16),\n",
    "    torch.tensor(100, dtype=torch.float32),\n",
    "    torch.tensor(100, dtype=torch.int32),\n",
    "    torch.tensor(100, dtype=torch.long)\n",
    "]\n",
    "\n",
    "for t in tensors:\n",
    "    print(f\"\"\"\n",
    "    Tensor:\n",
    "    {t}\n",
    "    dtype: {t.dtype}\n",
    "    memory footprint (MB): {memory_footprint(t)}\n",
    "    ----------------\n",
    "    \"\"\")"
   ]
  },
  {
   "cell_type": "code",
   "execution_count": null,
   "metadata": {
    "colab": {
     "base_uri": "https://localhost:8080/"
    },
    "executionInfo": {
     "elapsed": 36,
     "status": "ok",
     "timestamp": 1640139130021,
     "user": {
      "displayName": "Mike Frantz",
      "photoUrl": "https://lh3.googleusercontent.com/a-/AOh14GiGYCwZXGfGg-CE4_33PQcH9SW8fN6MyRkenN8-IA=s64",
      "userId": "08482506601269125384"
     },
     "user_tz": 480
    },
    "id": "PXmQt7lWCUtg",
    "outputId": "3a53026f-5cb9-483e-ba56-23bc1368fc1c"
   },
   "outputs": [],
   "source": [
    "x = torch.ones(4).float()\n",
    "x"
   ]
  },
  {
   "cell_type": "code",
   "execution_count": null,
   "metadata": {
    "colab": {
     "base_uri": "https://localhost:8080/"
    },
    "executionInfo": {
     "elapsed": 33,
     "status": "ok",
     "timestamp": 1640139130021,
     "user": {
      "displayName": "Mike Frantz",
      "photoUrl": "https://lh3.googleusercontent.com/a-/AOh14GiGYCwZXGfGg-CE4_33PQcH9SW8fN6MyRkenN8-IA=s64",
      "userId": "08482506601269125384"
     },
     "user_tz": 480
    },
    "id": "tub5MGNWDBRa",
    "outputId": "90bfd40f-5a85-4c4e-8b0a-67be90384104"
   },
   "outputs": [],
   "source": [
    "x * 4"
   ]
  },
  {
   "cell_type": "code",
   "execution_count": null,
   "metadata": {
    "colab": {
     "base_uri": "https://localhost:8080/"
    },
    "executionInfo": {
     "elapsed": 32,
     "status": "ok",
     "timestamp": 1640139130022,
     "user": {
      "displayName": "Mike Frantz",
      "photoUrl": "https://lh3.googleusercontent.com/a-/AOh14GiGYCwZXGfGg-CE4_33PQcH9SW8fN6MyRkenN8-IA=s64",
      "userId": "08482506601269125384"
     },
     "user_tz": 480
    },
    "id": "0oub394LDEBl",
    "outputId": "7c2b579a-a5f3-4a0b-d8af-e3f1db3ca44d"
   },
   "outputs": [],
   "source": [
    "x + 4"
   ]
  },
  {
   "cell_type": "code",
   "execution_count": null,
   "metadata": {
    "colab": {
     "base_uri": "https://localhost:8080/"
    },
    "executionInfo": {
     "elapsed": 30,
     "status": "ok",
     "timestamp": 1640139130022,
     "user": {
      "displayName": "Mike Frantz",
      "photoUrl": "https://lh3.googleusercontent.com/a-/AOh14GiGYCwZXGfGg-CE4_33PQcH9SW8fN6MyRkenN8-IA=s64",
      "userId": "08482506601269125384"
     },
     "user_tz": 480
    },
    "id": "TtFlMX5LDFdz",
    "outputId": "a9100177-e381-49e8-9a03-0cd5a55eaef9"
   },
   "outputs": [],
   "source": [
    "x - 2"
   ]
  },
  {
   "cell_type": "code",
   "execution_count": null,
   "metadata": {
    "colab": {
     "base_uri": "https://localhost:8080/"
    },
    "executionInfo": {
     "elapsed": 28,
     "status": "ok",
     "timestamp": 1640139130022,
     "user": {
      "displayName": "Mike Frantz",
      "photoUrl": "https://lh3.googleusercontent.com/a-/AOh14GiGYCwZXGfGg-CE4_33PQcH9SW8fN6MyRkenN8-IA=s64",
      "userId": "08482506601269125384"
     },
     "user_tz": 480
    },
    "id": "MEnlgHOuDGlQ",
    "outputId": "b6d2c7c9-3f4f-445c-b22c-6315b9d74d2b"
   },
   "outputs": [],
   "source": [
    "x / 4"
   ]
  },
  {
   "cell_type": "code",
   "execution_count": null,
   "metadata": {
    "colab": {
     "base_uri": "https://localhost:8080/"
    },
    "executionInfo": {
     "elapsed": 27,
     "status": "ok",
     "timestamp": 1640139130023,
     "user": {
      "displayName": "Mike Frantz",
      "photoUrl": "https://lh3.googleusercontent.com/a-/AOh14GiGYCwZXGfGg-CE4_33PQcH9SW8fN6MyRkenN8-IA=s64",
      "userId": "08482506601269125384"
     },
     "user_tz": 480
    },
    "id": "TdU_O2ORDl35",
    "outputId": "437124fe-9d0b-44a3-8a70-6bb813f5a6dd"
   },
   "outputs": [],
   "source": [
    "x = torch.rand(4)\n",
    "y = torch.rand(4)\n",
    "x, y"
   ]
  },
  {
   "cell_type": "code",
   "execution_count": null,
   "metadata": {
    "colab": {
     "base_uri": "https://localhost:8080/"
    },
    "executionInfo": {
     "elapsed": 25,
     "status": "ok",
     "timestamp": 1640139130023,
     "user": {
      "displayName": "Mike Frantz",
      "photoUrl": "https://lh3.googleusercontent.com/a-/AOh14GiGYCwZXGfGg-CE4_33PQcH9SW8fN6MyRkenN8-IA=s64",
      "userId": "08482506601269125384"
     },
     "user_tz": 480
    },
    "id": "P3ybugeRDrCl",
    "outputId": "7270074a-c028-44ec-e5ef-1dc915258d50"
   },
   "outputs": [],
   "source": [
    "x + y"
   ]
  },
  {
   "cell_type": "code",
   "execution_count": null,
   "metadata": {
    "colab": {
     "base_uri": "https://localhost:8080/"
    },
    "executionInfo": {
     "elapsed": 23,
     "status": "ok",
     "timestamp": 1640139130024,
     "user": {
      "displayName": "Mike Frantz",
      "photoUrl": "https://lh3.googleusercontent.com/a-/AOh14GiGYCwZXGfGg-CE4_33PQcH9SW8fN6MyRkenN8-IA=s64",
      "userId": "08482506601269125384"
     },
     "user_tz": 480
    },
    "id": "zXZUTYLHDsV7",
    "outputId": "152f418b-abc5-4289-ebc1-4dae855cb678"
   },
   "outputs": [],
   "source": [
    "x - y"
   ]
  },
  {
   "cell_type": "code",
   "execution_count": null,
   "metadata": {
    "colab": {
     "base_uri": "https://localhost:8080/"
    },
    "executionInfo": {
     "elapsed": 20,
     "status": "ok",
     "timestamp": 1640139130024,
     "user": {
      "displayName": "Mike Frantz",
      "photoUrl": "https://lh3.googleusercontent.com/a-/AOh14GiGYCwZXGfGg-CE4_33PQcH9SW8fN6MyRkenN8-IA=s64",
      "userId": "08482506601269125384"
     },
     "user_tz": 480
    },
    "id": "MtCXRnFbDxZ2",
    "outputId": "5edfacca-806a-4107-d4a0-f49dc6039275"
   },
   "outputs": [],
   "source": [
    "x * y"
   ]
  },
  {
   "cell_type": "code",
   "execution_count": null,
   "metadata": {
    "colab": {
     "base_uri": "https://localhost:8080/"
    },
    "executionInfo": {
     "elapsed": 18,
     "status": "ok",
     "timestamp": 1640139130024,
     "user": {
      "displayName": "Mike Frantz",
      "photoUrl": "https://lh3.googleusercontent.com/a-/AOh14GiGYCwZXGfGg-CE4_33PQcH9SW8fN6MyRkenN8-IA=s64",
      "userId": "08482506601269125384"
     },
     "user_tz": 480
    },
    "id": "Onlau0_tDysg",
    "outputId": "e1d47024-7bad-4b9a-87d2-45f24023fab4"
   },
   "outputs": [],
   "source": [
    "x / y"
   ]
  },
  {
   "cell_type": "code",
   "execution_count": null,
   "metadata": {
    "colab": {
     "base_uri": "https://localhost:8080/"
    },
    "executionInfo": {
     "elapsed": 17,
     "status": "ok",
     "timestamp": 1640139130025,
     "user": {
      "displayName": "Mike Frantz",
      "photoUrl": "https://lh3.googleusercontent.com/a-/AOh14GiGYCwZXGfGg-CE4_33PQcH9SW8fN6MyRkenN8-IA=s64",
      "userId": "08482506601269125384"
     },
     "user_tz": 480
    },
    "id": "RalqgfDjD0Nx",
    "outputId": "055354d4-85d7-48d8-d427-a3da9b001aad"
   },
   "outputs": [],
   "source": [
    "x = torch.rand(2, 4)\n",
    "y = torch.rand(4)\n",
    "x, y"
   ]
  },
  {
   "cell_type": "code",
   "execution_count": null,
   "metadata": {
    "colab": {
     "base_uri": "https://localhost:8080/"
    },
    "executionInfo": {
     "elapsed": 15,
     "status": "ok",
     "timestamp": 1640139130025,
     "user": {
      "displayName": "Mike Frantz",
      "photoUrl": "https://lh3.googleusercontent.com/a-/AOh14GiGYCwZXGfGg-CE4_33PQcH9SW8fN6MyRkenN8-IA=s64",
      "userId": "08482506601269125384"
     },
     "user_tz": 480
    },
    "id": "weIf9RNyU8wr",
    "outputId": "e8182429-8e82-41b8-bd48-5c78998c9b8c"
   },
   "outputs": [],
   "source": [
    "torch.stack([x[0] * y, x[1] * y])"
   ]
  },
  {
   "cell_type": "code",
   "execution_count": null,
   "metadata": {
    "colab": {
     "base_uri": "https://localhost:8080/"
    },
    "executionInfo": {
     "elapsed": 930,
     "status": "ok",
     "timestamp": 1640139130943,
     "user": {
      "displayName": "Mike Frantz",
      "photoUrl": "https://lh3.googleusercontent.com/a-/AOh14GiGYCwZXGfGg-CE4_33PQcH9SW8fN6MyRkenN8-IA=s64",
      "userId": "08482506601269125384"
     },
     "user_tz": 480
    },
    "id": "Pqk2_U_sD4JW",
    "outputId": "70b0ec27-8be1-44d4-e789-493e23f485f5"
   },
   "outputs": [],
   "source": [
    "x * y"
   ]
  },
  {
   "cell_type": "code",
   "execution_count": null,
   "metadata": {
    "colab": {
     "base_uri": "https://localhost:8080/"
    },
    "executionInfo": {
     "elapsed": 30,
     "status": "ok",
     "timestamp": 1640139130944,
     "user": {
      "displayName": "Mike Frantz",
      "photoUrl": "https://lh3.googleusercontent.com/a-/AOh14GiGYCwZXGfGg-CE4_33PQcH9SW8fN6MyRkenN8-IA=s64",
      "userId": "08482506601269125384"
     },
     "user_tz": 480
    },
    "id": "IUf3fJFyEn4l",
    "outputId": "cae005dc-0e11-4716-eda2-211e12884c89"
   },
   "outputs": [],
   "source": [
    "x = torch.rand(3, 2, 4)\n",
    "x"
   ]
  },
  {
   "cell_type": "code",
   "execution_count": null,
   "metadata": {
    "colab": {
     "base_uri": "https://localhost:8080/"
    },
    "executionInfo": {
     "elapsed": 27,
     "status": "ok",
     "timestamp": 1640139130944,
     "user": {
      "displayName": "Mike Frantz",
      "photoUrl": "https://lh3.googleusercontent.com/a-/AOh14GiGYCwZXGfGg-CE4_33PQcH9SW8fN6MyRkenN8-IA=s64",
      "userId": "08482506601269125384"
     },
     "user_tz": 480
    },
    "id": "n-8_uK76VQaZ",
    "outputId": "4d360bd3-a5fb-4f2d-f501-e626a8c2e839"
   },
   "outputs": [],
   "source": [
    "torch.stack([torch.stack([i * y for i in a]) for a in x])"
   ]
  },
  {
   "cell_type": "code",
   "execution_count": null,
   "metadata": {
    "colab": {
     "base_uri": "https://localhost:8080/"
    },
    "executionInfo": {
     "elapsed": 26,
     "status": "ok",
     "timestamp": 1640139130945,
     "user": {
      "displayName": "Mike Frantz",
      "photoUrl": "https://lh3.googleusercontent.com/a-/AOh14GiGYCwZXGfGg-CE4_33PQcH9SW8fN6MyRkenN8-IA=s64",
      "userId": "08482506601269125384"
     },
     "user_tz": 480
    },
    "id": "BdkIij6qJmQ_",
    "outputId": "de3209ec-1c92-4676-e93b-50e5e6e5927e"
   },
   "outputs": [],
   "source": [
    "x * y"
   ]
  },
  {
   "cell_type": "code",
   "execution_count": null,
   "metadata": {
    "id": "BtQjJwU8pygJ"
   },
   "outputs": [],
   "source": [
    "x = torch.tensor([1, 2, 3, 4])\n",
    "y = torch.tensor([2, 3, 4, 5])"
   ]
  },
  {
   "cell_type": "code",
   "execution_count": null,
   "metadata": {
    "colab": {
     "base_uri": "https://localhost:8080/"
    },
    "executionInfo": {
     "elapsed": 23,
     "status": "ok",
     "timestamp": 1640139130945,
     "user": {
      "displayName": "Mike Frantz",
      "photoUrl": "https://lh3.googleusercontent.com/a-/AOh14GiGYCwZXGfGg-CE4_33PQcH9SW8fN6MyRkenN8-IA=s64",
      "userId": "08482506601269125384"
     },
     "user_tz": 480
    },
    "id": "C4sxHFjCKzrD",
    "outputId": "3196c63b-8b5a-4f74-edfa-987bd07b71fb"
   },
   "outputs": [],
   "source": [
    "# Let's do this using element-wise operations\n",
    "(x * y).sum()"
   ]
  },
  {
   "cell_type": "code",
   "execution_count": null,
   "metadata": {
    "colab": {
     "base_uri": "https://localhost:8080/"
    },
    "executionInfo": {
     "elapsed": 22,
     "status": "ok",
     "timestamp": 1640139130946,
     "user": {
      "displayName": "Mike Frantz",
      "photoUrl": "https://lh3.googleusercontent.com/a-/AOh14GiGYCwZXGfGg-CE4_33PQcH9SW8fN6MyRkenN8-IA=s64",
      "userId": "08482506601269125384"
     },
     "user_tz": 480
    },
    "id": "XhUqjR2-p-M_",
    "outputId": "340364b1-4f53-41b1-d2b4-5e4d09c3f10b"
   },
   "outputs": [],
   "source": [
    "# torch.matmul does matrix multiplication.\n",
    "torch.matmul(x, y)"
   ]
  },
  {
   "cell_type": "code",
   "execution_count": null,
   "metadata": {
    "colab": {
     "base_uri": "https://localhost:8080/"
    },
    "executionInfo": {
     "elapsed": 20,
     "status": "ok",
     "timestamp": 1640139130946,
     "user": {
      "displayName": "Mike Frantz",
      "photoUrl": "https://lh3.googleusercontent.com/a-/AOh14GiGYCwZXGfGg-CE4_33PQcH9SW8fN6MyRkenN8-IA=s64",
      "userId": "08482506601269125384"
     },
     "user_tz": 480
    },
    "id": "uaDdfNlfp9HV",
    "outputId": "9aa1a014-0ffc-4481-a168-c432b7f4d29f"
   },
   "outputs": [],
   "source": [
    "# @ is shorthand for matrix multiplication as well.\n",
    "x@y"
   ]
  },
  {
   "cell_type": "code",
   "execution_count": null,
   "metadata": {
    "colab": {
     "base_uri": "https://localhost:8080/"
    },
    "executionInfo": {
     "elapsed": 19,
     "status": "ok",
     "timestamp": 1640139130947,
     "user": {
      "displayName": "Mike Frantz",
      "photoUrl": "https://lh3.googleusercontent.com/a-/AOh14GiGYCwZXGfGg-CE4_33PQcH9SW8fN6MyRkenN8-IA=s64",
      "userId": "08482506601269125384"
     },
     "user_tz": 480
    },
    "id": "b5hCp0rfLfSt",
    "outputId": "95f6d7cd-e5e5-4d5e-e095-838ca9c2824f"
   },
   "outputs": [],
   "source": [
    "y@x"
   ]
  },
  {
   "cell_type": "code",
   "execution_count": null,
   "metadata": {
    "id": "AcaOBkxOYDlt"
   },
   "outputs": [],
   "source": [
    "assert x@y == y@x == torch.matmul(x,y) == (x * y).sum()"
   ]
  },
  {
   "cell_type": "code",
   "execution_count": null,
   "metadata": {
    "id": "KBjsj76RqvR0"
   },
   "outputs": [],
   "source": [
    "X = torch.tensor([[1, 2], [3, 4]])\n",
    "Y = torch.tensor([[2, 3, 4], [5, 6, 7]])"
   ]
  },
  {
   "cell_type": "code",
   "execution_count": null,
   "metadata": {
    "colab": {
     "base_uri": "https://localhost:8080/"
    },
    "executionInfo": {
     "elapsed": 17,
     "status": "ok",
     "timestamp": 1640139130948,
     "user": {
      "displayName": "Mike Frantz",
      "photoUrl": "https://lh3.googleusercontent.com/a-/AOh14GiGYCwZXGfGg-CE4_33PQcH9SW8fN6MyRkenN8-IA=s64",
      "userId": "08482506601269125384"
     },
     "user_tz": 480
    },
    "id": "tyb7F-9Hs40g",
    "outputId": "5c691c8e-ea2a-460c-c643-f72b0d528131"
   },
   "outputs": [],
   "source": [
    "X@Y"
   ]
  },
  {
   "cell_type": "code",
   "execution_count": null,
   "metadata": {
    "colab": {
     "base_uri": "https://localhost:8080/"
    },
    "executionInfo": {
     "elapsed": 15,
     "status": "ok",
     "timestamp": 1640139130948,
     "user": {
      "displayName": "Mike Frantz",
      "photoUrl": "https://lh3.googleusercontent.com/a-/AOh14GiGYCwZXGfGg-CE4_33PQcH9SW8fN6MyRkenN8-IA=s64",
      "userId": "08482506601269125384"
     },
     "user_tz": 480
    },
    "id": "osQMTXao5n08",
    "outputId": "a5cdedcf-6c66-42e1-fc82-bfdc6dd327e3"
   },
   "outputs": [],
   "source": [
    "(torch.randn(16, 3, 3, 3) @ torch.randn(3, 3, 12)).shape"
   ]
  },
  {
   "cell_type": "markdown",
   "metadata": {
    "id": "uXh7RbC6tGsp"
   },
   "source": [
    "# Exercise 3.2: matrix multiplication\n",
    "\n",
    "Previously, we tried to multiply `X@Y`.\n",
    "Will `Y@X` work?\n",
    "Why or why not?\n",
    "\n",
    "In the cell below, define `B`  using `torch.rand` so that `A@B` returns a tensor with shape (4, 7).\n",
    "\n",
    "<!-- startquestion -->"
   ]
  },
  {
   "cell_type": "code",
   "execution_count": null,
   "metadata": {
    "id": "3HgK5T6RtN3n"
   },
   "outputs": [],
   "source": [
    "A = torch.rand(4, 2)\n",
    "B = ..."
   ]
  },
  {
   "cell_type": "code",
   "execution_count": null,
   "metadata": {
    "id": "_d_BiKLJD0s9"
   },
   "outputs": [],
   "source": [
    "if not isinstance(B, type(...)):\n",
    "    assert (A@B).shape == (4, 7)\n",
    "else:\n",
    "    print('Please define B such that (A@B).shape = (4, 7)')"
   ]
  },
  {
   "cell_type": "code",
   "execution_count": null,
   "metadata": {
    "colab": {
     "base_uri": "https://localhost:8080/"
    },
    "executionInfo": {
     "elapsed": 15,
     "status": "ok",
     "timestamp": 1640139130950,
     "user": {
      "displayName": "Mike Frantz",
      "photoUrl": "https://lh3.googleusercontent.com/a-/AOh14GiGYCwZXGfGg-CE4_33PQcH9SW8fN6MyRkenN8-IA=s64",
      "userId": "08482506601269125384"
     },
     "user_tz": 480
    },
    "id": "orXRC7LsrRBv",
    "outputId": "c8b94bde-3187-43c2-b709-955962dd05aa"
   },
   "outputs": [],
   "source": [
    "X = torch.tensor(list(range(27))).reshape(3,3,3)\n",
    "X"
   ]
  },
  {
   "cell_type": "code",
   "execution_count": null,
   "metadata": {
    "colab": {
     "base_uri": "https://localhost:8080/"
    },
    "executionInfo": {
     "elapsed": 342,
     "status": "ok",
     "timestamp": 1640139131280,
     "user": {
      "displayName": "Mike Frantz",
      "photoUrl": "https://lh3.googleusercontent.com/a-/AOh14GiGYCwZXGfGg-CE4_33PQcH9SW8fN6MyRkenN8-IA=s64",
      "userId": "08482506601269125384"
     },
     "user_tz": 480
    },
    "id": "Ow1QpNZFrW5l",
    "outputId": "d7f5c79d-9413-4e4f-a1a9-edff12d9bc79"
   },
   "outputs": [],
   "source": [
    "X.sum()"
   ]
  },
  {
   "cell_type": "code",
   "execution_count": null,
   "metadata": {
    "colab": {
     "base_uri": "https://localhost:8080/"
    },
    "executionInfo": {
     "elapsed": 20,
     "status": "ok",
     "timestamp": 1640139131280,
     "user": {
      "displayName": "Mike Frantz",
      "photoUrl": "https://lh3.googleusercontent.com/a-/AOh14GiGYCwZXGfGg-CE4_33PQcH9SW8fN6MyRkenN8-IA=s64",
      "userId": "08482506601269125384"
     },
     "user_tz": 480
    },
    "id": "YfZ1IVRBrdC9",
    "outputId": "81d8834c-bb24-4846-995c-4e57a673b8b8"
   },
   "outputs": [],
   "source": [
    "# Change the dim parameter to see how the results change\n",
    "X.sum(dim=0)"
   ]
  },
  {
   "cell_type": "code",
   "execution_count": null,
   "metadata": {
    "colab": {
     "base_uri": "https://localhost:8080/"
    },
    "executionInfo": {
     "elapsed": 19,
     "status": "ok",
     "timestamp": 1640139131281,
     "user": {
      "displayName": "Mike Frantz",
      "photoUrl": "https://lh3.googleusercontent.com/a-/AOh14GiGYCwZXGfGg-CE4_33PQcH9SW8fN6MyRkenN8-IA=s64",
      "userId": "08482506601269125384"
     },
     "user_tz": 480
    },
    "id": "93qmY8pv8Lej",
    "outputId": "ef7faef0-8511-4047-ee51-1211ec3b2c41"
   },
   "outputs": [],
   "source": [
    "# Create a vector\n",
    "X = torch.arange(0, 3*3*3)\n",
    "X"
   ]
  },
  {
   "cell_type": "code",
   "execution_count": null,
   "metadata": {
    "colab": {
     "base_uri": "https://localhost:8080/"
    },
    "executionInfo": {
     "elapsed": 17,
     "status": "ok",
     "timestamp": 1640139131281,
     "user": {
      "displayName": "Mike Frantz",
      "photoUrl": "https://lh3.googleusercontent.com/a-/AOh14GiGYCwZXGfGg-CE4_33PQcH9SW8fN6MyRkenN8-IA=s64",
      "userId": "08482506601269125384"
     },
     "user_tz": 480
    },
    "id": "3I8zUv138Lek",
    "outputId": "c3f7827d-f74f-4126-80d3-2a4081e34b63"
   },
   "outputs": [],
   "source": [
    "# Reshape it into a 3x3x3 to be \"image-like\"\n",
    "X = X.reshape(3, 3, 3)\n",
    "X"
   ]
  },
  {
   "cell_type": "code",
   "execution_count": null,
   "metadata": {
    "colab": {
     "base_uri": "https://localhost:8080/"
    },
    "executionInfo": {
     "elapsed": 16,
     "status": "ok",
     "timestamp": 1640139131282,
     "user": {
      "displayName": "Mike Frantz",
      "photoUrl": "https://lh3.googleusercontent.com/a-/AOh14GiGYCwZXGfGg-CE4_33PQcH9SW8fN6MyRkenN8-IA=s64",
      "userId": "08482506601269125384"
     },
     "user_tz": 480
    },
    "id": "aAAyqkXR8Lek",
    "outputId": "2a9aaec3-fe6c-4d3f-fa1f-e3d0916eea4b"
   },
   "outputs": [],
   "source": [
    "# How do we add a \"batch_dim\"?\n",
    "# Unsqueeze addes an empty dimension\n",
    "# Squeeze takes away empty dimensions\n",
    "X.shape, X.unsqueeze(0).shape"
   ]
  },
  {
   "cell_type": "code",
   "execution_count": null,
   "metadata": {
    "colab": {
     "base_uri": "https://localhost:8080/"
    },
    "executionInfo": {
     "elapsed": 14,
     "status": "ok",
     "timestamp": 1640139131282,
     "user": {
      "displayName": "Mike Frantz",
      "photoUrl": "https://lh3.googleusercontent.com/a-/AOh14GiGYCwZXGfGg-CE4_33PQcH9SW8fN6MyRkenN8-IA=s64",
      "userId": "08482506601269125384"
     },
     "user_tz": 480
    },
    "id": "NEi5A-6H8Lek",
    "outputId": "4926e0ec-e7ce-40a8-97b4-45db2073f9e9"
   },
   "outputs": [],
   "source": [
    "# Use unsqueeze to create a \"batch\" \n",
    "torch.cat([X.unsqueeze(0), X.unsqueeze(0)]).shape"
   ]
  },
  {
   "cell_type": "code",
   "execution_count": null,
   "metadata": {
    "colab": {
     "base_uri": "https://localhost:8080/"
    },
    "executionInfo": {
     "elapsed": 12,
     "status": "ok",
     "timestamp": 1640139131282,
     "user": {
      "displayName": "Mike Frantz",
      "photoUrl": "https://lh3.googleusercontent.com/a-/AOh14GiGYCwZXGfGg-CE4_33PQcH9SW8fN6MyRkenN8-IA=s64",
      "userId": "08482506601269125384"
     },
     "user_tz": 480
    },
    "id": "7ERgwobz8Lel",
    "outputId": "863e15da-7e19-4368-9367-ddcb9b64ece5"
   },
   "outputs": [],
   "source": [
    "y = torch.randn(1, 1, 1, 1, 1, 1, 8)\n",
    "y, y.shape, y.squeeze(), y.squeeze().shape, y.squeeze(2).shape"
   ]
  },
  {
   "cell_type": "code",
   "execution_count": null,
   "metadata": {
    "id": "zH81Ceg58Lel"
   },
   "outputs": [],
   "source": [
    "# squeeze and unsqueeze are opposites\n",
    "assert X.shape == X.unsqueeze(0).squeeze(0).shape"
   ]
  },
  {
   "cell_type": "code",
   "execution_count": null,
   "metadata": {
    "colab": {
     "base_uri": "https://localhost:8080/"
    },
    "executionInfo": {
     "elapsed": 11,
     "status": "ok",
     "timestamp": 1640139131283,
     "user": {
      "displayName": "Mike Frantz",
      "photoUrl": "https://lh3.googleusercontent.com/a-/AOh14GiGYCwZXGfGg-CE4_33PQcH9SW8fN6MyRkenN8-IA=s64",
      "userId": "08482506601269125384"
     },
     "user_tz": 480
    },
    "id": "Qbj3_Heg8Lel",
    "outputId": "ff6f492e-b9e9-4418-d25e-563b6f9375fa"
   },
   "outputs": [],
   "source": [
    "# Swap the 1nd and 2rd dim\n",
    "X.permute(0, 2, 1)"
   ]
  },
  {
   "cell_type": "code",
   "execution_count": null,
   "metadata": {
    "id": "T3OWeHDZ_ATC"
   },
   "outputs": [],
   "source": [
    "def sigmoid(x):\n",
    "    raise NotImplementedError()\n",
    "\n",
    "def softmax(x, dim):\n",
    "    raise NotImplementedError()"
   ]
  },
  {
   "cell_type": "code",
   "execution_count": null,
   "metadata": {
    "colab": {
     "base_uri": "https://localhost:8080/",
     "height": 282
    },
    "executionInfo": {
     "elapsed": 480,
     "status": "ok",
     "timestamp": 1640139131755,
     "user": {
      "displayName": "Mike Frantz",
      "photoUrl": "https://lh3.googleusercontent.com/a-/AOh14GiGYCwZXGfGg-CE4_33PQcH9SW8fN6MyRkenN8-IA=s64",
      "userId": "08482506601269125384"
     },
     "user_tz": 480
    },
    "id": "Nd2ZJ8aX8cRN",
    "outputId": "6b6bedf0-5603-4846-bcf6-7f783137d90b"
   },
   "outputs": [],
   "source": [
    "x = torch.arange(-8, 8, 0.05)\n",
    "plt.plot(x, sigmoid(x), label='our sigmoid', ls='--', color='r', linewidth=4)\n",
    "plt.plot(x, torch.sigmoid(x), label='torch sigmoid', c='b', alpha=0.8)\n",
    "plt.legend()"
   ]
  },
  {
   "cell_type": "code",
   "execution_count": null,
   "metadata": {
    "colab": {
     "base_uri": "https://localhost:8080/"
    },
    "executionInfo": {
     "elapsed": 14,
     "status": "ok",
     "timestamp": 1640139131756,
     "user": {
      "displayName": "Mike Frantz",
      "photoUrl": "https://lh3.googleusercontent.com/a-/AOh14GiGYCwZXGfGg-CE4_33PQcH9SW8fN6MyRkenN8-IA=s64",
      "userId": "08482506601269125384"
     },
     "user_tz": 480
    },
    "id": "vl1V-i_69tcd",
    "outputId": "52dde5e4-151c-49b9-9eff-7925b5bffb6f"
   },
   "outputs": [],
   "source": [
    "X = torch.rand(3, 3)\n",
    "print(\n",
    "    'X:', X, \n",
    "    'Our softmax(x):', softmax(X, dim=0),\n",
    "    'Torch softmax(x):', torch.softmax(X, dim=0), \n",
    "    'Sanity check: row sums:', softmax(X, dim=0).sum(dim=0), \n",
    "    sep='\\n'\n",
    ")"
   ]
  },
  {
   "cell_type": "code",
   "execution_count": null,
   "metadata": {
    "colab": {
     "base_uri": "https://localhost:8080/"
    },
    "executionInfo": {
     "elapsed": 10,
     "status": "ok",
     "timestamp": 1640139131756,
     "user": {
      "displayName": "Mike Frantz",
      "photoUrl": "https://lh3.googleusercontent.com/a-/AOh14GiGYCwZXGfGg-CE4_33PQcH9SW8fN6MyRkenN8-IA=s64",
      "userId": "08482506601269125384"
     },
     "user_tz": 480
    },
    "id": "cLgGQ-DBJB14",
    "outputId": "befc1c53-3e39-48a4-8e15-b608b29a9bf4"
   },
   "outputs": [],
   "source": [
    "# We can also call softmax on a tensor\n",
    "X.softmax(dim=0)"
   ]
  },
  {
   "cell_type": "code",
   "execution_count": null,
   "metadata": {
    "colab": {
     "base_uri": "https://localhost:8080/"
    },
    "executionInfo": {
     "elapsed": 8,
     "status": "ok",
     "timestamp": 1640139131757,
     "user": {
      "displayName": "Mike Frantz",
      "photoUrl": "https://lh3.googleusercontent.com/a-/AOh14GiGYCwZXGfGg-CE4_33PQcH9SW8fN6MyRkenN8-IA=s64",
      "userId": "08482506601269125384"
     },
     "user_tz": 480
    },
    "id": "OxKqhnztM9qr",
    "outputId": "69d9dbec-296a-4a46-dc34-d01d983889f0"
   },
   "outputs": [],
   "source": [
    "(torch.randn(16, 3, 4) * torch.randn(3, 4)).shape"
   ]
  },
  {
   "cell_type": "code",
   "execution_count": null,
   "metadata": {
    "colab": {
     "base_uri": "https://localhost:8080/",
     "height": 166
    },
    "executionInfo": {
     "elapsed": 1555,
     "status": "error",
     "timestamp": 1640139133306,
     "user": {
      "displayName": "Mike Frantz",
      "photoUrl": "https://lh3.googleusercontent.com/a-/AOh14GiGYCwZXGfGg-CE4_33PQcH9SW8fN6MyRkenN8-IA=s64",
      "userId": "08482506601269125384"
     },
     "user_tz": 480
    },
    "id": "D36jx2ebNF7h",
    "outputId": "373c59c3-43f3-4a15-bcd6-01a86c219d7f"
   },
   "outputs": [],
   "source": [
    "(torch.randn(16, 3, 4) @ torch.randn(3, 4)).shape"
   ]
  },
  {
   "cell_type": "code",
   "execution_count": null,
   "metadata": {
    "id": "uxvmDsePNQFX"
   },
   "outputs": [],
   "source": [
    "(torch.randn(16, 3, 4) @ torch.randn(4, 7)).shape"
   ]
  },
  {
   "cell_type": "code",
   "execution_count": null,
   "metadata": {
    "id": "-zcrvRyaNR8e"
   },
   "outputs": [],
   "source": [
    "torch.randn(3, 4) * torch.randn(4, 3)"
   ]
  },
  {
   "cell_type": "code",
   "execution_count": null,
   "metadata": {
    "id": "iGz5XhoYNvtw"
   },
   "outputs": [],
   "source": [
    "torch.randn(3, 4) @ torch.randn(4, 3)"
   ]
  },
  {
   "cell_type": "code",
   "execution_count": null,
   "metadata": {
    "id": "UePfNkxj08Ec"
   },
   "outputs": [],
   "source": []
  }
 ],
 "metadata": {
  "colab": {
   "collapsed_sections": [],
   "name": "03_Basic_Tensor_Operations.ipynb",
   "provenance": []
  },
  "kernelspec": {
   "display_name": "cndl",
   "language": "python",
   "name": "cndl"
  },
  "language_info": {
   "codemirror_mode": {
    "name": "ipython",
    "version": 3
   },
   "file_extension": ".py",
   "mimetype": "text/x-python",
   "name": "python",
   "nbconvert_exporter": "python",
   "pygments_lexer": "ipython3",
   "version": "3.9.4"
  }
 },
 "nbformat": 4,
 "nbformat_minor": 0
}
