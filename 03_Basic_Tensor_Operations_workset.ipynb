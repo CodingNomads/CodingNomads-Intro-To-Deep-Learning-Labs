{
 "cells": [
  {
   "cell_type": "code",
   "execution_count": 63,
   "metadata": {
    "executionInfo": {
     "elapsed": 353,
     "status": "ok",
     "timestamp": 1660447995716,
     "user": {
      "displayName": "Mike Frantz",
      "userId": "08482506601269125384"
     },
     "user_tz": 420
    },
    "id": "YN_OuApGfaNk"
   },
   "outputs": [],
   "source": [
    "import torch\n",
    "import matplotlib.pyplot as plt"
   ]
  },
  {
   "cell_type": "code",
   "execution_count": 64,
   "metadata": {
    "executionInfo": {
     "elapsed": 5,
     "status": "ok",
     "timestamp": 1660447997066,
     "user": {
      "displayName": "Mike Frantz",
      "userId": "08482506601269125384"
     },
     "user_tz": 420
    },
    "id": "wfgIgCezf7Np"
   },
   "outputs": [],
   "source": [
    "def describe_tensor(t):\n",
    "    \"\"\"\n",
    "    Describes a few basic elements about any torch.Tensor.\n",
    "    Prints out shape, number of elements, and rank.\n",
    "    \"\"\"\n",
    "    print(f\"Shape (Tensor.shape): {t.shape}\")\n",
    "    print(f\"Number of elements (Tensor.numel()): {t.numel()}\")\n",
    "    print(f\"Number of dimensions, or rank + 1 (Tensor.ndim): {t.ndim}\")\n",
    "    print(f\"Tensor type (Tensor.dtype): {t.dtype}\")"
   ]
  },
  {
   "cell_type": "code",
   "execution_count": 65,
   "metadata": {
    "colab": {
     "base_uri": "https://localhost:8080/"
    },
    "executionInfo": {
     "elapsed": 5,
     "status": "ok",
     "timestamp": 1660447997443,
     "user": {
      "displayName": "Mike Frantz",
      "userId": "08482506601269125384"
     },
     "user_tz": 420
    },
    "id": "oirVvHHfffQG",
    "outputId": "fcc60b7c-abe7-4257-86c7-b7eaa7ee7e11"
   },
   "outputs": [],
   "source": [
    "rank0tensor = torch.tensor(1)\n",
    "rank0tensor"
   ]
  },
  {
   "cell_type": "code",
   "execution_count": 66,
   "metadata": {
    "colab": {
     "base_uri": "https://localhost:8080/"
    },
    "executionInfo": {
     "elapsed": 3,
     "status": "ok",
     "timestamp": 1660447997819,
     "user": {
      "displayName": "Mike Frantz",
      "userId": "08482506601269125384"
     },
     "user_tz": 420
    },
    "id": "jesrSj-1f39S",
    "outputId": "1295194d-48df-44d9-f3b3-46e5064f6e5d"
   },
   "outputs": [],
   "source": [
    "describe_tensor(rank0tensor)"
   ]
  },
  {
   "cell_type": "code",
   "execution_count": 67,
   "metadata": {
    "colab": {
     "base_uri": "https://localhost:8080/"
    },
    "executionInfo": {
     "elapsed": 7,
     "status": "ok",
     "timestamp": 1660447998266,
     "user": {
      "displayName": "Mike Frantz",
      "userId": "08482506601269125384"
     },
     "user_tz": 420
    },
    "id": "O4Yrr3jCfjmv",
    "outputId": "7f3625b2-9608-4ef5-9b5f-6405b2e7f1fb"
   },
   "outputs": [],
   "source": [
    "rank1tensor = torch.tensor([1.,2,3])\n",
    "rank1tensor"
   ]
  },
  {
   "cell_type": "code",
   "execution_count": 68,
   "metadata": {
    "colab": {
     "base_uri": "https://localhost:8080/"
    },
    "executionInfo": {
     "elapsed": 5,
     "status": "ok",
     "timestamp": 1660447998267,
     "user": {
      "displayName": "Mike Frantz",
      "userId": "08482506601269125384"
     },
     "user_tz": 420
    },
    "id": "B-exG67igb13",
    "outputId": "454b08d6-e864-4814-cff0-f6bbf1795296"
   },
   "outputs": [],
   "source": [
    "describe_tensor(rank1tensor)"
   ]
  },
  {
   "cell_type": "code",
   "execution_count": 69,
   "metadata": {
    "colab": {
     "base_uri": "https://localhost:8080/"
    },
    "executionInfo": {
     "elapsed": 10,
     "status": "ok",
     "timestamp": 1660447998823,
     "user": {
      "displayName": "Mike Frantz",
      "userId": "08482506601269125384"
     },
     "user_tz": 420
    },
    "id": "OIWFlVYwfnkf",
    "outputId": "27099def-f89a-4db5-e915-d749d68344db"
   },
   "outputs": [],
   "source": [
    "rank2tensor = torch.tensor(\n",
    "    [\n",
    "     [1.,2,3],\n",
    "     [4,5,6],\n",
    "     [7,8,9]\n",
    "    ]\n",
    ")\n",
    "rank2tensor"
   ]
  },
  {
   "cell_type": "code",
   "execution_count": 70,
   "metadata": {
    "colab": {
     "base_uri": "https://localhost:8080/"
    },
    "executionInfo": {
     "elapsed": 4,
     "status": "ok",
     "timestamp": 1660447998823,
     "user": {
      "displayName": "Mike Frantz",
      "userId": "08482506601269125384"
     },
     "user_tz": 420
    },
    "id": "QxbWJouzgenG",
    "outputId": "0ac636e1-3db3-4cba-95dc-da9a61b15dfa"
   },
   "outputs": [],
   "source": [
    "describe_tensor(rank2tensor)"
   ]
  },
  {
   "cell_type": "code",
   "execution_count": 71,
   "metadata": {
    "colab": {
     "base_uri": "https://localhost:8080/"
    },
    "executionInfo": {
     "elapsed": 13,
     "status": "ok",
     "timestamp": 1660447999218,
     "user": {
      "displayName": "Mike Frantz",
      "userId": "08482506601269125384"
     },
     "user_tz": 420
    },
    "id": "Yu4OKI3fggue",
    "outputId": "1fca6d02-8b36-473f-8acc-fff4b907d2e4"
   },
   "outputs": [],
   "source": [
    "rank3tensor = torch.rand(3, 3, 3)\n",
    "rank3tensor"
   ]
  },
  {
   "cell_type": "code",
   "execution_count": 72,
   "metadata": {
    "colab": {
     "base_uri": "https://localhost:8080/"
    },
    "executionInfo": {
     "elapsed": 11,
     "status": "ok",
     "timestamp": 1660447999218,
     "user": {
      "displayName": "Mike Frantz",
      "userId": "08482506601269125384"
     },
     "user_tz": 420
    },
    "id": "TOwckWKKgsz1",
    "outputId": "be602f84-b2b1-4220-899c-b4fd7865a2af"
   },
   "outputs": [],
   "source": [
    "describe_tensor(rank3tensor)"
   ]
  },
  {
   "cell_type": "code",
   "execution_count": 73,
   "metadata": {
    "colab": {
     "base_uri": "https://localhost:8080/"
    },
    "executionInfo": {
     "elapsed": 8,
     "status": "ok",
     "timestamp": 1660447999219,
     "user": {
      "displayName": "Mike Frantz",
      "userId": "08482506601269125384"
     },
     "user_tz": 420
    },
    "id": "ORXrY8XRgxUs",
    "outputId": "85b8767f-a04f-4d16-a6df-2d9fc923936b"
   },
   "outputs": [],
   "source": [
    "# We won't try to visualize this tensor since it doesn't fit neatly into my brain.\n",
    "# This is just to show we can make big tensors, even if we don't have a practical use for them.\n",
    "n_dim = 10\n",
    "describe_tensor(torch.randn(*(tuple([3] * n_dim))))"
   ]
  },
  {
   "cell_type": "markdown",
   "metadata": {
    "id": "Rf509u1C4ZFb"
   },
   "source": [
    "# Exercise 3.1: Torch `dtype`s\n",
    "\n",
    "Read through the [documentation](https://pytorch.org/docs/stable/tensor_attributes.html#torch-dtype) on different tensor types.\n",
    "\n",
    "Create a function that uses the [`Tensor.element_size()`](https://pytorch.org/docs/stable/generated/torch.Tensor.element_size.html#) and `Tensor.numel()` methods to calculate the memory footprint of a tensor in megabytes.\n",
    "There are 1e6 bytes in a megabyte.\n",
    "Then, create at least 3 tensors with the same shape but different `dtype`s like `torch.float16` and `torch.float32`.\n",
    "What's the difference in the memory footprints of the following tensors?\n",
    "\n",
    "<!-- startquestion -->\n"
   ]
  },
  {
   "cell_type": "code",
   "execution_count": 74,
   "metadata": {
    "executionInfo": {
     "elapsed": 5,
     "status": "ok",
     "timestamp": 1660447999219,
     "user": {
      "displayName": "Mike Frantz",
      "userId": "08482506601269125384"
     },
     "user_tz": 420
    },
    "id": "ZZBZEr1J6s6F"
   },
   "outputs": [],
   "source": [
    "def memory_footprint(tensor):\n",
    "    raise NotImplementedError('Implement this function!')"
   ]
  },
  {
   "cell_type": "code",
   "execution_count": 76,
   "metadata": {
    "colab": {
     "base_uri": "https://localhost:8080/"
    },
    "executionInfo": {
     "elapsed": 3,
     "status": "ok",
     "timestamp": 1660447999590,
     "user": {
      "displayName": "Mike Frantz",
      "userId": "08482506601269125384"
     },
     "user_tz": 420
    },
    "id": "cLYIUTlkvaTr",
    "outputId": "5942b613-8d27-4c68-907a-745ceca4f743"
   },
   "outputs": [],
   "source": [
    "tensors = [\n",
    "    torch.tensor(100, dtype=torch.float16),\n",
    "    torch.tensor(100, dtype=torch.float32),\n",
    "    torch.tensor(100, dtype=torch.int32),\n",
    "    torch.tensor(100, dtype=torch.long) # I think this is int64\n",
    "]\n",
    "\n",
    "for t in tensors:\n",
    "    print(f\"\"\"\n",
    "    Tensor:\n",
    "    {t}\n",
    "    dtype: {t.dtype}\n",
    "    memory footprint (MB): {memory_footprint(t)}\n",
    "    ----------------\n",
    "    \"\"\")"
   ]
  },
  {
   "cell_type": "code",
   "execution_count": 77,
   "metadata": {
    "colab": {
     "base_uri": "https://localhost:8080/"
    },
    "executionInfo": {
     "elapsed": 12,
     "status": "ok",
     "timestamp": 1660448001317,
     "user": {
      "displayName": "Mike Frantz",
      "userId": "08482506601269125384"
     },
     "user_tz": 420
    },
    "id": "PXmQt7lWCUtg",
    "outputId": "21b07339-322b-40bc-daf1-8d2074544437"
   },
   "outputs": [],
   "source": [
    "x = torch.ones(4).float()\n",
    "x"
   ]
  },
  {
   "cell_type": "code",
   "execution_count": 78,
   "metadata": {
    "colab": {
     "base_uri": "https://localhost:8080/"
    },
    "executionInfo": {
     "elapsed": 6,
     "status": "ok",
     "timestamp": 1660448001317,
     "user": {
      "displayName": "Mike Frantz",
      "userId": "08482506601269125384"
     },
     "user_tz": 420
    },
    "id": "tub5MGNWDBRa",
    "outputId": "4f2e6030-f594-4af0-911b-89b6b20b4998"
   },
   "outputs": [],
   "source": [
    "x * 4"
   ]
  },
  {
   "cell_type": "code",
   "execution_count": 79,
   "metadata": {
    "colab": {
     "base_uri": "https://localhost:8080/"
    },
    "executionInfo": {
     "elapsed": 9,
     "status": "ok",
     "timestamp": 1660448001867,
     "user": {
      "displayName": "Mike Frantz",
      "userId": "08482506601269125384"
     },
     "user_tz": 420
    },
    "id": "0oub394LDEBl",
    "outputId": "6d3474c3-481b-4686-b137-2cd39200d2d4"
   },
   "outputs": [],
   "source": [
    "x + 4"
   ]
  },
  {
   "cell_type": "code",
   "execution_count": 80,
   "metadata": {
    "colab": {
     "base_uri": "https://localhost:8080/"
    },
    "executionInfo": {
     "elapsed": 9,
     "status": "ok",
     "timestamp": 1660448001868,
     "user": {
      "displayName": "Mike Frantz",
      "userId": "08482506601269125384"
     },
     "user_tz": 420
    },
    "id": "TtFlMX5LDFdz",
    "outputId": "05db6473-8d22-4144-f9d7-d513543d05ff"
   },
   "outputs": [],
   "source": [
    "x - 2"
   ]
  },
  {
   "cell_type": "code",
   "execution_count": 81,
   "metadata": {
    "colab": {
     "base_uri": "https://localhost:8080/"
    },
    "executionInfo": {
     "elapsed": 6,
     "status": "ok",
     "timestamp": 1660448001868,
     "user": {
      "displayName": "Mike Frantz",
      "userId": "08482506601269125384"
     },
     "user_tz": 420
    },
    "id": "MEnlgHOuDGlQ",
    "outputId": "8e9e4ae8-0bbb-4035-b9aa-2aa50b68abd7"
   },
   "outputs": [],
   "source": [
    "x / 4"
   ]
  },
  {
   "cell_type": "code",
   "execution_count": 127,
   "metadata": {
    "colab": {
     "base_uri": "https://localhost:8080/"
    },
    "executionInfo": {
     "elapsed": 311,
     "status": "ok",
     "timestamp": 1660448664683,
     "user": {
      "displayName": "Mike Frantz",
      "userId": "08482506601269125384"
     },
     "user_tz": 420
    },
    "id": "TdU_O2ORDl35",
    "outputId": "7faf8afa-82d8-4019-b97f-9201eff40904"
   },
   "outputs": [],
   "source": [
    "x = torch.rand(2,2)\n",
    "y = torch.rand(2,2)\n",
    "x, y"
   ]
  },
  {
   "cell_type": "code",
   "execution_count": 128,
   "metadata": {
    "colab": {
     "base_uri": "https://localhost:8080/"
    },
    "executionInfo": {
     "elapsed": 375,
     "status": "ok",
     "timestamp": 1660448678852,
     "user": {
      "displayName": "Mike Frantz",
      "userId": "08482506601269125384"
     },
     "user_tz": 420
    },
    "id": "P3ybugeRDrCl",
    "outputId": "cbf84260-7d70-4008-c0cd-744b15d45ff1"
   },
   "outputs": [],
   "source": [
    "x + y"
   ]
  },
  {
   "cell_type": "code",
   "execution_count": 129,
   "metadata": {
    "colab": {
     "base_uri": "https://localhost:8080/"
    },
    "executionInfo": {
     "elapsed": 309,
     "status": "ok",
     "timestamp": 1660448682876,
     "user": {
      "displayName": "Mike Frantz",
      "userId": "08482506601269125384"
     },
     "user_tz": 420
    },
    "id": "zXZUTYLHDsV7",
    "outputId": "99e91700-1a29-4ff8-a0d2-18c1175f01f1"
   },
   "outputs": [],
   "source": [
    "x - y"
   ]
  },
  {
   "cell_type": "code",
   "execution_count": 130,
   "metadata": {
    "colab": {
     "base_uri": "https://localhost:8080/"
    },
    "executionInfo": {
     "elapsed": 306,
     "status": "ok",
     "timestamp": 1660448686442,
     "user": {
      "displayName": "Mike Frantz",
      "userId": "08482506601269125384"
     },
     "user_tz": 420
    },
    "id": "MtCXRnFbDxZ2",
    "outputId": "6b470362-b936-488c-b235-60fbe7e573cd"
   },
   "outputs": [],
   "source": [
    "x * y"
   ]
  },
  {
   "cell_type": "code",
   "execution_count": 131,
   "metadata": {
    "colab": {
     "base_uri": "https://localhost:8080/"
    },
    "executionInfo": {
     "elapsed": 289,
     "status": "ok",
     "timestamp": 1660448689284,
     "user": {
      "displayName": "Mike Frantz",
      "userId": "08482506601269125384"
     },
     "user_tz": 420
    },
    "id": "Onlau0_tDysg",
    "outputId": "296e3284-0d5c-4878-b09d-cc6927bebdf4"
   },
   "outputs": [],
   "source": [
    "x / y"
   ]
  },
  {
   "cell_type": "code",
   "execution_count": 87,
   "metadata": {
    "colab": {
     "base_uri": "https://localhost:8080/"
    },
    "executionInfo": {
     "elapsed": 4,
     "status": "ok",
     "timestamp": 1660448005774,
     "user": {
      "displayName": "Mike Frantz",
      "userId": "08482506601269125384"
     },
     "user_tz": 420
    },
    "id": "RalqgfDjD0Nx",
    "outputId": "8c065448-f1f4-4384-8cac-831ae1f0c487"
   },
   "outputs": [],
   "source": [
    "x = torch.rand(2, 4)\n",
    "y = torch.rand(4)\n",
    "x, y"
   ]
  },
  {
   "cell_type": "code",
   "execution_count": 88,
   "metadata": {
    "colab": {
     "base_uri": "https://localhost:8080/"
    },
    "executionInfo": {
     "elapsed": 4,
     "status": "ok",
     "timestamp": 1660448006235,
     "user": {
      "displayName": "Mike Frantz",
      "userId": "08482506601269125384"
     },
     "user_tz": 420
    },
    "id": "weIf9RNyU8wr",
    "outputId": "078eed4a-c768-45f1-8bd3-0783224f875a"
   },
   "outputs": [],
   "source": [
    "torch.stack([x[0] * y, x[1] * y])"
   ]
  },
  {
   "cell_type": "code",
   "execution_count": 89,
   "metadata": {
    "colab": {
     "base_uri": "https://localhost:8080/"
    },
    "executionInfo": {
     "elapsed": 4,
     "status": "ok",
     "timestamp": 1660448007110,
     "user": {
      "displayName": "Mike Frantz",
      "userId": "08482506601269125384"
     },
     "user_tz": 420
    },
    "id": "Pqk2_U_sD4JW",
    "outputId": "2a603478-23c6-4a4f-9dce-c98b7c3b07f5"
   },
   "outputs": [],
   "source": [
    "x * y"
   ]
  },
  {
   "cell_type": "code",
   "execution_count": 90,
   "metadata": {
    "colab": {
     "base_uri": "https://localhost:8080/"
    },
    "executionInfo": {
     "elapsed": 2,
     "status": "ok",
     "timestamp": 1660448007542,
     "user": {
      "displayName": "Mike Frantz",
      "userId": "08482506601269125384"
     },
     "user_tz": 420
    },
    "id": "IUf3fJFyEn4l",
    "outputId": "b1991429-5386-4b14-e7b7-4ba4e1c4e6a2"
   },
   "outputs": [],
   "source": [
    "x = torch.rand(3, 2, 4)\n",
    "x"
   ]
  },
  {
   "cell_type": "code",
   "execution_count": 91,
   "metadata": {
    "colab": {
     "base_uri": "https://localhost:8080/"
    },
    "executionInfo": {
     "elapsed": 2,
     "status": "ok",
     "timestamp": 1660448008264,
     "user": {
      "displayName": "Mike Frantz",
      "userId": "08482506601269125384"
     },
     "user_tz": 420
    },
    "id": "n-8_uK76VQaZ",
    "outputId": "6d05f786-e8ec-4f9f-80ca-c861f839b30b"
   },
   "outputs": [],
   "source": [
    "torch.stack([torch.stack([i * y for i in a]) for a in x])"
   ]
  },
  {
   "cell_type": "code",
   "execution_count": 92,
   "metadata": {
    "colab": {
     "base_uri": "https://localhost:8080/"
    },
    "executionInfo": {
     "elapsed": 2,
     "status": "ok",
     "timestamp": 1660448008828,
     "user": {
      "displayName": "Mike Frantz",
      "userId": "08482506601269125384"
     },
     "user_tz": 420
    },
    "id": "BdkIij6qJmQ_",
    "outputId": "0065d291-3362-473f-97b5-87da00537a47"
   },
   "outputs": [],
   "source": [
    "x * y"
   ]
  },
  {
   "cell_type": "code",
   "execution_count": 93,
   "metadata": {
    "executionInfo": {
     "elapsed": 1,
     "status": "ok",
     "timestamp": 1660448009714,
     "user": {
      "displayName": "Mike Frantz",
      "userId": "08482506601269125384"
     },
     "user_tz": 420
    },
    "id": "BtQjJwU8pygJ"
   },
   "outputs": [],
   "source": [
    "x = torch.tensor([1, 2, 3, 4])\n",
    "y = torch.tensor([2, 3, 4, 5])"
   ]
  },
  {
   "cell_type": "code",
   "execution_count": 94,
   "metadata": {
    "colab": {
     "base_uri": "https://localhost:8080/"
    },
    "executionInfo": {
     "elapsed": 7,
     "status": "ok",
     "timestamp": 1660448010326,
     "user": {
      "displayName": "Mike Frantz",
      "userId": "08482506601269125384"
     },
     "user_tz": 420
    },
    "id": "C4sxHFjCKzrD",
    "outputId": "5fcfbc30-7a28-446a-b4c0-24bdd4638eef"
   },
   "outputs": [],
   "source": [
    "# Let's do this using element-wise operations\n",
    "(x * y).sum()"
   ]
  },
  {
   "cell_type": "code",
   "execution_count": 95,
   "metadata": {
    "colab": {
     "base_uri": "https://localhost:8080/"
    },
    "executionInfo": {
     "elapsed": 19,
     "status": "ok",
     "timestamp": 1660448010340,
     "user": {
      "displayName": "Mike Frantz",
      "userId": "08482506601269125384"
     },
     "user_tz": 420
    },
    "id": "XhUqjR2-p-M_",
    "outputId": "b351cd1f-aa9d-46da-e5e7-4fd9983bbd66"
   },
   "outputs": [],
   "source": [
    "# torch.matmul does matrix multiplication.\n",
    "torch.matmul(x, y)"
   ]
  },
  {
   "cell_type": "code",
   "execution_count": 96,
   "metadata": {
    "colab": {
     "base_uri": "https://localhost:8080/"
    },
    "executionInfo": {
     "elapsed": 4,
     "status": "ok",
     "timestamp": 1660448010740,
     "user": {
      "displayName": "Mike Frantz",
      "userId": "08482506601269125384"
     },
     "user_tz": 420
    },
    "id": "uaDdfNlfp9HV",
    "outputId": "bd345bd6-e783-48d7-bcc3-89f4d7432b0c"
   },
   "outputs": [],
   "source": [
    "# @ is shorthand for matrix multiplication as well.\n",
    "x@y"
   ]
  },
  {
   "cell_type": "code",
   "execution_count": 97,
   "metadata": {
    "colab": {
     "base_uri": "https://localhost:8080/"
    },
    "executionInfo": {
     "elapsed": 3,
     "status": "ok",
     "timestamp": 1660448011316,
     "user": {
      "displayName": "Mike Frantz",
      "userId": "08482506601269125384"
     },
     "user_tz": 420
    },
    "id": "b5hCp0rfLfSt",
    "outputId": "ebb2b7a4-b695-4c11-e3a1-0bfff91ec665"
   },
   "outputs": [],
   "source": [
    "y@x"
   ]
  },
  {
   "cell_type": "code",
   "execution_count": 98,
   "metadata": {
    "executionInfo": {
     "elapsed": 2,
     "status": "ok",
     "timestamp": 1660448012498,
     "user": {
      "displayName": "Mike Frantz",
      "userId": "08482506601269125384"
     },
     "user_tz": 420
    },
    "id": "AcaOBkxOYDlt"
   },
   "outputs": [],
   "source": [
    "assert x@y == y@x == torch.matmul(x,y) == (x * y).sum()"
   ]
  },
  {
   "cell_type": "code",
   "execution_count": 99,
   "metadata": {
    "executionInfo": {
     "elapsed": 6,
     "status": "ok",
     "timestamp": 1660448012921,
     "user": {
      "displayName": "Mike Frantz",
      "userId": "08482506601269125384"
     },
     "user_tz": 420
    },
    "id": "KBjsj76RqvR0"
   },
   "outputs": [],
   "source": [
    "X = torch.tensor([[1, 2], [3, 4]])\n",
    "Y = torch.tensor([[2, 3, 4], [5, 6, 7]])"
   ]
  },
  {
   "cell_type": "code",
   "execution_count": 100,
   "metadata": {
    "colab": {
     "base_uri": "https://localhost:8080/"
    },
    "executionInfo": {
     "elapsed": 6,
     "status": "ok",
     "timestamp": 1660448012921,
     "user": {
      "displayName": "Mike Frantz",
      "userId": "08482506601269125384"
     },
     "user_tz": 420
    },
    "id": "tyb7F-9Hs40g",
    "outputId": "35f95083-1e04-4ed2-8e1f-22c7dcedc03a"
   },
   "outputs": [],
   "source": [
    "X@Y"
   ]
  },
  {
   "cell_type": "code",
   "execution_count": 101,
   "metadata": {
    "colab": {
     "base_uri": "https://localhost:8080/"
    },
    "executionInfo": {
     "elapsed": 6,
     "status": "ok",
     "timestamp": 1660448012922,
     "user": {
      "displayName": "Mike Frantz",
      "userId": "08482506601269125384"
     },
     "user_tz": 420
    },
    "id": "osQMTXao5n08",
    "outputId": "048a50b1-9847-40d0-d4a6-aef04d8f34a3"
   },
   "outputs": [],
   "source": [
    "(torch.randn(16, 3, 3, 3) @ torch.randn(3, 3, 12)).shape"
   ]
  },
  {
   "cell_type": "markdown",
   "metadata": {
    "id": "uXh7RbC6tGsp"
   },
   "source": [
    "# Exercise 3.2: matrix multiplication\n",
    "\n",
    "Previously, we tried to multiply `X@Y`.\n",
    "Will `Y@X` work?\n",
    "Why or why not?\n",
    "\n",
    "In the cell below, define `B`  using `torch.rand` so that `A@B` returns a tensor with shape (4, 7).\n",
    "\n",
    "<!-- startquestion -->"
   ]
  },
  {
   "cell_type": "code",
   "execution_count": 102,
   "metadata": {
    "executionInfo": {
     "elapsed": 3,
     "status": "ok",
     "timestamp": 1660448012922,
     "user": {
      "displayName": "Mike Frantz",
      "userId": "08482506601269125384"
     },
     "user_tz": 420
    },
    "id": "3HgK5T6RtN3n"
   },
   "outputs": [],
   "source": [
    "A = torch.rand(4, 2)\n",
    "B = ..."
   ]
  },
  {
   "cell_type": "code",
   "execution_count": 104,
   "metadata": {
    "executionInfo": {
     "elapsed": 4,
     "status": "ok",
     "timestamp": 1660448013686,
     "user": {
      "displayName": "Mike Frantz",
      "userId": "08482506601269125384"
     },
     "user_tz": 420
    },
    "id": "_d_BiKLJD0s9"
   },
   "outputs": [],
   "source": [
    "if not isinstance(B, type(...)):\n",
    "    assert (A@B).shape == (4, 7)\n",
    "else:\n",
    "    print('Please define B such that (A@B).shape = (4, 7)')"
   ]
  },
  {
   "cell_type": "code",
   "execution_count": 105,
   "metadata": {
    "colab": {
     "base_uri": "https://localhost:8080/"
    },
    "executionInfo": {
     "elapsed": 2,
     "status": "ok",
     "timestamp": 1660448014874,
     "user": {
      "displayName": "Mike Frantz",
      "userId": "08482506601269125384"
     },
     "user_tz": 420
    },
    "id": "orXRC7LsrRBv",
    "outputId": "dc07f58b-1333-449e-fb86-14eabc1fb655"
   },
   "outputs": [],
   "source": [
    "X = torch.tensor(list(range(27))).reshape(3,3,3)\n",
    "X"
   ]
  },
  {
   "cell_type": "code",
   "execution_count": 106,
   "metadata": {
    "colab": {
     "base_uri": "https://localhost:8080/"
    },
    "executionInfo": {
     "elapsed": 3,
     "status": "ok",
     "timestamp": 1660448015235,
     "user": {
      "displayName": "Mike Frantz",
      "userId": "08482506601269125384"
     },
     "user_tz": 420
    },
    "id": "Ow1QpNZFrW5l",
    "outputId": "52b59b8b-375f-4791-e27d-32675e3755ed"
   },
   "outputs": [],
   "source": [
    "X.sum()"
   ]
  },
  {
   "cell_type": "code",
   "execution_count": 107,
   "metadata": {
    "colab": {
     "base_uri": "https://localhost:8080/"
    },
    "executionInfo": {
     "elapsed": 3,
     "status": "ok",
     "timestamp": 1660448016055,
     "user": {
      "displayName": "Mike Frantz",
      "userId": "08482506601269125384"
     },
     "user_tz": 420
    },
    "id": "YfZ1IVRBrdC9",
    "outputId": "bf13c717-aab9-44ab-e6a2-073b2c49df1f"
   },
   "outputs": [],
   "source": [
    "# Change the dim parameter to see how the results change\n",
    "X.sum(dim=0)"
   ]
  },
  {
   "cell_type": "code",
   "execution_count": 108,
   "metadata": {
    "colab": {
     "base_uri": "https://localhost:8080/"
    },
    "executionInfo": {
     "elapsed": 2,
     "status": "ok",
     "timestamp": 1660448017284,
     "user": {
      "displayName": "Mike Frantz",
      "userId": "08482506601269125384"
     },
     "user_tz": 420
    },
    "id": "93qmY8pv8Lej",
    "outputId": "baec24d9-71a5-4f98-c1b5-671fccbf0d05"
   },
   "outputs": [],
   "source": [
    "# Create a vector\n",
    "X = torch.arange(0, 3*3*3)\n",
    "X"
   ]
  },
  {
   "cell_type": "code",
   "execution_count": 109,
   "metadata": {
    "colab": {
     "base_uri": "https://localhost:8080/"
    },
    "executionInfo": {
     "elapsed": 6,
     "status": "ok",
     "timestamp": 1660448017656,
     "user": {
      "displayName": "Mike Frantz",
      "userId": "08482506601269125384"
     },
     "user_tz": 420
    },
    "id": "3I8zUv138Lek",
    "outputId": "bdd04bc9-89bf-4e6c-9269-a116bf30cc80"
   },
   "outputs": [],
   "source": [
    "# Reshape it into a 3x3x3 to be \"image-like\"\n",
    "X = X.reshape(3, 3, 3)\n",
    "X"
   ]
  },
  {
   "cell_type": "code",
   "execution_count": 110,
   "metadata": {
    "colab": {
     "base_uri": "https://localhost:8080/"
    },
    "executionInfo": {
     "elapsed": 5,
     "status": "ok",
     "timestamp": 1660448018032,
     "user": {
      "displayName": "Mike Frantz",
      "userId": "08482506601269125384"
     },
     "user_tz": 420
    },
    "id": "aAAyqkXR8Lek",
    "outputId": "bad3dc0b-dbdf-4373-e0af-b8c552e156c4"
   },
   "outputs": [],
   "source": [
    "# How do we add a \"batch_dim\"?\n",
    "# Unsqueeze addes an empty dimension\n",
    "# Squeeze takes away empty dimensions\n",
    "X.shape, X.unsqueeze(0).shape"
   ]
  },
  {
   "cell_type": "code",
   "execution_count": 111,
   "metadata": {
    "colab": {
     "base_uri": "https://localhost:8080/"
    },
    "executionInfo": {
     "elapsed": 4,
     "status": "ok",
     "timestamp": 1660448018032,
     "user": {
      "displayName": "Mike Frantz",
      "userId": "08482506601269125384"
     },
     "user_tz": 420
    },
    "id": "NEi5A-6H8Lek",
    "outputId": "dab32848-4ca3-41d8-a1da-b800d79df896"
   },
   "outputs": [],
   "source": [
    "# Use unsqueeze to create a \"batch\" \n",
    "torch.cat([X.unsqueeze(0), X.unsqueeze(0)]).shape"
   ]
  },
  {
   "cell_type": "code",
   "execution_count": 112,
   "metadata": {
    "colab": {
     "base_uri": "https://localhost:8080/"
    },
    "executionInfo": {
     "elapsed": 4,
     "status": "ok",
     "timestamp": 1660448018474,
     "user": {
      "displayName": "Mike Frantz",
      "userId": "08482506601269125384"
     },
     "user_tz": 420
    },
    "id": "7ERgwobz8Lel",
    "outputId": "02e645f9-d59a-4bb7-d864-d33ab4622320"
   },
   "outputs": [],
   "source": [
    "y = torch.randn(1, 1, 1, 1, 1, 1, 8)\n",
    "y, y.shape, y.squeeze(), y.squeeze().shape, y.squeeze(2).shape"
   ]
  },
  {
   "cell_type": "code",
   "execution_count": 113,
   "metadata": {
    "executionInfo": {
     "elapsed": 3,
     "status": "ok",
     "timestamp": 1660448018475,
     "user": {
      "displayName": "Mike Frantz",
      "userId": "08482506601269125384"
     },
     "user_tz": 420
    },
    "id": "zH81Ceg58Lel"
   },
   "outputs": [],
   "source": [
    "# squeeze and unsqueeze are opposites\n",
    "assert X.shape == X.unsqueeze(0).squeeze(0).shape"
   ]
  },
  {
   "cell_type": "code",
   "execution_count": 114,
   "metadata": {
    "colab": {
     "base_uri": "https://localhost:8080/"
    },
    "executionInfo": {
     "elapsed": 3,
     "status": "ok",
     "timestamp": 1660448019216,
     "user": {
      "displayName": "Mike Frantz",
      "userId": "08482506601269125384"
     },
     "user_tz": 420
    },
    "id": "Qbj3_Heg8Lel",
    "outputId": "ca56a5f0-01d7-4c70-9e7d-cf3523ef4dac"
   },
   "outputs": [],
   "source": [
    "# Swap the 1nd and 2rd dim\n",
    "X.permute(0, 2, 1)"
   ]
  },
  {
   "cell_type": "markdown",
   "metadata": {
    "id": "0ea7_0B1Zayt"
   },
   "source": [
    "# Exercise 3.3: Write your own `sigmoid` function\n",
    "\n",
    "The `softmax` function is given.\n",
    "Use a similar approach to complete the `sigmoid` function.\n",
    "$e^x$ in `torch` is expressed using `torch.exp(x)`.\n",
    "\n",
    "<!-- startquestion -->"
   ]
  },
  {
   "cell_type": "code",
   "execution_count": 115,
   "metadata": {
    "executionInfo": {
     "elapsed": 1,
     "status": "ok",
     "timestamp": 1660448019592,
     "user": {
      "displayName": "Mike Frantz",
      "userId": "08482506601269125384"
     },
     "user_tz": 420
    },
    "id": "T3OWeHDZ_ATC"
   },
   "outputs": [],
   "source": [
    "def sigmoid(x):\n",
    "    raise NotImplementedError()\n",
    "\n",
    "def softmax(x, dim):\n",
    "    raise NotImplementedError()"
   ]
  },
  {
   "cell_type": "code",
   "execution_count": 117,
   "metadata": {
    "colab": {
     "base_uri": "https://localhost:8080/",
     "height": 282
    },
    "executionInfo": {
     "elapsed": 548,
     "status": "ok",
     "timestamp": 1660448020663,
     "user": {
      "displayName": "Mike Frantz",
      "userId": "08482506601269125384"
     },
     "user_tz": 420
    },
    "id": "Nd2ZJ8aX8cRN",
    "outputId": "8e272933-ae7e-43ea-d5db-10bce4d1f29f"
   },
   "outputs": [],
   "source": [
    "x = torch.arange(-8, 8, 0.05)\n",
    "plt.plot(x, sigmoid(x), label='our sigmoid', ls='--', color='r', linewidth=4)\n",
    "plt.plot(x, torch.sigmoid(x), label='torch sigmoid', c='b', alpha=0.8)\n",
    "plt.legend()"
   ]
  },
  {
   "cell_type": "code",
   "execution_count": 118,
   "metadata": {
    "colab": {
     "base_uri": "https://localhost:8080/"
    },
    "executionInfo": {
     "elapsed": 5,
     "status": "ok",
     "timestamp": 1660448021129,
     "user": {
      "displayName": "Mike Frantz",
      "userId": "08482506601269125384"
     },
     "user_tz": 420
    },
    "id": "vl1V-i_69tcd",
    "outputId": "facd0418-56b5-4b11-d106-28dc6f57fd18"
   },
   "outputs": [],
   "source": [
    "X = torch.rand(3, 3)\n",
    "print(\n",
    "    'X:', X, \n",
    "    'Our softmax(x):', softmax(X, dim=0),\n",
    "    'Torch softmax(x):', torch.softmax(X, dim=0), \n",
    "    'Sanity check: row sums:', softmax(X, dim=0).sum(dim=0), \n",
    "    sep='\\n'\n",
    ")"
   ]
  },
  {
   "cell_type": "code",
   "execution_count": 119,
   "metadata": {
    "colab": {
     "base_uri": "https://localhost:8080/"
    },
    "executionInfo": {
     "elapsed": 3,
     "status": "ok",
     "timestamp": 1660448021653,
     "user": {
      "displayName": "Mike Frantz",
      "userId": "08482506601269125384"
     },
     "user_tz": 420
    },
    "id": "cLgGQ-DBJB14",
    "outputId": "f98e4328-18ec-4091-a2f1-abdbc7f1dd1e"
   },
   "outputs": [],
   "source": [
    "# We can also call softmax on a tensor\n",
    "X.softmax(dim=0)"
   ]
  },
  {
   "cell_type": "code",
   "execution_count": 120,
   "metadata": {
    "colab": {
     "base_uri": "https://localhost:8080/"
    },
    "executionInfo": {
     "elapsed": 3,
     "status": "ok",
     "timestamp": 1660448022091,
     "user": {
      "displayName": "Mike Frantz",
      "userId": "08482506601269125384"
     },
     "user_tz": 420
    },
    "id": "OxKqhnztM9qr",
    "outputId": "b8289696-bbcd-473e-fbcf-8f6f3e624fc7"
   },
   "outputs": [],
   "source": [
    "(torch.randn(16, 3, 4) * torch.randn(3, 4)).shape"
   ]
  },
  {
   "cell_type": "code",
   "execution_count": 121,
   "metadata": {
    "colab": {
     "base_uri": "https://localhost:8080/",
     "height": 166
    },
    "executionInfo": {
     "elapsed": 5,
     "status": "error",
     "timestamp": 1660448022533,
     "user": {
      "displayName": "Mike Frantz",
      "userId": "08482506601269125384"
     },
     "user_tz": 420
    },
    "id": "D36jx2ebNF7h",
    "outputId": "bdcb85b0-8bd7-4c85-99eb-aa6c24b2e261"
   },
   "outputs": [],
   "source": [
    "(torch.randn(16, 3, 4) @ torch.randn(3, 4)).shape"
   ]
  },
  {
   "cell_type": "code",
   "execution_count": 122,
   "metadata": {
    "colab": {
     "base_uri": "https://localhost:8080/"
    },
    "executionInfo": {
     "elapsed": 3,
     "status": "ok",
     "timestamp": 1660448022841,
     "user": {
      "displayName": "Mike Frantz",
      "userId": "08482506601269125384"
     },
     "user_tz": 420
    },
    "id": "uxvmDsePNQFX",
    "outputId": "8f3b73cd-466d-4b83-d443-cfdbd9762d10"
   },
   "outputs": [],
   "source": [
    "(torch.randn(16, 3, 4) @ torch.randn(4, 7)).shape"
   ]
  },
  {
   "cell_type": "code",
   "execution_count": 123,
   "metadata": {
    "colab": {
     "base_uri": "https://localhost:8080/",
     "height": 184
    },
    "executionInfo": {
     "elapsed": 7,
     "status": "error",
     "timestamp": 1660448023803,
     "user": {
      "displayName": "Mike Frantz",
      "userId": "08482506601269125384"
     },
     "user_tz": 420
    },
    "id": "-zcrvRyaNR8e",
    "outputId": "8f39e972-61c4-4806-f9eb-006392065b27"
   },
   "outputs": [],
   "source": [
    "torch.randn(3, 4) * torch.randn(4, 3)"
   ]
  },
  {
   "cell_type": "code",
   "execution_count": 124,
   "metadata": {
    "colab": {
     "base_uri": "https://localhost:8080/"
    },
    "executionInfo": {
     "elapsed": 2,
     "status": "ok",
     "timestamp": 1660448024139,
     "user": {
      "displayName": "Mike Frantz",
      "userId": "08482506601269125384"
     },
     "user_tz": 420
    },
    "id": "iGz5XhoYNvtw",
    "outputId": "4ca2b33e-ac8b-4857-f9c7-8150cb2bcdd1"
   },
   "outputs": [],
   "source": [
    "torch.randn(3, 4) @ torch.randn(4, 3)"
   ]
  },
  {
   "cell_type": "code",
   "execution_count": null,
   "metadata": {
    "id": "NfqOjwTKaiJx"
   },
   "outputs": [],
   "source": []
  }
 ],
 "metadata": {
  "colab": {
   "collapsed_sections": [],
   "name": "03_Basic_Tensor_Operations.ipynb",
   "provenance": []
  },
  "kernelspec": {
   "display_name": "cndl",
   "language": "python",
   "name": "cndl"
  },
  "language_info": {
   "codemirror_mode": {
    "name": "ipython",
    "version": 3
   },
   "file_extension": ".py",
   "mimetype": "text/x-python",
   "name": "python",
   "nbconvert_exporter": "python",
   "pygments_lexer": "ipython3",
   "version": "3.9.4"
  }
 },
 "nbformat": 4,
 "nbformat_minor": 0
}
