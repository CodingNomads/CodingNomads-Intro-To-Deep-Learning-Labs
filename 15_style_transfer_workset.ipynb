{
 "cells": [
  {
   "cell_type": "code",
   "execution_count": null,
   "metadata": {
    "id": "EbwxylkYgXr9"
   },
   "outputs": [],
   "source": [
    "!pip install -Uqq dessiccate"
   ]
  },
  {
   "cell_type": "code",
   "execution_count": null,
   "metadata": {
    "id": "-dwsPB4JbcwL"
   },
   "outputs": [],
   "source": [
    "from torch import nn, optim\n",
    "import torch\n",
    "import torch.nn.functional as F\n",
    "from torchvision import models, transforms\n",
    "import numpy as np\n",
    "import matplotlib.pyplot as plt\n",
    "from dessiccate import plotting as p\n",
    "from PIL import Image\n",
    "import requests\n",
    "from fastai.vision import imagenet_stats\n",
    "from copy import deepcopy\n",
    "from IPython.display import display\n",
    "\n",
    "p.set_plt_defaults()"
   ]
  },
  {
   "cell_type": "code",
   "execution_count": null,
   "metadata": {
    "colab": {
     "base_uri": "https://localhost:8080/"
    },
    "executionInfo": {
     "elapsed": 11,
     "status": "ok",
     "timestamp": 1627866230128,
     "user": {
      "displayName": "Mike Frantz",
      "photoUrl": "https://lh3.googleusercontent.com/a-/AOh14GiGYCwZXGfGg-CE4_33PQcH9SW8fN6MyRkenN8-IA=s64",
      "userId": "08482506601269125384"
     },
     "user_tz": 420
    },
    "id": "W5tE-X_bIn5f",
    "outputId": "44bf608a-6a40-48c7-8b84-118e376ff439"
   },
   "outputs": [],
   "source": [
    "device = 'cuda:0' if torch.cuda.is_available() else 'cpu'\n",
    "device"
   ]
  },
  {
   "cell_type": "code",
   "execution_count": null,
   "metadata": {
    "id": "ou9b4C7jiVLr"
   },
   "outputs": [],
   "source": [
    "def load_img_from_url(url):\n",
    "    return Image.open(requests.get(url, stream=True).raw)"
   ]
  },
  {
   "cell_type": "code",
   "execution_count": null,
   "metadata": {
    "id": "IWL6-1bkiJxW"
   },
   "outputs": [],
   "source": [
    "# content_img = load_img_from_url('https://www.thesprucepets.com/thmb/wpN_ZunUaRQAc_WRdAQRxeTbyoc=/4231x2820/filters:fill(auto,1)/adorable-white-pomeranian-puppy-spitz-921029690-5c8be25d46e0fb000172effe.jpg')\n",
    "content_img = load_img_from_url('https://assets.bwbx.io/images/users/iqjWHBFdfxIU/iiCWw9wz_VbI/v0/1000x-1.jpg')"
   ]
  },
  {
   "cell_type": "code",
   "execution_count": null,
   "metadata": {
    "id": "5FmfOHekjPsp"
   },
   "outputs": [],
   "source": [
    "width = 500\n",
    "height = int(width*content_img.size[1]/content_img.size[0])\n",
    "size = (width, height)"
   ]
  },
  {
   "cell_type": "code",
   "execution_count": null,
   "metadata": {
    "id": "JRie7YlajF4F"
   },
   "outputs": [],
   "source": [
    "content_img = content_img.resize(size)"
   ]
  },
  {
   "cell_type": "code",
   "execution_count": null,
   "metadata": {
    "colab": {
     "base_uri": "https://localhost:8080/"
    },
    "executionInfo": {
     "elapsed": 11,
     "status": "ok",
     "timestamp": 1627866230622,
     "user": {
      "displayName": "Mike Frantz",
      "photoUrl": "https://lh3.googleusercontent.com/a-/AOh14GiGYCwZXGfGg-CE4_33PQcH9SW8fN6MyRkenN8-IA=s64",
      "userId": "08482506601269125384"
     },
     "user_tz": 420
    },
    "id": "evTfeYMQj1b-",
    "outputId": "e164a8d7-d3c1-4d49-a9e5-4bcaf1ff9c1f"
   },
   "outputs": [],
   "source": [
    "content_img"
   ]
  },
  {
   "cell_type": "code",
   "execution_count": null,
   "metadata": {
    "id": "chgjApd8i1KA"
   },
   "outputs": [],
   "source": [
    "# style_img = load_img_from_url('https://images.fineartamerica.com/images/artworkimages/mediumlarge/2/agapantus-by-monet-claude-monet.jpg')\n",
    "style_img = load_img_from_url('https://media.sanctuarymentalhealth.org/wp-content/uploads/2021/03/04151535/The-Starry-Night.jpg')"
   ]
  },
  {
   "cell_type": "code",
   "execution_count": null,
   "metadata": {
    "id": "-is_lHYREbVq"
   },
   "outputs": [],
   "source": [
    "style_img = style_img.resize(size)"
   ]
  },
  {
   "cell_type": "code",
   "execution_count": null,
   "metadata": {
    "colab": {
     "base_uri": "https://localhost:8080/"
    },
    "executionInfo": {
     "elapsed": 12,
     "status": "ok",
     "timestamp": 1627866231378,
     "user": {
      "displayName": "Mike Frantz",
      "photoUrl": "https://lh3.googleusercontent.com/a-/AOh14GiGYCwZXGfGg-CE4_33PQcH9SW8fN6MyRkenN8-IA=s64",
      "userId": "08482506601269125384"
     },
     "user_tz": 420
    },
    "id": "-BUZ8A79jyTm",
    "outputId": "a17533fc-5332-43b2-dd60-5d3c63317b93"
   },
   "outputs": [],
   "source": [
    "style_img"
   ]
  },
  {
   "cell_type": "code",
   "execution_count": null,
   "metadata": {
    "id": "GwaQMQrjmie6"
   },
   "outputs": [],
   "source": [
    "tfms = transforms.Compose([\n",
    "    transforms.ToTensor()\n",
    "])"
   ]
  },
  {
   "cell_type": "code",
   "execution_count": null,
   "metadata": {
    "id": "japk0YVhqOIp"
   },
   "outputs": [],
   "source": [
    "content_tensor = tfms(content_img).to(device)\n",
    "style_tensor = tfms(style_img).to(device)"
   ]
  },
  {
   "cell_type": "code",
   "execution_count": null,
   "metadata": {
    "id": "4YYs7q7PgiMN"
   },
   "outputs": [],
   "source": [
    "vgg = models.vgg19_bn(pretrained=True).eval().features.to(device)"
   ]
  },
  {
   "cell_type": "code",
   "execution_count": null,
   "metadata": {
    "id": "f9np0cd2hrw7"
   },
   "outputs": [],
   "source": [
    "# Replace every maxpool layer with avgpoool\n",
    "for i, l in enumerate(vgg):\n",
    "    if \"Pool\" in str(l):\n",
    "        vgg[i] = nn.AvgPool2d(kernel_size=2, stride=2, padding=0, ceil_mode=False)"
   ]
  },
  {
   "cell_type": "code",
   "execution_count": null,
   "metadata": {
    "id": "qhzJ1Ka28ymW"
   },
   "outputs": [],
   "source": [
    "class ContentLoss(nn.Module):\n",
    "    def __init__(self, target):\n",
    "        super().__init__()\n",
    "        # The target is the output at layer l of the original content image.\n",
    "        self.target = target.detach()\n",
    "    \n",
    "    def forward(self, input):\n",
    "        # The loss is just MSE of the input and target.\n",
    "        self.loss = F.mse_loss(input, self.target)\n",
    "        return input"
   ]
  },
  {
   "cell_type": "code",
   "execution_count": null,
   "metadata": {
    "id": "LLgoOYTS-OKR"
   },
   "outputs": [],
   "source": [
    "fake_acts = torch.randn_like(content_tensor)"
   ]
  },
  {
   "cell_type": "code",
   "execution_count": null,
   "metadata": {
    "colab": {
     "base_uri": "https://localhost:8080/"
    },
    "executionInfo": {
     "elapsed": 22,
     "status": "ok",
     "timestamp": 1627866235147,
     "user": {
      "displayName": "Mike Frantz",
      "photoUrl": "https://lh3.googleusercontent.com/a-/AOh14GiGYCwZXGfGg-CE4_33PQcH9SW8fN6MyRkenN8-IA=s64",
      "userId": "08482506601269125384"
     },
     "user_tz": 420
    },
    "id": "juEBczMbAJwr",
    "outputId": "9eb8961c-c924-4e85-f468-f4ca7113e682"
   },
   "outputs": [],
   "source": [
    "l = ContentLoss(content_tensor)\n",
    "l(fake_acts)\n",
    "l.loss"
   ]
  },
  {
   "cell_type": "code",
   "execution_count": null,
   "metadata": {
    "id": "UzoHu0xD99GZ"
   },
   "outputs": [],
   "source": [
    "def gram_matrix(input):\n",
    "    # Reshape the activations into a matrix\n",
    "    bs, nf, nx, ny = input.shape\n",
    "    f = input.view(bs * nf, nx * ny)\n",
    "    # Take the inner product\n",
    "    g = f@f.T\n",
    "    return g.div(bs * nf * nx * ny) # The pytorch tutorial does this instead of building it into the MSE function."
   ]
  },
  {
   "cell_type": "code",
   "execution_count": null,
   "metadata": {
    "id": "0JfNoFSN91oo"
   },
   "outputs": [],
   "source": [
    "# Style Loss\n",
    "class StyleLoss(nn.Module):\n",
    "    def __init__(self, target_feature):\n",
    "        super().__init__()\n",
    "        self.target = gram_matrix(target_feature).detach()\n",
    "        \n",
    "    def forward(self, input):\n",
    "        g = gram_matrix(input)\n",
    "        self.loss = F.mse_loss(g, self.target)\n",
    "        return input"
   ]
  },
  {
   "cell_type": "code",
   "execution_count": null,
   "metadata": {
    "colab": {
     "base_uri": "https://localhost:8080/"
    },
    "executionInfo": {
     "elapsed": 20,
     "status": "ok",
     "timestamp": 1627866235149,
     "user": {
      "displayName": "Mike Frantz",
      "photoUrl": "https://lh3.googleusercontent.com/a-/AOh14GiGYCwZXGfGg-CE4_33PQcH9SW8fN6MyRkenN8-IA=s64",
      "userId": "08482506601269125384"
     },
     "user_tz": 420
    },
    "id": "UgvTOxvWCYx-",
    "outputId": "f0091875-127c-4fc6-d2bf-d39d0af9199d"
   },
   "outputs": [],
   "source": [
    "l = StyleLoss(style_tensor.unsqueeze(0))\n",
    "l(fake_acts.unsqueeze(0))\n",
    "l.loss"
   ]
  },
  {
   "cell_type": "code",
   "execution_count": null,
   "metadata": {
    "id": "hF-3uY4XFSBP"
   },
   "outputs": [],
   "source": [
    "# Step 1\n",
    "content_layers = ['conv_1', 'conv_4', 'conv_8']\n",
    "style_layers = ['conv_1', 'conv_2', 'conv_3', 'conv_4', 'conv_5']\n",
    "style_weights = [1.5, 1., 1., 1., 1.]"
   ]
  },
  {
   "cell_type": "code",
   "execution_count": null,
   "metadata": {
    "id": "58-SDxLMD6sS"
   },
   "outputs": [],
   "source": [
    "cnn = deepcopy(vgg)"
   ]
  },
  {
   "cell_type": "code",
   "execution_count": null,
   "metadata": {
    "id": "6dozaiudHD6K"
   },
   "outputs": [],
   "source": [
    "content_losses = []\n",
    "style_losses = []"
   ]
  },
  {
   "cell_type": "code",
   "execution_count": null,
   "metadata": {
    "id": "VxTjvoI2K8D1"
   },
   "outputs": [],
   "source": [
    "class NormalizationLayer(nn.Module):\n",
    "    def __init__(self):\n",
    "        super().__init__()\n",
    "        mean, std = imagenet_stats\n",
    "        self.mean = torch.tensor(mean).view(-1, 1, 1).to(device)\n",
    "        self.std = torch.tensor(std).view(-1, 1, 1).to(device)\n",
    "\n",
    "    def forward(self, inputs):\n",
    "        return (inputs - self.mean) / self.std"
   ]
  },
  {
   "cell_type": "code",
   "execution_count": null,
   "metadata": {
    "id": "qNPUBXOeF0-J"
   },
   "outputs": [],
   "source": [
    "# Step 2\n",
    "model = nn.Sequential(NormalizationLayer()).to(device)"
   ]
  },
  {
   "cell_type": "code",
   "execution_count": null,
   "metadata": {
    "id": "rWi6pg3KFuTU"
   },
   "outputs": [],
   "source": [
    "# Step 3\n",
    "i = 0 # count the number of conv blocks\n",
    "# Loop through our model's layers.\n",
    "# Give each layer a name based on the architecture.\n",
    "for l in cnn.children():\n",
    "    if isinstance(l, nn.Conv2d):\n",
    "        i += 1\n",
    "        name = f'conv_{i}'\n",
    "    elif isinstance(l, nn.BatchNorm2d):\n",
    "        name = f'bn_{i}'\n",
    "    elif isinstance(l, nn.ReLU):\n",
    "        name = f'relu_{i}'\n",
    "    elif isinstance(l, nn.AvgPool2d):\n",
    "        name = f'pool_{i}'\n",
    "    else:\n",
    "        raise RuntimeError(f\"Layer {l} not recognized\")\n",
    "\n",
    "    # Add the layer to our model\n",
    "    model.add_module(name, l)\n",
    "\n",
    "    # If the name is in our content layers, add a content loss for the layer.\n",
    "    if name in content_layers:\n",
    "        target = model(content_tensor.unsqueeze(0)).detach()\n",
    "        l = ContentLoss(target)\n",
    "        n = f'content_loss_{i}'\n",
    "        model.add_module(n, l)\n",
    "        content_losses.append(l)\n",
    "\n",
    "    # If the name is in our style layers, add a style loss for the layer.\n",
    "    if name in style_layers:\n",
    "        target = model(style_tensor.unsqueeze(0)).detach()\n",
    "        l = StyleLoss(target)\n",
    "        n = f'style_loss_{i}'\n",
    "        model.add_module(n, l)\n",
    "        style_losses.append(l)"
   ]
  },
  {
   "cell_type": "code",
   "execution_count": null,
   "metadata": {
    "colab": {
     "base_uri": "https://localhost:8080/"
    },
    "executionInfo": {
     "elapsed": 16,
     "status": "ok",
     "timestamp": 1627866235425,
     "user": {
      "displayName": "Mike Frantz",
      "photoUrl": "https://lh3.googleusercontent.com/a-/AOh14GiGYCwZXGfGg-CE4_33PQcH9SW8fN6MyRkenN8-IA=s64",
      "userId": "08482506601269125384"
     },
     "user_tz": 420
    },
    "id": "0n30y4yzGt5j",
    "outputId": "ae39d530-8b65-444c-a4ee-27fc52906462"
   },
   "outputs": [],
   "source": [
    "# Trim unused layers.\n",
    "max_loss_layer = 0\n",
    "for i, layer in enumerate(model.children()):\n",
    "    if isinstance(layer, (StyleLoss, ContentLoss)):\n",
    "        max_loss_layer = i + 1\n",
    "\n",
    "print(max_loss_layer)\n",
    "\n",
    "model = model[:max_loss_layer].to(device)"
   ]
  },
  {
   "cell_type": "code",
   "execution_count": null,
   "metadata": {
    "id": "pfOi2EBG-thw"
   },
   "outputs": [],
   "source": [
    "# input_img = torch.randn_like(content_tensor) # from paper\n",
    "input_img = content_tensor.clone() # from pytorch tutorial"
   ]
  },
  {
   "cell_type": "code",
   "execution_count": null,
   "metadata": {
    "id": "5SJDzm3--te9"
   },
   "outputs": [],
   "source": [
    "# Attach gradients and instantiate the optimizer\n",
    "opt = optim.LBFGS([input_img.requires_grad_()], lr=0.1)"
   ]
  },
  {
   "cell_type": "code",
   "execution_count": null,
   "metadata": {
    "id": "iKOYXskSCT1G"
   },
   "outputs": [],
   "source": [
    "def show_tensor(tensor):\n",
    "    return transforms.ToPILImage()(tensor.detach().cpu())"
   ]
  },
  {
   "cell_type": "code",
   "execution_count": null,
   "metadata": {
    "id": "mQQdAFZ0-taC"
   },
   "outputs": [],
   "source": [
    "# Define some hyperparameters\n",
    "content_loss_weight = 1\n",
    "style_loss_weight = content_loss_weight * 1e5\n",
    "N_STEPS = 400"
   ]
  },
  {
   "cell_type": "code",
   "execution_count": null,
   "metadata": {
    "colab": {
     "base_uri": "https://localhost:8080/"
    },
    "executionInfo": {
     "elapsed": 18883,
     "status": "ok",
     "timestamp": 1627866254299,
     "user": {
      "displayName": "Mike Frantz",
      "photoUrl": "https://lh3.googleusercontent.com/a-/AOh14GiGYCwZXGfGg-CE4_33PQcH9SW8fN6MyRkenN8-IA=s64",
      "userId": "08482506601269125384"
     },
     "user_tz": 420
    },
    "id": "qg97x8HXHJy7",
    "outputId": "115c1bed-b5e0-4035-ff19-caf1fb1631c9"
   },
   "outputs": [],
   "source": [
    "# Run the training loop\n",
    "run = [0]\n",
    "while run[0] <= N_STEPS:\n",
    "    def closure():\n",
    "        input_img.data.clamp_(0, 1)\n",
    "        opt.zero_grad()\n",
    "        _ = model(input_img.unsqueeze(0))\n",
    "        cl = 0.\n",
    "        sl = 0.\n",
    "        for l in content_losses:\n",
    "            cl += l.loss\n",
    "        for l, w in zip(style_losses, style_weights):\n",
    "            sl += l.loss #* w\n",
    "        \n",
    "        cl *= content_loss_weight\n",
    "        sl *= style_loss_weight\n",
    "        \n",
    "        loss = cl + sl\n",
    "        loss.backward()\n",
    "\n",
    "        if run[0] % 50 == 0:\n",
    "            print(f\"\"\"\n",
    "            Step {run[0]}: Style Loss: {sl.item():.04f}, Content Loss: {cl.item():.04f}\n",
    "            \"\"\")\n",
    "\n",
    "        # Uncomment below to show output during training\n",
    "        # if run[0]%200 == 0:\n",
    "        #     display(show_tensor(input_img))\n",
    "\n",
    "        run[0] += 1\n",
    "\n",
    "        return cl + sl\n",
    "\n",
    "    opt.step(closure)"
   ]
  },
  {
   "cell_type": "code",
   "execution_count": null,
   "metadata": {
    "colab": {
     "base_uri": "https://localhost:8080/",
     "height": 349
    },
    "executionInfo": {
     "elapsed": 1072,
     "status": "ok",
     "timestamp": 1627866255359,
     "user": {
      "displayName": "Mike Frantz",
      "photoUrl": "https://lh3.googleusercontent.com/a-/AOh14GiGYCwZXGfGg-CE4_33PQcH9SW8fN6MyRkenN8-IA=s64",
      "userId": "08482506601269125384"
     },
     "user_tz": 420
    },
    "id": "hc_I-0mvXp2j",
    "outputId": "27adc88f-0aa3-4f19-d3d9-b94c8f4ea525"
   },
   "outputs": [],
   "source": [
    "show_tensor(input_img.data.detach().clamp(0, 1))"
   ]
  },
  {
   "cell_type": "code",
   "execution_count": null,
   "metadata": {
    "colab": {
     "base_uri": "https://localhost:8080/",
     "height": 349
    },
    "executionInfo": {
     "elapsed": 14,
     "status": "ok",
     "timestamp": 1627866255360,
     "user": {
      "displayName": "Mike Frantz",
      "photoUrl": "https://lh3.googleusercontent.com/a-/AOh14GiGYCwZXGfGg-CE4_33PQcH9SW8fN6MyRkenN8-IA=s64",
      "userId": "08482506601269125384"
     },
     "user_tz": 420
    },
    "id": "lhSvL8GLYgFK",
    "outputId": "0b8c86dd-248d-4ef5-ef61-9ee0c1cb756c"
   },
   "outputs": [],
   "source": [
    "content_img"
   ]
  },
  {
   "cell_type": "code",
   "execution_count": null,
   "metadata": {
    "id": "7f1BOyd7Vv56"
   },
   "outputs": [],
   "source": []
  }
 ],
 "metadata": {
  "accelerator": "GPU",
  "colab": {
   "authorship_tag": "ABX9TyMOruP/uszfBhO64AjJBbIZ",
   "collapsed_sections": [
    "eOYH_N01Si6e"
   ],
   "name": "15_style_transfer.ipynb",
   "provenance": []
  },
  "kernelspec": {
   "display_name": "Python 3",
   "name": "python3"
  },
  "language_info": {
   "name": "python"
  }
 },
 "nbformat": 4,
 "nbformat_minor": 0
}
