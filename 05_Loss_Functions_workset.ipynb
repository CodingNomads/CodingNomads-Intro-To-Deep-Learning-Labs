{
 "cells": [
  {
   "cell_type": "code",
   "execution_count": 63,
   "id": "a31bb976-a4f8-4afd-bc2a-2e6bebf112bc",
   "metadata": {
    "id": "a31bb976-a4f8-4afd-bc2a-2e6bebf112bc"
   },
   "outputs": [],
   "source": [
    "# Baic setup\n",
    "import torch\n",
    "from torch import nn\n",
    "import torch.nn.functional as F\n",
    "import matplotlib.pyplot as plt\n",
    "import numpy as np\n",
    "\n",
    "%matplotlib inline"
   ]
  },
  {
   "cell_type": "code",
   "execution_count": 64,
   "id": "f8171b87-1fc8-425c-868d-b9b1205b1a5b",
   "metadata": {
    "id": "f8171b87-1fc8-425c-868d-b9b1205b1a5b"
   },
   "outputs": [],
   "source": [
    "def seed_all(seed=42):\n",
    "    np.random.seed(seed)\n",
    "    torch.random.manual_seed(seed)"
   ]
  },
  {
   "cell_type": "code",
   "execution_count": 65,
   "id": "1138b5b9-ffc8-4800-9702-643a7f2dfba2",
   "metadata": {
    "id": "1138b5b9-ffc8-4800-9702-643a7f2dfba2"
   },
   "outputs": [],
   "source": [
    "seed_all()"
   ]
  },
  {
   "cell_type": "code",
   "execution_count": 66,
   "id": "5314ad29-e03c-4af0-af4d-26593bb35557",
   "metadata": {
    "id": "5314ad29-e03c-4af0-af4d-26593bb35557"
   },
   "outputs": [],
   "source": [
    "def make_regression_outputs_and_targets(n_samples, out_min=20, out_max=200, noise_loc=0, noise_scale=5):\n",
    "    outputs = torch.tensor(np.random.uniform(20, 100, n_samples))\n",
    "    noise = torch.tensor(np.random.normal(noise_loc, noise_scale, n_samples))\n",
    "    targets = outputs + noise\n",
    "    return outputs, targets"
   ]
  },
  {
   "cell_type": "code",
   "execution_count": 67,
   "id": "c510762b-440c-44e8-b898-4f283dbc2f85",
   "metadata": {
    "id": "c510762b-440c-44e8-b898-4f283dbc2f85"
   },
   "outputs": [],
   "source": [
    "outputs, targets = make_regression_outputs_and_targets(20)"
   ]
  },
  {
   "cell_type": "code",
   "execution_count": 68,
   "id": "6ceac5e6-b1e0-4b00-93f9-21abeae20f2a",
   "metadata": {
    "colab": {
     "base_uri": "https://localhost:8080/"
    },
    "id": "6ceac5e6-b1e0-4b00-93f9-21abeae20f2a",
    "outputId": "549a9595-0f93-4ef1-87cb-dcf0d1c63fc7"
   },
   "outputs": [],
   "source": [
    "error = targets - outputs\n",
    "error"
   ]
  },
  {
   "cell_type": "code",
   "execution_count": 69,
   "id": "224c6667-1241-406e-9304-4e5687de82c8",
   "metadata": {
    "colab": {
     "base_uri": "https://localhost:8080/"
    },
    "id": "224c6667-1241-406e-9304-4e5687de82c8",
    "outputId": "723074ab-9239-486a-cd81-024bdb6ce2d6"
   },
   "outputs": [],
   "source": [
    "squared_error = error.square()\n",
    "squared_error"
   ]
  },
  {
   "cell_type": "code",
   "execution_count": 70,
   "id": "7173071b-d5e9-4e5d-bd58-ea2cd1d1e72e",
   "metadata": {
    "colab": {
     "base_uri": "https://localhost:8080/"
    },
    "id": "7173071b-d5e9-4e5d-bd58-ea2cd1d1e72e",
    "outputId": "ebebbda7-3068-407e-9eb8-d19b9a0f2113"
   },
   "outputs": [],
   "source": [
    "mean_squared_error = squared_error.mean()\n",
    "mean_squared_error"
   ]
  },
  {
   "cell_type": "code",
   "execution_count": 71,
   "id": "0311a29e-0aeb-4377-8f4f-428d3cd553d0",
   "metadata": {
    "id": "0311a29e-0aeb-4377-8f4f-428d3cd553d0"
   },
   "outputs": [],
   "source": [
    "def mse(yhat, y):\n",
    "    return (y - yhat).square().mean()"
   ]
  },
  {
   "cell_type": "code",
   "execution_count": 72,
   "id": "a521cdb1-cb5e-427c-afa8-ec4ae564a89a",
   "metadata": {
    "colab": {
     "base_uri": "https://localhost:8080/"
    },
    "id": "a521cdb1-cb5e-427c-afa8-ec4ae564a89a",
    "outputId": "0d20973a-ac05-401d-806f-a1341812e46f"
   },
   "outputs": [],
   "source": [
    "mse(outputs, targets)"
   ]
  },
  {
   "cell_type": "code",
   "execution_count": 73,
   "id": "6f8f33a5-c7bc-4d2d-9d76-f572918f4056",
   "metadata": {
    "id": "6f8f33a5-c7bc-4d2d-9d76-f572918f4056"
   },
   "outputs": [],
   "source": [
    "# torch.nn\n",
    "mse = nn.MSELoss()"
   ]
  },
  {
   "cell_type": "code",
   "execution_count": 74,
   "id": "39286bd6-77af-4893-be20-a4eb67b7b7b3",
   "metadata": {
    "colab": {
     "base_uri": "https://localhost:8080/"
    },
    "id": "39286bd6-77af-4893-be20-a4eb67b7b7b3",
    "outputId": "3f20cfc0-598e-41e2-961b-1107258f600b"
   },
   "outputs": [],
   "source": [
    "mse(outputs, targets)"
   ]
  },
  {
   "cell_type": "code",
   "execution_count": 75,
   "id": "f672b912-6000-49cf-9584-d8ec0680f9c9",
   "metadata": {
    "colab": {
     "base_uri": "https://localhost:8080/"
    },
    "id": "f672b912-6000-49cf-9584-d8ec0680f9c9",
    "outputId": "7a4ef7ab-3bb5-4908-c295-c6f26d0f2864"
   },
   "outputs": [],
   "source": [
    "# torcn.nn.functional (imported as F)\n",
    "F.mse_loss(outputs, targets)"
   ]
  },
  {
   "cell_type": "code",
   "execution_count": 76,
   "id": "ef901ff9-cd9b-441d-b5f1-c2771d87c8e8",
   "metadata": {
    "id": "ef901ff9-cd9b-441d-b5f1-c2771d87c8e8"
   },
   "outputs": [],
   "source": [
    "errors = torch.linspace(-10, 10, 50)\n",
    "squared_erros = errors.square()"
   ]
  },
  {
   "cell_type": "code",
   "execution_count": 77,
   "id": "e156f06a-19e2-48e4-8798-75a6785e6911",
   "metadata": {
    "colab": {
     "base_uri": "https://localhost:8080/",
     "height": 868
    },
    "id": "e156f06a-19e2-48e4-8798-75a6785e6911",
    "outputId": "ed5a2fc2-9ed4-4216-a79e-77a3476e936c"
   },
   "outputs": [],
   "source": [
    "mse_fig, ax = plt.subplots(figsize=(10,10))\n",
    "ax.plot(errors, squared_erros)\n",
    "ax.set_xlabel(\"Error (yhat - y)\")\n",
    "ax.set_ylabel(\"Squared Error\")"
   ]
  },
  {
   "cell_type": "code",
   "execution_count": 78,
   "id": "f2054c39-f476-4ae2-9cb3-e212ff4efcee",
   "metadata": {
    "colab": {
     "base_uri": "https://localhost:8080/"
    },
    "id": "f2054c39-f476-4ae2-9cb3-e212ff4efcee",
    "outputId": "d66413eb-e588-434e-bdf4-86bd4591eecb"
   },
   "outputs": [],
   "source": [
    "# Check our work\n",
    "-np.log(0.7)"
   ]
  },
  {
   "cell_type": "code",
   "execution_count": 79,
   "id": "d056a554-0beb-4dc3-84bf-f76b5332fb53",
   "metadata": {
    "id": "d056a554-0beb-4dc3-84bf-f76b5332fb53"
   },
   "outputs": [],
   "source": [
    "# Define a cross entropy function\n",
    "def H(p, q):\n",
    "    return (-1 * q * p.log()).sum()"
   ]
  },
  {
   "cell_type": "code",
   "execution_count": 80,
   "id": "00b591d4-1d1e-455c-86c3-3491961a41a5",
   "metadata": {
    "colab": {
     "base_uri": "https://localhost:8080/"
    },
    "id": "00b591d4-1d1e-455c-86c3-3491961a41a5",
    "outputId": "2191b244-e32f-43ad-f99c-8c92900a72be"
   },
   "outputs": [],
   "source": [
    "# Test it on our example\n",
    "H(torch.tensor([0.1, 0.7, 0.2]), torch.tensor([0, 1, 0]))"
   ]
  },
  {
   "cell_type": "code",
   "execution_count": 81,
   "id": "f92c842c-6479-4d43-8c6d-e88ad386ca2f",
   "metadata": {
    "id": "f92c842c-6479-4d43-8c6d-e88ad386ca2f"
   },
   "outputs": [],
   "source": [
    "t = torch.tensor([0.1, 0.7, 0.2])"
   ]
  },
  {
   "cell_type": "code",
   "execution_count": 82,
   "id": "8e83d29d-dc6d-4d9d-ab22-2caf1a166d0e",
   "metadata": {
    "id": "8e83d29d-dc6d-4d9d-ab22-2caf1a166d0e"
   },
   "outputs": [],
   "source": [
    "def our_cross_entropy(yhat, y):\n",
    "    act = yhat[y]\n",
    "    return -act.log()"
   ]
  },
  {
   "cell_type": "code",
   "execution_count": 83,
   "id": "7c6200ab-6c26-43de-abc4-0cc3f7972fd4",
   "metadata": {
    "colab": {
     "base_uri": "https://localhost:8080/"
    },
    "id": "7c6200ab-6c26-43de-abc4-0cc3f7972fd4",
    "outputId": "7e6393ee-72dc-4867-e458-3f3899d8ddc7"
   },
   "outputs": [],
   "source": [
    "our_cross_entropy(t, 1)"
   ]
  },
  {
   "cell_type": "code",
   "execution_count": 84,
   "id": "3bca8cf6-750f-4ae4-8518-341b4009a80a",
   "metadata": {
    "id": "3bca8cf6-750f-4ae4-8518-341b4009a80a"
   },
   "outputs": [],
   "source": [
    "def avg_cross_entropy(yhat, y):\n",
    "    return -yhat[range(y.shape[0]),y].log().mean()"
   ]
  },
  {
   "cell_type": "code",
   "execution_count": 85,
   "id": "dc3ce494-20d7-4ddd-9223-4581240f0f70",
   "metadata": {
    "colab": {
     "base_uri": "https://localhost:8080/"
    },
    "id": "dc3ce494-20d7-4ddd-9223-4581240f0f70",
    "outputId": "6113848b-3422-49b9-cbe6-6d4d2294177c"
   },
   "outputs": [],
   "source": [
    "t = torch.randn(3, 3)\n",
    "t"
   ]
  },
  {
   "cell_type": "code",
   "execution_count": 86,
   "id": "4cd3f1ce-bcc4-46c0-aa84-c48835be92c6",
   "metadata": {
    "colab": {
     "base_uri": "https://localhost:8080/"
    },
    "id": "4cd3f1ce-bcc4-46c0-aa84-c48835be92c6",
    "outputId": "1dbb4cfa-0968-4809-c2fb-eb21cc21ab88"
   },
   "outputs": [],
   "source": [
    "y = torch.randint(low=0, high=3, size=(3,))\n",
    "y"
   ]
  },
  {
   "cell_type": "code",
   "execution_count": 87,
   "id": "aa705e9f-9bf7-41dd-965f-20a4dacdd233",
   "metadata": {
    "colab": {
     "base_uri": "https://localhost:8080/"
    },
    "id": "aa705e9f-9bf7-41dd-965f-20a4dacdd233",
    "outputId": "59c29b0c-792c-4f62-d0d3-5631c7a5d639"
   },
   "outputs": [],
   "source": [
    "avg_cross_entropy(t.softmax(dim=-1), y) # (logits, targets)"
   ]
  },
  {
   "cell_type": "code",
   "execution_count": 88,
   "id": "iLoYWNche-vb",
   "metadata": {
    "colab": {
     "base_uri": "https://localhost:8080/"
    },
    "id": "iLoYWNche-vb",
    "outputId": "02a88320-ee64-40b0-dd49-f3d16672b303"
   },
   "outputs": [],
   "source": [
    "nn.CrossEntropyLoss()(t, y), F.cross_entropy(t, y)"
   ]
  },
  {
   "cell_type": "code",
   "execution_count": 89,
   "id": "4576b010-35b4-4878-ad89-56a5f145e74f",
   "metadata": {
    "colab": {
     "base_uri": "https://localhost:8080/"
    },
    "id": "4576b010-35b4-4878-ad89-56a5f145e74f",
    "outputId": "9eeaf956-ce67-4488-fc1b-82a5272132bd"
   },
   "outputs": [],
   "source": [
    "# Multiplication wiht a very small number\n",
    "a = 0.00000000000000000000000000001\n",
    "a * a"
   ]
  },
  {
   "cell_type": "code",
   "execution_count": 90,
   "id": "c5ca8989-cdca-4fe3-b1f1-3b77525686d0",
   "metadata": {
    "colab": {
     "base_uri": "https://localhost:8080/"
    },
    "id": "c5ca8989-cdca-4fe3-b1f1-3b77525686d0",
    "outputId": "b599bab3-a4b4-41d6-821f-f35e19a4ed12"
   },
   "outputs": [],
   "source": [
    "# Multiplication with a very large number\n",
    "a = 100000000000000000000000000000.\n",
    "a * a"
   ]
  },
  {
   "cell_type": "code",
   "execution_count": 91,
   "id": "125c13f1-19b2-4c24-bbfb-e28ded1cee13",
   "metadata": {
    "id": "125c13f1-19b2-4c24-bbfb-e28ded1cee13"
   },
   "outputs": [],
   "source": [
    "def make_classification_logits(n_classes, n_samples, pct_correct, confidence=1):\n",
    "    \"\"\"\n",
    "    This function returns simulated logits and classes.\n",
    "\n",
    "    n_classes: nuber of classes\n",
    "    n_samples: number of rows\n",
    "    pct_correct: float between 0 and 1. The higher it is,\n",
    "                 the higher the % of logits that will\n",
    "                 generate the correct output.\n",
    "    confidence: controls how confident our logits are.\n",
    "                Closer to 0: less confident\n",
    "                Larger: more confident\n",
    "    \"\"\"\n",
    "    classes = list(range(n_classes))\n",
    "    # Randomly make logits\n",
    "    logits = np.random.uniform(-5., 5., (n_samples, n_classes))\n",
    "    # Randomly make labels\n",
    "    labels = np.random.choice(classes, size=(n_samples))\n",
    "    # Find the max of each row in logits\n",
    "    maxs = np.abs(logits).max(axis=1)\n",
    "    # For each row...\n",
    "    for i in range(len(maxs)):\n",
    "        # If we want the answer to be right...\n",
    "        if np.random.random() <= pct_correct:\n",
    "            # Make the correct item the highest logit\n",
    "            logits[i, labels[i]] = maxs[i] + np.random.random()*confidence\n",
    "        # If we want it to be wrong...\n",
    "        else:\n",
    "            # Make the highest logit a different index\n",
    "            _c = classes.copy()\n",
    "            _c.remove(classes[labels[i]])\n",
    "            _i = np.random.choice(_c)\n",
    "            logits[i, _i] = maxs[i] + np.random.random()/10\n",
    "\n",
    "    # Return logits and labels\n",
    "    return torch.FloatTensor(logits), torch.tensor(labels)"
   ]
  },
  {
   "cell_type": "code",
   "execution_count": 92,
   "id": "e06d518f-692d-4fc0-8494-1af479f48e39",
   "metadata": {
    "colab": {
     "base_uri": "https://localhost:8080/"
    },
    "id": "e06d518f-692d-4fc0-8494-1af479f48e39",
    "outputId": "0da2be50-4694-4906-bf27-3a109dd2d6b2"
   },
   "outputs": [],
   "source": [
    "# Create some logits and associated labels.\n",
    "# There will be some error here!\n",
    "logits, labels = make_classification_logits(3, 10, 0.8, confidence=1)\n",
    "logits"
   ]
  },
  {
   "cell_type": "code",
   "execution_count": 93,
   "id": "1372f1ee-f24c-4099-95fc-e43648cd4e30",
   "metadata": {
    "colab": {
     "base_uri": "https://localhost:8080/"
    },
    "id": "1372f1ee-f24c-4099-95fc-e43648cd4e30",
    "outputId": "e3e1c909-74b0-4865-919d-d3d3070f37d3"
   },
   "outputs": [],
   "source": [
    "# What are the normalized predicted probabilities for each class?\n",
    "logits.softmax(dim=1)"
   ]
  },
  {
   "cell_type": "code",
   "execution_count": 94,
   "id": "dd3571b6-d001-4653-adb8-bd43b858be40",
   "metadata": {
    "colab": {
     "base_uri": "https://localhost:8080/"
    },
    "id": "dd3571b6-d001-4653-adb8-bd43b858be40",
    "outputId": "4c466b47-d564-4d2e-ee82-0f6318e65a12"
   },
   "outputs": [],
   "source": [
    "# What are the indices (classes) of the highest predicted probas?\n",
    "logits.softmax(dim=1).argmax(dim=1)"
   ]
  },
  {
   "cell_type": "code",
   "execution_count": 95,
   "id": "cae7a961-f88c-4c5c-bf09-546fe57202da",
   "metadata": {
    "colab": {
     "base_uri": "https://localhost:8080/"
    },
    "id": "cae7a961-f88c-4c5c-bf09-546fe57202da",
    "outputId": "0e6c998e-fed9-4381-bd2e-f2d255be932b"
   },
   "outputs": [],
   "source": [
    "# How well do they match with our labels?\n",
    "labels"
   ]
  },
  {
   "cell_type": "code",
   "execution_count": 96,
   "id": "893d4464-c6f4-48f6-88f8-d75b3d007869",
   "metadata": {
    "id": "893d4464-c6f4-48f6-88f8-d75b3d007869"
   },
   "outputs": [],
   "source": [
    "cross_entropy = nn.CrossEntropyLoss()"
   ]
  },
  {
   "cell_type": "code",
   "execution_count": 97,
   "id": "a0c75548-73f2-4129-88b4-5aae082a4fa9",
   "metadata": {
    "colab": {
     "base_uri": "https://localhost:8080/"
    },
    "id": "a0c75548-73f2-4129-88b4-5aae082a4fa9",
    "outputId": "548716ee-92b1-4bf2-dc66-42e0e50e240b"
   },
   "outputs": [],
   "source": [
    "cross_entropy(logits, labels)"
   ]
  },
  {
   "cell_type": "code",
   "execution_count": 98,
   "id": "2b51f071-5f1c-423d-8f01-06bca8734a8a",
   "metadata": {
    "colab": {
     "base_uri": "https://localhost:8080/"
    },
    "id": "2b51f071-5f1c-423d-8f01-06bca8734a8a",
    "outputId": "80271bef-ee00-4826-cb5f-7b111a2a2c1d"
   },
   "outputs": [],
   "source": [
    "F.cross_entropy(logits, labels)"
   ]
  },
  {
   "cell_type": "code",
   "execution_count": 99,
   "id": "c95783c6-f651-4058-b9f6-02bc92ae3e6a",
   "metadata": {
    "colab": {
     "base_uri": "https://localhost:8080/"
    },
    "id": "c95783c6-f651-4058-b9f6-02bc92ae3e6a",
    "outputId": "2b29ff8a-a603-4097-8012-5aeb6713c6ee"
   },
   "outputs": [],
   "source": [
    "torch.mean(\n",
    "    torch.tensor(\n",
    "        [our_cross_entropy(lo, la)\n",
    "         for lo, la # softmax of logits, labels\n",
    "         in zip(logits.softmax(dim=1), labels)\n",
    "        ]\n",
    "    )\n",
    ")"
   ]
  },
  {
   "cell_type": "code",
   "execution_count": 179,
   "id": "0181138d-656c-4a67-ac54-cb20e5ec367b",
   "metadata": {
    "id": "0181138d-656c-4a67-ac54-cb20e5ec367b"
   },
   "outputs": [],
   "source": [
    "# Make some logits and labels, making sure not to get everything correct\n",
    "logits = torch.tensor([5.8, -1.4, 1.1, 5.8])\n",
    "labels = torch.tensor([1., 0., 0., 0.])"
   ]
  },
  {
   "cell_type": "code",
   "execution_count": 180,
   "id": "2adf56d6-f69a-434f-b6ea-aead5c8f6825",
   "metadata": {
    "colab": {
     "base_uri": "https://localhost:8080/"
    },
    "id": "2adf56d6-f69a-434f-b6ea-aead5c8f6825",
    "outputId": "d77598b1-9165-4d55-f2a5-2b5ba01964ec"
   },
   "outputs": [],
   "source": [
    "# View the logits\n",
    "logits"
   ]
  },
  {
   "cell_type": "code",
   "execution_count": 181,
   "id": "39f9bea7-28f6-4c0e-90b4-dfca3e1edf27",
   "metadata": {
    "colab": {
     "base_uri": "https://localhost:8080/"
    },
    "id": "39f9bea7-28f6-4c0e-90b4-dfca3e1edf27",
    "outputId": "b142dd51-0d3b-4647-80bf-e31a0252f37f"
   },
   "outputs": [],
   "source": [
    "# Normalize to probabilities\n",
    "logits.sigmoid()"
   ]
  },
  {
   "cell_type": "code",
   "execution_count": 182,
   "id": "1ca9d3d2-44e0-4fa4-b868-9710ca971646",
   "metadata": {
    "colab": {
     "base_uri": "https://localhost:8080/"
    },
    "id": "1ca9d3d2-44e0-4fa4-b868-9710ca971646",
    "outputId": "fb84c350-bfe8-4fb5-c187-e97da01bbc64"
   },
   "outputs": [],
   "source": [
    "# Calculate the loss with the logits\n",
    "F.binary_cross_entropy_with_logits(logits, labels)"
   ]
  },
  {
   "cell_type": "code",
   "execution_count": 183,
   "id": "fdbda3a4-5087-4397-b9e8-4485365623a2",
   "metadata": {
    "colab": {
     "base_uri": "https://localhost:8080/"
    },
    "id": "fdbda3a4-5087-4397-b9e8-4485365623a2",
    "outputId": "90ce5eba-75b3-4521-d83d-dd673138bc44"
   },
   "outputs": [],
   "source": [
    "# Calculate the loss with the logits\n",
    "nn.BCEWithLogitsLoss()(logits, labels)"
   ]
  },
  {
   "cell_type": "code",
   "execution_count": 184,
   "id": "451dc1f8-78f9-4094-9190-8a9c2502c70f",
   "metadata": {
    "colab": {
     "base_uri": "https://localhost:8080/"
    },
    "id": "451dc1f8-78f9-4094-9190-8a9c2502c70f",
    "outputId": "e7e689c8-ffbd-4043-dd75-b72ae7900d5c"
   },
   "outputs": [],
   "source": [
    "F.binary_cross_entropy(logits.sigmoid(), labels)"
   ]
  },
  {
   "cell_type": "code",
   "execution_count": 185,
   "id": "21a32a97-67ea-4f06-b806-0e11c4a9255d",
   "metadata": {
    "colab": {
     "base_uri": "https://localhost:8080/"
    },
    "id": "21a32a97-67ea-4f06-b806-0e11c4a9255d",
    "outputId": "299f9b58-bc5c-44db-963d-fde3270bf6bc"
   },
   "outputs": [],
   "source": [
    "nn.BCELoss()(logits.sigmoid(), labels)"
   ]
  },
  {
   "cell_type": "code",
   "execution_count": 189,
   "id": "2e52bfd7-a0fe-4b1b-80f2-61187f4a3abf",
   "metadata": {
    "colab": {
     "base_uri": "https://localhost:8080/"
    },
    "id": "2e52bfd7-a0fe-4b1b-80f2-61187f4a3abf",
    "outputId": "a74e6bf6-1575-41a5-f981-afeb27d17b8f"
   },
   "outputs": [],
   "source": [
    "# Values are close...\n",
    "torch.allclose(F.binary_cross_entropy_with_logits(logits, labels), F.binary_cross_entropy(logits.sigmoid(), labels))"
   ]
  },
  {
   "cell_type": "code",
   "execution_count": 190,
   "id": "ef6fa6ce-6efe-44e4-b765-3c6db1959002",
   "metadata": {
    "colab": {
     "base_uri": "https://localhost:8080/"
    },
    "id": "ef6fa6ce-6efe-44e4-b765-3c6db1959002",
    "outputId": "a208d910-2052-4d1e-920e-0b84ece6991a"
   },
   "outputs": [],
   "source": [
    "# ... but not the same\n",
    "F.binary_cross_entropy_with_logits(logits, labels) == F.binary_cross_entropy(logits.sigmoid(), labels)"
   ]
  },
  {
   "cell_type": "code",
   "execution_count": 191,
   "id": "05d38285-180a-4b25-8f95-81f0c41e0984",
   "metadata": {
    "colab": {
     "base_uri": "https://localhost:8080/"
    },
    "id": "05d38285-180a-4b25-8f95-81f0c41e0984",
    "outputId": "a0776767-89e5-45b0-a61f-b8ca1116d54b"
   },
   "outputs": [],
   "source": [
    "F.binary_cross_entropy_with_logits(logits, labels) - F.binary_cross_entropy(logits.sigmoid(), labels)"
   ]
  },
  {
   "cell_type": "code",
   "execution_count": 110,
   "id": "fcd95d69-c4e6-4b1c-a4c3-5d105f7138c1",
   "metadata": {
    "colab": {
     "base_uri": "https://localhost:8080/"
    },
    "id": "fcd95d69-c4e6-4b1c-a4c3-5d105f7138c1",
    "outputId": "d68f4647-5bf3-489b-e649-663a3bdd2e4b"
   },
   "outputs": [],
   "source": [
    "# Column 0 may be the p(happy) = 1 - p(sad),\n",
    "# and column 2 may be p(lakers) = 1 - p(not lakers)\n",
    "logits = torch.randn(10, 2) * 2\n",
    "logits"
   ]
  },
  {
   "cell_type": "code",
   "execution_count": 111,
   "id": "edd2d0d2-c402-47a6-9841-bc9d4cc5a06c",
   "metadata": {
    "colab": {
     "base_uri": "https://localhost:8080/"
    },
    "id": "edd2d0d2-c402-47a6-9841-bc9d4cc5a06c",
    "outputId": "8c4a591d-cb77-4385-ca34-6d946d886181"
   },
   "outputs": [],
   "source": [
    "labels = torch.randint(0, 2, (10, 2)).float()\n",
    "labels"
   ]
  },
  {
   "cell_type": "code",
   "execution_count": 112,
   "id": "7ea5dba6-6372-4073-b618-2f38e15dbf9e",
   "metadata": {
    "colab": {
     "base_uri": "https://localhost:8080/"
    },
    "id": "7ea5dba6-6372-4073-b618-2f38e15dbf9e",
    "outputId": "c8a19527-bacf-40ab-f92a-5055579048cc"
   },
   "outputs": [],
   "source": [
    "logits.sigmoid()"
   ]
  },
  {
   "cell_type": "code",
   "execution_count": 113,
   "id": "14abfb18-1cfa-4cb6-ba84-2bb4ceb2d314",
   "metadata": {
    "id": "14abfb18-1cfa-4cb6-ba84-2bb4ceb2d314"
   },
   "outputs": [],
   "source": [
    "bce = nn.BCEWithLogitsLoss()"
   ]
  },
  {
   "cell_type": "code",
   "execution_count": 114,
   "id": "e15bf047-58bd-43fc-aeed-3c29f0dfaea2",
   "metadata": {
    "colab": {
     "base_uri": "https://localhost:8080/"
    },
    "id": "e15bf047-58bd-43fc-aeed-3c29f0dfaea2",
    "outputId": "0efd8a52-a881-406a-9c14-600dffacd72a"
   },
   "outputs": [],
   "source": [
    "bce(logits, labels)"
   ]
  },
  {
   "cell_type": "code",
   "execution_count": 115,
   "id": "8feff5a7-8d98-4778-b8ae-caf9e3fa760b",
   "metadata": {
    "colab": {
     "base_uri": "https://localhost:8080/"
    },
    "id": "8feff5a7-8d98-4778-b8ae-caf9e3fa760b",
    "outputId": "00f0f728-2034-4a70-c52b-3714915e5bc7"
   },
   "outputs": [],
   "source": [
    "bce(logits[:,0], labels[:,0])"
   ]
  },
  {
   "cell_type": "code",
   "execution_count": 116,
   "id": "342eba5c-8cbb-4153-a06a-6f339d0e978a",
   "metadata": {
    "colab": {
     "base_uri": "https://localhost:8080/"
    },
    "id": "342eba5c-8cbb-4153-a06a-6f339d0e978a",
    "outputId": "b94ac422-90cd-4f85-d004-f1ba1529ef82"
   },
   "outputs": [],
   "source": [
    "bce(logits[:,1], labels[:,1])"
   ]
  },
  {
   "cell_type": "code",
   "execution_count": 117,
   "id": "9dcbdf7f-22a8-4818-b741-d83f2cbaf526",
   "metadata": {
    "colab": {
     "base_uri": "https://localhost:8080/"
    },
    "id": "9dcbdf7f-22a8-4818-b741-d83f2cbaf526",
    "outputId": "3e209f58-8877-4ec3-9cb0-d0458b6d5d76"
   },
   "outputs": [],
   "source": [
    "(bce(logits[:,0], labels[:,0]) + bce(logits[:,1], labels[:,1])) / 2"
   ]
  }
 ],
 "metadata": {
  "colab": {
   "provenance": []
  },
  "kernelspec": {
   "display_name": "cndl",
   "language": "python",
   "name": "cndl"
  },
  "language_info": {
   "codemirror_mode": {
    "name": "ipython",
    "version": 3
   },
   "file_extension": ".py",
   "mimetype": "text/x-python",
   "name": "python",
   "nbconvert_exporter": "python",
   "pygments_lexer": "ipython3",
   "version": "3.9.4"
  }
 },
 "nbformat": 4,
 "nbformat_minor": 5
}
