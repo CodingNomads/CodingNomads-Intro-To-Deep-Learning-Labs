{
 "cells": [
  {
   "cell_type": "code",
   "execution_count": 1,
   "id": "a31bb976-a4f8-4afd-bc2a-2e6bebf112bc",
   "metadata": {
    "executionInfo": {
     "elapsed": 1030,
     "status": "ok",
     "timestamp": 1662831696392,
     "user": {
      "displayName": "Mike Frantz",
      "userId": "08482506601269125384"
     },
     "user_tz": 420
    },
    "id": "a31bb976-a4f8-4afd-bc2a-2e6bebf112bc"
   },
   "outputs": [],
   "source": [
    "import torch\n",
    "from torch import nn\n",
    "import torch.nn.functional as F\n",
    "import matplotlib.pyplot as plt\n",
    "import numpy as np\n",
    "\n",
    "%matplotlib inline"
   ]
  },
  {
   "cell_type": "code",
   "execution_count": 2,
   "id": "f8171b87-1fc8-425c-868d-b9b1205b1a5b",
   "metadata": {
    "executionInfo": {
     "elapsed": 21,
     "status": "ok",
     "timestamp": 1662831696393,
     "user": {
      "displayName": "Mike Frantz",
      "userId": "08482506601269125384"
     },
     "user_tz": 420
    },
    "id": "f8171b87-1fc8-425c-868d-b9b1205b1a5b"
   },
   "outputs": [],
   "source": [
    "def seed_all(seed=42):\n",
    "    np.random.seed(seed)\n",
    "    torch.random.manual_seed(seed)"
   ]
  },
  {
   "cell_type": "code",
   "execution_count": 3,
   "id": "1138b5b9-ffc8-4800-9702-643a7f2dfba2",
   "metadata": {
    "executionInfo": {
     "elapsed": 21,
     "status": "ok",
     "timestamp": 1662831696394,
     "user": {
      "displayName": "Mike Frantz",
      "userId": "08482506601269125384"
     },
     "user_tz": 420
    },
    "id": "1138b5b9-ffc8-4800-9702-643a7f2dfba2"
   },
   "outputs": [],
   "source": [
    "seed_all()"
   ]
  },
  {
   "cell_type": "code",
   "execution_count": 4,
   "id": "5314ad29-e03c-4af0-af4d-26593bb35557",
   "metadata": {
    "executionInfo": {
     "elapsed": 21,
     "status": "ok",
     "timestamp": 1662831696394,
     "user": {
      "displayName": "Mike Frantz",
      "userId": "08482506601269125384"
     },
     "user_tz": 420
    },
    "id": "5314ad29-e03c-4af0-af4d-26593bb35557"
   },
   "outputs": [],
   "source": [
    "def make_regression_outputs_and_targets(n_samples, out_min=20, out_max=200, noise_loc=0, noise_scale=5):\n",
    "    outputs = torch.tensor(np.random.uniform(20, 100, n_samples))\n",
    "    noise = torch.tensor(np.random.normal(noise_loc, noise_scale, n_samples))\n",
    "    targets = outputs + noise\n",
    "    return outputs, targets"
   ]
  },
  {
   "cell_type": "code",
   "execution_count": 5,
   "id": "c510762b-440c-44e8-b898-4f283dbc2f85",
   "metadata": {
    "executionInfo": {
     "elapsed": 21,
     "status": "ok",
     "timestamp": 1662831696395,
     "user": {
      "displayName": "Mike Frantz",
      "userId": "08482506601269125384"
     },
     "user_tz": 420
    },
    "id": "c510762b-440c-44e8-b898-4f283dbc2f85"
   },
   "outputs": [],
   "source": [
    "outputs, targets = make_regression_outputs_and_targets(20)"
   ]
  },
  {
   "cell_type": "code",
   "execution_count": 6,
   "id": "27a8f8aa-afbc-4ace-ad74-4e5c0c88d366",
   "metadata": {
    "colab": {
     "base_uri": "https://localhost:8080/"
    },
    "executionInfo": {
     "elapsed": 21,
     "status": "ok",
     "timestamp": 1662831696395,
     "user": {
      "displayName": "Mike Frantz",
      "userId": "08482506601269125384"
     },
     "user_tz": 420
    },
    "id": "27a8f8aa-afbc-4ace-ad74-4e5c0c88d366",
    "outputId": "bc322043-b9bb-4ca4-d14c-65156788c6c5"
   },
   "outputs": [],
   "source": [
    "outputs"
   ]
  },
  {
   "cell_type": "code",
   "execution_count": 7,
   "id": "75d60e7c-6a49-4c42-b0de-45dc8a1bd67a",
   "metadata": {
    "colab": {
     "base_uri": "https://localhost:8080/"
    },
    "executionInfo": {
     "elapsed": 19,
     "status": "ok",
     "timestamp": 1662831696396,
     "user": {
      "displayName": "Mike Frantz",
      "userId": "08482506601269125384"
     },
     "user_tz": 420
    },
    "id": "75d60e7c-6a49-4c42-b0de-45dc8a1bd67a",
    "outputId": "0c096568-82ec-4170-abfa-37465591c999"
   },
   "outputs": [],
   "source": [
    "targets"
   ]
  },
  {
   "cell_type": "code",
   "execution_count": 8,
   "id": "6ceac5e6-b1e0-4b00-93f9-21abeae20f2a",
   "metadata": {
    "colab": {
     "base_uri": "https://localhost:8080/"
    },
    "executionInfo": {
     "elapsed": 16,
     "status": "ok",
     "timestamp": 1662831696396,
     "user": {
      "displayName": "Mike Frantz",
      "userId": "08482506601269125384"
     },
     "user_tz": 420
    },
    "id": "6ceac5e6-b1e0-4b00-93f9-21abeae20f2a",
    "outputId": "3a6071f9-b16d-41e7-ea4d-5e1abcb4cd0d"
   },
   "outputs": [],
   "source": [
    "error = targets - outputs\n",
    "error"
   ]
  },
  {
   "cell_type": "code",
   "execution_count": 9,
   "id": "224c6667-1241-406e-9304-4e5687de82c8",
   "metadata": {
    "colab": {
     "base_uri": "https://localhost:8080/"
    },
    "executionInfo": {
     "elapsed": 14,
     "status": "ok",
     "timestamp": 1662831696397,
     "user": {
      "displayName": "Mike Frantz",
      "userId": "08482506601269125384"
     },
     "user_tz": 420
    },
    "id": "224c6667-1241-406e-9304-4e5687de82c8",
    "outputId": "eefddc46-5230-4e75-e942-1d858b870116"
   },
   "outputs": [],
   "source": [
    "squared_error = error.square()\n",
    "squared_error"
   ]
  },
  {
   "cell_type": "code",
   "execution_count": 10,
   "id": "7173071b-d5e9-4e5d-bd58-ea2cd1d1e72e",
   "metadata": {
    "colab": {
     "base_uri": "https://localhost:8080/"
    },
    "executionInfo": {
     "elapsed": 12,
     "status": "ok",
     "timestamp": 1662831696398,
     "user": {
      "displayName": "Mike Frantz",
      "userId": "08482506601269125384"
     },
     "user_tz": 420
    },
    "id": "7173071b-d5e9-4e5d-bd58-ea2cd1d1e72e",
    "outputId": "23911583-de1f-4652-a7f6-a4172da9babf"
   },
   "outputs": [],
   "source": [
    "mean_squared_error = squared_error.mean()\n",
    "mean_squared_error"
   ]
  },
  {
   "cell_type": "code",
   "execution_count": 11,
   "id": "0311a29e-0aeb-4377-8f4f-428d3cd553d0",
   "metadata": {
    "executionInfo": {
     "elapsed": 17,
     "status": "ok",
     "timestamp": 1662831696589,
     "user": {
      "displayName": "Mike Frantz",
      "userId": "08482506601269125384"
     },
     "user_tz": 420
    },
    "id": "0311a29e-0aeb-4377-8f4f-428d3cd553d0"
   },
   "outputs": [],
   "source": [
    "def mse(yhat, y):\n",
    "    return (y - yhat).square().mean()"
   ]
  },
  {
   "cell_type": "code",
   "execution_count": 12,
   "id": "a521cdb1-cb5e-427c-afa8-ec4ae564a89a",
   "metadata": {
    "colab": {
     "base_uri": "https://localhost:8080/"
    },
    "executionInfo": {
     "elapsed": 18,
     "status": "ok",
     "timestamp": 1662831696590,
     "user": {
      "displayName": "Mike Frantz",
      "userId": "08482506601269125384"
     },
     "user_tz": 420
    },
    "id": "a521cdb1-cb5e-427c-afa8-ec4ae564a89a",
    "outputId": "ec16169a-8298-4fdf-c49b-bf5f9fc88803"
   },
   "outputs": [],
   "source": [
    "mse(outputs, targets)"
   ]
  },
  {
   "cell_type": "code",
   "execution_count": 13,
   "id": "6f8f33a5-c7bc-4d2d-9d76-f572918f4056",
   "metadata": {
    "executionInfo": {
     "elapsed": 14,
     "status": "ok",
     "timestamp": 1662831696590,
     "user": {
      "displayName": "Mike Frantz",
      "userId": "08482506601269125384"
     },
     "user_tz": 420
    },
    "id": "6f8f33a5-c7bc-4d2d-9d76-f572918f4056"
   },
   "outputs": [],
   "source": [
    "mse = nn.MSELoss()"
   ]
  },
  {
   "cell_type": "code",
   "execution_count": 14,
   "id": "39286bd6-77af-4893-be20-a4eb67b7b7b3",
   "metadata": {
    "colab": {
     "base_uri": "https://localhost:8080/"
    },
    "executionInfo": {
     "elapsed": 15,
     "status": "ok",
     "timestamp": 1662831696591,
     "user": {
      "displayName": "Mike Frantz",
      "userId": "08482506601269125384"
     },
     "user_tz": 420
    },
    "id": "39286bd6-77af-4893-be20-a4eb67b7b7b3",
    "outputId": "320667b6-f533-4159-caa0-967a13eeaf15"
   },
   "outputs": [],
   "source": [
    "mse(outputs, targets)"
   ]
  },
  {
   "cell_type": "code",
   "execution_count": 15,
   "id": "f672b912-6000-49cf-9584-d8ec0680f9c9",
   "metadata": {
    "colab": {
     "base_uri": "https://localhost:8080/"
    },
    "executionInfo": {
     "elapsed": 12,
     "status": "ok",
     "timestamp": 1662831696591,
     "user": {
      "displayName": "Mike Frantz",
      "userId": "08482506601269125384"
     },
     "user_tz": 420
    },
    "id": "f672b912-6000-49cf-9584-d8ec0680f9c9",
    "outputId": "932842d3-dc85-4e48-a1a0-7f50294519b1"
   },
   "outputs": [],
   "source": [
    "F.mse_loss(outputs, targets)"
   ]
  },
  {
   "cell_type": "code",
   "execution_count": 16,
   "id": "ef901ff9-cd9b-441d-b5f1-c2771d87c8e8",
   "metadata": {
    "executionInfo": {
     "elapsed": 10,
     "status": "ok",
     "timestamp": 1662831696592,
     "user": {
      "displayName": "Mike Frantz",
      "userId": "08482506601269125384"
     },
     "user_tz": 420
    },
    "id": "ef901ff9-cd9b-441d-b5f1-c2771d87c8e8"
   },
   "outputs": [],
   "source": [
    "errors = torch.linspace(-10, 10, 50)\n",
    "squared_erros = errors.square()"
   ]
  },
  {
   "cell_type": "code",
   "execution_count": 17,
   "id": "e156f06a-19e2-48e4-8798-75a6785e6911",
   "metadata": {
    "colab": {
     "base_uri": "https://localhost:8080/",
     "height": 623
    },
    "executionInfo": {
     "elapsed": 361,
     "status": "ok",
     "timestamp": 1662831696944,
     "user": {
      "displayName": "Mike Frantz",
      "userId": "08482506601269125384"
     },
     "user_tz": 420
    },
    "id": "e156f06a-19e2-48e4-8798-75a6785e6911",
    "outputId": "78868965-9341-49b9-8113-fe7a2bb11f40"
   },
   "outputs": [],
   "source": [
    "mse_fig, ax = plt.subplots(figsize=(10,10))\n",
    "ax.plot(errors, squared_erros)\n",
    "ax.set_xlabel(\"Error (yhat - y)\")\n",
    "ax.set_ylabel(\"Squared Error\")"
   ]
  },
  {
   "cell_type": "code",
   "execution_count": 18,
   "id": "f2054c39-f476-4ae2-9cb3-e212ff4efcee",
   "metadata": {
    "colab": {
     "base_uri": "https://localhost:8080/"
    },
    "executionInfo": {
     "elapsed": 9,
     "status": "ok",
     "timestamp": 1662831696945,
     "user": {
      "displayName": "Mike Frantz",
      "userId": "08482506601269125384"
     },
     "user_tz": 420
    },
    "id": "f2054c39-f476-4ae2-9cb3-e212ff4efcee",
    "outputId": "f3492bdd-78f4-4bd8-d36f-c00507c047cb"
   },
   "outputs": [],
   "source": [
    "# Check our work\n",
    "-np.log(0.7)"
   ]
  },
  {
   "cell_type": "code",
   "execution_count": 19,
   "id": "d056a554-0beb-4dc3-84bf-f76b5332fb53",
   "metadata": {
    "executionInfo": {
     "elapsed": 360,
     "status": "ok",
     "timestamp": 1662831697300,
     "user": {
      "displayName": "Mike Frantz",
      "userId": "08482506601269125384"
     },
     "user_tz": 420
    },
    "id": "d056a554-0beb-4dc3-84bf-f76b5332fb53"
   },
   "outputs": [],
   "source": [
    "# Define a cross entropy function\n",
    "def H(p, q):\n",
    "    return (-1 * q * p.log()).sum()"
   ]
  },
  {
   "cell_type": "code",
   "execution_count": 20,
   "id": "00b591d4-1d1e-455c-86c3-3491961a41a5",
   "metadata": {
    "colab": {
     "base_uri": "https://localhost:8080/"
    },
    "executionInfo": {
     "elapsed": 38,
     "status": "ok",
     "timestamp": 1662831697300,
     "user": {
      "displayName": "Mike Frantz",
      "userId": "08482506601269125384"
     },
     "user_tz": 420
    },
    "id": "00b591d4-1d1e-455c-86c3-3491961a41a5",
    "outputId": "1a8c9b43-1a0a-465c-e690-eaa1cd3c3452"
   },
   "outputs": [],
   "source": [
    "# Test it on our example\n",
    "H(torch.tensor([0.1, 0.7, 0.2]), torch.tensor([0, 1, 0]))"
   ]
  },
  {
   "cell_type": "code",
   "execution_count": 21,
   "id": "f92c842c-6479-4d43-8c6d-e88ad386ca2f",
   "metadata": {
    "executionInfo": {
     "elapsed": 38,
     "status": "ok",
     "timestamp": 1662831697301,
     "user": {
      "displayName": "Mike Frantz",
      "userId": "08482506601269125384"
     },
     "user_tz": 420
    },
    "id": "f92c842c-6479-4d43-8c6d-e88ad386ca2f"
   },
   "outputs": [],
   "source": [
    "t = torch.tensor([0.1, 0.7, 0.2])"
   ]
  },
  {
   "cell_type": "code",
   "execution_count": 22,
   "id": "8e83d29d-dc6d-4d9d-ab22-2caf1a166d0e",
   "metadata": {
    "executionInfo": {
     "elapsed": 37,
     "status": "ok",
     "timestamp": 1662831697301,
     "user": {
      "displayName": "Mike Frantz",
      "userId": "08482506601269125384"
     },
     "user_tz": 420
    },
    "id": "8e83d29d-dc6d-4d9d-ab22-2caf1a166d0e"
   },
   "outputs": [],
   "source": [
    "def our_cross_entropy(yhat, y):\n",
    "    act = yhat[y]\n",
    "    return -act.log()"
   ]
  },
  {
   "cell_type": "code",
   "execution_count": 23,
   "id": "7c6200ab-6c26-43de-abc4-0cc3f7972fd4",
   "metadata": {
    "colab": {
     "base_uri": "https://localhost:8080/"
    },
    "executionInfo": {
     "elapsed": 38,
     "status": "ok",
     "timestamp": 1662831697302,
     "user": {
      "displayName": "Mike Frantz",
      "userId": "08482506601269125384"
     },
     "user_tz": 420
    },
    "id": "7c6200ab-6c26-43de-abc4-0cc3f7972fd4",
    "outputId": "fbaa5464-ca5b-455f-967d-d02c23a4c922"
   },
   "outputs": [],
   "source": [
    "our_cross_entropy(t, 1)"
   ]
  },
  {
   "cell_type": "code",
   "execution_count": 24,
   "id": "3bca8cf6-750f-4ae4-8518-341b4009a80a",
   "metadata": {
    "executionInfo": {
     "elapsed": 35,
     "status": "ok",
     "timestamp": 1662831697302,
     "user": {
      "displayName": "Mike Frantz",
      "userId": "08482506601269125384"
     },
     "user_tz": 420
    },
    "id": "3bca8cf6-750f-4ae4-8518-341b4009a80a"
   },
   "outputs": [],
   "source": [
    "def avg_cross_entropy(yhat, y):\n",
    "    return -yhat[range(y.shape[0]),y].log().mean()"
   ]
  },
  {
   "cell_type": "code",
   "execution_count": 25,
   "id": "dc3ce494-20d7-4ddd-9223-4581240f0f70",
   "metadata": {
    "colab": {
     "base_uri": "https://localhost:8080/"
    },
    "executionInfo": {
     "elapsed": 35,
     "status": "ok",
     "timestamp": 1662831697303,
     "user": {
      "displayName": "Mike Frantz",
      "userId": "08482506601269125384"
     },
     "user_tz": 420
    },
    "id": "dc3ce494-20d7-4ddd-9223-4581240f0f70",
    "outputId": "519eac75-1bb6-4f4f-9559-999337a3e99d"
   },
   "outputs": [],
   "source": [
    "t = torch.randn(3, 3)\n",
    "t"
   ]
  },
  {
   "cell_type": "code",
   "execution_count": 26,
   "id": "4cd3f1ce-bcc4-46c0-aa84-c48835be92c6",
   "metadata": {
    "colab": {
     "base_uri": "https://localhost:8080/"
    },
    "executionInfo": {
     "elapsed": 33,
     "status": "ok",
     "timestamp": 1662831697303,
     "user": {
      "displayName": "Mike Frantz",
      "userId": "08482506601269125384"
     },
     "user_tz": 420
    },
    "id": "4cd3f1ce-bcc4-46c0-aa84-c48835be92c6",
    "outputId": "2018fb72-c1c8-4f4b-e809-07a1ba10e9cf"
   },
   "outputs": [],
   "source": [
    "y = torch.randint(low=0, high=3, size=(3,))\n",
    "y"
   ]
  },
  {
   "cell_type": "code",
   "execution_count": 27,
   "id": "aa705e9f-9bf7-41dd-965f-20a4dacdd233",
   "metadata": {
    "colab": {
     "base_uri": "https://localhost:8080/"
    },
    "executionInfo": {
     "elapsed": 31,
     "status": "ok",
     "timestamp": 1662831697304,
     "user": {
      "displayName": "Mike Frantz",
      "userId": "08482506601269125384"
     },
     "user_tz": 420
    },
    "id": "aa705e9f-9bf7-41dd-965f-20a4dacdd233",
    "outputId": "8ab86a9f-88d2-4eb1-80fe-340766ee2b47"
   },
   "outputs": [],
   "source": [
    "avg_cross_entropy(t.softmax(dim=-1), y) # (logits, targets)"
   ]
  },
  {
   "cell_type": "code",
   "execution_count": 28,
   "id": "iLoYWNche-vb",
   "metadata": {
    "colab": {
     "base_uri": "https://localhost:8080/"
    },
    "executionInfo": {
     "elapsed": 28,
     "status": "ok",
     "timestamp": 1662831697304,
     "user": {
      "displayName": "Mike Frantz",
      "userId": "08482506601269125384"
     },
     "user_tz": 420
    },
    "id": "iLoYWNche-vb",
    "outputId": "4f897a63-c8db-46be-b85a-6b0df5abdc63"
   },
   "outputs": [],
   "source": [
    "nn.CrossEntropyLoss()(t, y), F.cross_entropy(t, y)"
   ]
  },
  {
   "cell_type": "code",
   "execution_count": 29,
   "id": "4576b010-35b4-4878-ad89-56a5f145e74f",
   "metadata": {
    "colab": {
     "base_uri": "https://localhost:8080/"
    },
    "executionInfo": {
     "elapsed": 27,
     "status": "ok",
     "timestamp": 1662831697305,
     "user": {
      "displayName": "Mike Frantz",
      "userId": "08482506601269125384"
     },
     "user_tz": 420
    },
    "id": "4576b010-35b4-4878-ad89-56a5f145e74f",
    "outputId": "8bf997df-b4d3-4a05-ed43-6fff3ba411d8"
   },
   "outputs": [],
   "source": [
    "a = 0.00000000000000000000000000001\n",
    "a * a"
   ]
  },
  {
   "cell_type": "code",
   "execution_count": 30,
   "id": "c5ca8989-cdca-4fe3-b1f1-3b77525686d0",
   "metadata": {
    "colab": {
     "base_uri": "https://localhost:8080/"
    },
    "executionInfo": {
     "elapsed": 24,
     "status": "ok",
     "timestamp": 1662831697305,
     "user": {
      "displayName": "Mike Frantz",
      "userId": "08482506601269125384"
     },
     "user_tz": 420
    },
    "id": "c5ca8989-cdca-4fe3-b1f1-3b77525686d0",
    "outputId": "3797e783-6e20-4ffa-b5cd-3a39a6509afc"
   },
   "outputs": [],
   "source": [
    "a = 100000000000000000000000000000.\n",
    "a * a"
   ]
  },
  {
   "cell_type": "code",
   "execution_count": 31,
   "id": "125c13f1-19b2-4c24-bbfb-e28ded1cee13",
   "metadata": {
    "executionInfo": {
     "elapsed": 23,
     "status": "ok",
     "timestamp": 1662831697306,
     "user": {
      "displayName": "Mike Frantz",
      "userId": "08482506601269125384"
     },
     "user_tz": 420
    },
    "id": "125c13f1-19b2-4c24-bbfb-e28ded1cee13"
   },
   "outputs": [],
   "source": [
    "def make_classification_logits(n_classes, n_samples, pct_correct, confidence=1):\n",
    "    \"\"\"\n",
    "    This function returns simulated logits and classes.\n",
    "    \n",
    "    n_classes: nuber of classes\n",
    "    n_samples: number of rows\n",
    "    pct_correct: float between 0 and 1. The higher it is, \n",
    "                 the higher the % of logits that will \n",
    "                 generate the correct output.\n",
    "    confidence: controls how confident our logits are.\n",
    "                Closer to 0: less confident\n",
    "                Larger: more confident\n",
    "    \"\"\"\n",
    "    classes = list(range(n_classes))\n",
    "    # Randomly make logits\n",
    "    logits = np.random.uniform(-5., 5., (n_samples, n_classes))\n",
    "    # Randomly make labels\n",
    "    labels = np.random.choice(classes, size=(n_samples))\n",
    "    # Find the max of each row in logits\n",
    "    maxs = np.abs(logits).max(axis=1)\n",
    "    # For each row...\n",
    "    for i in range(len(maxs)):\n",
    "        # If we want the answer to be right...\n",
    "        if np.random.random() <= pct_correct:\n",
    "            # Make the correct item the highest logit\n",
    "            logits[i, labels[i]] = maxs[i] + np.random.random()*confidence\n",
    "        # If we want it to be wrong...\n",
    "        else:\n",
    "            # Make the highest logit a different index\n",
    "            _c = classes.copy()\n",
    "            _c.remove(classes[labels[i]])\n",
    "            _i = np.random.choice(_c)\n",
    "            logits[i, _i] = maxs[i] + np.random.random()/10        \n",
    "    \n",
    "    # Return logits and labels\n",
    "    return torch.FloatTensor(logits), torch.tensor(labels)"
   ]
  },
  {
   "cell_type": "code",
   "execution_count": 32,
   "id": "e06d518f-692d-4fc0-8494-1af479f48e39",
   "metadata": {
    "colab": {
     "base_uri": "https://localhost:8080/"
    },
    "executionInfo": {
     "elapsed": 22,
     "status": "ok",
     "timestamp": 1662831697306,
     "user": {
      "displayName": "Mike Frantz",
      "userId": "08482506601269125384"
     },
     "user_tz": 420
    },
    "id": "e06d518f-692d-4fc0-8494-1af479f48e39",
    "outputId": "dcb7b993-220f-45eb-99dc-a11d28231c08"
   },
   "outputs": [],
   "source": [
    "# Create some logits and associated labels.\n",
    "# There will be some error here!\n",
    "logits, labels = make_classification_logits(3, 10, 0.8, confidence=1)\n",
    "logits"
   ]
  },
  {
   "cell_type": "code",
   "execution_count": 33,
   "id": "1372f1ee-f24c-4099-95fc-e43648cd4e30",
   "metadata": {
    "colab": {
     "base_uri": "https://localhost:8080/"
    },
    "executionInfo": {
     "elapsed": 21,
     "status": "ok",
     "timestamp": 1662831697307,
     "user": {
      "displayName": "Mike Frantz",
      "userId": "08482506601269125384"
     },
     "user_tz": 420
    },
    "id": "1372f1ee-f24c-4099-95fc-e43648cd4e30",
    "outputId": "e2105572-aae7-4952-87b7-b9e3f356e7b3"
   },
   "outputs": [],
   "source": [
    "# What are the normalized predicted probabilities for each class?\n",
    "logits.softmax(dim=1)"
   ]
  },
  {
   "cell_type": "code",
   "execution_count": 34,
   "id": "dd3571b6-d001-4653-adb8-bd43b858be40",
   "metadata": {
    "colab": {
     "base_uri": "https://localhost:8080/"
    },
    "executionInfo": {
     "elapsed": 19,
     "status": "ok",
     "timestamp": 1662831697307,
     "user": {
      "displayName": "Mike Frantz",
      "userId": "08482506601269125384"
     },
     "user_tz": 420
    },
    "id": "dd3571b6-d001-4653-adb8-bd43b858be40",
    "outputId": "e16f3747-881a-4823-86e6-42c7da3c4f40"
   },
   "outputs": [],
   "source": [
    "# What are the indices (classes) of the highest predicted probas?\n",
    "logits.softmax(dim=1).argmax(dim=1)"
   ]
  },
  {
   "cell_type": "code",
   "execution_count": 35,
   "id": "cae7a961-f88c-4c5c-bf09-546fe57202da",
   "metadata": {
    "colab": {
     "base_uri": "https://localhost:8080/"
    },
    "executionInfo": {
     "elapsed": 19,
     "status": "ok",
     "timestamp": 1662831697309,
     "user": {
      "displayName": "Mike Frantz",
      "userId": "08482506601269125384"
     },
     "user_tz": 420
    },
    "id": "cae7a961-f88c-4c5c-bf09-546fe57202da",
    "outputId": "1645d038-6bf3-4068-a19e-677783e312c0"
   },
   "outputs": [],
   "source": [
    "# How well do they match with our labels?\n",
    "labels"
   ]
  },
  {
   "cell_type": "code",
   "execution_count": 36,
   "id": "893d4464-c6f4-48f6-88f8-d75b3d007869",
   "metadata": {
    "executionInfo": {
     "elapsed": 17,
     "status": "ok",
     "timestamp": 1662831697310,
     "user": {
      "displayName": "Mike Frantz",
      "userId": "08482506601269125384"
     },
     "user_tz": 420
    },
    "id": "893d4464-c6f4-48f6-88f8-d75b3d007869"
   },
   "outputs": [],
   "source": [
    "cross_entropy = nn.CrossEntropyLoss()"
   ]
  },
  {
   "cell_type": "code",
   "execution_count": 37,
   "id": "a0c75548-73f2-4129-88b4-5aae082a4fa9",
   "metadata": {
    "colab": {
     "base_uri": "https://localhost:8080/"
    },
    "executionInfo": {
     "elapsed": 227,
     "status": "ok",
     "timestamp": 1662831697520,
     "user": {
      "displayName": "Mike Frantz",
      "userId": "08482506601269125384"
     },
     "user_tz": 420
    },
    "id": "a0c75548-73f2-4129-88b4-5aae082a4fa9",
    "outputId": "567d03c2-132a-4179-8161-68205fb389e3"
   },
   "outputs": [],
   "source": [
    "cross_entropy(logits, labels)"
   ]
  },
  {
   "cell_type": "code",
   "execution_count": 38,
   "id": "2b51f071-5f1c-423d-8f01-06bca8734a8a",
   "metadata": {
    "colab": {
     "base_uri": "https://localhost:8080/"
    },
    "executionInfo": {
     "elapsed": 45,
     "status": "ok",
     "timestamp": 1662831697521,
     "user": {
      "displayName": "Mike Frantz",
      "userId": "08482506601269125384"
     },
     "user_tz": 420
    },
    "id": "2b51f071-5f1c-423d-8f01-06bca8734a8a",
    "outputId": "0f9fffe0-1243-4c47-a670-61cebf82bd9e"
   },
   "outputs": [],
   "source": [
    "F.cross_entropy(logits, labels)"
   ]
  },
  {
   "cell_type": "code",
   "execution_count": 39,
   "id": "c95783c6-f651-4058-b9f6-02bc92ae3e6a",
   "metadata": {
    "colab": {
     "base_uri": "https://localhost:8080/"
    },
    "executionInfo": {
     "elapsed": 42,
     "status": "ok",
     "timestamp": 1662831697521,
     "user": {
      "displayName": "Mike Frantz",
      "userId": "08482506601269125384"
     },
     "user_tz": 420
    },
    "id": "c95783c6-f651-4058-b9f6-02bc92ae3e6a",
    "outputId": "b1e87df0-3a26-46d2-e062-600da40bad05"
   },
   "outputs": [],
   "source": [
    "torch.mean(\n",
    "    torch.tensor(\n",
    "        [our_cross_entropy(lo, la) \n",
    "         for lo, la # softmax of logits, labels\n",
    "         in zip(logits.softmax(dim=1), labels)\n",
    "        ]\n",
    "    )\n",
    ")"
   ]
  },
  {
   "cell_type": "code",
   "execution_count": 40,
   "id": "dd876b81-c5de-4336-8360-dc8f22c8e8ca",
   "metadata": {
    "colab": {
     "base_uri": "https://localhost:8080/"
    },
    "executionInfo": {
     "elapsed": 40,
     "status": "ok",
     "timestamp": 1662831697522,
     "user": {
      "displayName": "Mike Frantz",
      "userId": "08482506601269125384"
     },
     "user_tz": 420
    },
    "id": "dd876b81-c5de-4336-8360-dc8f22c8e8ca",
    "outputId": "195f6a5c-c7ad-4902-81e5-514f875747dd"
   },
   "outputs": [],
   "source": [
    "logits, labels = make_classification_logits(2, 10, 1., confidence=1)\n",
    "logits"
   ]
  },
  {
   "cell_type": "code",
   "execution_count": 41,
   "id": "b91b6b2a-5a19-46a4-bb58-3fe87e4c1b31",
   "metadata": {
    "colab": {
     "base_uri": "https://localhost:8080/"
    },
    "executionInfo": {
     "elapsed": 37,
     "status": "ok",
     "timestamp": 1662831697522,
     "user": {
      "displayName": "Mike Frantz",
      "userId": "08482506601269125384"
     },
     "user_tz": 420
    },
    "id": "b91b6b2a-5a19-46a4-bb58-3fe87e4c1b31",
    "outputId": "a52dc6b1-5f22-47b6-c55f-aa585f51502e"
   },
   "outputs": [],
   "source": [
    "logits.softmax(dim=1)"
   ]
  },
  {
   "cell_type": "code",
   "execution_count": 42,
   "id": "b95a3e3a-752e-4f1f-83b9-8872efc21304",
   "metadata": {
    "colab": {
     "base_uri": "https://localhost:8080/"
    },
    "executionInfo": {
     "elapsed": 33,
     "status": "ok",
     "timestamp": 1662831697523,
     "user": {
      "displayName": "Mike Frantz",
      "userId": "08482506601269125384"
     },
     "user_tz": 420
    },
    "id": "b95a3e3a-752e-4f1f-83b9-8872efc21304",
    "outputId": "f6538429-5218-463c-f71c-f1756a52b545"
   },
   "outputs": [],
   "source": [
    "labels"
   ]
  },
  {
   "cell_type": "code",
   "execution_count": 43,
   "id": "a882a24b-a2bf-4a6d-a027-60b5dd9bc0b5",
   "metadata": {
    "colab": {
     "base_uri": "https://localhost:8080/"
    },
    "executionInfo": {
     "elapsed": 30,
     "status": "ok",
     "timestamp": 1662831697523,
     "user": {
      "displayName": "Mike Frantz",
      "userId": "08482506601269125384"
     },
     "user_tz": 420
    },
    "id": "a882a24b-a2bf-4a6d-a027-60b5dd9bc0b5",
    "outputId": "d7c91d38-58e0-4cd8-f082-4b5e56ddfae5"
   },
   "outputs": [],
   "source": [
    "F.cross_entropy(logits, labels)"
   ]
  },
  {
   "cell_type": "code",
   "execution_count": 44,
   "id": "0181138d-656c-4a67-ac54-cb20e5ec367b",
   "metadata": {
    "executionInfo": {
     "elapsed": 28,
     "status": "ok",
     "timestamp": 1662831697524,
     "user": {
      "displayName": "Mike Frantz",
      "userId": "08482506601269125384"
     },
     "user_tz": 420
    },
    "id": "0181138d-656c-4a67-ac54-cb20e5ec367b"
   },
   "outputs": [],
   "source": [
    "# Make some logits and labels, making sure not to get everything correct\n",
    "logits = torch.tensor([2.8, -1.4, 1.1, -.8])\n",
    "labels = torch.tensor([1., 0., 0., 0.])"
   ]
  },
  {
   "cell_type": "code",
   "execution_count": 45,
   "id": "2adf56d6-f69a-434f-b6ea-aead5c8f6825",
   "metadata": {
    "colab": {
     "base_uri": "https://localhost:8080/"
    },
    "executionInfo": {
     "elapsed": 27,
     "status": "ok",
     "timestamp": 1662831697524,
     "user": {
      "displayName": "Mike Frantz",
      "userId": "08482506601269125384"
     },
     "user_tz": 420
    },
    "id": "2adf56d6-f69a-434f-b6ea-aead5c8f6825",
    "outputId": "87e671d8-08ab-47ca-fd57-f7b3e842e779"
   },
   "outputs": [],
   "source": [
    "# View the logits\n",
    "logits"
   ]
  },
  {
   "cell_type": "code",
   "execution_count": 46,
   "id": "39f9bea7-28f6-4c0e-90b4-dfca3e1edf27",
   "metadata": {
    "colab": {
     "base_uri": "https://localhost:8080/"
    },
    "executionInfo": {
     "elapsed": 25,
     "status": "ok",
     "timestamp": 1662831697525,
     "user": {
      "displayName": "Mike Frantz",
      "userId": "08482506601269125384"
     },
     "user_tz": 420
    },
    "id": "39f9bea7-28f6-4c0e-90b4-dfca3e1edf27",
    "outputId": "58847481-938c-4eed-c5bb-55f89f316a3e"
   },
   "outputs": [],
   "source": [
    "# Normalize to probabilities\n",
    "logits.sigmoid()"
   ]
  },
  {
   "cell_type": "code",
   "execution_count": 47,
   "id": "1ca9d3d2-44e0-4fa4-b868-9710ca971646",
   "metadata": {
    "colab": {
     "base_uri": "https://localhost:8080/"
    },
    "executionInfo": {
     "elapsed": 22,
     "status": "ok",
     "timestamp": 1662831697525,
     "user": {
      "displayName": "Mike Frantz",
      "userId": "08482506601269125384"
     },
     "user_tz": 420
    },
    "id": "1ca9d3d2-44e0-4fa4-b868-9710ca971646",
    "outputId": "3adfb657-46df-4de6-bf09-82bfccaead0b"
   },
   "outputs": [],
   "source": [
    "# Calculate the loss with the logits\n",
    "F.binary_cross_entropy_with_logits(logits, labels)"
   ]
  },
  {
   "cell_type": "code",
   "execution_count": 48,
   "id": "fdbda3a4-5087-4397-b9e8-4485365623a2",
   "metadata": {
    "colab": {
     "base_uri": "https://localhost:8080/"
    },
    "executionInfo": {
     "elapsed": 21,
     "status": "ok",
     "timestamp": 1662831697526,
     "user": {
      "displayName": "Mike Frantz",
      "userId": "08482506601269125384"
     },
     "user_tz": 420
    },
    "id": "fdbda3a4-5087-4397-b9e8-4485365623a2",
    "outputId": "244418ca-88f7-46cd-c09b-c166f7c85e08"
   },
   "outputs": [],
   "source": [
    "# Calculate the loss with the logits\n",
    "nn.BCEWithLogitsLoss()(logits, labels)"
   ]
  },
  {
   "cell_type": "code",
   "execution_count": 49,
   "id": "451dc1f8-78f9-4094-9190-8a9c2502c70f",
   "metadata": {
    "colab": {
     "base_uri": "https://localhost:8080/"
    },
    "executionInfo": {
     "elapsed": 18,
     "status": "ok",
     "timestamp": 1662831697526,
     "user": {
      "displayName": "Mike Frantz",
      "userId": "08482506601269125384"
     },
     "user_tz": 420
    },
    "id": "451dc1f8-78f9-4094-9190-8a9c2502c70f",
    "outputId": "bf3899ba-4312-4d8e-d5a6-ffc0049caf26"
   },
   "outputs": [],
   "source": [
    "F.binary_cross_entropy(logits.sigmoid(), labels)"
   ]
  },
  {
   "cell_type": "code",
   "execution_count": 50,
   "id": "21a32a97-67ea-4f06-b806-0e11c4a9255d",
   "metadata": {
    "colab": {
     "base_uri": "https://localhost:8080/"
    },
    "executionInfo": {
     "elapsed": 15,
     "status": "ok",
     "timestamp": 1662831697527,
     "user": {
      "displayName": "Mike Frantz",
      "userId": "08482506601269125384"
     },
     "user_tz": 420
    },
    "id": "21a32a97-67ea-4f06-b806-0e11c4a9255d",
    "outputId": "2cf6f022-2608-495c-9238-7372c6363730"
   },
   "outputs": [],
   "source": [
    "nn.BCELoss()(logits.sigmoid(), labels)"
   ]
  },
  {
   "cell_type": "code",
   "execution_count": 51,
   "id": "2e52bfd7-a0fe-4b1b-80f2-61187f4a3abf",
   "metadata": {
    "colab": {
     "base_uri": "https://localhost:8080/"
    },
    "executionInfo": {
     "elapsed": 175,
     "status": "ok",
     "timestamp": 1662831697690,
     "user": {
      "displayName": "Mike Frantz",
      "userId": "08482506601269125384"
     },
     "user_tz": 420
    },
    "id": "2e52bfd7-a0fe-4b1b-80f2-61187f4a3abf",
    "outputId": "d5fe420b-e26e-40a7-d037-822d806ae432"
   },
   "outputs": [],
   "source": [
    "# Values are close...\n",
    "torch.allclose(F.binary_cross_entropy_with_logits(logits, labels), F.binary_cross_entropy(logits.sigmoid(), labels))"
   ]
  },
  {
   "cell_type": "code",
   "execution_count": 52,
   "id": "ef6fa6ce-6efe-44e4-b765-3c6db1959002",
   "metadata": {
    "colab": {
     "base_uri": "https://localhost:8080/"
    },
    "executionInfo": {
     "elapsed": 29,
     "status": "ok",
     "timestamp": 1662831697691,
     "user": {
      "displayName": "Mike Frantz",
      "userId": "08482506601269125384"
     },
     "user_tz": 420
    },
    "id": "ef6fa6ce-6efe-44e4-b765-3c6db1959002",
    "outputId": "cccfeff8-2fb6-4ccd-e875-af65a89aea16"
   },
   "outputs": [],
   "source": [
    "# ... but not the same\n",
    "F.binary_cross_entropy_with_logits(logits, labels) == F.binary_cross_entropy(logits.sigmoid(), labels)"
   ]
  },
  {
   "cell_type": "code",
   "execution_count": 53,
   "id": "05d38285-180a-4b25-8f95-81f0c41e0984",
   "metadata": {
    "colab": {
     "base_uri": "https://localhost:8080/"
    },
    "executionInfo": {
     "elapsed": 26,
     "status": "ok",
     "timestamp": 1662831697691,
     "user": {
      "displayName": "Mike Frantz",
      "userId": "08482506601269125384"
     },
     "user_tz": 420
    },
    "id": "05d38285-180a-4b25-8f95-81f0c41e0984",
    "outputId": "e15e72b4-a3ce-43ef-dbb7-4bd71ad596d5"
   },
   "outputs": [],
   "source": [
    "F.binary_cross_entropy_with_logits(logits, labels) - F.binary_cross_entropy(logits.sigmoid(), labels)"
   ]
  },
  {
   "cell_type": "code",
   "execution_count": 54,
   "id": "fcd95d69-c4e6-4b1c-a4c3-5d105f7138c1",
   "metadata": {
    "colab": {
     "base_uri": "https://localhost:8080/"
    },
    "executionInfo": {
     "elapsed": 24,
     "status": "ok",
     "timestamp": 1662831697692,
     "user": {
      "displayName": "Mike Frantz",
      "userId": "08482506601269125384"
     },
     "user_tz": 420
    },
    "id": "fcd95d69-c4e6-4b1c-a4c3-5d105f7138c1",
    "outputId": "2888b9ec-883e-4b66-ea28-3ab4ee8d2b38"
   },
   "outputs": [],
   "source": [
    "# Column 0 may be the p(happy) = 1 - p(sad), \n",
    "# and column 2 may be p(lakers) = 1 - p(not lakers)\n",
    "logits = torch.randn(10, 2) * 2\n",
    "logits"
   ]
  },
  {
   "cell_type": "code",
   "execution_count": 55,
   "id": "edd2d0d2-c402-47a6-9841-bc9d4cc5a06c",
   "metadata": {
    "colab": {
     "base_uri": "https://localhost:8080/"
    },
    "executionInfo": {
     "elapsed": 21,
     "status": "ok",
     "timestamp": 1662831697692,
     "user": {
      "displayName": "Mike Frantz",
      "userId": "08482506601269125384"
     },
     "user_tz": 420
    },
    "id": "edd2d0d2-c402-47a6-9841-bc9d4cc5a06c",
    "outputId": "37b3bb5c-0990-4bf9-ab69-032a4074e26b"
   },
   "outputs": [],
   "source": [
    "labels = torch.randint(0, 2, (10, 2)).float()\n",
    "labels"
   ]
  },
  {
   "cell_type": "code",
   "execution_count": 56,
   "id": "7ea5dba6-6372-4073-b618-2f38e15dbf9e",
   "metadata": {
    "colab": {
     "base_uri": "https://localhost:8080/"
    },
    "executionInfo": {
     "elapsed": 20,
     "status": "ok",
     "timestamp": 1662831697693,
     "user": {
      "displayName": "Mike Frantz",
      "userId": "08482506601269125384"
     },
     "user_tz": 420
    },
    "id": "7ea5dba6-6372-4073-b618-2f38e15dbf9e",
    "outputId": "a6667956-2a68-4a57-cade-9208e350386d"
   },
   "outputs": [],
   "source": [
    "logits.sigmoid()"
   ]
  },
  {
   "cell_type": "code",
   "execution_count": 57,
   "id": "14abfb18-1cfa-4cb6-ba84-2bb4ceb2d314",
   "metadata": {
    "executionInfo": {
     "elapsed": 17,
     "status": "ok",
     "timestamp": 1662831697693,
     "user": {
      "displayName": "Mike Frantz",
      "userId": "08482506601269125384"
     },
     "user_tz": 420
    },
    "id": "14abfb18-1cfa-4cb6-ba84-2bb4ceb2d314"
   },
   "outputs": [],
   "source": [
    "bce = nn.BCEWithLogitsLoss()"
   ]
  },
  {
   "cell_type": "code",
   "execution_count": 58,
   "id": "e15bf047-58bd-43fc-aeed-3c29f0dfaea2",
   "metadata": {
    "colab": {
     "base_uri": "https://localhost:8080/"
    },
    "executionInfo": {
     "elapsed": 18,
     "status": "ok",
     "timestamp": 1662831697694,
     "user": {
      "displayName": "Mike Frantz",
      "userId": "08482506601269125384"
     },
     "user_tz": 420
    },
    "id": "e15bf047-58bd-43fc-aeed-3c29f0dfaea2",
    "outputId": "70388037-a837-4540-abdf-6897c1aa0904"
   },
   "outputs": [],
   "source": [
    "bce(logits, labels)"
   ]
  },
  {
   "cell_type": "code",
   "execution_count": 59,
   "id": "8feff5a7-8d98-4778-b8ae-caf9e3fa760b",
   "metadata": {
    "colab": {
     "base_uri": "https://localhost:8080/"
    },
    "executionInfo": {
     "elapsed": 15,
     "status": "ok",
     "timestamp": 1662831697694,
     "user": {
      "displayName": "Mike Frantz",
      "userId": "08482506601269125384"
     },
     "user_tz": 420
    },
    "id": "8feff5a7-8d98-4778-b8ae-caf9e3fa760b",
    "outputId": "5cf8cc8a-b67d-41cc-d5c6-bde6a584710a"
   },
   "outputs": [],
   "source": [
    "bce(logits[:,0], labels[:,0])"
   ]
  },
  {
   "cell_type": "code",
   "execution_count": 60,
   "id": "342eba5c-8cbb-4153-a06a-6f339d0e978a",
   "metadata": {
    "colab": {
     "base_uri": "https://localhost:8080/"
    },
    "executionInfo": {
     "elapsed": 14,
     "status": "ok",
     "timestamp": 1662831697695,
     "user": {
      "displayName": "Mike Frantz",
      "userId": "08482506601269125384"
     },
     "user_tz": 420
    },
    "id": "342eba5c-8cbb-4153-a06a-6f339d0e978a",
    "outputId": "7c8118bb-7911-4aa2-8cf1-555f16d781d6"
   },
   "outputs": [],
   "source": [
    "bce(logits[:,1], labels[:,1])"
   ]
  },
  {
   "cell_type": "code",
   "execution_count": 61,
   "id": "9dcbdf7f-22a8-4818-b741-d83f2cbaf526",
   "metadata": {
    "colab": {
     "base_uri": "https://localhost:8080/"
    },
    "executionInfo": {
     "elapsed": 214,
     "status": "ok",
     "timestamp": 1662831697897,
     "user": {
      "displayName": "Mike Frantz",
      "userId": "08482506601269125384"
     },
     "user_tz": 420
    },
    "id": "9dcbdf7f-22a8-4818-b741-d83f2cbaf526",
    "outputId": "cc2cfefc-dd62-4f0c-8574-e92f39fbea5b"
   },
   "outputs": [],
   "source": [
    "(bce(logits[:,0], labels[:,0]) + bce(logits[:,1], labels[:,1])) / 2"
   ]
  },
  {
   "cell_type": "code",
   "execution_count": 61,
   "id": "uO6S8zMd-Vaf",
   "metadata": {
    "executionInfo": {
     "elapsed": 4,
     "status": "ok",
     "timestamp": 1662831697898,
     "user": {
      "displayName": "Mike Frantz",
      "userId": "08482506601269125384"
     },
     "user_tz": 420
    },
    "id": "uO6S8zMd-Vaf"
   },
   "outputs": [],
   "source": []
  }
 ],
 "metadata": {
  "colab": {
   "collapsed_sections": [],
   "provenance": []
  },
  "kernelspec": {
   "display_name": "cndl",
   "language": "python",
   "name": "cndl"
  },
  "language_info": {
   "codemirror_mode": {
    "name": "ipython",
    "version": 3
   },
   "file_extension": ".py",
   "mimetype": "text/x-python",
   "name": "python",
   "nbconvert_exporter": "python",
   "pygments_lexer": "ipython3",
   "version": "3.9.4"
  }
 },
 "nbformat": 4,
 "nbformat_minor": 5
}
