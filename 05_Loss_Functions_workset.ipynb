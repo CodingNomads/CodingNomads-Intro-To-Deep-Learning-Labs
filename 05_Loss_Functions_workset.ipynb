{
 "cells": [
  {
   "cell_type": "code",
   "execution_count": 1,
   "id": "a31bb976-a4f8-4afd-bc2a-2e6bebf112bc",
   "metadata": {
    "executionInfo": {
     "elapsed": 8116,
     "status": "ok",
     "timestamp": 1640212369599,
     "user": {
      "displayName": "Mike Frantz",
      "photoUrl": "https://lh3.googleusercontent.com/a-/AOh14GiGYCwZXGfGg-CE4_33PQcH9SW8fN6MyRkenN8-IA=s64",
      "userId": "08482506601269125384"
     },
     "user_tz": 480
    },
    "id": "a31bb976-a4f8-4afd-bc2a-2e6bebf112bc"
   },
   "outputs": [],
   "source": [
    "import torch\n",
    "from torch import nn\n",
    "import torch.nn.functional as F\n",
    "import matplotlib.pyplot as plt\n",
    "import numpy as np\n",
    "\n",
    "%matplotlib inline"
   ]
  },
  {
   "cell_type": "code",
   "execution_count": 2,
   "id": "f8171b87-1fc8-425c-868d-b9b1205b1a5b",
   "metadata": {
    "executionInfo": {
     "elapsed": 8,
     "status": "ok",
     "timestamp": 1640212369600,
     "user": {
      "displayName": "Mike Frantz",
      "photoUrl": "https://lh3.googleusercontent.com/a-/AOh14GiGYCwZXGfGg-CE4_33PQcH9SW8fN6MyRkenN8-IA=s64",
      "userId": "08482506601269125384"
     },
     "user_tz": 480
    },
    "id": "f8171b87-1fc8-425c-868d-b9b1205b1a5b"
   },
   "outputs": [],
   "source": [
    "def seed_all(seed=42):\n",
    "    np.random.seed(seed)\n",
    "    torch.random.manual_seed(seed)"
   ]
  },
  {
   "cell_type": "code",
   "execution_count": 3,
   "id": "1138b5b9-ffc8-4800-9702-643a7f2dfba2",
   "metadata": {
    "executionInfo": {
     "elapsed": 7,
     "status": "ok",
     "timestamp": 1640212369601,
     "user": {
      "displayName": "Mike Frantz",
      "photoUrl": "https://lh3.googleusercontent.com/a-/AOh14GiGYCwZXGfGg-CE4_33PQcH9SW8fN6MyRkenN8-IA=s64",
      "userId": "08482506601269125384"
     },
     "user_tz": 480
    },
    "id": "1138b5b9-ffc8-4800-9702-643a7f2dfba2"
   },
   "outputs": [],
   "source": [
    "seed_all()"
   ]
  },
  {
   "cell_type": "code",
   "execution_count": 4,
   "id": "5314ad29-e03c-4af0-af4d-26593bb35557",
   "metadata": {
    "executionInfo": {
     "elapsed": 6,
     "status": "ok",
     "timestamp": 1640212369601,
     "user": {
      "displayName": "Mike Frantz",
      "photoUrl": "https://lh3.googleusercontent.com/a-/AOh14GiGYCwZXGfGg-CE4_33PQcH9SW8fN6MyRkenN8-IA=s64",
      "userId": "08482506601269125384"
     },
     "user_tz": 480
    },
    "id": "5314ad29-e03c-4af0-af4d-26593bb35557"
   },
   "outputs": [],
   "source": [
    "def make_regression_outputs_and_targets(n_samples, out_min=20, out_max=200, noise_loc=0, noise_scale=5):\n",
    "    outputs = torch.tensor(np.random.uniform(20, 100, n_samples))\n",
    "    noise = torch.tensor(np.random.normal(noise_loc, noise_scale, n_samples))\n",
    "    targets = outputs + noise\n",
    "    return outputs, targets"
   ]
  },
  {
   "cell_type": "code",
   "execution_count": 5,
   "id": "c510762b-440c-44e8-b898-4f283dbc2f85",
   "metadata": {
    "executionInfo": {
     "elapsed": 7,
     "status": "ok",
     "timestamp": 1640212369602,
     "user": {
      "displayName": "Mike Frantz",
      "photoUrl": "https://lh3.googleusercontent.com/a-/AOh14GiGYCwZXGfGg-CE4_33PQcH9SW8fN6MyRkenN8-IA=s64",
      "userId": "08482506601269125384"
     },
     "user_tz": 480
    },
    "id": "c510762b-440c-44e8-b898-4f283dbc2f85"
   },
   "outputs": [],
   "source": [
    "outputs, targets = make_regression_outputs_and_targets(20)"
   ]
  },
  {
   "cell_type": "code",
   "execution_count": 6,
   "id": "27a8f8aa-afbc-4ace-ad74-4e5c0c88d366",
   "metadata": {
    "colab": {
     "base_uri": "https://localhost:8080/"
    },
    "executionInfo": {
     "elapsed": 384,
     "status": "ok",
     "timestamp": 1640212369980,
     "user": {
      "displayName": "Mike Frantz",
      "photoUrl": "https://lh3.googleusercontent.com/a-/AOh14GiGYCwZXGfGg-CE4_33PQcH9SW8fN6MyRkenN8-IA=s64",
      "userId": "08482506601269125384"
     },
     "user_tz": 480
    },
    "id": "27a8f8aa-afbc-4ace-ad74-4e5c0c88d366",
    "outputId": "20fe1d09-af7e-4abf-db0c-c1efc407c1fb"
   },
   "outputs": [],
   "source": [
    "outputs"
   ]
  },
  {
   "cell_type": "code",
   "execution_count": 7,
   "id": "75d60e7c-6a49-4c42-b0de-45dc8a1bd67a",
   "metadata": {
    "colab": {
     "base_uri": "https://localhost:8080/"
    },
    "executionInfo": {
     "elapsed": 6,
     "status": "ok",
     "timestamp": 1640212369981,
     "user": {
      "displayName": "Mike Frantz",
      "photoUrl": "https://lh3.googleusercontent.com/a-/AOh14GiGYCwZXGfGg-CE4_33PQcH9SW8fN6MyRkenN8-IA=s64",
      "userId": "08482506601269125384"
     },
     "user_tz": 480
    },
    "id": "75d60e7c-6a49-4c42-b0de-45dc8a1bd67a",
    "outputId": "61989fed-73be-448a-a25f-dc74910a6197"
   },
   "outputs": [],
   "source": [
    "targets"
   ]
  },
  {
   "cell_type": "code",
   "execution_count": 8,
   "id": "6ceac5e6-b1e0-4b00-93f9-21abeae20f2a",
   "metadata": {
    "colab": {
     "base_uri": "https://localhost:8080/"
    },
    "executionInfo": {
     "elapsed": 248,
     "status": "ok",
     "timestamp": 1640212370226,
     "user": {
      "displayName": "Mike Frantz",
      "photoUrl": "https://lh3.googleusercontent.com/a-/AOh14GiGYCwZXGfGg-CE4_33PQcH9SW8fN6MyRkenN8-IA=s64",
      "userId": "08482506601269125384"
     },
     "user_tz": 480
    },
    "id": "6ceac5e6-b1e0-4b00-93f9-21abeae20f2a",
    "outputId": "f4bf10d1-4771-4c72-8b02-f624ebb6eca6"
   },
   "outputs": [],
   "source": [
    "error = targets - outputs\n",
    "error"
   ]
  },
  {
   "cell_type": "code",
   "execution_count": 9,
   "id": "224c6667-1241-406e-9304-4e5687de82c8",
   "metadata": {
    "colab": {
     "base_uri": "https://localhost:8080/"
    },
    "executionInfo": {
     "elapsed": 16,
     "status": "ok",
     "timestamp": 1640212370227,
     "user": {
      "displayName": "Mike Frantz",
      "photoUrl": "https://lh3.googleusercontent.com/a-/AOh14GiGYCwZXGfGg-CE4_33PQcH9SW8fN6MyRkenN8-IA=s64",
      "userId": "08482506601269125384"
     },
     "user_tz": 480
    },
    "id": "224c6667-1241-406e-9304-4e5687de82c8",
    "outputId": "5e499756-d682-4485-ba3a-a35e0fbd4c0f"
   },
   "outputs": [],
   "source": [
    "squared_error = error.square()\n",
    "squared_error"
   ]
  },
  {
   "cell_type": "code",
   "execution_count": 10,
   "id": "7173071b-d5e9-4e5d-bd58-ea2cd1d1e72e",
   "metadata": {
    "colab": {
     "base_uri": "https://localhost:8080/"
    },
    "executionInfo": {
     "elapsed": 13,
     "status": "ok",
     "timestamp": 1640212370227,
     "user": {
      "displayName": "Mike Frantz",
      "photoUrl": "https://lh3.googleusercontent.com/a-/AOh14GiGYCwZXGfGg-CE4_33PQcH9SW8fN6MyRkenN8-IA=s64",
      "userId": "08482506601269125384"
     },
     "user_tz": 480
    },
    "id": "7173071b-d5e9-4e5d-bd58-ea2cd1d1e72e",
    "outputId": "82f67492-1fdd-48fe-8386-c1d2734c1cc6"
   },
   "outputs": [],
   "source": [
    "mean_squared_error = squared_error.mean()\n",
    "mean_squared_error"
   ]
  },
  {
   "cell_type": "code",
   "execution_count": 11,
   "id": "0311a29e-0aeb-4377-8f4f-428d3cd553d0",
   "metadata": {
    "executionInfo": {
     "elapsed": 11,
     "status": "ok",
     "timestamp": 1640212370228,
     "user": {
      "displayName": "Mike Frantz",
      "photoUrl": "https://lh3.googleusercontent.com/a-/AOh14GiGYCwZXGfGg-CE4_33PQcH9SW8fN6MyRkenN8-IA=s64",
      "userId": "08482506601269125384"
     },
     "user_tz": 480
    },
    "id": "0311a29e-0aeb-4377-8f4f-428d3cd553d0"
   },
   "outputs": [],
   "source": [
    "def mse(yhat, y):\n",
    "    return (y - yhat).square().mean()"
   ]
  },
  {
   "cell_type": "code",
   "execution_count": 12,
   "id": "a521cdb1-cb5e-427c-afa8-ec4ae564a89a",
   "metadata": {
    "colab": {
     "base_uri": "https://localhost:8080/"
    },
    "executionInfo": {
     "elapsed": 11,
     "status": "ok",
     "timestamp": 1640212370228,
     "user": {
      "displayName": "Mike Frantz",
      "photoUrl": "https://lh3.googleusercontent.com/a-/AOh14GiGYCwZXGfGg-CE4_33PQcH9SW8fN6MyRkenN8-IA=s64",
      "userId": "08482506601269125384"
     },
     "user_tz": 480
    },
    "id": "a521cdb1-cb5e-427c-afa8-ec4ae564a89a",
    "outputId": "1dc0c5dc-ba6a-4bf6-8afb-c3e34aeb9a31"
   },
   "outputs": [],
   "source": [
    "mse(outputs, targets)"
   ]
  },
  {
   "cell_type": "code",
   "execution_count": 13,
   "id": "6f8f33a5-c7bc-4d2d-9d76-f572918f4056",
   "metadata": {
    "executionInfo": {
     "elapsed": 10,
     "status": "ok",
     "timestamp": 1640212370229,
     "user": {
      "displayName": "Mike Frantz",
      "photoUrl": "https://lh3.googleusercontent.com/a-/AOh14GiGYCwZXGfGg-CE4_33PQcH9SW8fN6MyRkenN8-IA=s64",
      "userId": "08482506601269125384"
     },
     "user_tz": 480
    },
    "id": "6f8f33a5-c7bc-4d2d-9d76-f572918f4056"
   },
   "outputs": [],
   "source": [
    "mse = nn.MSELoss()"
   ]
  },
  {
   "cell_type": "code",
   "execution_count": 14,
   "id": "39286bd6-77af-4893-be20-a4eb67b7b7b3",
   "metadata": {
    "colab": {
     "base_uri": "https://localhost:8080/"
    },
    "executionInfo": {
     "elapsed": 9,
     "status": "ok",
     "timestamp": 1640212370229,
     "user": {
      "displayName": "Mike Frantz",
      "photoUrl": "https://lh3.googleusercontent.com/a-/AOh14GiGYCwZXGfGg-CE4_33PQcH9SW8fN6MyRkenN8-IA=s64",
      "userId": "08482506601269125384"
     },
     "user_tz": 480
    },
    "id": "39286bd6-77af-4893-be20-a4eb67b7b7b3",
    "outputId": "76ebee07-f425-4862-8854-8b3c86f666c1"
   },
   "outputs": [],
   "source": [
    "mse(outputs, targets)"
   ]
  },
  {
   "cell_type": "code",
   "execution_count": 15,
   "id": "f672b912-6000-49cf-9584-d8ec0680f9c9",
   "metadata": {
    "colab": {
     "base_uri": "https://localhost:8080/"
    },
    "executionInfo": {
     "elapsed": 10,
     "status": "ok",
     "timestamp": 1640212370433,
     "user": {
      "displayName": "Mike Frantz",
      "photoUrl": "https://lh3.googleusercontent.com/a-/AOh14GiGYCwZXGfGg-CE4_33PQcH9SW8fN6MyRkenN8-IA=s64",
      "userId": "08482506601269125384"
     },
     "user_tz": 480
    },
    "id": "f672b912-6000-49cf-9584-d8ec0680f9c9",
    "outputId": "50570ede-65f9-4e4a-9ce7-0b031dfe77a5"
   },
   "outputs": [],
   "source": [
    "F.mse_loss(outputs, targets)"
   ]
  },
  {
   "cell_type": "code",
   "execution_count": 16,
   "id": "ef901ff9-cd9b-441d-b5f1-c2771d87c8e8",
   "metadata": {
    "executionInfo": {
     "elapsed": 7,
     "status": "ok",
     "timestamp": 1640212370433,
     "user": {
      "displayName": "Mike Frantz",
      "photoUrl": "https://lh3.googleusercontent.com/a-/AOh14GiGYCwZXGfGg-CE4_33PQcH9SW8fN6MyRkenN8-IA=s64",
      "userId": "08482506601269125384"
     },
     "user_tz": 480
    },
    "id": "ef901ff9-cd9b-441d-b5f1-c2771d87c8e8"
   },
   "outputs": [],
   "source": [
    "errors = torch.linspace(-10, 10, 50)\n",
    "squared_erros = errors.square()"
   ]
  },
  {
   "cell_type": "code",
   "execution_count": 17,
   "id": "e156f06a-19e2-48e4-8798-75a6785e6911",
   "metadata": {
    "colab": {
     "base_uri": "https://localhost:8080/",
     "height": 623
    },
    "executionInfo": {
     "elapsed": 1051,
     "status": "ok",
     "timestamp": 1640212371478,
     "user": {
      "displayName": "Mike Frantz",
      "photoUrl": "https://lh3.googleusercontent.com/a-/AOh14GiGYCwZXGfGg-CE4_33PQcH9SW8fN6MyRkenN8-IA=s64",
      "userId": "08482506601269125384"
     },
     "user_tz": 480
    },
    "id": "e156f06a-19e2-48e4-8798-75a6785e6911",
    "outputId": "1655497d-34e9-4497-8578-dfc93cc3a315"
   },
   "outputs": [],
   "source": [
    "mse_fig, ax = plt.subplots(figsize=(10,10))\n",
    "ax.plot(errors, squared_erros)\n",
    "ax.set_xlabel(\"Error (yhat - y)\")\n",
    "ax.set_ylabel(\"Squared Error\")"
   ]
  },
  {
   "cell_type": "code",
   "execution_count": 18,
   "id": "f2054c39-f476-4ae2-9cb3-e212ff4efcee",
   "metadata": {
    "colab": {
     "base_uri": "https://localhost:8080/"
    },
    "executionInfo": {
     "elapsed": 24,
     "status": "ok",
     "timestamp": 1640212371478,
     "user": {
      "displayName": "Mike Frantz",
      "photoUrl": "https://lh3.googleusercontent.com/a-/AOh14GiGYCwZXGfGg-CE4_33PQcH9SW8fN6MyRkenN8-IA=s64",
      "userId": "08482506601269125384"
     },
     "user_tz": 480
    },
    "id": "f2054c39-f476-4ae2-9cb3-e212ff4efcee",
    "outputId": "ab41b5cc-a42e-4658-eabd-e9f03aab8d91"
   },
   "outputs": [],
   "source": [
    "# Check our work\n",
    "-np.log(0.7)"
   ]
  },
  {
   "cell_type": "code",
   "execution_count": 19,
   "id": "d056a554-0beb-4dc3-84bf-f76b5332fb53",
   "metadata": {
    "executionInfo": {
     "elapsed": 22,
     "status": "ok",
     "timestamp": 1640212371479,
     "user": {
      "displayName": "Mike Frantz",
      "photoUrl": "https://lh3.googleusercontent.com/a-/AOh14GiGYCwZXGfGg-CE4_33PQcH9SW8fN6MyRkenN8-IA=s64",
      "userId": "08482506601269125384"
     },
     "user_tz": 480
    },
    "id": "d056a554-0beb-4dc3-84bf-f76b5332fb53"
   },
   "outputs": [],
   "source": [
    "# Define a cross entropy function\n",
    "def H(p, q):\n",
    "    return (-1 * q * p.log()).sum()"
   ]
  },
  {
   "cell_type": "code",
   "execution_count": 20,
   "id": "00b591d4-1d1e-455c-86c3-3491961a41a5",
   "metadata": {
    "colab": {
     "base_uri": "https://localhost:8080/"
    },
    "executionInfo": {
     "elapsed": 21,
     "status": "ok",
     "timestamp": 1640212371479,
     "user": {
      "displayName": "Mike Frantz",
      "photoUrl": "https://lh3.googleusercontent.com/a-/AOh14GiGYCwZXGfGg-CE4_33PQcH9SW8fN6MyRkenN8-IA=s64",
      "userId": "08482506601269125384"
     },
     "user_tz": 480
    },
    "id": "00b591d4-1d1e-455c-86c3-3491961a41a5",
    "outputId": "7b0bed7a-0319-45da-90de-9b240a4a398f"
   },
   "outputs": [],
   "source": [
    "# Test it on our example\n",
    "H(torch.tensor([0.1, 0.7, 0.2]), torch.tensor([0, 1, 0]))"
   ]
  },
  {
   "cell_type": "code",
   "execution_count": 21,
   "id": "f92c842c-6479-4d43-8c6d-e88ad386ca2f",
   "metadata": {
    "executionInfo": {
     "elapsed": 19,
     "status": "ok",
     "timestamp": 1640212371480,
     "user": {
      "displayName": "Mike Frantz",
      "photoUrl": "https://lh3.googleusercontent.com/a-/AOh14GiGYCwZXGfGg-CE4_33PQcH9SW8fN6MyRkenN8-IA=s64",
      "userId": "08482506601269125384"
     },
     "user_tz": 480
    },
    "id": "f92c842c-6479-4d43-8c6d-e88ad386ca2f"
   },
   "outputs": [],
   "source": [
    "t = torch.tensor([0.1, 0.7, 0.2])"
   ]
  },
  {
   "cell_type": "code",
   "execution_count": 22,
   "id": "8e83d29d-dc6d-4d9d-ab22-2caf1a166d0e",
   "metadata": {
    "executionInfo": {
     "elapsed": 19,
     "status": "ok",
     "timestamp": 1640212371480,
     "user": {
      "displayName": "Mike Frantz",
      "photoUrl": "https://lh3.googleusercontent.com/a-/AOh14GiGYCwZXGfGg-CE4_33PQcH9SW8fN6MyRkenN8-IA=s64",
      "userId": "08482506601269125384"
     },
     "user_tz": 480
    },
    "id": "8e83d29d-dc6d-4d9d-ab22-2caf1a166d0e"
   },
   "outputs": [],
   "source": [
    "def our_cross_entropy(yhat, y):\n",
    "    act = yhat[y]\n",
    "    return -act.log()"
   ]
  },
  {
   "cell_type": "code",
   "execution_count": 23,
   "id": "7c6200ab-6c26-43de-abc4-0cc3f7972fd4",
   "metadata": {
    "colab": {
     "base_uri": "https://localhost:8080/"
    },
    "executionInfo": {
     "elapsed": 18,
     "status": "ok",
     "timestamp": 1640212371480,
     "user": {
      "displayName": "Mike Frantz",
      "photoUrl": "https://lh3.googleusercontent.com/a-/AOh14GiGYCwZXGfGg-CE4_33PQcH9SW8fN6MyRkenN8-IA=s64",
      "userId": "08482506601269125384"
     },
     "user_tz": 480
    },
    "id": "7c6200ab-6c26-43de-abc4-0cc3f7972fd4",
    "outputId": "ce9026f1-efb5-47ec-f660-15c2830ee76b"
   },
   "outputs": [],
   "source": [
    "our_cross_entropy(t, 1)"
   ]
  },
  {
   "cell_type": "code",
   "execution_count": 24,
   "id": "3bca8cf6-750f-4ae4-8518-341b4009a80a",
   "metadata": {
    "executionInfo": {
     "elapsed": 17,
     "status": "ok",
     "timestamp": 1640212371481,
     "user": {
      "displayName": "Mike Frantz",
      "photoUrl": "https://lh3.googleusercontent.com/a-/AOh14GiGYCwZXGfGg-CE4_33PQcH9SW8fN6MyRkenN8-IA=s64",
      "userId": "08482506601269125384"
     },
     "user_tz": 480
    },
    "id": "3bca8cf6-750f-4ae4-8518-341b4009a80a"
   },
   "outputs": [],
   "source": [
    "def avg_cross_entropy(yhat, y):\n",
    "    return -yhat[:,y].log().mean()"
   ]
  },
  {
   "cell_type": "code",
   "execution_count": 25,
   "id": "dc3ce494-20d7-4ddd-9223-4581240f0f70",
   "metadata": {
    "colab": {
     "base_uri": "https://localhost:8080/"
    },
    "executionInfo": {
     "elapsed": 16,
     "status": "ok",
     "timestamp": 1640212371481,
     "user": {
      "displayName": "Mike Frantz",
      "photoUrl": "https://lh3.googleusercontent.com/a-/AOh14GiGYCwZXGfGg-CE4_33PQcH9SW8fN6MyRkenN8-IA=s64",
      "userId": "08482506601269125384"
     },
     "user_tz": 480
    },
    "id": "dc3ce494-20d7-4ddd-9223-4581240f0f70",
    "outputId": "7348cd26-9561-495b-e00a-276108fc5e85"
   },
   "outputs": [],
   "source": [
    "t = torch.randn(3, 3).softmax(dim=1)\n",
    "t"
   ]
  },
  {
   "cell_type": "code",
   "execution_count": 26,
   "id": "4cd3f1ce-bcc4-46c0-aa84-c48835be92c6",
   "metadata": {
    "colab": {
     "base_uri": "https://localhost:8080/"
    },
    "executionInfo": {
     "elapsed": 15,
     "status": "ok",
     "timestamp": 1640212371482,
     "user": {
      "displayName": "Mike Frantz",
      "photoUrl": "https://lh3.googleusercontent.com/a-/AOh14GiGYCwZXGfGg-CE4_33PQcH9SW8fN6MyRkenN8-IA=s64",
      "userId": "08482506601269125384"
     },
     "user_tz": 480
    },
    "id": "4cd3f1ce-bcc4-46c0-aa84-c48835be92c6",
    "outputId": "1e404084-77ef-451a-d14c-7f7183e51072"
   },
   "outputs": [],
   "source": [
    "y = torch.randint(low=0, high=3, size=(3,))\n",
    "y"
   ]
  },
  {
   "cell_type": "code",
   "execution_count": 27,
   "id": "aa705e9f-9bf7-41dd-965f-20a4dacdd233",
   "metadata": {
    "colab": {
     "base_uri": "https://localhost:8080/"
    },
    "executionInfo": {
     "elapsed": 13,
     "status": "ok",
     "timestamp": 1640212371482,
     "user": {
      "displayName": "Mike Frantz",
      "photoUrl": "https://lh3.googleusercontent.com/a-/AOh14GiGYCwZXGfGg-CE4_33PQcH9SW8fN6MyRkenN8-IA=s64",
      "userId": "08482506601269125384"
     },
     "user_tz": 480
    },
    "id": "aa705e9f-9bf7-41dd-965f-20a4dacdd233",
    "outputId": "c98b2a2b-bc2a-4984-e99a-c237b259e1d8"
   },
   "outputs": [],
   "source": [
    "avg_cross_entropy(t, y)"
   ]
  },
  {
   "cell_type": "code",
   "execution_count": 28,
   "id": "4576b010-35b4-4878-ad89-56a5f145e74f",
   "metadata": {
    "colab": {
     "base_uri": "https://localhost:8080/"
    },
    "executionInfo": {
     "elapsed": 386,
     "status": "ok",
     "timestamp": 1640212371858,
     "user": {
      "displayName": "Mike Frantz",
      "photoUrl": "https://lh3.googleusercontent.com/a-/AOh14GiGYCwZXGfGg-CE4_33PQcH9SW8fN6MyRkenN8-IA=s64",
      "userId": "08482506601269125384"
     },
     "user_tz": 480
    },
    "id": "4576b010-35b4-4878-ad89-56a5f145e74f",
    "outputId": "da747a9f-407e-4b4d-b391-e65f4dd80014"
   },
   "outputs": [],
   "source": [
    "a = 0.00000000000000000000000000001\n",
    "a * a"
   ]
  },
  {
   "cell_type": "code",
   "execution_count": 29,
   "id": "c5ca8989-cdca-4fe3-b1f1-3b77525686d0",
   "metadata": {
    "colab": {
     "base_uri": "https://localhost:8080/"
    },
    "executionInfo": {
     "elapsed": 21,
     "status": "ok",
     "timestamp": 1640212371859,
     "user": {
      "displayName": "Mike Frantz",
      "photoUrl": "https://lh3.googleusercontent.com/a-/AOh14GiGYCwZXGfGg-CE4_33PQcH9SW8fN6MyRkenN8-IA=s64",
      "userId": "08482506601269125384"
     },
     "user_tz": 480
    },
    "id": "c5ca8989-cdca-4fe3-b1f1-3b77525686d0",
    "outputId": "2cb5cdfe-2c08-4bef-e102-4f61f86c4ff8"
   },
   "outputs": [],
   "source": [
    "a = 100000000000000000000000000000.\n",
    "a * a"
   ]
  },
  {
   "cell_type": "code",
   "execution_count": 30,
   "id": "125c13f1-19b2-4c24-bbfb-e28ded1cee13",
   "metadata": {
    "executionInfo": {
     "elapsed": 18,
     "status": "ok",
     "timestamp": 1640212371859,
     "user": {
      "displayName": "Mike Frantz",
      "photoUrl": "https://lh3.googleusercontent.com/a-/AOh14GiGYCwZXGfGg-CE4_33PQcH9SW8fN6MyRkenN8-IA=s64",
      "userId": "08482506601269125384"
     },
     "user_tz": 480
    },
    "id": "125c13f1-19b2-4c24-bbfb-e28ded1cee13"
   },
   "outputs": [],
   "source": [
    "def make_classification_logits(n_classes, n_samples, pct_correct, confidence=1):\n",
    "    \"\"\"\n",
    "    This function returns simulated logits and classes.\n",
    "    \n",
    "    n_classes: nuber of classes\n",
    "    n_samples: number of rows\n",
    "    pct_correct: float between 0 and 1. The higher it is, \n",
    "                 the higher the % of logits that will \n",
    "                 generate the correct output.\n",
    "    confidence: controls how confident our logits are.\n",
    "                Closer to 0: less confident\n",
    "                Larger: more confident\n",
    "    \"\"\"\n",
    "    classes = list(range(n_classes))\n",
    "    # Randomly make logits\n",
    "    logits = np.random.uniform(-5., 5., (n_samples, n_classes))\n",
    "    # Randomly make labels\n",
    "    labels = np.random.choice(classes, size=(n_samples))\n",
    "    # Find the max of each row in logits\n",
    "    maxs = np.abs(logits).max(axis=1)\n",
    "    # For each row...\n",
    "    for i in range(len(maxs)):\n",
    "        # If we want the answer to be right...\n",
    "        if np.random.random() <= pct_correct:\n",
    "            # Make the correct item the highest logit\n",
    "            logits[i, labels[i]] = maxs[i] + np.random.random()*confidence\n",
    "        # If we want it to be wrong...\n",
    "        else:\n",
    "            # Make the highest logit a different index\n",
    "            _c = classes.copy()\n",
    "            _c.remove(classes[labels[i]])\n",
    "            _i = np.random.choice(_c)\n",
    "            logits[i, _i] = maxs[i] + np.random.random()/10        \n",
    "    \n",
    "    # Return logits and labels\n",
    "    return torch.FloatTensor(logits), torch.tensor(labels)"
   ]
  },
  {
   "cell_type": "code",
   "execution_count": 31,
   "id": "e06d518f-692d-4fc0-8494-1af479f48e39",
   "metadata": {
    "colab": {
     "base_uri": "https://localhost:8080/"
    },
    "executionInfo": {
     "elapsed": 17,
     "status": "ok",
     "timestamp": 1640212371859,
     "user": {
      "displayName": "Mike Frantz",
      "photoUrl": "https://lh3.googleusercontent.com/a-/AOh14GiGYCwZXGfGg-CE4_33PQcH9SW8fN6MyRkenN8-IA=s64",
      "userId": "08482506601269125384"
     },
     "user_tz": 480
    },
    "id": "e06d518f-692d-4fc0-8494-1af479f48e39",
    "outputId": "9ba5bc5c-94e6-45ec-aaa5-894d55204cb6"
   },
   "outputs": [],
   "source": [
    "# Create some logits and associated labels.\n",
    "# There will be some error here!\n",
    "logits, labels = make_classification_logits(3, 10, 0.8, confidence=1)\n",
    "logits"
   ]
  },
  {
   "cell_type": "code",
   "execution_count": 32,
   "id": "1372f1ee-f24c-4099-95fc-e43648cd4e30",
   "metadata": {
    "colab": {
     "base_uri": "https://localhost:8080/"
    },
    "executionInfo": {
     "elapsed": 16,
     "status": "ok",
     "timestamp": 1640212371860,
     "user": {
      "displayName": "Mike Frantz",
      "photoUrl": "https://lh3.googleusercontent.com/a-/AOh14GiGYCwZXGfGg-CE4_33PQcH9SW8fN6MyRkenN8-IA=s64",
      "userId": "08482506601269125384"
     },
     "user_tz": 480
    },
    "id": "1372f1ee-f24c-4099-95fc-e43648cd4e30",
    "outputId": "2c4651a9-365d-4b27-a25d-dbfe2694daca"
   },
   "outputs": [],
   "source": [
    "# What are the normalized predicted probabilities for each class?\n",
    "logits.softmax(dim=1)"
   ]
  },
  {
   "cell_type": "code",
   "execution_count": 33,
   "id": "dd3571b6-d001-4653-adb8-bd43b858be40",
   "metadata": {
    "colab": {
     "base_uri": "https://localhost:8080/"
    },
    "executionInfo": {
     "elapsed": 14,
     "status": "ok",
     "timestamp": 1640212371860,
     "user": {
      "displayName": "Mike Frantz",
      "photoUrl": "https://lh3.googleusercontent.com/a-/AOh14GiGYCwZXGfGg-CE4_33PQcH9SW8fN6MyRkenN8-IA=s64",
      "userId": "08482506601269125384"
     },
     "user_tz": 480
    },
    "id": "dd3571b6-d001-4653-adb8-bd43b858be40",
    "outputId": "1865835e-5c0f-4db5-fa22-70a447bdf210"
   },
   "outputs": [],
   "source": [
    "# What are the indices (classes) of the highest predicted probas?\n",
    "logits.softmax(dim=1).argmax(dim=1)"
   ]
  },
  {
   "cell_type": "code",
   "execution_count": 34,
   "id": "cae7a961-f88c-4c5c-bf09-546fe57202da",
   "metadata": {
    "colab": {
     "base_uri": "https://localhost:8080/"
    },
    "executionInfo": {
     "elapsed": 13,
     "status": "ok",
     "timestamp": 1640212371861,
     "user": {
      "displayName": "Mike Frantz",
      "photoUrl": "https://lh3.googleusercontent.com/a-/AOh14GiGYCwZXGfGg-CE4_33PQcH9SW8fN6MyRkenN8-IA=s64",
      "userId": "08482506601269125384"
     },
     "user_tz": 480
    },
    "id": "cae7a961-f88c-4c5c-bf09-546fe57202da",
    "outputId": "72bd27cc-7ff2-48de-b36d-f2be23c56ae1"
   },
   "outputs": [],
   "source": [
    "# How well do they match with our labels?\n",
    "labels"
   ]
  },
  {
   "cell_type": "code",
   "execution_count": 35,
   "id": "893d4464-c6f4-48f6-88f8-d75b3d007869",
   "metadata": {
    "executionInfo": {
     "elapsed": 11,
     "status": "ok",
     "timestamp": 1640212371861,
     "user": {
      "displayName": "Mike Frantz",
      "photoUrl": "https://lh3.googleusercontent.com/a-/AOh14GiGYCwZXGfGg-CE4_33PQcH9SW8fN6MyRkenN8-IA=s64",
      "userId": "08482506601269125384"
     },
     "user_tz": 480
    },
    "id": "893d4464-c6f4-48f6-88f8-d75b3d007869"
   },
   "outputs": [],
   "source": [
    "cross_entropy = nn.CrossEntropyLoss()"
   ]
  },
  {
   "cell_type": "code",
   "execution_count": 36,
   "id": "a0c75548-73f2-4129-88b4-5aae082a4fa9",
   "metadata": {
    "colab": {
     "base_uri": "https://localhost:8080/"
    },
    "executionInfo": {
     "elapsed": 12,
     "status": "ok",
     "timestamp": 1640212371862,
     "user": {
      "displayName": "Mike Frantz",
      "photoUrl": "https://lh3.googleusercontent.com/a-/AOh14GiGYCwZXGfGg-CE4_33PQcH9SW8fN6MyRkenN8-IA=s64",
      "userId": "08482506601269125384"
     },
     "user_tz": 480
    },
    "id": "a0c75548-73f2-4129-88b4-5aae082a4fa9",
    "outputId": "40075908-40ef-40cf-dd41-5e2fea1099bf"
   },
   "outputs": [],
   "source": [
    "cross_entropy(logits, labels)"
   ]
  },
  {
   "cell_type": "code",
   "execution_count": 37,
   "id": "2b51f071-5f1c-423d-8f01-06bca8734a8a",
   "metadata": {
    "colab": {
     "base_uri": "https://localhost:8080/"
    },
    "executionInfo": {
     "elapsed": 10,
     "status": "ok",
     "timestamp": 1640212371862,
     "user": {
      "displayName": "Mike Frantz",
      "photoUrl": "https://lh3.googleusercontent.com/a-/AOh14GiGYCwZXGfGg-CE4_33PQcH9SW8fN6MyRkenN8-IA=s64",
      "userId": "08482506601269125384"
     },
     "user_tz": 480
    },
    "id": "2b51f071-5f1c-423d-8f01-06bca8734a8a",
    "outputId": "f154bae4-0158-46c9-c05d-e7410dfced34"
   },
   "outputs": [],
   "source": [
    "F.cross_entropy(logits, labels)"
   ]
  },
  {
   "cell_type": "code",
   "execution_count": 38,
   "id": "c95783c6-f651-4058-b9f6-02bc92ae3e6a",
   "metadata": {
    "colab": {
     "base_uri": "https://localhost:8080/"
    },
    "executionInfo": {
     "elapsed": 23,
     "status": "ok",
     "timestamp": 1640212372110,
     "user": {
      "displayName": "Mike Frantz",
      "photoUrl": "https://lh3.googleusercontent.com/a-/AOh14GiGYCwZXGfGg-CE4_33PQcH9SW8fN6MyRkenN8-IA=s64",
      "userId": "08482506601269125384"
     },
     "user_tz": 480
    },
    "id": "c95783c6-f651-4058-b9f6-02bc92ae3e6a",
    "outputId": "e20d79ca-3bf6-4336-e10b-405b7b52c916"
   },
   "outputs": [],
   "source": [
    "torch.mean(\n",
    "    torch.tensor(\n",
    "        [our_cross_entropy(lo, la) \n",
    "         for lo, la # softmax of logits, labels\n",
    "         in zip(logits.softmax(dim=1), labels)\n",
    "        ]\n",
    "    )\n",
    ")"
   ]
  },
  {
   "cell_type": "code",
   "execution_count": 39,
   "id": "dd876b81-c5de-4336-8360-dc8f22c8e8ca",
   "metadata": {
    "colab": {
     "base_uri": "https://localhost:8080/"
    },
    "executionInfo": {
     "elapsed": 22,
     "status": "ok",
     "timestamp": 1640212372111,
     "user": {
      "displayName": "Mike Frantz",
      "photoUrl": "https://lh3.googleusercontent.com/a-/AOh14GiGYCwZXGfGg-CE4_33PQcH9SW8fN6MyRkenN8-IA=s64",
      "userId": "08482506601269125384"
     },
     "user_tz": 480
    },
    "id": "dd876b81-c5de-4336-8360-dc8f22c8e8ca",
    "outputId": "12b815f7-900c-49f9-b579-811a444f2cdf"
   },
   "outputs": [],
   "source": [
    "logits, labels = make_classification_logits(2, 10, 1., confidence=1)\n",
    "logits"
   ]
  },
  {
   "cell_type": "code",
   "execution_count": 40,
   "id": "b91b6b2a-5a19-46a4-bb58-3fe87e4c1b31",
   "metadata": {
    "colab": {
     "base_uri": "https://localhost:8080/"
    },
    "executionInfo": {
     "elapsed": 19,
     "status": "ok",
     "timestamp": 1640212372111,
     "user": {
      "displayName": "Mike Frantz",
      "photoUrl": "https://lh3.googleusercontent.com/a-/AOh14GiGYCwZXGfGg-CE4_33PQcH9SW8fN6MyRkenN8-IA=s64",
      "userId": "08482506601269125384"
     },
     "user_tz": 480
    },
    "id": "b91b6b2a-5a19-46a4-bb58-3fe87e4c1b31",
    "outputId": "5686611e-1858-40bc-8e02-1f0fb7b5f401"
   },
   "outputs": [],
   "source": [
    "logits.softmax(dim=1)"
   ]
  },
  {
   "cell_type": "code",
   "execution_count": 41,
   "id": "b95a3e3a-752e-4f1f-83b9-8872efc21304",
   "metadata": {
    "colab": {
     "base_uri": "https://localhost:8080/"
    },
    "executionInfo": {
     "elapsed": 18,
     "status": "ok",
     "timestamp": 1640212372112,
     "user": {
      "displayName": "Mike Frantz",
      "photoUrl": "https://lh3.googleusercontent.com/a-/AOh14GiGYCwZXGfGg-CE4_33PQcH9SW8fN6MyRkenN8-IA=s64",
      "userId": "08482506601269125384"
     },
     "user_tz": 480
    },
    "id": "b95a3e3a-752e-4f1f-83b9-8872efc21304",
    "outputId": "3de8dc73-b7ac-4eaf-88f0-80ee86b55437"
   },
   "outputs": [],
   "source": [
    "labels"
   ]
  },
  {
   "cell_type": "code",
   "execution_count": 42,
   "id": "a882a24b-a2bf-4a6d-a027-60b5dd9bc0b5",
   "metadata": {
    "colab": {
     "base_uri": "https://localhost:8080/"
    },
    "executionInfo": {
     "elapsed": 16,
     "status": "ok",
     "timestamp": 1640212372112,
     "user": {
      "displayName": "Mike Frantz",
      "photoUrl": "https://lh3.googleusercontent.com/a-/AOh14GiGYCwZXGfGg-CE4_33PQcH9SW8fN6MyRkenN8-IA=s64",
      "userId": "08482506601269125384"
     },
     "user_tz": 480
    },
    "id": "a882a24b-a2bf-4a6d-a027-60b5dd9bc0b5",
    "outputId": "0f3df797-7c0d-4329-ca78-b07ee66e93b7"
   },
   "outputs": [],
   "source": [
    "F.cross_entropy(logits, labels)"
   ]
  },
  {
   "cell_type": "code",
   "execution_count": 43,
   "id": "0181138d-656c-4a67-ac54-cb20e5ec367b",
   "metadata": {
    "executionInfo": {
     "elapsed": 15,
     "status": "ok",
     "timestamp": 1640212372113,
     "user": {
      "displayName": "Mike Frantz",
      "photoUrl": "https://lh3.googleusercontent.com/a-/AOh14GiGYCwZXGfGg-CE4_33PQcH9SW8fN6MyRkenN8-IA=s64",
      "userId": "08482506601269125384"
     },
     "user_tz": 480
    },
    "id": "0181138d-656c-4a67-ac54-cb20e5ec367b"
   },
   "outputs": [],
   "source": [
    "# Make some logits and labels, making sure not to get everything correct\n",
    "logits = torch.tensor([2.8, -1.4, 1.1, -.8])\n",
    "labels = torch.tensor([1., 0., 0., 0.])"
   ]
  },
  {
   "cell_type": "code",
   "execution_count": 44,
   "id": "2adf56d6-f69a-434f-b6ea-aead5c8f6825",
   "metadata": {
    "colab": {
     "base_uri": "https://localhost:8080/"
    },
    "executionInfo": {
     "elapsed": 14,
     "status": "ok",
     "timestamp": 1640212372113,
     "user": {
      "displayName": "Mike Frantz",
      "photoUrl": "https://lh3.googleusercontent.com/a-/AOh14GiGYCwZXGfGg-CE4_33PQcH9SW8fN6MyRkenN8-IA=s64",
      "userId": "08482506601269125384"
     },
     "user_tz": 480
    },
    "id": "2adf56d6-f69a-434f-b6ea-aead5c8f6825",
    "outputId": "0169deb4-9f8e-4c8a-f753-f97b9e0e8069"
   },
   "outputs": [],
   "source": [
    "# View the logits\n",
    "logits"
   ]
  },
  {
   "cell_type": "code",
   "execution_count": 45,
   "id": "39f9bea7-28f6-4c0e-90b4-dfca3e1edf27",
   "metadata": {
    "colab": {
     "base_uri": "https://localhost:8080/"
    },
    "executionInfo": {
     "elapsed": 13,
     "status": "ok",
     "timestamp": 1640212372114,
     "user": {
      "displayName": "Mike Frantz",
      "photoUrl": "https://lh3.googleusercontent.com/a-/AOh14GiGYCwZXGfGg-CE4_33PQcH9SW8fN6MyRkenN8-IA=s64",
      "userId": "08482506601269125384"
     },
     "user_tz": 480
    },
    "id": "39f9bea7-28f6-4c0e-90b4-dfca3e1edf27",
    "outputId": "017da26c-9677-4ea6-e488-703c70e09a3f"
   },
   "outputs": [],
   "source": [
    "# Normalize to probabilities\n",
    "logits.sigmoid()"
   ]
  },
  {
   "cell_type": "code",
   "execution_count": 46,
   "id": "1ca9d3d2-44e0-4fa4-b868-9710ca971646",
   "metadata": {
    "colab": {
     "base_uri": "https://localhost:8080/"
    },
    "executionInfo": {
     "elapsed": 11,
     "status": "ok",
     "timestamp": 1640212372114,
     "user": {
      "displayName": "Mike Frantz",
      "photoUrl": "https://lh3.googleusercontent.com/a-/AOh14GiGYCwZXGfGg-CE4_33PQcH9SW8fN6MyRkenN8-IA=s64",
      "userId": "08482506601269125384"
     },
     "user_tz": 480
    },
    "id": "1ca9d3d2-44e0-4fa4-b868-9710ca971646",
    "outputId": "44782abc-5725-403b-9e77-73795e5cdc00"
   },
   "outputs": [],
   "source": [
    "# Calculate the loss with the logits\n",
    "F.binary_cross_entropy_with_logits(logits, labels)"
   ]
  },
  {
   "cell_type": "code",
   "execution_count": 47,
   "id": "fdbda3a4-5087-4397-b9e8-4485365623a2",
   "metadata": {
    "colab": {
     "base_uri": "https://localhost:8080/"
    },
    "executionInfo": {
     "elapsed": 9,
     "status": "ok",
     "timestamp": 1640212372114,
     "user": {
      "displayName": "Mike Frantz",
      "photoUrl": "https://lh3.googleusercontent.com/a-/AOh14GiGYCwZXGfGg-CE4_33PQcH9SW8fN6MyRkenN8-IA=s64",
      "userId": "08482506601269125384"
     },
     "user_tz": 480
    },
    "id": "fdbda3a4-5087-4397-b9e8-4485365623a2",
    "outputId": "5f526b7a-f271-4a80-bbd0-9030ffb5b0af"
   },
   "outputs": [],
   "source": [
    "# Calculate the loss with the logits\n",
    "nn.BCEWithLogitsLoss()(logits, labels)"
   ]
  },
  {
   "cell_type": "code",
   "execution_count": 48,
   "id": "451dc1f8-78f9-4094-9190-8a9c2502c70f",
   "metadata": {
    "colab": {
     "base_uri": "https://localhost:8080/"
    },
    "executionInfo": {
     "elapsed": 17,
     "status": "ok",
     "timestamp": 1640212372358,
     "user": {
      "displayName": "Mike Frantz",
      "photoUrl": "https://lh3.googleusercontent.com/a-/AOh14GiGYCwZXGfGg-CE4_33PQcH9SW8fN6MyRkenN8-IA=s64",
      "userId": "08482506601269125384"
     },
     "user_tz": 480
    },
    "id": "451dc1f8-78f9-4094-9190-8a9c2502c70f",
    "outputId": "082085b2-3c8a-46d2-89a6-de444abfdb9d"
   },
   "outputs": [],
   "source": [
    "F.binary_cross_entropy(logits.sigmoid(), labels)"
   ]
  },
  {
   "cell_type": "code",
   "execution_count": 49,
   "id": "21a32a97-67ea-4f06-b806-0e11c4a9255d",
   "metadata": {
    "colab": {
     "base_uri": "https://localhost:8080/"
    },
    "executionInfo": {
     "elapsed": 15,
     "status": "ok",
     "timestamp": 1640212372358,
     "user": {
      "displayName": "Mike Frantz",
      "photoUrl": "https://lh3.googleusercontent.com/a-/AOh14GiGYCwZXGfGg-CE4_33PQcH9SW8fN6MyRkenN8-IA=s64",
      "userId": "08482506601269125384"
     },
     "user_tz": 480
    },
    "id": "21a32a97-67ea-4f06-b806-0e11c4a9255d",
    "outputId": "e526cce1-401b-4698-c29b-36220e55c50c"
   },
   "outputs": [],
   "source": [
    "nn.BCELoss()(logits.sigmoid(), labels)"
   ]
  },
  {
   "cell_type": "code",
   "execution_count": 50,
   "id": "2e52bfd7-a0fe-4b1b-80f2-61187f4a3abf",
   "metadata": {
    "colab": {
     "base_uri": "https://localhost:8080/"
    },
    "executionInfo": {
     "elapsed": 13,
     "status": "ok",
     "timestamp": 1640212372359,
     "user": {
      "displayName": "Mike Frantz",
      "photoUrl": "https://lh3.googleusercontent.com/a-/AOh14GiGYCwZXGfGg-CE4_33PQcH9SW8fN6MyRkenN8-IA=s64",
      "userId": "08482506601269125384"
     },
     "user_tz": 480
    },
    "id": "2e52bfd7-a0fe-4b1b-80f2-61187f4a3abf",
    "outputId": "ac1f0f5a-d411-43d8-f259-58d98e60a96e"
   },
   "outputs": [],
   "source": [
    "# Values are close...\n",
    "torch.allclose(F.binary_cross_entropy_with_logits(logits, labels), F.binary_cross_entropy(logits.sigmoid(), labels))"
   ]
  },
  {
   "cell_type": "code",
   "execution_count": 51,
   "id": "ef6fa6ce-6efe-44e4-b765-3c6db1959002",
   "metadata": {
    "colab": {
     "base_uri": "https://localhost:8080/"
    },
    "executionInfo": {
     "elapsed": 11,
     "status": "ok",
     "timestamp": 1640212372359,
     "user": {
      "displayName": "Mike Frantz",
      "photoUrl": "https://lh3.googleusercontent.com/a-/AOh14GiGYCwZXGfGg-CE4_33PQcH9SW8fN6MyRkenN8-IA=s64",
      "userId": "08482506601269125384"
     },
     "user_tz": 480
    },
    "id": "ef6fa6ce-6efe-44e4-b765-3c6db1959002",
    "outputId": "560f814d-1af9-4777-8a14-42499b7fff4c"
   },
   "outputs": [],
   "source": [
    "# ... but not the same\n",
    "F.binary_cross_entropy_with_logits(logits, labels) == F.binary_cross_entropy(logits.sigmoid(), labels)"
   ]
  },
  {
   "cell_type": "code",
   "execution_count": 52,
   "id": "05d38285-180a-4b25-8f95-81f0c41e0984",
   "metadata": {
    "colab": {
     "base_uri": "https://localhost:8080/"
    },
    "executionInfo": {
     "elapsed": 10,
     "status": "ok",
     "timestamp": 1640212372360,
     "user": {
      "displayName": "Mike Frantz",
      "photoUrl": "https://lh3.googleusercontent.com/a-/AOh14GiGYCwZXGfGg-CE4_33PQcH9SW8fN6MyRkenN8-IA=s64",
      "userId": "08482506601269125384"
     },
     "user_tz": 480
    },
    "id": "05d38285-180a-4b25-8f95-81f0c41e0984",
    "outputId": "b8bb5b9c-23a0-4fc6-bf53-4980c6534eff"
   },
   "outputs": [],
   "source": [
    "F.binary_cross_entropy_with_logits(logits, labels) - F.binary_cross_entropy(logits.sigmoid(), labels)"
   ]
  },
  {
   "cell_type": "code",
   "execution_count": 53,
   "id": "fcd95d69-c4e6-4b1c-a4c3-5d105f7138c1",
   "metadata": {
    "colab": {
     "base_uri": "https://localhost:8080/"
    },
    "executionInfo": {
     "elapsed": 8,
     "status": "ok",
     "timestamp": 1640212372360,
     "user": {
      "displayName": "Mike Frantz",
      "photoUrl": "https://lh3.googleusercontent.com/a-/AOh14GiGYCwZXGfGg-CE4_33PQcH9SW8fN6MyRkenN8-IA=s64",
      "userId": "08482506601269125384"
     },
     "user_tz": 480
    },
    "id": "fcd95d69-c4e6-4b1c-a4c3-5d105f7138c1",
    "outputId": "00903c1d-ad0d-4deb-8e17-b6f4677c3bd0"
   },
   "outputs": [],
   "source": [
    "# Column 0 may be the p(happy) = 1 - p(sad), \n",
    "# and column 2 may be p(lakers) = 1 - p(not lakers)\n",
    "logits = torch.randn(10, 2) * 2\n",
    "logits"
   ]
  },
  {
   "cell_type": "code",
   "execution_count": 54,
   "id": "edd2d0d2-c402-47a6-9841-bc9d4cc5a06c",
   "metadata": {
    "colab": {
     "base_uri": "https://localhost:8080/"
    },
    "executionInfo": {
     "elapsed": 261,
     "status": "ok",
     "timestamp": 1640212372616,
     "user": {
      "displayName": "Mike Frantz",
      "photoUrl": "https://lh3.googleusercontent.com/a-/AOh14GiGYCwZXGfGg-CE4_33PQcH9SW8fN6MyRkenN8-IA=s64",
      "userId": "08482506601269125384"
     },
     "user_tz": 480
    },
    "id": "edd2d0d2-c402-47a6-9841-bc9d4cc5a06c",
    "outputId": "dc0afc89-179a-428b-c9b3-153334a1069b"
   },
   "outputs": [],
   "source": [
    "labels = torch.randint(0, 2, (10, 2)).float()\n",
    "labels"
   ]
  },
  {
   "cell_type": "code",
   "execution_count": 55,
   "id": "7ea5dba6-6372-4073-b618-2f38e15dbf9e",
   "metadata": {
    "colab": {
     "base_uri": "https://localhost:8080/"
    },
    "executionInfo": {
     "elapsed": 17,
     "status": "ok",
     "timestamp": 1640212372617,
     "user": {
      "displayName": "Mike Frantz",
      "photoUrl": "https://lh3.googleusercontent.com/a-/AOh14GiGYCwZXGfGg-CE4_33PQcH9SW8fN6MyRkenN8-IA=s64",
      "userId": "08482506601269125384"
     },
     "user_tz": 480
    },
    "id": "7ea5dba6-6372-4073-b618-2f38e15dbf9e",
    "outputId": "a1962034-4ffc-4a7c-c237-cd97f7346819"
   },
   "outputs": [],
   "source": [
    "logits.sigmoid()"
   ]
  },
  {
   "cell_type": "code",
   "execution_count": 56,
   "id": "14abfb18-1cfa-4cb6-ba84-2bb4ceb2d314",
   "metadata": {
    "executionInfo": {
     "elapsed": 14,
     "status": "ok",
     "timestamp": 1640212372617,
     "user": {
      "displayName": "Mike Frantz",
      "photoUrl": "https://lh3.googleusercontent.com/a-/AOh14GiGYCwZXGfGg-CE4_33PQcH9SW8fN6MyRkenN8-IA=s64",
      "userId": "08482506601269125384"
     },
     "user_tz": 480
    },
    "id": "14abfb18-1cfa-4cb6-ba84-2bb4ceb2d314"
   },
   "outputs": [],
   "source": [
    "bce = nn.BCEWithLogitsLoss()"
   ]
  },
  {
   "cell_type": "code",
   "execution_count": 57,
   "id": "e15bf047-58bd-43fc-aeed-3c29f0dfaea2",
   "metadata": {
    "colab": {
     "base_uri": "https://localhost:8080/"
    },
    "executionInfo": {
     "elapsed": 15,
     "status": "ok",
     "timestamp": 1640212372618,
     "user": {
      "displayName": "Mike Frantz",
      "photoUrl": "https://lh3.googleusercontent.com/a-/AOh14GiGYCwZXGfGg-CE4_33PQcH9SW8fN6MyRkenN8-IA=s64",
      "userId": "08482506601269125384"
     },
     "user_tz": 480
    },
    "id": "e15bf047-58bd-43fc-aeed-3c29f0dfaea2",
    "outputId": "b3244a2f-8817-4ea9-d952-e9a851b70c55"
   },
   "outputs": [],
   "source": [
    "bce(logits, labels)"
   ]
  },
  {
   "cell_type": "code",
   "execution_count": 58,
   "id": "8feff5a7-8d98-4778-b8ae-caf9e3fa760b",
   "metadata": {
    "colab": {
     "base_uri": "https://localhost:8080/"
    },
    "executionInfo": {
     "elapsed": 12,
     "status": "ok",
     "timestamp": 1640212372618,
     "user": {
      "displayName": "Mike Frantz",
      "photoUrl": "https://lh3.googleusercontent.com/a-/AOh14GiGYCwZXGfGg-CE4_33PQcH9SW8fN6MyRkenN8-IA=s64",
      "userId": "08482506601269125384"
     },
     "user_tz": 480
    },
    "id": "8feff5a7-8d98-4778-b8ae-caf9e3fa760b",
    "outputId": "99cbc5b0-019e-4348-d042-f68aef873793"
   },
   "outputs": [],
   "source": [
    "bce(logits[:,0], labels[:,0])"
   ]
  },
  {
   "cell_type": "code",
   "execution_count": 59,
   "id": "342eba5c-8cbb-4153-a06a-6f339d0e978a",
   "metadata": {
    "colab": {
     "base_uri": "https://localhost:8080/"
    },
    "executionInfo": {
     "elapsed": 11,
     "status": "ok",
     "timestamp": 1640212372618,
     "user": {
      "displayName": "Mike Frantz",
      "photoUrl": "https://lh3.googleusercontent.com/a-/AOh14GiGYCwZXGfGg-CE4_33PQcH9SW8fN6MyRkenN8-IA=s64",
      "userId": "08482506601269125384"
     },
     "user_tz": 480
    },
    "id": "342eba5c-8cbb-4153-a06a-6f339d0e978a",
    "outputId": "1f0128eb-11e6-4844-8cc7-bc169bf083d8"
   },
   "outputs": [],
   "source": [
    "bce(logits[:,1], labels[:,1])"
   ]
  },
  {
   "cell_type": "code",
   "execution_count": 60,
   "id": "9dcbdf7f-22a8-4818-b741-d83f2cbaf526",
   "metadata": {
    "colab": {
     "base_uri": "https://localhost:8080/"
    },
    "executionInfo": {
     "elapsed": 9,
     "status": "ok",
     "timestamp": 1640212372619,
     "user": {
      "displayName": "Mike Frantz",
      "photoUrl": "https://lh3.googleusercontent.com/a-/AOh14GiGYCwZXGfGg-CE4_33PQcH9SW8fN6MyRkenN8-IA=s64",
      "userId": "08482506601269125384"
     },
     "user_tz": 480
    },
    "id": "9dcbdf7f-22a8-4818-b741-d83f2cbaf526",
    "outputId": "0d52a3b5-b9df-4a43-fb98-8e3f140d5f55"
   },
   "outputs": [],
   "source": [
    "(bce(logits[:,0], labels[:,0]) + bce(logits[:,1], labels[:,1])) / 2"
   ]
  },
  {
   "cell_type": "code",
   "execution_count": 60,
   "id": "uO6S8zMd-Vaf",
   "metadata": {
    "executionInfo": {
     "elapsed": 7,
     "status": "ok",
     "timestamp": 1640212372619,
     "user": {
      "displayName": "Mike Frantz",
      "photoUrl": "https://lh3.googleusercontent.com/a-/AOh14GiGYCwZXGfGg-CE4_33PQcH9SW8fN6MyRkenN8-IA=s64",
      "userId": "08482506601269125384"
     },
     "user_tz": 480
    },
    "id": "uO6S8zMd-Vaf"
   },
   "outputs": [],
   "source": []
  }
 ],
 "metadata": {
  "colab": {
   "collapsed_sections": [],
   "name": "05_Loss_Functions.ipynb",
   "provenance": []
  },
  "kernelspec": {
   "display_name": "cndl",
   "language": "python",
   "name": "cndl"
  },
  "language_info": {
   "codemirror_mode": {
    "name": "ipython",
    "version": 3
   },
   "file_extension": ".py",
   "mimetype": "text/x-python",
   "name": "python",
   "nbconvert_exporter": "python",
   "pygments_lexer": "ipython3",
   "version": "3.9.4"
  }
 },
 "nbformat": 4,
 "nbformat_minor": 5
}
