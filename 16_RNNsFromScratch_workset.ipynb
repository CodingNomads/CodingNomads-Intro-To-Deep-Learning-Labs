{
 "cells": [
  {
   "cell_type": "code",
   "execution_count": 1,
   "metadata": {
    "executionInfo": {
     "elapsed": 2221,
     "status": "ok",
     "timestamp": 1664234844139,
     "user": {
      "displayName": "Mike Frantz",
      "userId": "08482506601269125384"
     },
     "user_tz": 420
    },
    "id": "HBdUAFksPNPA"
   },
   "outputs": [],
   "source": [
    "import torch\n",
    "from torch import nn\n",
    "import torch.nn.functional as F\n",
    "from torch import optim\n",
    "import numpy as np\n",
    "import matplotlib.pyplot as plt\n",
    "from torch.utils.data import Dataset, DataLoader"
   ]
  },
  {
   "cell_type": "code",
   "execution_count": 2,
   "metadata": {
    "executionInfo": {
     "elapsed": 5,
     "status": "ok",
     "timestamp": 1664234844139,
     "user": {
      "displayName": "Mike Frantz",
      "userId": "08482506601269125384"
     },
     "user_tz": 420
    },
    "id": "2GxvYY1FvaIt"
   },
   "outputs": [],
   "source": [
    "DEVICE = 'cuda:0' if torch.cuda.is_available() else 'cpu:0'"
   ]
  },
  {
   "cell_type": "code",
   "execution_count": 3,
   "metadata": {
    "executionInfo": {
     "elapsed": 5,
     "status": "ok",
     "timestamp": 1664234844140,
     "user": {
      "displayName": "Mike Frantz",
      "userId": "08482506601269125384"
     },
     "user_tz": 420
    },
    "id": "80lnplVGQmPt"
   },
   "outputs": [],
   "source": [
    "TRAIN_STEPS = 4000\n",
    "VALID_STEPS = TRAIN_STEPS // 2\n",
    "X = torch.sin(torch.linspace(0, 25, TRAIN_STEPS + VALID_STEPS)) + torch.randn(TRAIN_STEPS + VALID_STEPS) * 0.3"
   ]
  },
  {
   "cell_type": "code",
   "execution_count": 4,
   "metadata": {
    "colab": {
     "base_uri": "https://localhost:8080/",
     "height": 610
    },
    "executionInfo": {
     "elapsed": 660,
     "status": "ok",
     "timestamp": 1664234844795,
     "user": {
      "displayName": "Mike Frantz",
      "userId": "08482506601269125384"
     },
     "user_tz": 420
    },
    "id": "jVP7LQp7Qw2e",
    "outputId": "226345fd-9b23-4f16-b9fe-acc241e18325"
   },
   "outputs": [],
   "source": [
    "fig, ax = plt.subplots(figsize=(12,10))\n",
    "ax.plot(range(TRAIN_STEPS), X[:TRAIN_STEPS], alpha=1.0, label='X (train)')\n",
    "ax.plot(range(TRAIN_STEPS, TRAIN_STEPS + VALID_STEPS), X[TRAIN_STEPS:], label='X (valid)')\n",
    "ax.legend()"
   ]
  },
  {
   "cell_type": "code",
   "execution_count": 5,
   "metadata": {
    "executionInfo": {
     "elapsed": 13,
     "status": "ok",
     "timestamp": 1664234844796,
     "user": {
      "displayName": "Mike Frantz",
      "userId": "08482506601269125384"
     },
     "user_tz": 420
    },
    "id": "xkQUIIZd0trp"
   },
   "outputs": [],
   "source": [
    "x_train = X[:TRAIN_STEPS]\n",
    "x_valid = X[TRAIN_STEPS:]"
   ]
  },
  {
   "cell_type": "code",
   "execution_count": 6,
   "metadata": {
    "executionInfo": {
     "elapsed": 13,
     "status": "ok",
     "timestamp": 1664234844796,
     "user": {
      "displayName": "Mike Frantz",
      "userId": "08482506601269125384"
     },
     "user_tz": 420
    },
    "id": "dq-Vf_A_Q37d"
   },
   "outputs": [],
   "source": [
    "N_STEPS_BACK = 30"
   ]
  },
  {
   "cell_type": "code",
   "execution_count": 7,
   "metadata": {
    "executionInfo": {
     "elapsed": 13,
     "status": "ok",
     "timestamp": 1664234844797,
     "user": {
      "displayName": "Mike Frantz",
      "userId": "08482506601269125384"
     },
     "user_tz": 420
    },
    "id": "yOndA8K9AId0"
   },
   "outputs": [],
   "source": [
    "class TimeSeriesDataset(Dataset):\n",
    "    def __init__(self, series, n_steps):\n",
    "        super().__init__()\n",
    "        # store the time series\n",
    "        self.series = series\n",
    "        # store the number of steps back we go\n",
    "        self.n_steps = n_steps\n",
    "\n",
    "    def __len__(self):\n",
    "        # The number of items we have here is the length of the\n",
    "        # series - the number of steps - 1.\n",
    "        # The 1 comes from the way we shift our X to create our y.\n",
    "        return len(self.series) - self.n_steps - 1\n",
    "    def __getitem__(self, idx):\n",
    "        # Our X is the window of values ranging from idx to idx + self.n_steps\n",
    "        # We unsqueeze here to create a `n_features` dimension.\n",
    "        X = self.series[idx:idx+self.n_steps].unsqueeze(-1)\n",
    "        # Our Y is X shifted by 1 in the future.\n",
    "        Y = self.series[idx + 1:idx+self.n_steps + 1].unsqueeze(-1)\n",
    "        return X, Y"
   ]
  },
  {
   "cell_type": "code",
   "execution_count": 8,
   "metadata": {
    "executionInfo": {
     "elapsed": 13,
     "status": "ok",
     "timestamp": 1664234844797,
     "user": {
      "displayName": "Mike Frantz",
      "userId": "08482506601269125384"
     },
     "user_tz": 420
    },
    "id": "xeVoPZVbwDws"
   },
   "outputs": [],
   "source": [
    "ts_train = TimeSeriesDataset(x_train, N_STEPS_BACK)\n",
    "ts_valid = TimeSeriesDataset(x_valid, N_STEPS_BACK)"
   ]
  },
  {
   "cell_type": "code",
   "execution_count": 9,
   "metadata": {
    "colab": {
     "base_uri": "https://localhost:8080/"
    },
    "executionInfo": {
     "elapsed": 13,
     "status": "ok",
     "timestamp": 1664234844798,
     "user": {
      "displayName": "Mike Frantz",
      "userId": "08482506601269125384"
     },
     "user_tz": 420
    },
    "id": "GqFyNLBPwPhC",
    "outputId": "1e2d3524-c33c-4e17-c72f-c2626f66d2c2"
   },
   "outputs": [],
   "source": [
    "x, y = ts_train[0]\n",
    "x.squeeze(), y.squeeze()"
   ]
  },
  {
   "cell_type": "code",
   "execution_count": 10,
   "metadata": {
    "executionInfo": {
     "elapsed": 12,
     "status": "ok",
     "timestamp": 1664234844799,
     "user": {
      "displayName": "Mike Frantz",
      "userId": "08482506601269125384"
     },
     "user_tz": 420
    },
    "id": "1mA_omIRzdvp"
   },
   "outputs": [],
   "source": [
    "train_dl = DataLoader(ts_train, batch_size=8, shuffle=True)\n",
    "valid_dl = DataLoader(ts_valid, batch_size=8, shuffle=False)"
   ]
  },
  {
   "cell_type": "code",
   "execution_count": 11,
   "metadata": {
    "executionInfo": {
     "elapsed": 11,
     "status": "ok",
     "timestamp": 1664234844799,
     "user": {
      "displayName": "Mike Frantz",
      "userId": "08482506601269125384"
     },
     "user_tz": 420
    },
    "id": "4JGRQowdzaU8"
   },
   "outputs": [],
   "source": [
    "class RNNCell(nn.Module):\n",
    "    def __init__(self, n_inputs, n_outputs):\n",
    "        super().__init__()\n",
    "        # W_hh_t-1\n",
    "        self.h = nn.Linear(n_outputs, n_outputs)\n",
    "        # W_xx_t\n",
    "        self.x = nn.Linear(n_inputs, n_outputs)\n",
    "\n",
    "    def forward(self, input, hidden):\n",
    "        return torch.tanh(self.h(hidden) + self.x(input))"
   ]
  },
  {
   "cell_type": "code",
   "execution_count": 12,
   "metadata": {
    "executionInfo": {
     "elapsed": 11,
     "status": "ok",
     "timestamp": 1664234844800,
     "user": {
      "displayName": "Mike Frantz",
      "userId": "08482506601269125384"
     },
     "user_tz": 420
    },
    "id": "V06Xdq9R4dp8"
   },
   "outputs": [],
   "source": [
    "r = RNNCell(1, 1)"
   ]
  },
  {
   "cell_type": "code",
   "execution_count": 13,
   "metadata": {
    "executionInfo": {
     "elapsed": 2,
     "status": "ok",
     "timestamp": 1664234845008,
     "user": {
      "displayName": "Mike Frantz",
      "userId": "08482506601269125384"
     },
     "user_tz": 420
    },
    "id": "Oe4L4O7B8L9y"
   },
   "outputs": [],
   "source": [
    "# Fetch a batch of data\n",
    "x, y = next(iter(train_dl))\n",
    "# Get the first time step for the batch\n",
    "inputs = x[:, 0, :]\n",
    "# Create a hidden state that's of shape batch_size x output_dim\n",
    "hidden = torch.zeros(inputs.shape[0], 1)"
   ]
  },
  {
   "cell_type": "code",
   "execution_count": 14,
   "metadata": {
    "colab": {
     "base_uri": "https://localhost:8080/"
    },
    "executionInfo": {
     "elapsed": 2,
     "status": "ok",
     "timestamp": 1664234845811,
     "user": {
      "displayName": "Mike Frantz",
      "userId": "08482506601269125384"
     },
     "user_tz": 420
    },
    "id": "1rKJUMg58UDv",
    "outputId": "f173c56b-fb04-4eb2-fd94-89e314bc1d8f"
   },
   "outputs": [],
   "source": [
    "inputs"
   ]
  },
  {
   "cell_type": "code",
   "execution_count": 15,
   "metadata": {
    "colab": {
     "base_uri": "https://localhost:8080/"
    },
    "executionInfo": {
     "elapsed": 207,
     "status": "ok",
     "timestamp": 1664234846824,
     "user": {
      "displayName": "Mike Frantz",
      "userId": "08482506601269125384"
     },
     "user_tz": 420
    },
    "id": "i7N5BJxoqsix",
    "outputId": "33aa0399-f921-42e6-b00e-cff8cba0ac5d"
   },
   "outputs": [],
   "source": [
    "hidden"
   ]
  },
  {
   "cell_type": "code",
   "execution_count": 16,
   "metadata": {
    "executionInfo": {
     "elapsed": 164,
     "status": "ok",
     "timestamp": 1664234847978,
     "user": {
      "displayName": "Mike Frantz",
      "userId": "08482506601269125384"
     },
     "user_tz": 420
    },
    "id": "wG60gWMs4-dM"
   },
   "outputs": [],
   "source": [
    "outputs = r(inputs, hidden)"
   ]
  },
  {
   "cell_type": "code",
   "execution_count": 17,
   "metadata": {
    "colab": {
     "base_uri": "https://localhost:8080/"
    },
    "executionInfo": {
     "elapsed": 3,
     "status": "ok",
     "timestamp": 1664234848517,
     "user": {
      "displayName": "Mike Frantz",
      "userId": "08482506601269125384"
     },
     "user_tz": 420
    },
    "id": "7WajsZiTqy9K",
    "outputId": "ed6c4166-c182-437b-a706-04c8c9dc8790"
   },
   "outputs": [],
   "source": [
    "outputs"
   ]
  },
  {
   "cell_type": "code",
   "execution_count": 18,
   "metadata": {
    "executionInfo": {
     "elapsed": 202,
     "status": "ok",
     "timestamp": 1664234849834,
     "user": {
      "displayName": "Mike Frantz",
      "userId": "08482506601269125384"
     },
     "user_tz": 420
    },
    "id": "NAqfyLJP1koE"
   },
   "outputs": [],
   "source": [
    "class RNN(nn.Module):\n",
    "    def __init__(self, n_inputs, n_outputs, cell):\n",
    "        super().__init__()\n",
    "        self.n_inputs = n_inputs\n",
    "        self.n_outputs = n_outputs\n",
    "        self.cell = cell(n_inputs, n_outputs)\n",
    "    \n",
    "    def forward(self, inputs):\n",
    "        outputs = []\n",
    "        # Initialize the hidden state as a tensor of zeros\n",
    "        hidden_state = torch.zeros(inputs.shape[0], self.n_outputs).to(DEVICE)\n",
    "        n_steps = inputs.shape[1]\n",
    "        # For each time step...\n",
    "        for i in range(n_steps):\n",
    "            # The hidden state is now the outputs of the x_t and h_t-1\n",
    "            hidden_state = self.cell(inputs[:, i], hidden_state)\n",
    "            # Store the hidden state\n",
    "            outputs.append(hidden_state)\n",
    "        \n",
    "        # Return a tensor of the historical outputs and the final hidden state\n",
    "        return torch.stack(outputs, dim=1), hidden_state"
   ]
  },
  {
   "cell_type": "code",
   "execution_count": 19,
   "metadata": {
    "executionInfo": {
     "elapsed": 6906,
     "status": "ok",
     "timestamp": 1664234857982,
     "user": {
      "displayName": "Mike Frantz",
      "userId": "08482506601269125384"
     },
     "user_tz": 420
    },
    "id": "CbWzX8pC2oGL"
   },
   "outputs": [],
   "source": [
    "our_model = RNN(1, 1, RNNCell).to(DEVICE)\n",
    "torch_model = nn.RNN(input_size=1, hidden_size=1, num_layers=1, batch_first=True).to(DEVICE)"
   ]
  },
  {
   "cell_type": "code",
   "execution_count": 20,
   "metadata": {
    "colab": {
     "base_uri": "https://localhost:8080/"
    },
    "executionInfo": {
     "elapsed": 4,
     "status": "ok",
     "timestamp": 1664234857982,
     "user": {
      "displayName": "Mike Frantz",
      "userId": "08482506601269125384"
     },
     "user_tz": 420
    },
    "id": "0306p6Z8BUMi",
    "outputId": "3ae64ed8-b1d3-4c46-ec0b-daba9a9ddec6"
   },
   "outputs": [],
   "source": [
    "seq, state = our_model(x.to(DEVICE))\n",
    "seq.shape, state.shape"
   ]
  },
  {
   "cell_type": "code",
   "execution_count": 21,
   "metadata": {
    "colab": {
     "base_uri": "https://localhost:8080/"
    },
    "executionInfo": {
     "elapsed": 588,
     "status": "ok",
     "timestamp": 1664234858567,
     "user": {
      "displayName": "Mike Frantz",
      "userId": "08482506601269125384"
     },
     "user_tz": 420
    },
    "id": "Q6vxAY9B3PSj",
    "outputId": "e37220e7-6cfd-4e6c-b3c2-fc0821a6f01d"
   },
   "outputs": [],
   "source": [
    "seq, state = torch_model(x.to(DEVICE))\n",
    "seq.shape, state.shape"
   ]
  },
  {
   "cell_type": "code",
   "execution_count": 22,
   "metadata": {
    "executionInfo": {
     "elapsed": 2,
     "status": "ok",
     "timestamp": 1664234858567,
     "user": {
      "displayName": "Mike Frantz",
      "userId": "08482506601269125384"
     },
     "user_tz": 420
    },
    "id": "Ff1H0RYK-bgQ"
   },
   "outputs": [],
   "source": [
    "our_opt = optim.Adam(our_model.parameters())\n",
    "torch_opt = optim.Adam(torch_model.parameters())"
   ]
  },
  {
   "cell_type": "code",
   "execution_count": 23,
   "metadata": {
    "colab": {
     "base_uri": "https://localhost:8080/"
    },
    "executionInfo": {
     "elapsed": 57840,
     "status": "ok",
     "timestamp": 1664234916405,
     "user": {
      "displayName": "Mike Frantz",
      "userId": "08482506601269125384"
     },
     "user_tz": 420
    },
    "id": "Sf8vGQgF9y0g",
    "outputId": "e2bc0d68-091f-4374-c7be-e9c98a3f6275"
   },
   "outputs": [],
   "source": [
    "N_EPOCHS = 10\n",
    "for i in range(N_EPOCHS):\n",
    "    # train loop\n",
    "    our_epoch_loss = 0.\n",
    "    torch_epoch_loss = 0.\n",
    "    n_batches = 0\n",
    "    our_model.train()\n",
    "    torch_model.train()\n",
    "    for x, y in train_dl:\n",
    "        x = x.to(DEVICE)\n",
    "        y = y.to(DEVICE)\n",
    "        seq, state = our_model(x)\n",
    "        loss = F.mse_loss(seq, y)\n",
    "        our_epoch_loss += loss.item()\n",
    "\n",
    "        loss.backward()\n",
    "        our_opt.step()\n",
    "        our_opt.zero_grad()\n",
    "\n",
    "        seq, state = torch_model(x)\n",
    "        loss = F.mse_loss(seq, y)\n",
    "        torch_epoch_loss += loss.item()\n",
    "\n",
    "        loss.backward()\n",
    "        torch_opt.step()\n",
    "        torch_opt.zero_grad()\n",
    "\n",
    "        n_batches += 1\n",
    "    \n",
    "    our_train_loss = our_epoch_loss/n_batches\n",
    "    torch_train_loss = torch_epoch_loss/n_batches\n",
    "\n",
    "    # valid loop\n",
    "    our_epoch_loss = 0.\n",
    "    torch_epoch_loss = 0.\n",
    "    n_batches = 0\n",
    "    our_model.eval()\n",
    "    torch_model.eval()\n",
    "    for x, y in valid_dl:\n",
    "        x = x.to(DEVICE)\n",
    "        y = y.to(DEVICE)\n",
    "        with torch.no_grad():\n",
    "            seq, state = our_model(x)\n",
    "        loss = F.mse_loss(seq, y)\n",
    "        our_epoch_loss += loss.item()\n",
    "\n",
    "        with torch.no_grad():\n",
    "            seq, state = torch_model(x)\n",
    "        loss = F.mse_loss(seq, y)\n",
    "        torch_epoch_loss += loss.item()\n",
    "\n",
    "        torch_opt.step()\n",
    "        torch_opt.zero_grad()\n",
    "\n",
    "        n_batches += 1\n",
    "\n",
    "    our_valid_loss = our_epoch_loss/n_batches\n",
    "    torch_valid_loss = torch_epoch_loss/n_batches\n",
    "\n",
    "    \n",
    "    print(f\"Epoch: {i}, Our train MSE: {our_epoch_loss/n_batches:.05f}, Torch train MSE: {torch_epoch_loss/n_batches:.05f}, Our valid MSE: {our_valid_loss/n_batches:.05f}, Torch valid MSE: {torch_valid_loss/n_batches:.05f}\")\n"
   ]
  },
  {
   "cell_type": "code",
   "execution_count": 24,
   "metadata": {
    "executionInfo": {
     "elapsed": 3,
     "status": "ok",
     "timestamp": 1664234916405,
     "user": {
      "displayName": "Mike Frantz",
      "userId": "08482506601269125384"
     },
     "user_tz": 420
    },
    "id": "y-sZ_o7su3D9"
   },
   "outputs": [],
   "source": [
    "x, y = next(iter(train_dl))\n",
    "x = x.to(DEVICE)\n",
    "y = y.to(DEVICE)"
   ]
  },
  {
   "cell_type": "code",
   "execution_count": 25,
   "metadata": {
    "colab": {
     "base_uri": "https://localhost:8080/"
    },
    "executionInfo": {
     "elapsed": 2630,
     "status": "ok",
     "timestamp": 1664234919032,
     "user": {
      "displayName": "Mike Frantz",
      "userId": "08482506601269125384"
     },
     "user_tz": 420
    },
    "id": "ZC1VtrTGD2XU",
    "outputId": "f7e4579c-eb47-4bae-e138-af931662c39c"
   },
   "outputs": [],
   "source": [
    "%%timeit\n",
    "our_model(x)"
   ]
  },
  {
   "cell_type": "code",
   "execution_count": 26,
   "metadata": {
    "colab": {
     "base_uri": "https://localhost:8080/"
    },
    "executionInfo": {
     "elapsed": 12396,
     "status": "ok",
     "timestamp": 1664234931425,
     "user": {
      "displayName": "Mike Frantz",
      "userId": "08482506601269125384"
     },
     "user_tz": 420
    },
    "id": "T3cv9wGXEQAd",
    "outputId": "3d0ddad4-c97f-4006-ec20-fe500f8bdd68"
   },
   "outputs": [],
   "source": [
    "%%timeit\n",
    "torch_model(x)"
   ]
  },
  {
   "cell_type": "code",
   "execution_count": 27,
   "metadata": {
    "executionInfo": {
     "elapsed": 164,
     "status": "ok",
     "timestamp": 1664234954180,
     "user": {
      "displayName": "Mike Frantz",
      "userId": "08482506601269125384"
     },
     "user_tz": 420
    },
    "id": "kV_aQ1cgCTIw"
   },
   "outputs": [],
   "source": [
    "class OurGRUCell(nn.Module):\n",
    "    def __init__(self, in_dim, out_dim):\n",
    "        super().__init__()\n",
    "        self.in_dim = in_dim\n",
    "        self.out_dim = out_dim\n",
    "        # Combine Wxr and Whr\n",
    "        self.R = nn.Linear(in_dim + out_dim, out_dim)\n",
    "        # Combine Wxz and Whz\n",
    "        self.Z = nn.Linear(in_dim + out_dim, out_dim)\n",
    "        # Combine Whx and Whz\n",
    "        self.H = nn.Linear(in_dim + out_dim, out_dim)\n",
    "\n",
    "    def forward(self, inputs, hidden_state):\n",
    "        xh = torch.cat((inputs, hidden_state), dim=-1)\n",
    "        R = torch.sigmoid(self.R(xh))\n",
    "        Z = torch.sigmoid(self.Z(xh))\n",
    "        xrh = torch.cat((inputs, R * hidden_state), dim=-1)\n",
    "        HC = torch.tanh(self.H(xrh))\n",
    "        ht = Z * hidden_state + (1 - Z) * HC\n",
    "        return ht\n"
   ]
  },
  {
   "cell_type": "code",
   "execution_count": 28,
   "metadata": {
    "executionInfo": {
     "elapsed": 1,
     "status": "ok",
     "timestamp": 1664234954780,
     "user": {
      "displayName": "Mike Frantz",
      "userId": "08482506601269125384"
     },
     "user_tz": 420
    },
    "id": "uBbMcUptIuUY"
   },
   "outputs": [],
   "source": [
    "OUT_DIM = 3\n",
    "gru = OurGRUCell(1, OUT_DIM)"
   ]
  },
  {
   "cell_type": "code",
   "execution_count": 29,
   "metadata": {
    "executionInfo": {
     "elapsed": 1,
     "status": "ok",
     "timestamp": 1664234955718,
     "user": {
      "displayName": "Mike Frantz",
      "userId": "08482506601269125384"
     },
     "user_tz": 420
    },
    "id": "Gn8wUxNyI3B5"
   },
   "outputs": [],
   "source": [
    "x, y = next(iter(train_dl))"
   ]
  },
  {
   "cell_type": "code",
   "execution_count": 30,
   "metadata": {
    "executionInfo": {
     "elapsed": 171,
     "status": "ok",
     "timestamp": 1664234956539,
     "user": {
      "displayName": "Mike Frantz",
      "userId": "08482506601269125384"
     },
     "user_tz": 420
    },
    "id": "ZuIpMq5-I6OA"
   },
   "outputs": [],
   "source": [
    "state = torch.zeros(x.shape[0], OUT_DIM)\n",
    "timestep = x[:, 0, :]"
   ]
  },
  {
   "cell_type": "code",
   "execution_count": 31,
   "metadata": {
    "colab": {
     "base_uri": "https://localhost:8080/"
    },
    "executionInfo": {
     "elapsed": 2,
     "status": "ok",
     "timestamp": 1664234957216,
     "user": {
      "displayName": "Mike Frantz",
      "userId": "08482506601269125384"
     },
     "user_tz": 420
    },
    "id": "QOoiiv1ZJBNB",
    "outputId": "a9c4b6c5-c516-4ec2-a768-a444894f9137"
   },
   "outputs": [],
   "source": [
    "gru(timestep, state)"
   ]
  },
  {
   "cell_type": "code",
   "execution_count": 32,
   "metadata": {
    "executionInfo": {
     "elapsed": 167,
     "status": "ok",
     "timestamp": 1664234959992,
     "user": {
      "displayName": "Mike Frantz",
      "userId": "08482506601269125384"
     },
     "user_tz": 420
    },
    "id": "egNpn7RQLIc-"
   },
   "outputs": [],
   "source": [
    "our_model = RNN(1, 1, OurGRUCell).to(DEVICE)\n",
    "torch_model = nn.GRU(input_size=1, hidden_size=1, num_layers=1, batch_first=True).to(DEVICE)"
   ]
  },
  {
   "cell_type": "code",
   "execution_count": 33,
   "metadata": {
    "executionInfo": {
     "elapsed": 2,
     "status": "ok",
     "timestamp": 1664234960350,
     "user": {
      "displayName": "Mike Frantz",
      "userId": "08482506601269125384"
     },
     "user_tz": 420
    },
    "id": "-QI--sX4Laht"
   },
   "outputs": [],
   "source": [
    "our_opt = optim.Adam(our_model.parameters())\n",
    "torch_opt = optim.Adam(torch_model.parameters())"
   ]
  },
  {
   "cell_type": "code",
   "execution_count": 34,
   "metadata": {
    "colab": {
     "base_uri": "https://localhost:8080/"
    },
    "executionInfo": {
     "elapsed": 126648,
     "status": "ok",
     "timestamp": 1664235087864,
     "user": {
      "displayName": "Mike Frantz",
      "userId": "08482506601269125384"
     },
     "user_tz": 420
    },
    "id": "cmkhGQLzLfYB",
    "outputId": "2091b627-35d1-450d-e7ff-5470b02fe74a"
   },
   "outputs": [],
   "source": [
    "N_EPOCHS = 10\n",
    "for i in range(N_EPOCHS):\n",
    "    # train loop\n",
    "    our_epoch_loss = 0.\n",
    "    torch_epoch_loss = 0.\n",
    "    n_batches = 0\n",
    "    our_model.train()\n",
    "    torch_model.train()\n",
    "    for x, y in train_dl:\n",
    "        x = x.to(DEVICE)\n",
    "        y = y.to(DEVICE)\n",
    "        seq, state = our_model(x)\n",
    "        loss = F.mse_loss(seq, y)\n",
    "        our_epoch_loss += loss.item()\n",
    "\n",
    "        loss.backward()\n",
    "        our_opt.step()\n",
    "        our_opt.zero_grad()\n",
    "\n",
    "        seq, state = torch_model(x)\n",
    "        loss = F.mse_loss(seq, y)\n",
    "        torch_epoch_loss += loss.item()\n",
    "\n",
    "        loss.backward()\n",
    "        torch_opt.step()\n",
    "        torch_opt.zero_grad()\n",
    "\n",
    "        n_batches += 1\n",
    "    \n",
    "    our_train_loss = our_epoch_loss/n_batches\n",
    "    torch_train_loss = torch_epoch_loss/n_batches\n",
    "\n",
    "    # valid loop\n",
    "    our_epoch_loss = 0.\n",
    "    torch_epoch_loss = 0.\n",
    "    n_batches = 0\n",
    "    our_model.eval()\n",
    "    torch_model.eval()\n",
    "    for x, y in valid_dl:\n",
    "        x = x.to(DEVICE)\n",
    "        y = y.to(DEVICE)\n",
    "        with torch.no_grad():\n",
    "            seq, state = our_model(x)\n",
    "        loss = F.mse_loss(seq, y)\n",
    "        our_epoch_loss += loss.item()\n",
    "\n",
    "        with torch.no_grad():\n",
    "            seq, state = torch_model(x)\n",
    "        loss = F.mse_loss(seq, y)\n",
    "        torch_epoch_loss += loss.item()\n",
    "\n",
    "        torch_opt.step()\n",
    "        torch_opt.zero_grad()\n",
    "\n",
    "        n_batches += 1\n",
    "\n",
    "    our_valid_loss = our_epoch_loss/n_batches\n",
    "    torch_valid_loss = torch_epoch_loss/n_batches\n",
    "\n",
    "    \n",
    "    print(f\"Epoch: {i}, Our train MSE: {our_epoch_loss/n_batches:.05f}, Torch train MSE: {torch_epoch_loss/n_batches:.05f}, Our valid MSE: {our_valid_loss/n_batches:.05f}, Torch valid MSE: {torch_valid_loss/n_batches:.05f}\")\n"
   ]
  },
  {
   "cell_type": "code",
   "execution_count": null,
   "metadata": {
    "id": "bBKOORUSSZpQ"
   },
   "outputs": [],
   "source": [
    "def linear_with_act(n_inputs, n_outputs, act):\n",
    "    return nn.Sequential(nn.Linear(n_inputs, n_outputs), act())\n",
    "\n",
    "class OurLSTMCell(nn.Module):\n",
    "    def __init__(self, n_inputs, n_outputs):\n",
    "        super().__init__()\n",
    "        self.n_inputs = n_inputs\n",
    "        self.n_outputs = n_outputs\n",
    "\n",
    "        # Input, Forget, and Output gates\n",
    "        self.I = linear_with_act(n_inputs + n_outputs, n_outputs, nn.Sigmoid)\n",
    "        self.F = linear_with_act(n_inputs + n_outputs, n_outputs, nn.Sigmoid)\n",
    "        self.O = linear_with_act(n_inputs + n_outputs, n_outputs, nn.Sigmoid)\n",
    "\n",
    "        # Candidate memory cell\n",
    "        self.HC = linear_with_act(n_inputs + n_outputs, n_outputs, nn.Tanh)\n",
    "\n",
    "    \n",
    "    def forward(self, inputs, hidden_state, memory_cell):\n",
    "        xh = torch.cat((inputs, hidden_state), dim=-1)\n",
    "        xc = torch.cat((inputs, memory_cell), dim=-1)\n",
    "        I = self.I(xh)\n",
    "        F = self.F(xh)\n",
    "        O = self.O(xh)\n",
    "        Cth = self.HC(xc)\n",
    "        Ct = F * memory_cell + I * Cth\n",
    "        Ht = O * torch.tanh(Ct)\n",
    "\n",
    "        return Ht, Ct"
   ]
  },
  {
   "cell_type": "code",
   "execution_count": null,
   "metadata": {
    "id": "iN3PsiutXuby"
   },
   "outputs": [],
   "source": [
    "# create the LSTM cell\n",
    "OUT_DIM = 3\n",
    "lstm = OurLSTMCell(1, OUT_DIM)"
   ]
  },
  {
   "cell_type": "code",
   "execution_count": null,
   "metadata": {
    "id": "bhkDC0UnXx7j"
   },
   "outputs": [],
   "source": [
    "# grab one batch of data\n",
    "x, y = next(iter(train_dl))"
   ]
  },
  {
   "cell_type": "code",
   "execution_count": null,
   "metadata": {
    "id": "5KV9sA33X1-V"
   },
   "outputs": [],
   "source": [
    "state = torch.zeros(x.shape[0], OUT_DIM) # instantiate the initial hidden state\n",
    "memory = torch.zeros_like(state) # instantiate the memory\n",
    "timestep = x[:, 0, :] # isolate the first time step in the batch"
   ]
  },
  {
   "cell_type": "code",
   "execution_count": null,
   "metadata": {
    "id": "QY2nU7kEX17V"
   },
   "outputs": [],
   "source": [
    "# pass the timestep, initial state, and initial memory through the LSTM cell\n",
    "# to obtain the hidden state and memory\n",
    "H, C = lstm(timestep, state, memory)"
   ]
  },
  {
   "cell_type": "code",
   "execution_count": null,
   "metadata": {
    "colab": {
     "base_uri": "https://localhost:8080/"
    },
    "executionInfo": {
     "elapsed": 10,
     "status": "ok",
     "timestamp": 1649367731332,
     "user": {
      "displayName": "Mike Frantz",
      "userId": "08482506601269125384"
     },
     "user_tz": 420
    },
    "id": "MxZLAqJNX14v",
    "outputId": "e5714fee-2832-40a8-c7f5-cc767271db91"
   },
   "outputs": [],
   "source": [
    "H"
   ]
  },
  {
   "cell_type": "code",
   "execution_count": null,
   "metadata": {
    "colab": {
     "base_uri": "https://localhost:8080/"
    },
    "executionInfo": {
     "elapsed": 9,
     "status": "ok",
     "timestamp": 1649367731332,
     "user": {
      "displayName": "Mike Frantz",
      "userId": "08482506601269125384"
     },
     "user_tz": 420
    },
    "id": "i7Kclfiuab8o",
    "outputId": "6dd1b890-890a-41e1-efbf-30b6704c5a1b"
   },
   "outputs": [],
   "source": [
    "C"
   ]
  },
  {
   "cell_type": "code",
   "execution_count": null,
   "metadata": {
    "id": "BTDd3FnYaqzv"
   },
   "outputs": [],
   "source": [
    "class LSTM(nn.Module):\n",
    "    def __init__(self, n_inputs, n_outputs):\n",
    "        super().__init__()\n",
    "        self.n_inputs = n_inputs\n",
    "        self.n_outputs = n_outputs\n",
    "        self.cell = OurLSTMCell(n_inputs, n_outputs)\n",
    "    \n",
    "    def forward(self, inputs):\n",
    "        outputs = []\n",
    "        # Initialize the hidden state and memory as a tensor of zeros\n",
    "        hidden_state = torch.zeros(inputs.shape[0], self.n_outputs).to(DEVICE)\n",
    "        memory = torch.zeros_like(hidden_state)\n",
    "        n_steps = inputs.shape[1]\n",
    "        # For each time step...\n",
    "        for i in range(n_steps):\n",
    "            # The hidden state is now the outputs of the x_t and h_t-1\n",
    "            hidden_state, memory = self.cell(inputs[:, i], hidden_state, memory)\n",
    "            # Store the hidden state\n",
    "            outputs.append(hidden_state)\n",
    "        \n",
    "        # Return a tensor of the historical outputs and the final hidden state\n",
    "        return torch.stack(outputs, dim=1), hidden_state"
   ]
  },
  {
   "cell_type": "code",
   "execution_count": null,
   "metadata": {
    "id": "dVXQ_8dZa_iE"
   },
   "outputs": [],
   "source": [
    "our_model = LSTM(1, 1).to(DEVICE)\n",
    "torch_model = nn.LSTM(input_size=1, hidden_size=1, num_layers=1, batch_first=True).to(DEVICE)"
   ]
  },
  {
   "cell_type": "code",
   "execution_count": null,
   "metadata": {
    "id": "VxmrHv-EbIcr"
   },
   "outputs": [],
   "source": [
    "our_opt = optim.Adam(our_model.parameters())\n",
    "torch_opt = optim.Adam(torch_model.parameters())"
   ]
  },
  {
   "cell_type": "code",
   "execution_count": null,
   "metadata": {
    "colab": {
     "base_uri": "https://localhost:8080/"
    },
    "executionInfo": {
     "elapsed": 210360,
     "status": "ok",
     "timestamp": 1649367941896,
     "user": {
      "displayName": "Mike Frantz",
      "userId": "08482506601269125384"
     },
     "user_tz": 420
    },
    "id": "8Q5ds3iYbMNf",
    "outputId": "2a64c992-c4c2-46ec-c28e-ceb5267471df"
   },
   "outputs": [],
   "source": [
    "N_EPOCHS = 10\n",
    "for i in range(N_EPOCHS):\n",
    "    # train loop\n",
    "    our_epoch_loss = 0.\n",
    "    torch_epoch_loss = 0.\n",
    "    n_batches = 0\n",
    "    our_model.train()\n",
    "    torch_model.train()\n",
    "    for x, y in train_dl:\n",
    "        x = x.to(DEVICE)\n",
    "        y = y.to(DEVICE)\n",
    "        seq, state = our_model(x)\n",
    "        loss = F.mse_loss(seq, y)\n",
    "        our_epoch_loss += loss.item()\n",
    "\n",
    "        loss.backward()\n",
    "        our_opt.step()\n",
    "        our_opt.zero_grad()\n",
    "\n",
    "        seq, (state, memory) = torch_model(x)\n",
    "        loss = F.mse_loss(seq, y)\n",
    "        torch_epoch_loss += loss.item()\n",
    "\n",
    "        loss.backward()\n",
    "        torch_opt.step()\n",
    "        torch_opt.zero_grad()\n",
    "\n",
    "        n_batches += 1\n",
    "    \n",
    "    our_train_loss = our_epoch_loss/n_batches\n",
    "    torch_train_loss = torch_epoch_loss/n_batches\n",
    "\n",
    "    # valid loop\n",
    "    our_epoch_loss = 0.\n",
    "    torch_epoch_loss = 0.\n",
    "    n_batches = 0\n",
    "    our_model.eval()\n",
    "    torch_model.eval()\n",
    "    for x, y in valid_dl:\n",
    "        x = x.to(DEVICE)\n",
    "        y = y.to(DEVICE)\n",
    "        with torch.no_grad():\n",
    "            seq, state = our_model(x)\n",
    "        loss = F.mse_loss(seq, y)\n",
    "        our_epoch_loss += loss.item()\n",
    "\n",
    "        with torch.no_grad():\n",
    "            seq, (state, memory) = torch_model(x)\n",
    "        loss = F.mse_loss(seq, y)\n",
    "        torch_epoch_loss += loss.item()\n",
    "\n",
    "        torch_opt.step()\n",
    "        torch_opt.zero_grad()\n",
    "\n",
    "        n_batches += 1\n",
    "\n",
    "    our_valid_loss = our_epoch_loss/n_batches\n",
    "    torch_valid_loss = torch_epoch_loss/n_batches\n",
    "\n",
    "    \n",
    "    print(f\"Epoch: {i}, Our train MSE: {our_epoch_loss/n_batches:.05f}, Torch train MSE: {torch_epoch_loss/n_batches:.05f}, Our valid MSE: {our_valid_loss/n_batches:.05f}, Torch valid MSE: {torch_valid_loss/n_batches:.05f}\")\n"
   ]
  },
  {
   "cell_type": "code",
   "execution_count": null,
   "metadata": {
    "id": "SeU-L0rFpL9B"
   },
   "outputs": [],
   "source": []
  }
 ],
 "metadata": {
  "accelerator": "GPU",
  "colab": {
   "authorship_tag": "ABX9TyPRq9BmF9G06ZLhsOMHnEeI",
   "collapsed_sections": [],
   "provenance": []
  },
  "kernelspec": {
   "display_name": "Python 3",
   "name": "python3"
  },
  "language_info": {
   "name": "python"
  }
 },
 "nbformat": 4,
 "nbformat_minor": 0
}
