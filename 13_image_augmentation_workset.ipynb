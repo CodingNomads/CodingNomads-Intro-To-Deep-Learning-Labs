{
 "cells": [
  {
   "cell_type": "code",
   "execution_count": null,
   "metadata": {
    "id": "gLY-nemSWwbq"
   },
   "outputs": [],
   "source": [
    "!pip install -Uqq fastai dessiccate"
   ]
  },
  {
   "cell_type": "code",
   "execution_count": null,
   "metadata": {
    "id": "6owCzbOwW0mL"
   },
   "outputs": [],
   "source": [
    "from fastai.vision.all import *\n",
    "from fastai import *\n",
    "import albumentations as alb\n",
    "import torch\n",
    "from torch import nn\n",
    "import matplotlib.pyplot as plt\n",
    "from dessiccate.plotting import remove_ticks, set_plt_defaults\n",
    "from torchvision import transforms as T"
   ]
  },
  {
   "cell_type": "code",
   "execution_count": null,
   "metadata": {
    "id": "jEMk9JpAhZaG"
   },
   "outputs": [],
   "source": [
    "set_plt_defaults()"
   ]
  },
  {
   "cell_type": "code",
   "execution_count": null,
   "metadata": {
    "id": "z1q8qNTsYDBA"
   },
   "outputs": [],
   "source": [
    "path = untar_data(URLs.PETS)"
   ]
  },
  {
   "cell_type": "code",
   "execution_count": null,
   "metadata": {
    "id": "9ZkkyhF0YKbA"
   },
   "outputs": [],
   "source": [
    "def label_func(name):\n",
    "    return '_'.join(name.split('_')[:-1])"
   ]
  },
  {
   "cell_type": "code",
   "execution_count": null,
   "metadata": {
    "colab": {
     "base_uri": "https://localhost:8080/"
    },
    "executionInfo": {
     "elapsed": 2965,
     "status": "ok",
     "timestamp": 1626191546607,
     "user": {
      "displayName": "Mike Frantz",
      "photoUrl": "https://lh3.googleusercontent.com/a-/AOh14GiGYCwZXGfGg-CE4_33PQcH9SW8fN6MyRkenN8-IA=s64",
      "userId": "08482506601269125384"
     },
     "user_tz": 420
    },
    "id": "pXNwP9wsYUrK",
    "outputId": "4a96e850-717a-4861-f932-a257fa08ae85"
   },
   "outputs": [],
   "source": [
    "files = get_image_files(path/'images')\n",
    "dls = ImageDataLoaders.from_name_func(\n",
    "    path, \n",
    "    files, \n",
    "    label_func=label_func,\n",
    "    item_tfms=Resize(224),\n",
    "    batch_tfms=aug_transforms(size=224, max_lighting=.3, max_zoom=1.5, max_rotate=90)\n",
    ")"
   ]
  },
  {
   "cell_type": "code",
   "execution_count": null,
   "metadata": {
    "colab": {
     "base_uri": "https://localhost:8080/",
     "height": 536
    },
    "executionInfo": {
     "elapsed": 1780,
     "status": "ok",
     "timestamp": 1626191548383,
     "user": {
      "displayName": "Mike Frantz",
      "photoUrl": "https://lh3.googleusercontent.com/a-/AOh14GiGYCwZXGfGg-CE4_33PQcH9SW8fN6MyRkenN8-IA=s64",
      "userId": "08482506601269125384"
     },
     "user_tz": 420
    },
    "id": "8k948jglYfhS",
    "outputId": "e04c7b5a-0bf4-473a-d588-f3bcfd4fbc4f"
   },
   "outputs": [],
   "source": [
    "dls.show_batch()"
   ]
  },
  {
   "cell_type": "code",
   "execution_count": null,
   "metadata": {
    "id": "5Lcn9asAY4wI"
   },
   "outputs": [],
   "source": [
    "tfms = alb.Compose([\n",
    "    alb.Resize(224, 224),\n",
    "    alb.RandomBrightness(.5),\n",
    "    alb.RandomContrast(.5),\n",
    "    alb.RandomScale(.5),\n",
    "    alb.Rotate(45),\n",
    "])"
   ]
  },
  {
   "cell_type": "code",
   "execution_count": null,
   "metadata": {
    "colab": {
     "base_uri": "https://localhost:8080/",
     "height": 534
    },
    "executionInfo": {
     "elapsed": 19,
     "status": "ok",
     "timestamp": 1626191548385,
     "user": {
      "displayName": "Mike Frantz",
      "photoUrl": "https://lh3.googleusercontent.com/a-/AOh14GiGYCwZXGfGg-CE4_33PQcH9SW8fN6MyRkenN8-IA=s64",
      "userId": "08482506601269125384"
     },
     "user_tz": 420
    },
    "id": "agU1UTY_ajyC",
    "outputId": "9464222f-52aa-442b-8f21-17f23d1e7bf7"
   },
   "outputs": [],
   "source": [
    "img_path = files[0]\n",
    "img_label = label_func(img_path.name)\n",
    "img = load_image(img_path)\n",
    "print(img_label)\n",
    "img"
   ]
  },
  {
   "cell_type": "code",
   "execution_count": null,
   "metadata": {
    "colab": {
     "base_uri": "https://localhost:8080/",
     "height": 729
    },
    "executionInfo": {
     "elapsed": 1903,
     "status": "ok",
     "timestamp": 1626192087438,
     "user": {
      "displayName": "Mike Frantz",
      "photoUrl": "https://lh3.googleusercontent.com/a-/AOh14GiGYCwZXGfGg-CE4_33PQcH9SW8fN6MyRkenN8-IA=s64",
      "userId": "08482506601269125384"
     },
     "user_tz": 420
    },
    "id": "WAgYc429asFL",
    "outputId": "b7bdaec0-f4f3-4e92-969d-dbcab770beb6"
   },
   "outputs": [],
   "source": [
    "fig = plt.figure()\n",
    "for i in range(9):\n",
    "    ax = fig.add_subplot(3, 3, 1+i)\n",
    "    transformed = tfms(image=np.array(img))\n",
    "    ax.imshow(Image.fromarray(transformed['image']))\n",
    "    remove_ticks(ax)\n",
    "fig.tight_layout()"
   ]
  },
  {
   "cell_type": "code",
   "execution_count": null,
   "metadata": {
    "id": "rVvLCyLUm4iW"
   },
   "outputs": [],
   "source": [
    "ttfms = T.Compose([\n",
    "    T.Resize((224, 224)),\n",
    "    T.RandomRotation(45, ),\n",
    "    T.RandomPerspective(distortion_scale=.1),\n",
    "    T.ColorJitter(brightness=.2, contrast=.2, saturation=.2, hue=.1),\n",
    "    # T.ToTensor(), # this turns the image into a tensor\n",
    "    # T.Normalize(*imagenet_stats) # For pretrained models, we want to normalize images by the data they were trained on\n",
    "])"
   ]
  },
  {
   "cell_type": "code",
   "execution_count": null,
   "metadata": {
    "colab": {
     "base_uri": "https://localhost:8080/",
     "height": 729
    },
    "executionInfo": {
     "elapsed": 1692,
     "status": "ok",
     "timestamp": 1626192732238,
     "user": {
      "displayName": "Mike Frantz",
      "photoUrl": "https://lh3.googleusercontent.com/a-/AOh14GiGYCwZXGfGg-CE4_33PQcH9SW8fN6MyRkenN8-IA=s64",
      "userId": "08482506601269125384"
     },
     "user_tz": 420
    },
    "id": "_-NaXD7dnRsi",
    "outputId": "aae4060f-feed-4a6a-b5fe-45e00acfc018"
   },
   "outputs": [],
   "source": [
    "fig = plt.figure()\n",
    "for i in range(9):\n",
    "    ax = fig.add_subplot(3, 3, 1+i)\n",
    "    ax.imshow(ttfms(img))\n",
    "    remove_ticks(ax)\n",
    "fig.tight_layout()"
   ]
  },
  {
   "cell_type": "code",
   "execution_count": null,
   "metadata": {
    "id": "Ker23d5fn3tK"
   },
   "outputs": [],
   "source": []
  }
 ],
 "metadata": {
  "accelerator": "GPU",
  "colab": {
   "authorship_tag": "ABX9TyNLy3K+R1lPq7FO2xTdhImM",
   "collapsed_sections": [],
   "name": "13_image_augmentation.ipynb",
   "provenance": []
  },
  "kernelspec": {
   "display_name": "Python 3",
   "name": "python3"
  },
  "language_info": {
   "name": "python"
  }
 },
 "nbformat": 4,
 "nbformat_minor": 0
}
