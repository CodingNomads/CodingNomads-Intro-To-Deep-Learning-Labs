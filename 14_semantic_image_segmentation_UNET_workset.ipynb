{
 "cells": [
  {
   "cell_type": "code",
   "execution_count": null,
   "metadata": {
    "id": "TJ5UxBfp9HKZ"
   },
   "outputs": [],
   "source": [
    "!pip install -Uqq fastai dessiccate matplotlib"
   ]
  },
  {
   "cell_type": "code",
   "execution_count": null,
   "metadata": {
    "id": "aiApi3RR9MF_"
   },
   "outputs": [],
   "source": [
    "from fastai.vision.all import *\n",
    "from fastai import *\n",
    "import torch\n",
    "from torch import nn, optim\n",
    "from dessiccate import plotting as p\n",
    "\n",
    "p.set_plt_defaults()"
   ]
  },
  {
   "cell_type": "code",
   "execution_count": null,
   "metadata": {
    "id": "onrnznpN_J95"
   },
   "outputs": [],
   "source": [
    "path = untar_data(URLs.CAMVID_TINY)\n",
    "# path = untar_data(URLs.CAMVID)"
   ]
  },
  {
   "cell_type": "code",
   "execution_count": null,
   "metadata": {
    "colab": {
     "base_uri": "https://localhost:8080/"
    },
    "executionInfo": {
     "elapsed": 37,
     "status": "ok",
     "timestamp": 1627847256802,
     "user": {
      "displayName": "Mike Frantz",
      "photoUrl": "https://lh3.googleusercontent.com/a-/AOh14GiGYCwZXGfGg-CE4_33PQcH9SW8fN6MyRkenN8-IA=s64",
      "userId": "08482506601269125384"
     },
     "user_tz": 420
    },
    "id": "iztwP7dS_YoV",
    "outputId": "f0e306b2-b89f-4de6-fc62-23b5bc5935ec"
   },
   "outputs": [],
   "source": [
    "list(path.ls())"
   ]
  },
  {
   "cell_type": "code",
   "execution_count": null,
   "metadata": {
    "colab": {
     "base_uri": "https://localhost:8080/",
     "height": 1000
    },
    "executionInfo": {
     "elapsed": 32,
     "status": "ok",
     "timestamp": 1627847256804,
     "user": {
      "displayName": "Mike Frantz",
      "photoUrl": "https://lh3.googleusercontent.com/a-/AOh14GiGYCwZXGfGg-CE4_33PQcH9SW8fN6MyRkenN8-IA=s64",
      "userId": "08482506601269125384"
     },
     "user_tz": 420
    },
    "id": "MOkStkJ5_ZVS",
    "outputId": "e7e6c0a8-e95b-49d3-9930-682bb5918ac5"
   },
   "outputs": [],
   "source": [
    "codes = pd.read_csv(path/'codes.txt', header=None)\n",
    "codes"
   ]
  },
  {
   "cell_type": "code",
   "execution_count": null,
   "metadata": {
    "id": "wr5Negb8_fHT"
   },
   "outputs": [],
   "source": [
    "img_files = get_image_files(path/'images')\n",
    "label_files = get_image_files(path/'labels')"
   ]
  },
  {
   "cell_type": "code",
   "execution_count": null,
   "metadata": {
    "id": "iPi2cxWNBB_r"
   },
   "outputs": [],
   "source": [
    "def label_func(img_path):\n",
    "    p = f'labels/{img_path.stem}_P{img_path.suffix}'\n",
    "    return path/p"
   ]
  },
  {
   "cell_type": "code",
   "execution_count": null,
   "metadata": {
    "colab": {
     "base_uri": "https://localhost:8080/",
     "height": 113
    },
    "executionInfo": {
     "elapsed": 31,
     "status": "ok",
     "timestamp": 1627847256808,
     "user": {
      "displayName": "Mike Frantz",
      "photoUrl": "https://lh3.googleusercontent.com/a-/AOh14GiGYCwZXGfGg-CE4_33PQcH9SW8fN6MyRkenN8-IA=s64",
      "userId": "08482506601269125384"
     },
     "user_tz": 420
    },
    "id": "QcGADMj0AXc3",
    "outputId": "58673610-33bc-44a1-e5c1-d7a339fbf6f4"
   },
   "outputs": [],
   "source": [
    "img = load_image(img_files[0])\n",
    "img"
   ]
  },
  {
   "cell_type": "code",
   "execution_count": null,
   "metadata": {
    "colab": {
     "base_uri": "https://localhost:8080/"
    },
    "executionInfo": {
     "elapsed": 28,
     "status": "ok",
     "timestamp": 1627847256809,
     "user": {
      "displayName": "Mike Frantz",
      "photoUrl": "https://lh3.googleusercontent.com/a-/AOh14GiGYCwZXGfGg-CE4_33PQcH9SW8fN6MyRkenN8-IA=s64",
      "userId": "08482506601269125384"
     },
     "user_tz": 420
    },
    "id": "QyZBOLnJAdCt",
    "outputId": "8a1b9f7a-9728-4166-81bb-4645c228cec9"
   },
   "outputs": [],
   "source": [
    "label_img = load_image(label_func(img_files[0]))\n",
    "img_mask = np.array(label_img)\n",
    "img_mask"
   ]
  },
  {
   "cell_type": "code",
   "execution_count": null,
   "metadata": {
    "colab": {
     "base_uri": "https://localhost:8080/"
    },
    "executionInfo": {
     "elapsed": 2328,
     "status": "ok",
     "timestamp": 1627847259113,
     "user": {
      "displayName": "Mike Frantz",
      "photoUrl": "https://lh3.googleusercontent.com/a-/AOh14GiGYCwZXGfGg-CE4_33PQcH9SW8fN6MyRkenN8-IA=s64",
      "userId": "08482506601269125384"
     },
     "user_tz": 420
    },
    "id": "EQg2msu4B1Ot",
    "outputId": "ab0a099b-3b41-4f70-d716-5c3e4a27b6a1"
   },
   "outputs": [],
   "source": [
    "dls = SegmentationDataLoaders.from_label_func(path, img_files, label_func, bs=16, codes=codes[0].values)"
   ]
  },
  {
   "cell_type": "code",
   "execution_count": null,
   "metadata": {
    "colab": {
     "base_uri": "https://localhost:8080/",
     "height": 487
    },
    "executionInfo": {
     "elapsed": 881,
     "status": "ok",
     "timestamp": 1627847259990,
     "user": {
      "displayName": "Mike Frantz",
      "photoUrl": "https://lh3.googleusercontent.com/a-/AOh14GiGYCwZXGfGg-CE4_33PQcH9SW8fN6MyRkenN8-IA=s64",
      "userId": "08482506601269125384"
     },
     "user_tz": 420
    },
    "id": "k0lh2CPoCJ3m",
    "outputId": "59e33430-18f7-419c-945a-f6c3a9ed0e4e"
   },
   "outputs": [],
   "source": [
    "dls.show_batch()"
   ]
  },
  {
   "cell_type": "code",
   "execution_count": null,
   "metadata": {
    "id": "Jn9u4BLIMmx_"
   },
   "outputs": [],
   "source": [
    "cbs = [\n",
    "    EarlyStoppingCallback(patience=3),\n",
    "    SaveModelCallback()\n",
    "]"
   ]
  },
  {
   "cell_type": "code",
   "execution_count": null,
   "metadata": {
    "colab": {
     "base_uri": "https://localhost:8080/"
    },
    "executionInfo": {
     "elapsed": 584,
     "status": "ok",
     "timestamp": 1627847260569,
     "user": {
      "displayName": "Mike Frantz",
      "photoUrl": "https://lh3.googleusercontent.com/a-/AOh14GiGYCwZXGfGg-CE4_33PQcH9SW8fN6MyRkenN8-IA=s64",
      "userId": "08482506601269125384"
     },
     "user_tz": 420
    },
    "id": "7otdQhhvCKzm",
    "outputId": "8fe894ec-f6b4-4455-944d-3408329c40fb"
   },
   "outputs": [],
   "source": [
    "learn = unet_learner(dls, resnet18, cbs=cbs)"
   ]
  },
  {
   "cell_type": "code",
   "execution_count": null,
   "metadata": {
    "colab": {
     "base_uri": "https://localhost:8080/",
     "height": 1000
    },
    "executionInfo": {
     "elapsed": 30825,
     "status": "ok",
     "timestamp": 1627847291389,
     "user": {
      "displayName": "Mike Frantz",
      "photoUrl": "https://lh3.googleusercontent.com/a-/AOh14GiGYCwZXGfGg-CE4_33PQcH9SW8fN6MyRkenN8-IA=s64",
      "userId": "08482506601269125384"
     },
     "user_tz": 420
    },
    "id": "NxU1mDLKCY0i",
    "outputId": "06ba174d-4870-444b-b921-473a6aa6f916"
   },
   "outputs": [],
   "source": [
    "learn.fine_tune(30)"
   ]
  },
  {
   "cell_type": "code",
   "execution_count": null,
   "metadata": {
    "colab": {
     "base_uri": "https://localhost:8080/",
     "height": 1000
    },
    "executionInfo": {
     "elapsed": 1832,
     "status": "ok",
     "timestamp": 1627847293209,
     "user": {
      "displayName": "Mike Frantz",
      "photoUrl": "https://lh3.googleusercontent.com/a-/AOh14GiGYCwZXGfGg-CE4_33PQcH9SW8fN6MyRkenN8-IA=s64",
      "userId": "08482506601269125384"
     },
     "user_tz": 420
    },
    "id": "m91tH1p9ClNN",
    "outputId": "8a5d3e7c-8f2d-4985-f590-b84dcfa35e2f"
   },
   "outputs": [],
   "source": [
    "learn.show_results()"
   ]
  },
  {
   "cell_type": "code",
   "execution_count": null,
   "metadata": {
    "colab": {
     "base_uri": "https://localhost:8080/",
     "height": 17
    },
    "executionInfo": {
     "elapsed": 270,
     "status": "ok",
     "timestamp": 1627847293466,
     "user": {
      "displayName": "Mike Frantz",
      "photoUrl": "https://lh3.googleusercontent.com/a-/AOh14GiGYCwZXGfGg-CE4_33PQcH9SW8fN6MyRkenN8-IA=s64",
      "userId": "08482506601269125384"
     },
     "user_tz": 420
    },
    "id": "gxv1wq3sCoNy",
    "outputId": "74493d34-4653-4044-d600-cc701a572da4"
   },
   "outputs": [],
   "source": [
    "interp = SegmentationInterpretation.from_learner(learn)"
   ]
  },
  {
   "cell_type": "code",
   "execution_count": null,
   "metadata": {
    "colab": {
     "base_uri": "https://localhost:8080/",
     "height": 939
    },
    "executionInfo": {
     "elapsed": 1076,
     "status": "ok",
     "timestamp": 1627847294538,
     "user": {
      "displayName": "Mike Frantz",
      "photoUrl": "https://lh3.googleusercontent.com/a-/AOh14GiGYCwZXGfGg-CE4_33PQcH9SW8fN6MyRkenN8-IA=s64",
      "userId": "08482506601269125384"
     },
     "user_tz": 420
    },
    "id": "mTvZBo2bF32v",
    "outputId": "e784931e-2854-45d7-b037-f5e4a792695d"
   },
   "outputs": [],
   "source": [
    "interp.plot_top_losses(5)"
   ]
  },
  {
   "cell_type": "code",
   "execution_count": null,
   "metadata": {
    "id": "pBUSgPeqQmmQ"
   },
   "outputs": [],
   "source": []
  }
 ],
 "metadata": {
  "accelerator": "GPU",
  "colab": {
   "authorship_tag": "ABX9TyNPdyegv/L4oZT/jVOZCFW3",
   "collapsed_sections": [],
   "name": "14_semantic_image_segmentation_UNET.ipynb",
   "provenance": []
  },
  "kernelspec": {
   "display_name": "Python 3",
   "name": "python3"
  },
  "language_info": {
   "name": "python"
  }
 },
 "nbformat": 4,
 "nbformat_minor": 0
}
