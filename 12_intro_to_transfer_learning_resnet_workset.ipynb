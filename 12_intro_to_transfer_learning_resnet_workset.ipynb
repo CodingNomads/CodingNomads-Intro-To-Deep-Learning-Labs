{
 "cells": [
  {
   "cell_type": "code",
   "execution_count": 1,
   "metadata": {
    "id": "IsnbTwG_hwlE"
   },
   "outputs": [],
   "source": [
    "%%capture\n",
    "!pip install -Uqq fastai gradio\n",
    "!apt-get install tree"
   ]
  },
  {
   "cell_type": "code",
   "execution_count": 2,
   "metadata": {
    "id": "_m-HZXy7h3WM"
   },
   "outputs": [],
   "source": [
    "from fastai.vision.all import *\n",
    "from fastai import *\n",
    "from torch import nn, optim\n",
    "import torch\n",
    "\n",
    "from IPython.display import display, YouTubeVideo"
   ]
  },
  {
   "cell_type": "code",
   "execution_count": 3,
   "metadata": {
    "id": "rcZ2oTV6Oxaf"
   },
   "outputs": [],
   "source": [
    "SIZE = {'width':1000, 'height': 600}"
   ]
  },
  {
   "cell_type": "code",
   "execution_count": 4,
   "metadata": {
    "colab": {
     "base_uri": "https://localhost:8080/",
     "height": 37
    },
    "id": "_EP_49JmiA38",
    "outputId": "1e5e5665-f71f-4fa8-c1fe-ac29f77c84d6"
   },
   "outputs": [],
   "source": [
    "path = untar_data(URLs.PETS)"
   ]
  },
  {
   "cell_type": "code",
   "execution_count": 5,
   "metadata": {
    "colab": {
     "base_uri": "https://localhost:8080/"
    },
    "id": "xA_M5Hz5iMZz",
    "outputId": "9541f686-c014-44d2-ef0e-756aa38688df"
   },
   "outputs": [],
   "source": [
    "list(path.ls())"
   ]
  },
  {
   "cell_type": "code",
   "execution_count": 6,
   "metadata": {
    "colab": {
     "base_uri": "https://localhost:8080/"
    },
    "id": "YWa54ndv5t4a",
    "outputId": "ad2d72ce-2b53-4029-e0c5-eac02f9a33b1"
   },
   "outputs": [],
   "source": [
    "!tree {str(path/'images')} | grep .jpg | shuf -n 10"
   ]
  },
  {
   "cell_type": "code",
   "execution_count": 7,
   "metadata": {
    "id": "zzB5-veFii98"
   },
   "outputs": [],
   "source": [
    "def label_func(filename):\n",
    "    return '_'.join(filename.split('_')[:-1])"
   ]
  },
  {
   "cell_type": "code",
   "execution_count": 8,
   "metadata": {
    "id": "5soie3vziYRa"
   },
   "outputs": [],
   "source": [
    "dls = ImageDataLoaders.from_name_func(\n",
    "    path=path,\n",
    "    fnames=get_image_files(path/'images'),\n",
    "    label_func=label_func,\n",
    "    valid_pct=0.2,\n",
    "    item_tfms=Resize(224),\n",
    "    batch_tfms=Normalize.from_stats(*imagenet_stats),\n",
    ")"
   ]
  },
  {
   "cell_type": "code",
   "execution_count": 9,
   "metadata": {
    "colab": {
     "base_uri": "https://localhost:8080/"
    },
    "id": "xe_08kADBMVT",
    "outputId": "5e7a8888-668c-4314-e8d9-90098bc79335"
   },
   "outputs": [],
   "source": [
    "imagenet_stats"
   ]
  },
  {
   "cell_type": "code",
   "execution_count": 10,
   "metadata": {
    "colab": {
     "base_uri": "https://localhost:8080/",
     "height": 752
    },
    "id": "tAwKJZh7i1AU",
    "outputId": "690ef875-19b6-460d-d678-7ddca1f42b63"
   },
   "outputs": [],
   "source": [
    "dls.show_batch()"
   ]
  },
  {
   "cell_type": "code",
   "execution_count": 11,
   "metadata": {
    "colab": {
     "base_uri": "https://localhost:8080/",
     "height": 621
    },
    "id": "QhOZ6UrJOoY3",
    "outputId": "c1587659-b149-43bc-e626-e41ee0f70e58"
   },
   "outputs": [],
   "source": [
    "vid = YouTubeVideo('RYth6EbBUqM', **SIZE)\n",
    "display(vid)"
   ]
  },
  {
   "cell_type": "code",
   "execution_count": 12,
   "metadata": {
    "colab": {
     "base_uri": "https://localhost:8080/"
    },
    "id": "AlfjYD-mb2Yd",
    "outputId": "d29be31f-b1dd-46a4-a312-d806a38d49f1"
   },
   "outputs": [],
   "source": [
    "cbs = [\n",
    "    EarlyStoppingCallback(patience=3)\n",
    "]\n",
    "\n",
    "learn = cnn_learner( # Instantiate a learner object\n",
    "    dls, # Pass the dataloaders\n",
    "    models.resnet34, # Specify the architechture you want to use\n",
    "    pretrained=False, # Tell it NOT to fetch the ImageNet weights\n",
    "    cbs=cbs, # Pass the callbacks\n",
    "    metrics=[accuracy, error_rate] # Pass the metrics you want to see\n",
    ")"
   ]
  },
  {
   "cell_type": "code",
   "execution_count": 13,
   "metadata": {
    "colab": {
     "base_uri": "https://localhost:8080/"
    },
    "id": "BnbaPiprNXf8",
    "outputId": "07ee8468-ded1-4089-e09b-f65a742f0ab9"
   },
   "outputs": [],
   "source": [
    "print(f\"\"\"\n",
    "There are {learn.dls.c} categories.\n",
    "If we guessed randomly, we would have aboiut a {100. * 1/learn.dls.c:.02f}% chance of guessing correctly.\n",
    "\"\"\")"
   ]
  },
  {
   "cell_type": "code",
   "execution_count": 14,
   "metadata": {
    "colab": {
     "base_uri": "https://localhost:8080/",
     "height": 206
    },
    "id": "7FhMki-Ab9rs",
    "outputId": "c5523814-0c19-44d1-a29b-d3f89564cf66"
   },
   "outputs": [],
   "source": [
    "learn.fit_one_cycle(5, 1e-3)"
   ]
  },
  {
   "cell_type": "code",
   "execution_count": 15,
   "metadata": {
    "colab": {
     "base_uri": "https://localhost:8080/"
    },
    "id": "iANdnvUyjG4n",
    "outputId": "a02253a2-c586-43c0-b60c-cec773a6b743"
   },
   "outputs": [],
   "source": [
    "cbs = [\n",
    "    EarlyStoppingCallback(patience=3)\n",
    "]\n",
    "\n",
    "learn = cnn_learner( # Instantiate a learner object\n",
    "    dls, # Pass the dataloaders\n",
    "    models.resnet34, # Specify the architechture you want to use\n",
    "    pretrained=True, # Tell it to fetch the ImageNet weights\n",
    "    cbs=cbs, # Pass the callbacks\n",
    "    metrics=[accuracy, error_rate] # Pass the metrics you want to see\n",
    ")"
   ]
  },
  {
   "cell_type": "code",
   "execution_count": 16,
   "metadata": {
    "colab": {
     "base_uri": "https://localhost:8080/"
    },
    "id": "CcdKalRicTgt",
    "outputId": "49ad5aae-bf1a-48b8-f712-33750c6c11f3"
   },
   "outputs": [],
   "source": [
    "learn.model[1]"
   ]
  },
  {
   "cell_type": "code",
   "execution_count": 17,
   "metadata": {
    "id": "w3bm5jgol9Lm"
   },
   "outputs": [],
   "source": [
    "LR = 1e-3"
   ]
  },
  {
   "cell_type": "code",
   "execution_count": 18,
   "metadata": {
    "colab": {
     "base_uri": "https://localhost:8080/",
     "height": 81
    },
    "id": "SkLhle4eZb3A",
    "outputId": "fb55929b-d284-4a6f-e2bd-186ba04d224d"
   },
   "outputs": [],
   "source": [
    "# Train the classifier head\n",
    "learn.fit_one_cycle(1, LR)"
   ]
  },
  {
   "cell_type": "code",
   "execution_count": 19,
   "metadata": {
    "id": "HulxNy3TZj5r"
   },
   "outputs": [],
   "source": [
    "# Unfreeze the backbone\n",
    "learn.unfreeze()"
   ]
  },
  {
   "cell_type": "code",
   "execution_count": 20,
   "metadata": {
    "colab": {
     "base_uri": "https://localhost:8080/",
     "height": 206
    },
    "id": "b0_FtS9BZl6b",
    "outputId": "128b8526-dd8e-407c-c20e-0742552f6cb8"
   },
   "outputs": [],
   "source": [
    "# Trainin everything together\n",
    "learn.fit_one_cycle(5, lr_max=slice(LR/10, LR))"
   ]
  },
  {
   "cell_type": "code",
   "execution_count": 21,
   "metadata": {
    "id": "mJd2XiUgbmRn"
   },
   "outputs": [],
   "source": [
    "cbs = [\n",
    "    EarlyStoppingCallback(patience=3)\n",
    "]\n",
    "\n",
    "learn = cnn_learner( # Instantiate a learner object\n",
    "    dls, # Pass the dataloaders\n",
    "    resnet34, # Specify the architechture you want to use\n",
    "    pretrained=True, # Tell it to fetch the ImageNet weights\n",
    "    # loss_func=nn.CrossEntropyLoss(), # Pass the loss function\n",
    "    cbs=cbs, # Pass the callbacks\n",
    "    metrics=[accuracy, error_rate] # Pass the metrics you want to see\n",
    ")"
   ]
  },
  {
   "cell_type": "code",
   "execution_count": 22,
   "metadata": {
    "colab": {
     "base_uri": "https://localhost:8080/",
     "height": 270
    },
    "id": "vTzn6ZrZmIog",
    "outputId": "83a3590d-db99-4af9-aa56-093752f4f23d"
   },
   "outputs": [],
   "source": [
    "learn.fine_tune(5, base_lr=LR)"
   ]
  },
  {
   "cell_type": "code",
   "execution_count": 23,
   "metadata": {
    "id": "qgs-iiToWbez"
   },
   "outputs": [],
   "source": [
    "import gradio as gr"
   ]
  },
  {
   "cell_type": "code",
   "execution_count": 24,
   "metadata": {
    "colab": {
     "base_uri": "https://localhost:8080/",
     "height": 371
    },
    "id": "k4x912f1nh-L",
    "outputId": "01343c4f-b420-44bf-f76a-7bbea97e0a9e"
   },
   "outputs": [],
   "source": [
    "# grab one image from our training dataset\n",
    "img, cat = dls.train_ds[0]\n",
    "print(cat)\n",
    "img"
   ]
  },
  {
   "cell_type": "code",
   "execution_count": 25,
   "metadata": {
    "colab": {
     "base_uri": "https://localhost:8080/",
     "height": 71
    },
    "id": "qHQXZGT3rJ-h",
    "outputId": "b3024045-0256-4cd0-b4fb-51915f830c48"
   },
   "outputs": [],
   "source": [
    "breed, cat_id, logits = learn.predict(img)\n",
    "print(breed, cat_id, sep='\\n')\n",
    "print(logits.sum())"
   ]
  },
  {
   "cell_type": "code",
   "execution_count": 26,
   "metadata": {
    "colab": {
     "base_uri": "https://localhost:8080/",
     "height": 88
    },
    "id": "ASX1sQTMWM0p",
    "outputId": "26ef0875-0beb-49a7-fc2e-a401098d67c4"
   },
   "outputs": [],
   "source": [
    "def recognize_pet(img):\n",
    "    breed, cat_id, logits = learn.predict(img)\n",
    "    proba = float(logits.softmax(dim=0).max())\n",
    "    return f\"\"\"\n",
    "    Breed: {breed},\n",
    "    Probability: {proba:.04f}\n",
    "    \"\"\"\n",
    "\n",
    "print(recognize_pet(img))"
   ]
  },
  {
   "cell_type": "markdown",
   "metadata": {
    "id": "sGD1-ZqavcfC"
   },
   "source": [
    "# Exercise 12.1\n",
    "\n",
    "Run the block of code below.\n",
    "Find a few images of pets to upload and observe the inferences made by the model.\n",
    "Do they work decently well?\n",
    "\n",
    "<!-- startquestion -->"
   ]
  },
  {
   "cell_type": "code",
   "execution_count": 27,
   "metadata": {
    "colab": {
     "base_uri": "https://localhost:8080/",
     "height": 612
    },
    "id": "Kr39vH55WeDr",
    "outputId": "f2a6ff5b-7ff5-4dee-92d3-98f574c64f3a"
   },
   "outputs": [],
   "source": [
    "gr.Interface(recognize_pet, inputs=gr.Image(source='upload'), outputs=gr.Label()).launch(inline=True, share=True)"
   ]
  },
  {
   "cell_type": "code",
   "execution_count": 28,
   "metadata": {
    "id": "e5zjV24_3Dh3"
   },
   "outputs": [],
   "source": [
    "def conv_block(in_channels, out_channels, stride=1):\n",
    "    return nn.Sequential(\n",
    "        nn.Conv2d(in_channels, out_channels, kernel_size=3, padding=1, stride=stride),\n",
    "        nn.PReLU(),\n",
    "        nn.BatchNorm2d(out_channels),\n",
    "        nn.Dropout(0.2)\n",
    "    )"
   ]
  },
  {
   "cell_type": "code",
   "execution_count": 29,
   "metadata": {
    "id": "k8pvlWqMWKY1"
   },
   "outputs": [],
   "source": [
    "class ResidualConvBlock(nn.Module):\n",
    "    def __init__(self, in_channels, out_channels, stride=1):\n",
    "        super().__init__()\n",
    "        # If the channels or output shape are different,\n",
    "        # we need a projection so the channels match\n",
    "        self.projection = True if in_channels != out_channels or stride > 1 else False\n",
    "        # The projection is just a 1x1 convolutional layer that changes\n",
    "        # the number of channels to match out_channels.\n",
    "        if self.projection:\n",
    "            self.proj = nn.Conv2d(\n",
    "                in_channels,\n",
    "                out_channels,\n",
    "                kernel_size=1,\n",
    "                padding=0,\n",
    "                stride=stride # If the shape changes, this is one way to downsample spatially.\n",
    "            )\n",
    "\n",
    "        # Now just add the easy part of the network\n",
    "        self.conv1 = conv_block(in_channels, out_channels, stride)\n",
    "        self.conv2 = conv_block(out_channels, out_channels)\n",
    "        self.final_act = nn.PReLU()\n",
    "\n",
    "    def forward(self, x):\n",
    "        # Declare the identity\n",
    "        identity = x\n",
    "        # but if we need to do the projection, project x\n",
    "        # into a different number of channels.\n",
    "        if self.projection:\n",
    "            identity = self.proj(x)\n",
    "        # Pass the original x through the conv network\n",
    "        acts = self.conv2(self.conv1(x))\n",
    "        # Return the identity + the activations of the conv network\n",
    "        return self.final_act(identity + acts)"
   ]
  },
  {
   "cell_type": "code",
   "execution_count": 30,
   "metadata": {
    "id": "ualYKVuU4yrZ"
   },
   "outputs": [],
   "source": [
    "fake_batch = torch.randn(2, 32, 28, 28)"
   ]
  },
  {
   "cell_type": "code",
   "execution_count": 31,
   "metadata": {
    "colab": {
     "base_uri": "https://localhost:8080/"
    },
    "id": "HDoWCgt2xrSJ",
    "outputId": "ae143980-2063-4eda-ea92-f7e98bd7db0e"
   },
   "outputs": [],
   "source": [
    "res = ResidualConvBlock(32, 32)\n",
    "res"
   ]
  },
  {
   "cell_type": "code",
   "execution_count": 32,
   "metadata": {
    "colab": {
     "base_uri": "https://localhost:8080/"
    },
    "id": "iiMSFHGV9wYA",
    "outputId": "898feee2-bbd8-4f4b-8e32-397f6a5a7955"
   },
   "outputs": [],
   "source": [
    "res(fake_batch).shape"
   ]
  },
  {
   "cell_type": "code",
   "execution_count": 33,
   "metadata": {
    "colab": {
     "base_uri": "https://localhost:8080/"
    },
    "id": "J8h_ejeP-UfS",
    "outputId": "d2ae155c-d81f-4915-dfeb-a2c74aa4f2b1"
   },
   "outputs": [],
   "source": [
    "res = ResidualConvBlock(32, 64)\n",
    "res"
   ]
  },
  {
   "cell_type": "code",
   "execution_count": 34,
   "metadata": {
    "colab": {
     "base_uri": "https://localhost:8080/"
    },
    "id": "E35p8IaJePpq",
    "outputId": "70058c12-cd8d-475d-c36b-787afcc3fcce"
   },
   "outputs": [],
   "source": [
    "res(fake_batch).shape"
   ]
  },
  {
   "cell_type": "code",
   "execution_count": 35,
   "metadata": {
    "colab": {
     "base_uri": "https://localhost:8080/"
    },
    "id": "t2BlTbMAeGCy",
    "outputId": "a1ee4a36-5543-41c8-855d-237816c8303b"
   },
   "outputs": [],
   "source": [
    "res = ResidualConvBlock(32, 64, 2)\n",
    "res"
   ]
  },
  {
   "cell_type": "code",
   "execution_count": 36,
   "metadata": {
    "colab": {
     "base_uri": "https://localhost:8080/"
    },
    "id": "ARDqU4dneLpt",
    "outputId": "3b2c4195-5e3c-4f41-96cd-ea2aeb23b180"
   },
   "outputs": [],
   "source": [
    "res(fake_batch).shape"
   ]
  },
  {
   "cell_type": "code",
   "execution_count": 37,
   "metadata": {
    "id": "Ds5s_mAZez_t"
   },
   "outputs": [],
   "source": [
    "def build_model(*args, **kwargs):\n",
    "    model = nn.Sequential(\n",
    "        nn.BatchNorm2d(3),\n",
    "        ResidualConvBlock(3, 16),\n",
    "        ResidualConvBlock(16,16),\n",
    "        ResidualConvBlock(16,32,2),\n",
    "        ResidualConvBlock(32, 64),\n",
    "        nn.AdaptiveMaxPool2d(1),\n",
    "        nn.Flatten(),\n",
    "        nn.Linear(64, 256),\n",
    "        nn.BatchNorm1d(256),\n",
    "        nn.ReLU(),\n",
    "        nn.Dropout(0.2),\n",
    "        nn.Linear(256, 37)\n",
    "    )\n",
    "    return model"
   ]
  },
  {
   "cell_type": "code",
   "execution_count": 38,
   "metadata": {
    "colab": {
     "base_uri": "https://localhost:8080/"
    },
    "id": "9jP4mw6tfzql",
    "outputId": "7370340b-e507-4f17-fe55-a9cbe3735d34"
   },
   "outputs": [],
   "source": [
    "learn = cnn_learner(dls, build_model, pretrained=False, metrics=[accuracy, error_rate])"
   ]
  },
  {
   "cell_type": "code",
   "execution_count": 39,
   "metadata": {
    "colab": {
     "base_uri": "https://localhost:8080/",
     "height": 677
    },
    "id": "rg9siiWcgHoX",
    "outputId": "62ed2885-5040-4d2d-f331-1bd9c39aa736"
   },
   "outputs": [],
   "source": [
    "learn.fit_one_cycle(20, lr_max=1e-3)"
   ]
  }
 ],
 "metadata": {
  "accelerator": "GPU",
  "colab": {
   "authorship_tag": "ABX9TyNS1AphaCbqePUX+qG68lho",
   "include_colab_link": true,
   "name": "12_intro_to_transfer_learning_resnet.ipynb",
   "provenance": []
  },
  "kernelspec": {
   "display_name": "Python 3",
   "name": "python3"
  },
  "language_info": {
   "name": "python"
  }
 },
 "nbformat": 4,
 "nbformat_minor": 0
}
