{
 "cells": [
  {
   "cell_type": "code",
   "execution_count": null,
   "metadata": {
    "colab": {
     "base_uri": "https://localhost:8080/"
    },
    "executionInfo": {
     "elapsed": 4549,
     "status": "ok",
     "timestamp": 1626144801933,
     "user": {
      "displayName": "Mike Frantz",
      "photoUrl": "https://lh3.googleusercontent.com/a-/AOh14GiGYCwZXGfGg-CE4_33PQcH9SW8fN6MyRkenN8-IA=s64",
      "userId": "08482506601269125384"
     },
     "user_tz": 420
    },
    "id": "IsnbTwG_hwlE",
    "outputId": "eba7c368-46ac-41b0-bbe0-e398ddf6965e"
   },
   "outputs": [],
   "source": [
    "!pip install -Uqq fastai"
   ]
  },
  {
   "cell_type": "code",
   "execution_count": null,
   "metadata": {
    "id": "_m-HZXy7h3WM"
   },
   "outputs": [],
   "source": [
    "from fastai.vision.all import *\n",
    "from fastai import *\n",
    "from torch import nn, optim\n",
    "import torch"
   ]
  },
  {
   "cell_type": "code",
   "execution_count": null,
   "metadata": {
    "colab": {
     "base_uri": "https://localhost:8080/",
     "height": 17
    },
    "executionInfo": {
     "elapsed": 34008,
     "status": "ok",
     "timestamp": 1626144839126,
     "user": {
      "displayName": "Mike Frantz",
      "photoUrl": "https://lh3.googleusercontent.com/a-/AOh14GiGYCwZXGfGg-CE4_33PQcH9SW8fN6MyRkenN8-IA=s64",
      "userId": "08482506601269125384"
     },
     "user_tz": 420
    },
    "id": "_EP_49JmiA38",
    "outputId": "20dde59c-1413-4ed0-9091-01b25f08f914"
   },
   "outputs": [],
   "source": [
    "path = untar_data(URLs.PETS)"
   ]
  },
  {
   "cell_type": "code",
   "execution_count": null,
   "metadata": {
    "colab": {
     "base_uri": "https://localhost:8080/"
    },
    "executionInfo": {
     "elapsed": 24,
     "status": "ok",
     "timestamp": 1626144839130,
     "user": {
      "displayName": "Mike Frantz",
      "photoUrl": "https://lh3.googleusercontent.com/a-/AOh14GiGYCwZXGfGg-CE4_33PQcH9SW8fN6MyRkenN8-IA=s64",
      "userId": "08482506601269125384"
     },
     "user_tz": 420
    },
    "id": "xA_M5Hz5iMZz",
    "outputId": "ecd451f7-0763-4b99-cb4d-00f5f597726b"
   },
   "outputs": [],
   "source": [
    "path.ls()"
   ]
  },
  {
   "cell_type": "code",
   "execution_count": null,
   "metadata": {
    "id": "zzB5-veFii98"
   },
   "outputs": [],
   "source": [
    "def label_func(filename):\n",
    "    return '_'.join(filename.split('_')[:-1])"
   ]
  },
  {
   "cell_type": "code",
   "execution_count": null,
   "metadata": {
    "id": "5soie3vziYRa"
   },
   "outputs": [],
   "source": [
    "dls = ImageDataLoaders.from_name_func(\n",
    "    path, \n",
    "    get_image_files(path/'images'), \n",
    "    label_func=label_func, \n",
    "    valid_pct=0.2,\n",
    "    item_tfms=Resize(224),\n",
    "    batch_tfms=Normalize.from_stats(*imagenet_stats)\n",
    ")"
   ]
  },
  {
   "cell_type": "code",
   "execution_count": null,
   "metadata": {
    "id": "pYGYUBaagErQ"
   },
   "outputs": [],
   "source": [
    "pat = r'^(.*)_\\d+.jpg'\n",
    "files = get_image_files(path/'images')\n",
    "dls = ImageDataLoaders.from_name_re(\n",
    "    path, \n",
    "    files, \n",
    "    pat,\n",
    "    valid_pct=0.2, \n",
    "    item_tfms=Resize(224),\n",
    "    batch_tfms=Normalize.from_stats(*imagenet_stats)\n",
    ")\n"
   ]
  },
  {
   "cell_type": "code",
   "execution_count": null,
   "metadata": {
    "colab": {
     "base_uri": "https://localhost:8080/"
    },
    "executionInfo": {
     "elapsed": 10,
     "status": "ok",
     "timestamp": 1626144846286,
     "user": {
      "displayName": "Mike Frantz",
      "photoUrl": "https://lh3.googleusercontent.com/a-/AOh14GiGYCwZXGfGg-CE4_33PQcH9SW8fN6MyRkenN8-IA=s64",
      "userId": "08482506601269125384"
     },
     "user_tz": 420
    },
    "id": "DVTA7sqXlu7B",
    "outputId": "dce5b0d0-81ea-45f1-f1a5-0a49a40f390b"
   },
   "outputs": [],
   "source": [
    "len(dls.train_ds), len(dls.valid_ds)"
   ]
  },
  {
   "cell_type": "code",
   "execution_count": null,
   "metadata": {
    "colab": {
     "base_uri": "https://localhost:8080/",
     "height": 536
    },
    "executionInfo": {
     "elapsed": 2014,
     "status": "ok",
     "timestamp": 1626144848293,
     "user": {
      "displayName": "Mike Frantz",
      "photoUrl": "https://lh3.googleusercontent.com/a-/AOh14GiGYCwZXGfGg-CE4_33PQcH9SW8fN6MyRkenN8-IA=s64",
      "userId": "08482506601269125384"
     },
     "user_tz": 420
    },
    "id": "tAwKJZh7i1AU",
    "outputId": "6c56c478-4b92-43f3-82d1-e4526bee2574"
   },
   "outputs": [],
   "source": [
    "dls.show_batch()"
   ]
  },
  {
   "cell_type": "code",
   "execution_count": null,
   "metadata": {
    "id": "vtgaCE31QaGE"
   },
   "outputs": [],
   "source": [
    "# Get a batch of data\n",
    "x_b, y_b = dls.one_batch()"
   ]
  },
  {
   "cell_type": "code",
   "execution_count": null,
   "metadata": {
    "id": "bRoEzihXPfXT"
   },
   "outputs": [],
   "source": [
    "# Instantiate a resnet.\n",
    "# Switch the pretrained parameter to see \n",
    "# what pre-trained activations look like.\n",
    "resnet = resnet18(pretrained=False).cuda()"
   ]
  },
  {
   "cell_type": "code",
   "execution_count": null,
   "metadata": {
    "colab": {
     "base_uri": "https://localhost:8080/"
    },
    "executionInfo": {
     "elapsed": 30,
     "status": "ok",
     "timestamp": 1626144849407,
     "user": {
      "displayName": "Mike Frantz",
      "photoUrl": "https://lh3.googleusercontent.com/a-/AOh14GiGYCwZXGfGg-CE4_33PQcH9SW8fN6MyRkenN8-IA=s64",
      "userId": "08482506601269125384"
     },
     "user_tz": 420
    },
    "id": "M0XGk3pPQKES",
    "outputId": "c0eb501c-5373-421b-c5ad-9eb71f141370"
   },
   "outputs": [],
   "source": [
    "# Get the activations of a conv layer\n",
    "with hook_output(resnet.conv1) as hook:\n",
    "    with torch.no_grad():\n",
    "        _ = resnet(x_b)\n",
    "        acts = hook.stored"
   ]
  },
  {
   "cell_type": "code",
   "execution_count": null,
   "metadata": {
    "colab": {
     "base_uri": "https://localhost:8080/",
     "height": 353
    },
    "executionInfo": {
     "elapsed": 28,
     "status": "ok",
     "timestamp": 1626144849408,
     "user": {
      "displayName": "Mike Frantz",
      "photoUrl": "https://lh3.googleusercontent.com/a-/AOh14GiGYCwZXGfGg-CE4_33PQcH9SW8fN6MyRkenN8-IA=s64",
      "userId": "08482506601269125384"
     },
     "user_tz": 420
    },
    "id": "LG9D0J0KRIFM",
    "outputId": "eea53300-9ce7-4b15-ab25-fa48669bf48e"
   },
   "outputs": [],
   "source": [
    "# Pick an image from the batch and take a look\n",
    "idx = 0\n",
    "show_image(x_b[idx], title=y_b[idx])"
   ]
  },
  {
   "cell_type": "code",
   "execution_count": null,
   "metadata": {
    "colab": {
     "base_uri": "https://localhost:8080/",
     "height": 729
    },
    "executionInfo": {
     "elapsed": 22,
     "status": "ok",
     "timestamp": 1626144849409,
     "user": {
      "displayName": "Mike Frantz",
      "photoUrl": "https://lh3.googleusercontent.com/a-/AOh14GiGYCwZXGfGg-CE4_33PQcH9SW8fN6MyRkenN8-IA=s64",
      "userId": "08482506601269125384"
     },
     "user_tz": 420
    },
    "id": "1aJ7P73qRCXa",
    "outputId": "a5e7708f-9d30-4d59-b08c-e36ec06abd46"
   },
   "outputs": [],
   "source": [
    "# Visualize activations from the first 9 filters\n",
    "fig = plt.figure(figsize=(10,10))\n",
    "filter_idxs = range(9)\n",
    "for i, filter_idx in enumerate(filter_idxs):\n",
    "    ax = fig.add_subplot(3, 3, 1+i)\n",
    "    ax.matshow(acts[idx][filter_idx].cpu(), cmap='Greys')\n",
    "    ax.set_xticklabels([])\n",
    "    ax.set_yticklabels([])\n",
    "    ax.set_xticks([])\n",
    "    ax.set_yticks([])\n",
    "fig.tight_layout()"
   ]
  },
  {
   "cell_type": "code",
   "execution_count": null,
   "metadata": {
    "colab": {
     "base_uri": "https://localhost:8080/"
    },
    "executionInfo": {
     "elapsed": 21,
     "status": "ok",
     "timestamp": 1626144849410,
     "user": {
      "displayName": "Mike Frantz",
      "photoUrl": "https://lh3.googleusercontent.com/a-/AOh14GiGYCwZXGfGg-CE4_33PQcH9SW8fN6MyRkenN8-IA=s64",
      "userId": "08482506601269125384"
     },
     "user_tz": 420
    },
    "id": "V3vNt9LnUUvG",
    "outputId": "e7e6bd98-3854-4e67-a055-37f523480e1c"
   },
   "outputs": [],
   "source": [
    "# Look at the dimensionality of the output\n",
    "print(resnet.fc)\n",
    "with torch.no_grad():\n",
    "    print(resnet(x_b).shape)"
   ]
  },
  {
   "cell_type": "code",
   "execution_count": null,
   "metadata": {
    "id": "QY5KhyaUYS85"
   },
   "outputs": [],
   "source": [
    "del resnet"
   ]
  },
  {
   "cell_type": "code",
   "execution_count": null,
   "metadata": {
    "id": "AlfjYD-mb2Yd"
   },
   "outputs": [],
   "source": [
    "cbs = [\n",
    "    EarlyStoppingCallback(patience=3)\n",
    "]\n",
    "\n",
    "learn = cnn_learner( # Instantiate a learner object\n",
    "    dls, # Pass the dataloaders\n",
    "    models.resnet34, # Specify the architechture you want to use\n",
    "    pretrained=False, # Tell it NOT to fetch the ImageNet weights\n",
    "    cbs=cbs, # Pass the callbacks\n",
    "    metrics=[accuracy, error_rate] # Pass the metrics you want to see\n",
    ")"
   ]
  },
  {
   "cell_type": "code",
   "execution_count": null,
   "metadata": {
    "id": "r3tioD0nVer4"
   },
   "outputs": [],
   "source": [
    "learn.unfreeze()"
   ]
  },
  {
   "cell_type": "code",
   "execution_count": null,
   "metadata": {
    "colab": {
     "base_uri": "https://localhost:8080/",
     "height": 204
    },
    "executionInfo": {
     "elapsed": 221246,
     "status": "ok",
     "timestamp": 1626145070889,
     "user": {
      "displayName": "Mike Frantz",
      "photoUrl": "https://lh3.googleusercontent.com/a-/AOh14GiGYCwZXGfGg-CE4_33PQcH9SW8fN6MyRkenN8-IA=s64",
      "userId": "08482506601269125384"
     },
     "user_tz": 420
    },
    "id": "7FhMki-Ab9rs",
    "outputId": "6d5e7475-0daa-4790-b125-ebbe647beed9"
   },
   "outputs": [],
   "source": [
    "learn.fit_one_cycle(5, 1e-3)"
   ]
  },
  {
   "cell_type": "code",
   "execution_count": null,
   "metadata": {
    "colab": {
     "base_uri": "https://localhost:8080/",
     "height": 83,
     "referenced_widgets": [
      "3dacdec90a0743bd84d72b9bcec7d8a1",
      "d4eaa50d257448eaaf5847235bb4e15b",
      "b9c66f890f5d485f8d88bb99c5911e21",
      "e8cb65315203434d97730c3c78b1e02f",
      "970895c81c3446da917069902637c8f7",
      "423fa4e632334ef9a0855f3392feda8c",
      "0b5c55acb10a4fc8b6dfaa7418458afd",
      "d7e788f72b174611af234a91f0548ba0"
     ]
    },
    "executionInfo": {
     "elapsed": 1527,
     "status": "ok",
     "timestamp": 1626145072407,
     "user": {
      "displayName": "Mike Frantz",
      "photoUrl": "https://lh3.googleusercontent.com/a-/AOh14GiGYCwZXGfGg-CE4_33PQcH9SW8fN6MyRkenN8-IA=s64",
      "userId": "08482506601269125384"
     },
     "user_tz": 420
    },
    "id": "iANdnvUyjG4n",
    "outputId": "654c65fb-6a65-481c-b4e5-686f15969991"
   },
   "outputs": [],
   "source": [
    "cbs = [\n",
    "    EarlyStoppingCallback(patience=3)\n",
    "]\n",
    "\n",
    "learn = cnn_learner( # Instantiate a learner object\n",
    "    dls, # Pass the dataloaders\n",
    "    models.resnet34, # Specify the architechture you want to use\n",
    "    pretrained=True, # Tell it to fetch the ImageNet weights\n",
    "    cbs=cbs, # Pass the callbacks\n",
    "    metrics=[accuracy, error_rate] # Pass the metrics you want to see\n",
    ")"
   ]
  },
  {
   "cell_type": "code",
   "execution_count": null,
   "metadata": {
    "colab": {
     "base_uri": "https://localhost:8080/"
    },
    "executionInfo": {
     "elapsed": 25,
     "status": "ok",
     "timestamp": 1626145072411,
     "user": {
      "displayName": "Mike Frantz",
      "photoUrl": "https://lh3.googleusercontent.com/a-/AOh14GiGYCwZXGfGg-CE4_33PQcH9SW8fN6MyRkenN8-IA=s64",
      "userId": "08482506601269125384"
     },
     "user_tz": 420
    },
    "id": "CcdKalRicTgt",
    "outputId": "16785a07-1c3e-4194-f6e1-3dd0d6a64499"
   },
   "outputs": [],
   "source": [
    "learn.model[1]"
   ]
  },
  {
   "cell_type": "code",
   "execution_count": null,
   "metadata": {
    "colab": {
     "base_uri": "https://localhost:8080/"
    },
    "executionInfo": {
     "elapsed": 23,
     "status": "ok",
     "timestamp": 1626145072412,
     "user": {
      "displayName": "Mike Frantz",
      "photoUrl": "https://lh3.googleusercontent.com/a-/AOh14GiGYCwZXGfGg-CE4_33PQcH9SW8fN6MyRkenN8-IA=s64",
      "userId": "08482506601269125384"
     },
     "user_tz": 420
    },
    "id": "BnbaPiprNXf8",
    "outputId": "5fb7ed5e-7077-40e0-ee63-97924a8bff46"
   },
   "outputs": [],
   "source": [
    "print(f\"\"\"\n",
    "There are {learn.dls.c} categories.\n",
    "If we guessed randomly, we would have aboiut a {100. * 1/learn.dls.c:.02f}% chance of guessing correctly.\n",
    "\"\"\")"
   ]
  },
  {
   "cell_type": "code",
   "execution_count": null,
   "metadata": {
    "colab": {
     "base_uri": "https://localhost:8080/",
     "height": 300
    },
    "executionInfo": {
     "elapsed": 34693,
     "status": "ok",
     "timestamp": 1626145107095,
     "user": {
      "displayName": "Mike Frantz",
      "photoUrl": "https://lh3.googleusercontent.com/a-/AOh14GiGYCwZXGfGg-CE4_33PQcH9SW8fN6MyRkenN8-IA=s64",
      "userId": "08482506601269125384"
     },
     "user_tz": 420
    },
    "id": "doqXsZguldc7",
    "outputId": "2e192939-84a6-4f10-f7c9-bd2df658ef3b"
   },
   "outputs": [],
   "source": [
    "# Find a reasonable learning rate\n",
    "learn.lr_find()"
   ]
  },
  {
   "cell_type": "code",
   "execution_count": null,
   "metadata": {
    "id": "w3bm5jgol9Lm"
   },
   "outputs": [],
   "source": [
    "LR = 2e-3"
   ]
  },
  {
   "cell_type": "code",
   "execution_count": null,
   "metadata": {
    "colab": {
     "base_uri": "https://localhost:8080/",
     "height": 80
    },
    "executionInfo": {
     "elapsed": 41966,
     "status": "ok",
     "timestamp": 1626145149041,
     "user": {
      "displayName": "Mike Frantz",
      "photoUrl": "https://lh3.googleusercontent.com/a-/AOh14GiGYCwZXGfGg-CE4_33PQcH9SW8fN6MyRkenN8-IA=s64",
      "userId": "08482506601269125384"
     },
     "user_tz": 420
    },
    "id": "SkLhle4eZb3A",
    "outputId": "52e98e9d-90cc-4fd4-8d40-e21ce164fa3c"
   },
   "outputs": [],
   "source": [
    "# Train the classifier head\n",
    "learn.fit_one_cycle(1, LR)"
   ]
  },
  {
   "cell_type": "code",
   "execution_count": null,
   "metadata": {
    "id": "HulxNy3TZj5r"
   },
   "outputs": [],
   "source": [
    "# Unfreeze the backbone\n",
    "learn.unfreeze()"
   ]
  },
  {
   "cell_type": "code",
   "execution_count": null,
   "metadata": {
    "colab": {
     "base_uri": "https://localhost:8080/",
     "height": 204
    },
    "executionInfo": {
     "elapsed": 218228,
     "status": "ok",
     "timestamp": 1626145367257,
     "user": {
      "displayName": "Mike Frantz",
      "photoUrl": "https://lh3.googleusercontent.com/a-/AOh14GiGYCwZXGfGg-CE4_33PQcH9SW8fN6MyRkenN8-IA=s64",
      "userId": "08482506601269125384"
     },
     "user_tz": 420
    },
    "id": "b0_FtS9BZl6b",
    "outputId": "afb6cba4-6be3-4fec-8dce-e078225f1b77"
   },
   "outputs": [],
   "source": [
    "# Trainin everything together\n",
    "learn.fit_one_cycle(1, lr_max=slice(LR))"
   ]
  },
  {
   "cell_type": "code",
   "execution_count": null,
   "metadata": {
    "id": "mJd2XiUgbmRn"
   },
   "outputs": [],
   "source": [
    "cbs = [\n",
    "    EarlyStoppingCallback(patience=3)\n",
    "]\n",
    "\n",
    "learn = cnn_learner( # Instantiate a learner object\n",
    "    dls, # Pass the dataloaders\n",
    "    resnet34, # Specify the architechture you want to use\n",
    "    pretrained=True, # Tell it to fetch the ImageNet weights\n",
    "    # loss_func=nn.CrossEntropyLoss(), # Pass the loss function\n",
    "    cbs=cbs, # Pass the callbacks\n",
    "    metrics=[accuracy, error_rate] # Pass the metrics you want to see\n",
    ")"
   ]
  },
  {
   "cell_type": "code",
   "execution_count": null,
   "metadata": {
    "colab": {
     "base_uri": "https://localhost:8080/",
     "height": 267
    },
    "executionInfo": {
     "elapsed": 260953,
     "status": "ok",
     "timestamp": 1626145628182,
     "user": {
      "displayName": "Mike Frantz",
      "photoUrl": "https://lh3.googleusercontent.com/a-/AOh14GiGYCwZXGfGg-CE4_33PQcH9SW8fN6MyRkenN8-IA=s64",
      "userId": "08482506601269125384"
     },
     "user_tz": 420
    },
    "id": "vTzn6ZrZmIog",
    "outputId": "419eba0b-ab18-481f-8d3b-3ae9424dbecd"
   },
   "outputs": [],
   "source": [
    "learn.fine_tune(5, base_lr=LR)"
   ]
  },
  {
   "cell_type": "code",
   "execution_count": null,
   "metadata": {
    "colab": {
     "base_uri": "https://localhost:8080/",
     "height": 551
    },
    "executionInfo": {
     "elapsed": 2313,
     "status": "ok",
     "timestamp": 1626145630480,
     "user": {
      "displayName": "Mike Frantz",
      "photoUrl": "https://lh3.googleusercontent.com/a-/AOh14GiGYCwZXGfGg-CE4_33PQcH9SW8fN6MyRkenN8-IA=s64",
      "userId": "08482506601269125384"
     },
     "user_tz": 420
    },
    "id": "_DXtTwUniug_",
    "outputId": "e1b8fe43-cdaa-4365-9198-f94916582a05"
   },
   "outputs": [],
   "source": [
    "learn.show_results()"
   ]
  },
  {
   "cell_type": "code",
   "execution_count": null,
   "metadata": {
    "colab": {
     "base_uri": "https://localhost:8080/"
    },
    "executionInfo": {
     "elapsed": 6734,
     "status": "ok",
     "timestamp": 1626145637208,
     "user": {
      "displayName": "Mike Frantz",
      "photoUrl": "https://lh3.googleusercontent.com/a-/AOh14GiGYCwZXGfGg-CE4_33PQcH9SW8fN6MyRkenN8-IA=s64",
      "userId": "08482506601269125384"
     },
     "user_tz": 420
    },
    "id": "bR1tAtqeSe-z",
    "outputId": "20af4af8-fcf8-4b6a-cbbc-11c4ca8e5d4e"
   },
   "outputs": [],
   "source": [
    "!pip install -Uqq gradio"
   ]
  },
  {
   "cell_type": "code",
   "execution_count": null,
   "metadata": {
    "id": "qgs-iiToWbez"
   },
   "outputs": [],
   "source": [
    "import gradio as gr"
   ]
  },
  {
   "cell_type": "code",
   "execution_count": null,
   "metadata": {
    "id": "ASX1sQTMWM0p"
   },
   "outputs": [],
   "source": [
    "def recognize_pet(img):\n",
    "    breed, cat_id, logits = learn.predict(img)\n",
    "    proba = float(logits.softmax(dim=0).max())\n",
    "    return f\"\"\"\n",
    "    Breed: {breed},\n",
    "    Probability: {proba:.04f}\n",
    "    \"\"\""
   ]
  },
  {
   "cell_type": "code",
   "execution_count": null,
   "metadata": {
    "colab": {
     "base_uri": "https://localhost:8080/",
     "height": 640
    },
    "executionInfo": {
     "elapsed": 6045,
     "status": "ok",
     "timestamp": 1626145647465,
     "user": {
      "displayName": "Mike Frantz",
      "photoUrl": "https://lh3.googleusercontent.com/a-/AOh14GiGYCwZXGfGg-CE4_33PQcH9SW8fN6MyRkenN8-IA=s64",
      "userId": "08482506601269125384"
     },
     "user_tz": 420
    },
    "id": "Kr39vH55WeDr",
    "outputId": "078f7798-ebfa-450a-f5ea-53bbe4616cb9"
   },
   "outputs": [],
   "source": [
    "gr.Interface(recognize_pet, inputs=gr.inputs.Image(source='upload'), outputs=gr.outputs.Label()).launch(inline=True)"
   ]
  },
  {
   "cell_type": "code",
   "execution_count": null,
   "metadata": {
    "id": "e5zjV24_3Dh3"
   },
   "outputs": [],
   "source": [
    "def conv_block(in_channels, out_channels, stride=1):\n",
    "    return nn.Sequential(\n",
    "        nn.Conv2d(in_channels, out_channels, kernel_size=3, padding=1, stride=stride),\n",
    "        nn.PReLU(),\n",
    "        nn.BatchNorm2d(out_channels),\n",
    "        nn.Dropout(0.2)\n",
    "    )"
   ]
  },
  {
   "cell_type": "code",
   "execution_count": null,
   "metadata": {
    "id": "k8pvlWqMWKY1"
   },
   "outputs": [],
   "source": [
    "class ResidualConvBlock(nn.Module):\n",
    "    def __init__(self, in_channels, out_channels, stride=1):\n",
    "        super().__init__()\n",
    "        # If the channels or output shape are different, \n",
    "        # we need a projection so the channels match\n",
    "        self.projection = True if in_channels != out_channels or stride > 1 else False\n",
    "        # The projection is just a 1x1 convolutional layer that changes\n",
    "        # the number of channels to match out_channels.\n",
    "        if self.projection:\n",
    "            self.proj = nn.Conv2d(\n",
    "                in_channels, \n",
    "                out_channels, \n",
    "                kernel_size=1, \n",
    "                padding=0,\n",
    "                stride=stride # If the shape changes, this is one way to downsample spatially.\n",
    "            )\n",
    "\n",
    "        # Now just add the easy part of the network\n",
    "        self.conv1 = conv_block(in_channels, out_channels, stride)\n",
    "        self.conv2 = conv_block(out_channels, out_channels)\n",
    "        self.final_act = nn.PReLU()\n",
    "\n",
    "    def forward(self, x):\n",
    "        # Declare the identity\n",
    "        identity = x\n",
    "        # but if we need to do the projection, project x \n",
    "        # into a different number of channels.\n",
    "        if self.projection:\n",
    "            identity = self.proj(x)\n",
    "        # Pass the original x through the conv network\n",
    "        acts = self.conv2(self.conv1(x))\n",
    "        # Return the identity + the activations of the conv network\n",
    "        return self.final_act(identity + acts)"
   ]
  },
  {
   "cell_type": "code",
   "execution_count": null,
   "metadata": {
    "id": "ualYKVuU4yrZ"
   },
   "outputs": [],
   "source": [
    "fake_batch = torch.randn(2, 32, 28, 28)"
   ]
  },
  {
   "cell_type": "code",
   "execution_count": null,
   "metadata": {
    "colab": {
     "base_uri": "https://localhost:8080/"
    },
    "executionInfo": {
     "elapsed": 4,
     "status": "ok",
     "timestamp": 1626148096725,
     "user": {
      "displayName": "Mike Frantz",
      "photoUrl": "https://lh3.googleusercontent.com/a-/AOh14GiGYCwZXGfGg-CE4_33PQcH9SW8fN6MyRkenN8-IA=s64",
      "userId": "08482506601269125384"
     },
     "user_tz": 420
    },
    "id": "iiMSFHGV9wYA",
    "outputId": "ccc6b92d-0db7-41ce-cd56-b70acf20b550"
   },
   "outputs": [],
   "source": [
    "ResidualConvBlock(32, 32)(fake_batch).shape"
   ]
  },
  {
   "cell_type": "code",
   "execution_count": null,
   "metadata": {
    "colab": {
     "base_uri": "https://localhost:8080/"
    },
    "executionInfo": {
     "elapsed": 240,
     "status": "ok",
     "timestamp": 1626148717480,
     "user": {
      "displayName": "Mike Frantz",
      "photoUrl": "https://lh3.googleusercontent.com/a-/AOh14GiGYCwZXGfGg-CE4_33PQcH9SW8fN6MyRkenN8-IA=s64",
      "userId": "08482506601269125384"
     },
     "user_tz": 420
    },
    "id": "J8h_ejeP-UfS",
    "outputId": "307b76d0-4c1e-420a-f12e-35b9eebcc9a0"
   },
   "outputs": [],
   "source": [
    "ResidualConvBlock(32, 32, 2)(fake_batch).shape"
   ]
  },
  {
   "cell_type": "code",
   "execution_count": null,
   "metadata": {
    "colab": {
     "base_uri": "https://localhost:8080/"
    },
    "executionInfo": {
     "elapsed": 224,
     "status": "ok",
     "timestamp": 1626147891745,
     "user": {
      "displayName": "Mike Frantz",
      "photoUrl": "https://lh3.googleusercontent.com/a-/AOh14GiGYCwZXGfGg-CE4_33PQcH9SW8fN6MyRkenN8-IA=s64",
      "userId": "08482506601269125384"
     },
     "user_tz": 420
    },
    "id": "qiVqiDcs5DtA",
    "outputId": "ab4f19b1-b69e-4b39-aeca-8174a2dbf79d"
   },
   "outputs": [],
   "source": [
    "ResidualConvBlock(32, 64)(fake_batch).shape"
   ]
  },
  {
   "cell_type": "code",
   "execution_count": null,
   "metadata": {
    "id": "oKVF46rg83Fz"
   },
   "outputs": [],
   "source": []
  }
 ],
 "metadata": {
  "accelerator": "GPU",
  "colab": {
   "authorship_tag": "ABX9TyNyDGYGnb+cF+Rxg6u3EeWK",
   "collapsed_sections": [],
   "name": "12_intro_to_transfer_learning_resnet.ipynb",
   "provenance": []
  },
  "kernelspec": {
   "display_name": "Python 3",
   "name": "python3"
  },
  "language_info": {
   "name": "python"
  },
  "widgets": {
   "application/vnd.jupyter.widget-state+json": {
    "0b5c55acb10a4fc8b6dfaa7418458afd": {
     "model_module": "@jupyter-widgets/controls",
     "model_name": "DescriptionStyleModel",
     "state": {
      "_model_module": "@jupyter-widgets/controls",
      "_model_module_version": "1.5.0",
      "_model_name": "DescriptionStyleModel",
      "_view_count": null,
      "_view_module": "@jupyter-widgets/base",
      "_view_module_version": "1.2.0",
      "_view_name": "StyleView",
      "description_width": ""
     }
    },
    "3dacdec90a0743bd84d72b9bcec7d8a1": {
     "model_module": "@jupyter-widgets/controls",
     "model_name": "HBoxModel",
     "state": {
      "_dom_classes": [],
      "_model_module": "@jupyter-widgets/controls",
      "_model_module_version": "1.5.0",
      "_model_name": "HBoxModel",
      "_view_count": null,
      "_view_module": "@jupyter-widgets/controls",
      "_view_module_version": "1.5.0",
      "_view_name": "HBoxView",
      "box_style": "",
      "children": [
       "IPY_MODEL_b9c66f890f5d485f8d88bb99c5911e21",
       "IPY_MODEL_e8cb65315203434d97730c3c78b1e02f"
      ],
      "layout": "IPY_MODEL_d4eaa50d257448eaaf5847235bb4e15b"
     }
    },
    "423fa4e632334ef9a0855f3392feda8c": {
     "model_module": "@jupyter-widgets/base",
     "model_name": "LayoutModel",
     "state": {
      "_model_module": "@jupyter-widgets/base",
      "_model_module_version": "1.2.0",
      "_model_name": "LayoutModel",
      "_view_count": null,
      "_view_module": "@jupyter-widgets/base",
      "_view_module_version": "1.2.0",
      "_view_name": "LayoutView",
      "align_content": null,
      "align_items": null,
      "align_self": null,
      "border": null,
      "bottom": null,
      "display": null,
      "flex": null,
      "flex_flow": null,
      "grid_area": null,
      "grid_auto_columns": null,
      "grid_auto_flow": null,
      "grid_auto_rows": null,
      "grid_column": null,
      "grid_gap": null,
      "grid_row": null,
      "grid_template_areas": null,
      "grid_template_columns": null,
      "grid_template_rows": null,
      "height": null,
      "justify_content": null,
      "justify_items": null,
      "left": null,
      "margin": null,
      "max_height": null,
      "max_width": null,
      "min_height": null,
      "min_width": null,
      "object_fit": null,
      "object_position": null,
      "order": null,
      "overflow": null,
      "overflow_x": null,
      "overflow_y": null,
      "padding": null,
      "right": null,
      "top": null,
      "visibility": null,
      "width": null
     }
    },
    "970895c81c3446da917069902637c8f7": {
     "model_module": "@jupyter-widgets/controls",
     "model_name": "ProgressStyleModel",
     "state": {
      "_model_module": "@jupyter-widgets/controls",
      "_model_module_version": "1.5.0",
      "_model_name": "ProgressStyleModel",
      "_view_count": null,
      "_view_module": "@jupyter-widgets/base",
      "_view_module_version": "1.2.0",
      "_view_name": "StyleView",
      "bar_color": null,
      "description_width": "initial"
     }
    },
    "b9c66f890f5d485f8d88bb99c5911e21": {
     "model_module": "@jupyter-widgets/controls",
     "model_name": "FloatProgressModel",
     "state": {
      "_dom_classes": [],
      "_model_module": "@jupyter-widgets/controls",
      "_model_module_version": "1.5.0",
      "_model_name": "FloatProgressModel",
      "_view_count": null,
      "_view_module": "@jupyter-widgets/controls",
      "_view_module_version": "1.5.0",
      "_view_name": "ProgressView",
      "bar_style": "success",
      "description": "100%",
      "description_tooltip": null,
      "layout": "IPY_MODEL_423fa4e632334ef9a0855f3392feda8c",
      "max": 87319819,
      "min": 0,
      "orientation": "horizontal",
      "style": "IPY_MODEL_970895c81c3446da917069902637c8f7",
      "value": 87319819
     }
    },
    "d4eaa50d257448eaaf5847235bb4e15b": {
     "model_module": "@jupyter-widgets/base",
     "model_name": "LayoutModel",
     "state": {
      "_model_module": "@jupyter-widgets/base",
      "_model_module_version": "1.2.0",
      "_model_name": "LayoutModel",
      "_view_count": null,
      "_view_module": "@jupyter-widgets/base",
      "_view_module_version": "1.2.0",
      "_view_name": "LayoutView",
      "align_content": null,
      "align_items": null,
      "align_self": null,
      "border": null,
      "bottom": null,
      "display": null,
      "flex": null,
      "flex_flow": null,
      "grid_area": null,
      "grid_auto_columns": null,
      "grid_auto_flow": null,
      "grid_auto_rows": null,
      "grid_column": null,
      "grid_gap": null,
      "grid_row": null,
      "grid_template_areas": null,
      "grid_template_columns": null,
      "grid_template_rows": null,
      "height": null,
      "justify_content": null,
      "justify_items": null,
      "left": null,
      "margin": null,
      "max_height": null,
      "max_width": null,
      "min_height": null,
      "min_width": null,
      "object_fit": null,
      "object_position": null,
      "order": null,
      "overflow": null,
      "overflow_x": null,
      "overflow_y": null,
      "padding": null,
      "right": null,
      "top": null,
      "visibility": null,
      "width": null
     }
    },
    "d7e788f72b174611af234a91f0548ba0": {
     "model_module": "@jupyter-widgets/base",
     "model_name": "LayoutModel",
     "state": {
      "_model_module": "@jupyter-widgets/base",
      "_model_module_version": "1.2.0",
      "_model_name": "LayoutModel",
      "_view_count": null,
      "_view_module": "@jupyter-widgets/base",
      "_view_module_version": "1.2.0",
      "_view_name": "LayoutView",
      "align_content": null,
      "align_items": null,
      "align_self": null,
      "border": null,
      "bottom": null,
      "display": null,
      "flex": null,
      "flex_flow": null,
      "grid_area": null,
      "grid_auto_columns": null,
      "grid_auto_flow": null,
      "grid_auto_rows": null,
      "grid_column": null,
      "grid_gap": null,
      "grid_row": null,
      "grid_template_areas": null,
      "grid_template_columns": null,
      "grid_template_rows": null,
      "height": null,
      "justify_content": null,
      "justify_items": null,
      "left": null,
      "margin": null,
      "max_height": null,
      "max_width": null,
      "min_height": null,
      "min_width": null,
      "object_fit": null,
      "object_position": null,
      "order": null,
      "overflow": null,
      "overflow_x": null,
      "overflow_y": null,
      "padding": null,
      "right": null,
      "top": null,
      "visibility": null,
      "width": null
     }
    },
    "e8cb65315203434d97730c3c78b1e02f": {
     "model_module": "@jupyter-widgets/controls",
     "model_name": "HTMLModel",
     "state": {
      "_dom_classes": [],
      "_model_module": "@jupyter-widgets/controls",
      "_model_module_version": "1.5.0",
      "_model_name": "HTMLModel",
      "_view_count": null,
      "_view_module": "@jupyter-widgets/controls",
      "_view_module_version": "1.5.0",
      "_view_name": "HTMLView",
      "description": "",
      "description_tooltip": null,
      "layout": "IPY_MODEL_d7e788f72b174611af234a91f0548ba0",
      "placeholder": "​",
      "style": "IPY_MODEL_0b5c55acb10a4fc8b6dfaa7418458afd",
      "value": " 83.3M/83.3M [00:34&lt;00:00, 2.50MB/s]"
     }
    }
   }
  }
 },
 "nbformat": 4,
 "nbformat_minor": 0
}
