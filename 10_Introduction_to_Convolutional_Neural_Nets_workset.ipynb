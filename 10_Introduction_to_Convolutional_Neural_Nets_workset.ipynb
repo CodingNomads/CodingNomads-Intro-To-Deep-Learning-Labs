{
 "cells": [
  {
   "cell_type": "code",
   "execution_count": 1,
   "metadata": {
    "executionInfo": {
     "elapsed": 8131,
     "status": "ok",
     "timestamp": 1645152931373,
     "user": {
      "displayName": "Mike Frantz",
      "photoUrl": "https://lh3.googleusercontent.com/a-/AOh14GiGYCwZXGfGg-CE4_33PQcH9SW8fN6MyRkenN8-IA=s64",
      "userId": "08482506601269125384"
     },
     "user_tz": 480
    },
    "id": "VSlqSSC-1nAO"
   },
   "outputs": [],
   "source": [
    "import torch\n",
    "from torch import nn\n",
    "import torch.nn.functional as F\n",
    "import torchvision as tv\n",
    "\n",
    "from PIL import Image\n",
    "import requests\n",
    "from io import BytesIO\n",
    "\n",
    "import matplotlib.pyplot as plt\n",
    "\n",
    "from IPython.display import YouTubeVideo, display"
   ]
  },
  {
   "cell_type": "code",
   "execution_count": 2,
   "metadata": {
    "executionInfo": {
     "elapsed": 254,
     "status": "ok",
     "timestamp": 1645152931623,
     "user": {
      "displayName": "Mike Frantz",
      "photoUrl": "https://lh3.googleusercontent.com/a-/AOh14GiGYCwZXGfGg-CE4_33PQcH9SW8fN6MyRkenN8-IA=s64",
      "userId": "08482506601269125384"
     },
     "user_tz": 480
    },
    "id": "VP64dNM03j3I"
   },
   "outputs": [],
   "source": [
    "SIZE = {'width':1000, 'height': 600}"
   ]
  },
  {
   "cell_type": "code",
   "execution_count": 3,
   "metadata": {
    "colab": {
     "base_uri": "https://localhost:8080/",
     "height": 641
    },
    "executionInfo": {
     "elapsed": 7,
     "status": "ok",
     "timestamp": 1645152931624,
     "user": {
      "displayName": "Mike Frantz",
      "photoUrl": "https://lh3.googleusercontent.com/a-/AOh14GiGYCwZXGfGg-CE4_33PQcH9SW8fN6MyRkenN8-IA=s64",
      "userId": "08482506601269125384"
     },
     "user_tz": 480
    },
    "id": "N-FSPqeN2kaq",
    "outputId": "5009f68b-ae05-4be7-899b-04cea1d7073e"
   },
   "outputs": [],
   "source": [
    "vid = YouTubeVideo('XuD4C8vJzEQ', **SIZE)\n",
    "display(vid)"
   ]
  },
  {
   "cell_type": "code",
   "execution_count": 4,
   "metadata": {
    "colab": {
     "base_uri": "https://localhost:8080/",
     "height": 54
    },
    "executionInfo": {
     "elapsed": 237,
     "status": "ok",
     "timestamp": 1645152931856,
     "user": {
      "displayName": "Mike Frantz",
      "photoUrl": "https://lh3.googleusercontent.com/a-/AOh14GiGYCwZXGfGg-CE4_33PQcH9SW8fN6MyRkenN8-IA=s64",
      "userId": "08482506601269125384"
     },
     "user_tz": 480
    },
    "id": "wq_ch3ZZLYmH",
    "outputId": "c10978bb-3529-4f4e-f727-bd3bc1185c4d"
   },
   "outputs": [],
   "source": [
    "url = 'https://media.istockphoto.com/vectors/chess-silhouettes-vector-id165635822?b=1&k=20&m=165635822&s=612x612&w=0&h=pmf6FVa--nzyWCKb0SyTkIi3xdaHaamJuaR-FIjw1iI='\n",
    "response = requests.get(url)\n",
    "img = Image.open(BytesIO(response.content)).convert('L')\n",
    "img"
   ]
  },
  {
   "cell_type": "code",
   "execution_count": 5,
   "metadata": {
    "executionInfo": {
     "elapsed": 4,
     "status": "ok",
     "timestamp": 1645152931857,
     "user": {
      "displayName": "Mike Frantz",
      "photoUrl": "https://lh3.googleusercontent.com/a-/AOh14GiGYCwZXGfGg-CE4_33PQcH9SW8fN6MyRkenN8-IA=s64",
      "userId": "08482506601269125384"
     },
     "user_tz": 480
    },
    "id": "KFlFdiI4S7J6"
   },
   "outputs": [],
   "source": [
    "to_tensor = tv.transforms.ToTensor()\n",
    "to_image = tv.transforms.ToPILImage()"
   ]
  },
  {
   "cell_type": "code",
   "execution_count": 6,
   "metadata": {
    "colab": {
     "base_uri": "https://localhost:8080/"
    },
    "executionInfo": {
     "elapsed": 404,
     "status": "ok",
     "timestamp": 1645152932257,
     "user": {
      "displayName": "Mike Frantz",
      "photoUrl": "https://lh3.googleusercontent.com/a-/AOh14GiGYCwZXGfGg-CE4_33PQcH9SW8fN6MyRkenN8-IA=s64",
      "userId": "08482506601269125384"
     },
     "user_tz": 480
    },
    "id": "TjP50az6Rdnh",
    "outputId": "3f972248-a836-4dae-c500-e274d4f156bf"
   },
   "outputs": [],
   "source": [
    "img_tensor = (\n",
    "    to_tensor(img) # Convert to tensor\n",
    "    .unsqueeze(0) # Add a batch dimension\n",
    "    / 255. # Scale between 0 and 1.\n",
    ")\n",
    "img_tensor.shape"
   ]
  },
  {
   "cell_type": "code",
   "execution_count": 7,
   "metadata": {
    "executionInfo": {
     "elapsed": 3,
     "status": "ok",
     "timestamp": 1645152932257,
     "user": {
      "displayName": "Mike Frantz",
      "photoUrl": "https://lh3.googleusercontent.com/a-/AOh14GiGYCwZXGfGg-CE4_33PQcH9SW8fN6MyRkenN8-IA=s64",
      "userId": "08482506601269125384"
     },
     "user_tz": 480
    },
    "id": "n7LA-TaGKhp2"
   },
   "outputs": [],
   "source": [
    "vertical_filter = torch.tensor([\n",
    "    [1., 0, -1],\n",
    "    [1., 0, -1],\n",
    "    [1., 0, -1],\n",
    "]).unsqueeze(0).unsqueeze(0)"
   ]
  },
  {
   "cell_type": "code",
   "execution_count": 8,
   "metadata": {
    "executionInfo": {
     "elapsed": 153,
     "status": "ok",
     "timestamp": 1645152932408,
     "user": {
      "displayName": "Mike Frantz",
      "photoUrl": "https://lh3.googleusercontent.com/a-/AOh14GiGYCwZXGfGg-CE4_33PQcH9SW8fN6MyRkenN8-IA=s64",
      "userId": "08482506601269125384"
     },
     "user_tz": 480
    },
    "id": "YI_ss_TqKHZg"
   },
   "outputs": [],
   "source": [
    "vert_output = F.conv2d(img_tensor, vertical_filter).squeeze()\n",
    "vert_image = to_image(vert_output)"
   ]
  },
  {
   "cell_type": "code",
   "execution_count": 9,
   "metadata": {
    "colab": {
     "base_uri": "https://localhost:8080/",
     "height": 54
    },
    "executionInfo": {
     "elapsed": 959,
     "status": "ok",
     "timestamp": 1645152933365,
     "user": {
      "displayName": "Mike Frantz",
      "photoUrl": "https://lh3.googleusercontent.com/a-/AOh14GiGYCwZXGfGg-CE4_33PQcH9SW8fN6MyRkenN8-IA=s64",
      "userId": "08482506601269125384"
     },
     "user_tz": 480
    },
    "id": "Xsyg5iTATCV4",
    "outputId": "9928d24d-e921-4a44-baf0-f3d617506fa4"
   },
   "outputs": [],
   "source": [
    "fig, axes = plt.subplots(1, 2, figsize=(20, 10))\n",
    "axes[0].imshow(img, cmap='Greys_r')\n",
    "axes[0].set_title('Original greyscale image')\n",
    "axes[1].imshow(vert_image, cmap='Greys_r')\n",
    "axes[1].set_title('Feature map of vertical filter')\n",
    "for ax in axes:\n",
    "    ax.set_xticks([])\n",
    "    ax.set_yticks([])\n",
    "fig.tight_layout()"
   ]
  },
  {
   "cell_type": "markdown",
   "metadata": {
    "id": "anrR11WXu7_L"
   },
   "source": [
    "# Exercise 10.1\n",
    "\n",
    "Use what you learned in this lesson to create a horizontal feature map.\n",
    "The result of this exercise should be an edge detector that detects the top edges of the chess pieces and squares on the board.\n",
    "\n",
    "Then, use the `F.conv2d` to apply the filter.\n",
    "\n",
    "<!-- startquestion -->"
   ]
  },
  {
   "cell_type": "code",
   "execution_count": 10,
   "metadata": {
    "executionInfo": {
     "elapsed": 5,
     "status": "ok",
     "timestamp": 1645152933365,
     "user": {
      "displayName": "Mike Frantz",
      "photoUrl": "https://lh3.googleusercontent.com/a-/AOh14GiGYCwZXGfGg-CE4_33PQcH9SW8fN6MyRkenN8-IA=s64",
      "userId": "08482506601269125384"
     },
     "user_tz": 480
    },
    "id": "oC51Xvw8wWoD"
   },
   "outputs": [],
   "source": [
    "# Your code here\n",
    "horizontal_filter = ...\n",
    "\n",
    "horizontal_tensor = ...\n",
    "horizontal_image = ..."
   ]
  },
  {
   "cell_type": "code",
   "execution_count": 12,
   "metadata": {
    "executionInfo": {
     "elapsed": 5,
     "status": "ok",
     "timestamp": 1645152933366,
     "user": {
      "displayName": "Mike Frantz",
      "photoUrl": "https://lh3.googleusercontent.com/a-/AOh14GiGYCwZXGfGg-CE4_33PQcH9SW8fN6MyRkenN8-IA=s64",
      "userId": "08482506601269125384"
     },
     "user_tz": 480
    },
    "id": "2oWAWKCbwej1"
   },
   "outputs": [],
   "source": [
    "assert horizontal_filter.ndim == 4"
   ]
  },
  {
   "cell_type": "code",
   "execution_count": 13,
   "metadata": {
    "colab": {
     "base_uri": "https://localhost:8080/",
     "height": 508
    },
    "executionInfo": {
     "elapsed": 1449,
     "status": "ok",
     "timestamp": 1645152934810,
     "user": {
      "displayName": "Mike Frantz",
      "photoUrl": "https://lh3.googleusercontent.com/a-/AOh14GiGYCwZXGfGg-CE4_33PQcH9SW8fN6MyRkenN8-IA=s64",
      "userId": "08482506601269125384"
     },
     "user_tz": 480
    },
    "id": "nodTP1FNwA0F",
    "outputId": "8a63bff9-1f94-4c68-db8c-32f1312f0d03"
   },
   "outputs": [],
   "source": [
    "fig, axes = plt.subplots(1, 2, figsize=(20, 10))\n",
    "axes[0].imshow(img, cmap='Greys_r')\n",
    "axes[0].set_title('Original greyscale image')\n",
    "axes[1].imshow(horizontal_image, cmap='Greys_r')\n",
    "axes[1].set_title('Feature map of horizontal filter')\n",
    "for ax in axes:\n",
    "    ax.set_xticks([])\n",
    "    ax.set_yticks([])\n",
    "fig.tight_layout()"
   ]
  },
  {
   "cell_type": "code",
   "execution_count": 14,
   "metadata": {
    "colab": {
     "base_uri": "https://localhost:8080/"
    },
    "executionInfo": {
     "elapsed": 8,
     "status": "ok",
     "timestamp": 1645152934810,
     "user": {
      "displayName": "Mike Frantz",
      "photoUrl": "https://lh3.googleusercontent.com/a-/AOh14GiGYCwZXGfGg-CE4_33PQcH9SW8fN6MyRkenN8-IA=s64",
      "userId": "08482506601269125384"
     },
     "user_tz": 480
    },
    "id": "-LSXV7pvxpiD",
    "outputId": "33e71823-e051-46cf-f251-d15c7b82e6f5"
   },
   "outputs": [],
   "source": [
    "two_filters = torch.cat([vertical_filter, horizontal_filter], dim=0)\n",
    "two_filters.shape"
   ]
  },
  {
   "cell_type": "code",
   "execution_count": 15,
   "metadata": {
    "colab": {
     "base_uri": "https://localhost:8080/"
    },
    "executionInfo": {
     "elapsed": 6,
     "status": "ok",
     "timestamp": 1645152934811,
     "user": {
      "displayName": "Mike Frantz",
      "photoUrl": "https://lh3.googleusercontent.com/a-/AOh14GiGYCwZXGfGg-CE4_33PQcH9SW8fN6MyRkenN8-IA=s64",
      "userId": "08482506601269125384"
     },
     "user_tz": 480
    },
    "id": "jfTSAyM9zmEq",
    "outputId": "187f0bfe-3735-49f8-b440-c2de278c56b3"
   },
   "outputs": [],
   "source": [
    "two_filter_output = F.conv2d(img_tensor, two_filters)\n",
    "two_filter_output.shape"
   ]
  },
  {
   "cell_type": "code",
   "execution_count": 16,
   "metadata": {
    "executionInfo": {
     "elapsed": 4,
     "status": "ok",
     "timestamp": 1645152934811,
     "user": {
      "displayName": "Mike Frantz",
      "photoUrl": "https://lh3.googleusercontent.com/a-/AOh14GiGYCwZXGfGg-CE4_33PQcH9SW8fN6MyRkenN8-IA=s64",
      "userId": "08482506601269125384"
     },
     "user_tz": 480
    },
    "id": "u-RdZJjrzz4V"
   },
   "outputs": [],
   "source": [
    "# unpack the filters into their own tensors\n",
    "vert_output, horizontal_output = two_filter_output.squeeze() \n",
    "# convert tensors to images\n",
    "vert_image = to_image(vert_output.squeeze())\n",
    "horizontal_image = to_image(horizontal_output.squeeze())"
   ]
  },
  {
   "cell_type": "code",
   "execution_count": 17,
   "metadata": {
    "colab": {
     "base_uri": "https://localhost:8080/",
     "height": 507
    },
    "executionInfo": {
     "elapsed": 610,
     "status": "ok",
     "timestamp": 1645152935418,
     "user": {
      "displayName": "Mike Frantz",
      "photoUrl": "https://lh3.googleusercontent.com/a-/AOh14GiGYCwZXGfGg-CE4_33PQcH9SW8fN6MyRkenN8-IA=s64",
      "userId": "08482506601269125384"
     },
     "user_tz": 480
    },
    "id": "GlQMBrYIz7KY",
    "outputId": "b552e8c0-c252-449b-c947-84f1555e1d78"
   },
   "outputs": [],
   "source": [
    "fig, axes = plt.subplots(1, 2, figsize=(20, 10))\n",
    "axes[0].imshow(vert_image, cmap='Greys_r')\n",
    "axes[0].set_title('Feature map of vertical filter')\n",
    "axes[1].imshow(horizontal_image, cmap='Greys_r')\n",
    "axes[1].set_title('Feature map of horizontal filter')\n",
    "for ax in axes:\n",
    "    ax.set_xticks([])\n",
    "    ax.set_yticks([])\n",
    "fig.tight_layout()"
   ]
  },
  {
   "cell_type": "code",
   "execution_count": 18,
   "metadata": {
    "colab": {
     "base_uri": "https://localhost:8080/",
     "height": 621
    },
    "executionInfo": {
     "elapsed": 17,
     "status": "ok",
     "timestamp": 1645152935419,
     "user": {
      "displayName": "Mike Frantz",
      "photoUrl": "https://lh3.googleusercontent.com/a-/AOh14GiGYCwZXGfGg-CE4_33PQcH9SW8fN6MyRkenN8-IA=s64",
      "userId": "08482506601269125384"
     },
     "user_tz": 480
    },
    "id": "918nQxXK2NRQ",
    "outputId": "87418b95-f417-48a1-d730-83c70521e963"
   },
   "outputs": [],
   "source": [
    "vid = YouTubeVideo('am36dePheDc', **SIZE)\n",
    "display(vid)"
   ]
  },
  {
   "cell_type": "code",
   "execution_count": 19,
   "metadata": {
    "colab": {
     "base_uri": "https://localhost:8080/",
     "height": 621
    },
    "executionInfo": {
     "elapsed": 15,
     "status": "ok",
     "timestamp": 1645152935419,
     "user": {
      "displayName": "Mike Frantz",
      "photoUrl": "https://lh3.googleusercontent.com/a-/AOh14GiGYCwZXGfGg-CE4_33PQcH9SW8fN6MyRkenN8-IA=s64",
      "userId": "08482506601269125384"
     },
     "user_tz": 480
    },
    "id": "F5kwOinF3y7L",
    "outputId": "8a77f066-5297-4562-acab-c73a29c15c4c"
   },
   "outputs": [],
   "source": [
    "vid = YouTubeVideo('smHa2442Ah4', **SIZE)\n",
    "display(vid)"
   ]
  },
  {
   "cell_type": "code",
   "execution_count": 20,
   "metadata": {
    "executionInfo": {
     "elapsed": 14,
     "status": "ok",
     "timestamp": 1645152935420,
     "user": {
      "displayName": "Mike Frantz",
      "photoUrl": "https://lh3.googleusercontent.com/a-/AOh14GiGYCwZXGfGg-CE4_33PQcH9SW8fN6MyRkenN8-IA=s64",
      "userId": "08482506601269125384"
     },
     "user_tz": 480
    },
    "id": "SWacj1EV6MhK"
   },
   "outputs": [],
   "source": [
    "zero_pad = nn.ZeroPad2d(30)\n",
    "reflection_pad = nn.ReflectionPad2d(30)"
   ]
  },
  {
   "cell_type": "code",
   "execution_count": 21,
   "metadata": {
    "colab": {
     "base_uri": "https://localhost:8080/",
     "height": 477
    },
    "executionInfo": {
     "elapsed": 14,
     "status": "ok",
     "timestamp": 1645152935420,
     "user": {
      "displayName": "Mike Frantz",
      "photoUrl": "https://lh3.googleusercontent.com/a-/AOh14GiGYCwZXGfGg-CE4_33PQcH9SW8fN6MyRkenN8-IA=s64",
      "userId": "08482506601269125384"
     },
     "user_tz": 480
    },
    "id": "oXIHxf7eLmEZ",
    "outputId": "25c9241c-a09a-4a7d-fa53-0836e3bfd231"
   },
   "outputs": [],
   "source": [
    "to_image(zero_pad(img_tensor).squeeze() * 255)"
   ]
  },
  {
   "cell_type": "code",
   "execution_count": 22,
   "metadata": {
    "colab": {
     "base_uri": "https://localhost:8080/",
     "height": 477
    },
    "executionInfo": {
     "elapsed": 14,
     "status": "ok",
     "timestamp": 1645152935421,
     "user": {
      "displayName": "Mike Frantz",
      "photoUrl": "https://lh3.googleusercontent.com/a-/AOh14GiGYCwZXGfGg-CE4_33PQcH9SW8fN6MyRkenN8-IA=s64",
      "userId": "08482506601269125384"
     },
     "user_tz": 480
    },
    "id": "XM-4XLtZ7WzT",
    "outputId": "9dc9f051-3a8b-484f-d7c0-b40662a3811a"
   },
   "outputs": [],
   "source": [
    "to_image(reflection_pad(img_tensor).squeeze() * 255)"
   ]
  },
  {
   "cell_type": "code",
   "execution_count": 23,
   "metadata": {
    "executionInfo": {
     "elapsed": 13,
     "status": "ok",
     "timestamp": 1645152935421,
     "user": {
      "displayName": "Mike Frantz",
      "photoUrl": "https://lh3.googleusercontent.com/a-/AOh14GiGYCwZXGfGg-CE4_33PQcH9SW8fN6MyRkenN8-IA=s64",
      "userId": "08482506601269125384"
     },
     "user_tz": 480
    },
    "id": "k1rMd1aOO0bm"
   },
   "outputs": [],
   "source": [
    "assert img_tensor.shape == F.conv2d(img_tensor, vertical_filter, padding='same').shape\n",
    "assert img_tensor.shape == F.conv2d(img_tensor, vertical_filter, padding=1).shape\n",
    "assert not img_tensor.shape == F.conv2d(img_tensor, vertical_filter).shape"
   ]
  },
  {
   "cell_type": "code",
   "execution_count": 24,
   "metadata": {
    "colab": {
     "base_uri": "https://localhost:8080/",
     "height": 621
    },
    "executionInfo": {
     "elapsed": 240,
     "status": "ok",
     "timestamp": 1645152935648,
     "user": {
      "displayName": "Mike Frantz",
      "photoUrl": "https://lh3.googleusercontent.com/a-/AOh14GiGYCwZXGfGg-CE4_33PQcH9SW8fN6MyRkenN8-IA=s64",
      "userId": "08482506601269125384"
     },
     "user_tz": 480
    },
    "id": "RVNLU71WQw-F",
    "outputId": "c6a904b9-3158-48c0-9072-dc795aa574d9"
   },
   "outputs": [],
   "source": [
    "vid = YouTubeVideo('tQYZaDn_kSg', **SIZE)\n",
    "display(vid)"
   ]
  },
  {
   "cell_type": "code",
   "execution_count": 25,
   "metadata": {
    "colab": {
     "base_uri": "https://localhost:8080/"
    },
    "executionInfo": {
     "elapsed": 22,
     "status": "ok",
     "timestamp": 1645152935649,
     "user": {
      "displayName": "Mike Frantz",
      "photoUrl": "https://lh3.googleusercontent.com/a-/AOh14GiGYCwZXGfGg-CE4_33PQcH9SW8fN6MyRkenN8-IA=s64",
      "userId": "08482506601269125384"
     },
     "user_tz": 480
    },
    "id": "RNDcsnUDSo8P",
    "outputId": "bc38ca7e-1e71-4227-ee90-be772f20d94a"
   },
   "outputs": [],
   "source": [
    "img_tensor.shape"
   ]
  },
  {
   "cell_type": "code",
   "execution_count": 26,
   "metadata": {
    "colab": {
     "base_uri": "https://localhost:8080/"
    },
    "executionInfo": {
     "elapsed": 18,
     "status": "ok",
     "timestamp": 1645152935650,
     "user": {
      "displayName": "Mike Frantz",
      "photoUrl": "https://lh3.googleusercontent.com/a-/AOh14GiGYCwZXGfGg-CE4_33PQcH9SW8fN6MyRkenN8-IA=s64",
      "userId": "08482506601269125384"
     },
     "user_tz": 480
    },
    "id": "ebN_qqaRSW5W",
    "outputId": "73bf1547-a5d8-4ba8-c543-285e6d44e8f6"
   },
   "outputs": [],
   "source": [
    "F.conv2d(img_tensor, vertical_filter, padding=1, stride=1).shape"
   ]
  },
  {
   "cell_type": "code",
   "execution_count": 27,
   "metadata": {
    "colab": {
     "base_uri": "https://localhost:8080/"
    },
    "executionInfo": {
     "elapsed": 15,
     "status": "ok",
     "timestamp": 1645152935650,
     "user": {
      "displayName": "Mike Frantz",
      "photoUrl": "https://lh3.googleusercontent.com/a-/AOh14GiGYCwZXGfGg-CE4_33PQcH9SW8fN6MyRkenN8-IA=s64",
      "userId": "08482506601269125384"
     },
     "user_tz": 480
    },
    "id": "d5t55mbrSNDM",
    "outputId": "d6d8cbc0-331b-4ad3-f7f6-7ecf8fc2f3be"
   },
   "outputs": [],
   "source": [
    "F.conv2d(img_tensor, vertical_filter, padding=1, stride=2).shape"
   ]
  },
  {
   "cell_type": "code",
   "execution_count": 28,
   "metadata": {
    "colab": {
     "base_uri": "https://localhost:8080/",
     "height": 621
    },
    "executionInfo": {
     "elapsed": 11,
     "status": "ok",
     "timestamp": 1645152935650,
     "user": {
      "displayName": "Mike Frantz",
      "photoUrl": "https://lh3.googleusercontent.com/a-/AOh14GiGYCwZXGfGg-CE4_33PQcH9SW8fN6MyRkenN8-IA=s64",
      "userId": "08482506601269125384"
     },
     "user_tz": 480
    },
    "id": "34XIHU102Fs_",
    "outputId": "ffcc44aa-d9b1-4414-e46c-183955223ada"
   },
   "outputs": [],
   "source": [
    "vid = YouTubeVideo('KTB_OFoAQcc', **SIZE)\n",
    "display(vid)"
   ]
  },
  {
   "cell_type": "code",
   "execution_count": 29,
   "metadata": {
    "colab": {
     "base_uri": "https://localhost:8080/",
     "height": 54
    },
    "executionInfo": {
     "elapsed": 304,
     "status": "ok",
     "timestamp": 1645152935945,
     "user": {
      "displayName": "Mike Frantz",
      "photoUrl": "https://lh3.googleusercontent.com/a-/AOh14GiGYCwZXGfGg-CE4_33PQcH9SW8fN6MyRkenN8-IA=s64",
      "userId": "08482506601269125384"
     },
     "user_tz": 480
    },
    "id": "JWEu1x09mkGh",
    "outputId": "f37ce968-e3f6-4e4a-cd08-2daac0b597e6"
   },
   "outputs": [],
   "source": [
    "url = 'https://www.syfy.com/sites/syfy/files/styles/scale--1200/public/cast_futurama_bender_0.jpg'\n",
    "response = requests.get(url)\n",
    "img = Image.open(BytesIO(response.content)).resize((350, 500))\n",
    "img"
   ]
  },
  {
   "cell_type": "code",
   "execution_count": 30,
   "metadata": {
    "colab": {
     "base_uri": "https://localhost:8080/"
    },
    "executionInfo": {
     "elapsed": 13,
     "status": "ok",
     "timestamp": 1645152935945,
     "user": {
      "displayName": "Mike Frantz",
      "photoUrl": "https://lh3.googleusercontent.com/a-/AOh14GiGYCwZXGfGg-CE4_33PQcH9SW8fN6MyRkenN8-IA=s64",
      "userId": "08482506601269125384"
     },
     "user_tz": 480
    },
    "id": "y6j7r7iuPbH8",
    "outputId": "1a3135f7-564f-4f92-8d73-04fa00193cc1"
   },
   "outputs": [],
   "source": [
    "img_tensor = to_tensor(img).unsqueeze(0)\n",
    "img_tensor.shape"
   ]
  },
  {
   "cell_type": "markdown",
   "metadata": {
    "id": "uYr4l75QgWky"
   },
   "source": [
    "# Exercise 10.2\n",
    "\n",
    "Instead of explicitly defining filters, we'll just use random numbers this time.\n",
    "Based on the `F.conv2d` documentation, the filters should be of shape `(out_channels, in_channels, kernel/filter_height, kernel/filter_width)`.\n",
    "\n",
    "Complete the code in the cell below to create a filter with a 3x3 kernel that takes in a 3-channel image and returns a 16-channel feature map.\n",
    "We will use `F.conv2d` to generate the feature map.\n",
    "\n",
    "<!-- startquestion -->"
   ]
  },
  {
   "cell_type": "code",
   "execution_count": 31,
   "metadata": {
    "colab": {
     "base_uri": "https://localhost:8080/"
    },
    "executionInfo": {
     "elapsed": 9,
     "status": "ok",
     "timestamp": 1645152935946,
     "user": {
      "displayName": "Mike Frantz",
      "photoUrl": "https://lh3.googleusercontent.com/a-/AOh14GiGYCwZXGfGg-CE4_33PQcH9SW8fN6MyRkenN8-IA=s64",
      "userId": "08482506601269125384"
     },
     "user_tz": 480
    },
    "id": "SEJYUyPwhUdx",
    "outputId": "7379a345-405a-43d1-d0ab-807f438e3c12"
   },
   "outputs": [],
   "source": [
    "out_channels = ...\n",
    "in_channels = ...\n",
    "kH = ...\n",
    "kW = ...\n",
    "try:\n",
    "    random_filters = torch.rand((out_channels, in_channels, kH, kW))\n",
    "    print(random_filters.shape)\n",
    "except:\n",
    "    print('Please assign out_channels, in_channels, kH, and kW.')"
   ]
  },
  {
   "cell_type": "code",
   "execution_count": 33,
   "metadata": {
    "executionInfo": {
     "elapsed": 15,
     "status": "ok",
     "timestamp": 1645152936113,
     "user": {
      "displayName": "Mike Frantz",
      "photoUrl": "https://lh3.googleusercontent.com/a-/AOh14GiGYCwZXGfGg-CE4_33PQcH9SW8fN6MyRkenN8-IA=s64",
      "userId": "08482506601269125384"
     },
     "user_tz": 480
    },
    "id": "hvHjxp5giXK7"
   },
   "outputs": [],
   "source": [
    "outputs = F.conv2d(img_tensor, random_filters, padding=1, stride=1)"
   ]
  },
  {
   "cell_type": "code",
   "execution_count": 34,
   "metadata": {
    "executionInfo": {
     "elapsed": 14,
     "status": "ok",
     "timestamp": 1645152936113,
     "user": {
      "displayName": "Mike Frantz",
      "photoUrl": "https://lh3.googleusercontent.com/a-/AOh14GiGYCwZXGfGg-CE4_33PQcH9SW8fN6MyRkenN8-IA=s64",
      "userId": "08482506601269125384"
     },
     "user_tz": 480
    },
    "id": "fxI_1T0tPhQQ"
   },
   "outputs": [],
   "source": [
    "assert outputs.shape[1] == 16"
   ]
  },
  {
   "cell_type": "code",
   "execution_count": 35,
   "metadata": {
    "executionInfo": {
     "elapsed": 15,
     "status": "ok",
     "timestamp": 1645152936114,
     "user": {
      "displayName": "Mike Frantz",
      "photoUrl": "https://lh3.googleusercontent.com/a-/AOh14GiGYCwZXGfGg-CE4_33PQcH9SW8fN6MyRkenN8-IA=s64",
      "userId": "08482506601269125384"
     },
     "user_tz": 480
    },
    "id": "UEOPp8lgQQwq"
   },
   "outputs": [],
   "source": [
    "conv_kwargs = {\n",
    "    'padding': 1,\n",
    "    'stride': 1\n",
    "}\n",
    "\n",
    "conv_layer = nn.Conv2d(3, 16, 3, **conv_kwargs)"
   ]
  },
  {
   "cell_type": "code",
   "execution_count": 36,
   "metadata": {
    "colab": {
     "base_uri": "https://localhost:8080/"
    },
    "executionInfo": {
     "elapsed": 14,
     "status": "ok",
     "timestamp": 1645152936114,
     "user": {
      "displayName": "Mike Frantz",
      "photoUrl": "https://lh3.googleusercontent.com/a-/AOh14GiGYCwZXGfGg-CE4_33PQcH9SW8fN6MyRkenN8-IA=s64",
      "userId": "08482506601269125384"
     },
     "user_tz": 480
    },
    "id": "DeR1-mO_2WwO",
    "outputId": "3da3054e-5f7a-45e5-f275-53cbc1e787e1"
   },
   "outputs": [],
   "source": [
    "conv_layer_output = conv_layer(img_tensor)\n",
    "conv_layer_output.shape"
   ]
  },
  {
   "cell_type": "code",
   "execution_count": 37,
   "metadata": {
    "executionInfo": {
     "elapsed": 12,
     "status": "ok",
     "timestamp": 1645152936115,
     "user": {
      "displayName": "Mike Frantz",
      "photoUrl": "https://lh3.googleusercontent.com/a-/AOh14GiGYCwZXGfGg-CE4_33PQcH9SW8fN6MyRkenN8-IA=s64",
      "userId": "08482506601269125384"
     },
     "user_tz": 480
    },
    "id": "PRvH0jGyqoW3"
   },
   "outputs": [],
   "source": [
    "conv_function_output = F.conv2d(img_tensor, conv_layer.weight.data, conv_layer.bias.data, **conv_kwargs)"
   ]
  },
  {
   "cell_type": "code",
   "execution_count": 38,
   "metadata": {
    "executionInfo": {
     "elapsed": 12,
     "status": "ok",
     "timestamp": 1645152936115,
     "user": {
      "displayName": "Mike Frantz",
      "photoUrl": "https://lh3.googleusercontent.com/a-/AOh14GiGYCwZXGfGg-CE4_33PQcH9SW8fN6MyRkenN8-IA=s64",
      "userId": "08482506601269125384"
     },
     "user_tz": 480
    },
    "id": "v7Q0PmTJqxQP"
   },
   "outputs": [],
   "source": [
    "assert (conv_function_output == conv_layer_output).all()"
   ]
  },
  {
   "cell_type": "code",
   "execution_count": 39,
   "metadata": {
    "colab": {
     "base_uri": "https://localhost:8080/",
     "height": 621
    },
    "executionInfo": {
     "elapsed": 11,
     "status": "ok",
     "timestamp": 1645152936115,
     "user": {
      "displayName": "Mike Frantz",
      "photoUrl": "https://lh3.googleusercontent.com/a-/AOh14GiGYCwZXGfGg-CE4_33PQcH9SW8fN6MyRkenN8-IA=s64",
      "userId": "08482506601269125384"
     },
     "user_tz": 480
    },
    "id": "S73BUHVTTMFe",
    "outputId": "0ce65b3d-09b6-4e62-ccfd-aa091d1d9c91"
   },
   "outputs": [],
   "source": [
    "vid = YouTubeVideo('8oOgPUO-TBY', **SIZE)\n",
    "display(vid)"
   ]
  },
  {
   "cell_type": "code",
   "execution_count": 40,
   "metadata": {
    "executionInfo": {
     "elapsed": 357,
     "status": "ok",
     "timestamp": 1645152936463,
     "user": {
      "displayName": "Mike Frantz",
      "photoUrl": "https://lh3.googleusercontent.com/a-/AOh14GiGYCwZXGfGg-CE4_33PQcH9SW8fN6MyRkenN8-IA=s64",
      "userId": "08482506601269125384"
     },
     "user_tz": 480
    },
    "id": "fbOFVavcUxkS"
   },
   "outputs": [],
   "source": [
    "maxpool = nn.MaxPool2d(kernel_size=2, stride=2)\n",
    "avgpool = nn.AvgPool2d(kernel_size=2, stride=2)"
   ]
  },
  {
   "cell_type": "code",
   "execution_count": 41,
   "metadata": {
    "colab": {
     "base_uri": "https://localhost:8080/"
    },
    "executionInfo": {
     "elapsed": 20,
     "status": "ok",
     "timestamp": 1645152936463,
     "user": {
      "displayName": "Mike Frantz",
      "photoUrl": "https://lh3.googleusercontent.com/a-/AOh14GiGYCwZXGfGg-CE4_33PQcH9SW8fN6MyRkenN8-IA=s64",
      "userId": "08482506601269125384"
     },
     "user_tz": 480
    },
    "id": "7R_fH_seVFoC",
    "outputId": "cfbbf595-2ab5-484e-d985-8aa6fcaf3c37"
   },
   "outputs": [],
   "source": [
    "print(f\"\"\"\n",
    "Oringinal image shape: {img_tensor.shape}\n",
    "Max pool tensor shape: {maxpool(img_tensor).shape}\n",
    "Avg pool tensor shape: {avgpool(img_tensor).shape}\n",
    "\"\"\")"
   ]
  },
  {
   "cell_type": "code",
   "execution_count": 42,
   "metadata": {
    "executionInfo": {
     "elapsed": 20,
     "status": "ok",
     "timestamp": 1645152936464,
     "user": {
      "displayName": "Mike Frantz",
      "photoUrl": "https://lh3.googleusercontent.com/a-/AOh14GiGYCwZXGfGg-CE4_33PQcH9SW8fN6MyRkenN8-IA=s64",
      "userId": "08482506601269125384"
     },
     "user_tz": 480
    },
    "id": "krpaM9ufWG89"
   },
   "outputs": [],
   "source": [
    "conv_stride_2 = nn.Conv2d(3, 3, 3, 2, 1)\n",
    "conv_then_pool = nn.Sequential(\n",
    "    nn.Conv2d(3, 3, 3, 1, 1),\n",
    "    nn.MaxPool2d(2, 2)\n",
    ")"
   ]
  },
  {
   "cell_type": "code",
   "execution_count": 43,
   "metadata": {
    "colab": {
     "base_uri": "https://localhost:8080/"
    },
    "executionInfo": {
     "elapsed": 19,
     "status": "ok",
     "timestamp": 1645152936464,
     "user": {
      "displayName": "Mike Frantz",
      "photoUrl": "https://lh3.googleusercontent.com/a-/AOh14GiGYCwZXGfGg-CE4_33PQcH9SW8fN6MyRkenN8-IA=s64",
      "userId": "08482506601269125384"
     },
     "user_tz": 480
    },
    "id": "rCWGU1JvW4C3",
    "outputId": "3bb9a9a7-4d20-4d3f-d145-a19339c151c1"
   },
   "outputs": [],
   "source": [
    "print(f\"\"\"\n",
    "Shape of conv with a stride of 2: {conv_stride_2(img_tensor).shape}\n",
    "Shape of conv with a poolling layer: {conv_then_pool(img_tensor).shape}\n",
    "\"\"\")"
   ]
  },
  {
   "cell_type": "code",
   "execution_count": 44,
   "metadata": {
    "executionInfo": {
     "elapsed": 16,
     "status": "ok",
     "timestamp": 1645152936464,
     "user": {
      "displayName": "Mike Frantz",
      "photoUrl": "https://lh3.googleusercontent.com/a-/AOh14GiGYCwZXGfGg-CE4_33PQcH9SW8fN6MyRkenN8-IA=s64",
      "userId": "08482506601269125384"
     },
     "user_tz": 480
    },
    "id": "uz5vlmPNfS6e"
   },
   "outputs": [],
   "source": [
    "adapt_avg_pool = nn.AdaptiveAvgPool2d(1)\n",
    "adapt_max_pool = nn.AdaptiveMaxPool2d(1)"
   ]
  },
  {
   "cell_type": "code",
   "execution_count": 45,
   "metadata": {
    "colab": {
     "base_uri": "https://localhost:8080/"
    },
    "executionInfo": {
     "elapsed": 16,
     "status": "ok",
     "timestamp": 1645152936465,
     "user": {
      "displayName": "Mike Frantz",
      "photoUrl": "https://lh3.googleusercontent.com/a-/AOh14GiGYCwZXGfGg-CE4_33PQcH9SW8fN6MyRkenN8-IA=s64",
      "userId": "08482506601269125384"
     },
     "user_tz": 480
    },
    "id": "U_IEGeE2f7N2",
    "outputId": "2f793fcb-e970-401d-ec66-8e08e0f2c133"
   },
   "outputs": [],
   "source": [
    "outputs.shape"
   ]
  },
  {
   "cell_type": "code",
   "execution_count": 46,
   "metadata": {
    "colab": {
     "base_uri": "https://localhost:8080/"
    },
    "executionInfo": {
     "elapsed": 12,
     "status": "ok",
     "timestamp": 1645152936465,
     "user": {
      "displayName": "Mike Frantz",
      "photoUrl": "https://lh3.googleusercontent.com/a-/AOh14GiGYCwZXGfGg-CE4_33PQcH9SW8fN6MyRkenN8-IA=s64",
      "userId": "08482506601269125384"
     },
     "user_tz": 480
    },
    "id": "K7Owh1gGfXiV",
    "outputId": "7a8cc137-29d5-461d-ad82-dc79a76c9da1"
   },
   "outputs": [],
   "source": [
    "adapt_avg_pool(outputs).shape"
   ]
  },
  {
   "cell_type": "code",
   "execution_count": 47,
   "metadata": {
    "colab": {
     "base_uri": "https://localhost:8080/"
    },
    "executionInfo": {
     "elapsed": 10,
     "status": "ok",
     "timestamp": 1645152936466,
     "user": {
      "displayName": "Mike Frantz",
      "photoUrl": "https://lh3.googleusercontent.com/a-/AOh14GiGYCwZXGfGg-CE4_33PQcH9SW8fN6MyRkenN8-IA=s64",
      "userId": "08482506601269125384"
     },
     "user_tz": 480
    },
    "id": "FqKoPFFef5By",
    "outputId": "9579c56a-34ca-4fb0-8590-5b7ebe59a8e8"
   },
   "outputs": [],
   "source": [
    "adapt_pool_with_flatten = nn.Sequential(\n",
    "    nn.AdaptiveMaxPool2d(1),\n",
    "    nn.Flatten()\n",
    ")\n",
    "\n",
    "print(adapt_pool_with_flatten(outputs).shape)"
   ]
  },
  {
   "cell_type": "code",
   "execution_count": 47,
   "metadata": {
    "executionInfo": {
     "elapsed": 6,
     "status": "ok",
     "timestamp": 1645152936466,
     "user": {
      "displayName": "Mike Frantz",
      "photoUrl": "https://lh3.googleusercontent.com/a-/AOh14GiGYCwZXGfGg-CE4_33PQcH9SW8fN6MyRkenN8-IA=s64",
      "userId": "08482506601269125384"
     },
     "user_tz": 480
    },
    "id": "rN-Todj6iUQg"
   },
   "outputs": [],
   "source": []
  }
 ],
 "metadata": {
  "colab": {
   "authorship_tag": "ABX9TyPYOu8FrhdtMjFalKvdy2zc",
   "collapsed_sections": [],
   "name": "10_Introduction_to_Convolutional_Neural_Nets.ipynb",
   "provenance": []
  },
  "kernelspec": {
   "display_name": "Python 3",
   "name": "python3"
  },
  "language_info": {
   "name": "python"
  }
 },
 "nbformat": 4,
 "nbformat_minor": 0
}
