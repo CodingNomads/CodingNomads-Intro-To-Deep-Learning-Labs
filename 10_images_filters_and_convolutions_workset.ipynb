{
 "cells": [
  {
   "cell_type": "code",
   "execution_count": null,
   "metadata": {
    "id": "utI5mYSFUtCE"
   },
   "outputs": [],
   "source": [
    "from PIL import Image\n",
    "import numpy as np\n",
    "import torch\n",
    "from torch import nn\n",
    "import torch.nn.functional as F\n",
    "import matplotlib.pyplot as plt\n",
    "from urllib.request import urlretrieve\n",
    "from IPython.display import display\n",
    "from skimage import color\n",
    "import albumentations\n",
    "\n",
    "%matplotlib inline"
   ]
  },
  {
   "cell_type": "code",
   "execution_count": null,
   "metadata": {
    "colab": {
     "base_uri": "https://localhost:8080/"
    },
    "executionInfo": {
     "elapsed": 552,
     "status": "ok",
     "timestamp": 1625711358602,
     "user": {
      "displayName": "Mike Frantz",
      "photoUrl": "https://lh3.googleusercontent.com/a-/AOh14GiGYCwZXGfGg-CE4_33PQcH9SW8fN6MyRkenN8-IA=s64",
      "userId": "08482506601269125384"
     },
     "user_tz": 420
    },
    "id": "tHOOEqgmVbMH",
    "outputId": "e7ae4763-49ec-47d5-a3d8-c150a46f7bad"
   },
   "outputs": [],
   "source": [
    "urlretrieve('https://www.gannett-cdn.com/presto/2020/02/03/PROC/23928de8-75f4-4cbd-aa93-a6f68ad330f7-20200201-_MS_0622.jpg', 'golden.jpg')"
   ]
  },
  {
   "cell_type": "code",
   "execution_count": null,
   "metadata": {
    "colab": {
     "base_uri": "https://localhost:8080/",
     "height": 261
    },
    "executionInfo": {
     "elapsed": 560,
     "status": "ok",
     "timestamp": 1625711359853,
     "user": {
      "displayName": "Mike Frantz",
      "photoUrl": "https://lh3.googleusercontent.com/a-/AOh14GiGYCwZXGfGg-CE4_33PQcH9SW8fN6MyRkenN8-IA=s64",
      "userId": "08482506601269125384"
     },
     "user_tz": 420
    },
    "id": "hvuDhu8dU4xK",
    "outputId": "2026299f-9e1e-4167-9487-81bb786b0258"
   },
   "outputs": [],
   "source": [
    "img = Image.open('golden.jpg').resize(size=(244,244))\n",
    "img"
   ]
  },
  {
   "cell_type": "code",
   "execution_count": null,
   "metadata": {
    "id": "g2LoauQr8JD9"
   },
   "outputs": [],
   "source": [
    "# Convert img to a np.array for later\n",
    "img_arr = np.array(img)"
   ]
  },
  {
   "cell_type": "code",
   "execution_count": null,
   "metadata": {
    "id": "Xy33r0txjtV5"
   },
   "outputs": [],
   "source": [
    "def apply_filter(region, filter):\n",
    "    # Your code here. Delete the error handling code below.\n",
    "    raise NotImplementedError()"
   ]
  },
  {
   "cell_type": "code",
   "execution_count": null,
   "metadata": {
    "id": "JH-YcgTSjLO6"
   },
   "outputs": [],
   "source": [
    "r = np.array([\n",
    "    [5, 0, 8],\n",
    "    [1, 9, 5],\n",
    "    [6, 0, 2]\n",
    "])\n",
    "\n",
    "f = np.array([\n",
    "    [0, 0, 0],\n",
    "    [0, 1, 0],\n",
    "    [0, 0, 0]\n",
    "])\n",
    "\n",
    "assert apply_filter(r, f) == 9, 'Incorrect, please try again!'"
   ]
  },
  {
   "cell_type": "code",
   "execution_count": null,
   "metadata": {
    "cellView": "form",
    "id": "chmghkStiOL8"
   },
   "outputs": [],
   "source": [
    "#@title Double-click this cell for the solution\n",
    "def apply_filter(region, filter):\n",
    "    \"\"\"\n",
    "    Applies a filter to a an array of the same shape.\n",
    "    Returns the sum of element-wise multiplication.\n",
    "    \"\"\"\n",
    "    assert region.shape == filter.shape, f\"\"\"\n",
    "    There is a mismatch between the filter shape and region shape.\n",
    "    Filter shape: {filter.shape}\n",
    "    Region shape: {region.shape}\n",
    "    \"\"\"\n",
    "\n",
    "    return (region * filter).sum()"
   ]
  },
  {
   "cell_type": "code",
   "execution_count": null,
   "metadata": {
    "id": "H2n6C5mSkung"
   },
   "outputs": [],
   "source": [
    "def zero_pad(arr):\n",
    "    \"\"\"\n",
    "    Performs zero-padding on an array of 2 or 3 dimensions.\n",
    "    \"\"\"\n",
    "    raise NotImplementedError()"
   ]
  },
  {
   "cell_type": "code",
   "execution_count": null,
   "metadata": {
    "id": "mLyj1BHCl65-"
   },
   "outputs": [],
   "source": [
    "assert zero_pad(np.random.randn(3, 3)).shape == (5, 5)\n",
    "assert zero_pad(np.random.randn(3, 3, 3)).shape == (5, 5, 3)"
   ]
  },
  {
   "cell_type": "code",
   "execution_count": null,
   "metadata": {
    "cellView": "form",
    "id": "SvyH4P1dmTpR"
   },
   "outputs": [],
   "source": [
    "#@title Double-click this cell for the solution\n",
    "def zero_pad(arr):\n",
    "    \"\"\"\n",
    "    Performs zero-padding on an array of 2 or 3 dimensions.\n",
    "    \"\"\"\n",
    "    if arr.ndim == 2:\n",
    "        x, y = arr.shape\n",
    "        b = np.zeros((x+2, y+2), dtype=np.float)\n",
    "    elif arr.ndim == 3:\n",
    "        x, y, z = arr.shape\n",
    "        b = np.zeros((x+2, y+2, z), dtype=np.float)\n",
    "    b[1:-1, 1:-1] = arr.copy()\n",
    "    return b"
   ]
  },
  {
   "cell_type": "code",
   "execution_count": null,
   "metadata": {
    "id": "RAiXOsYX43zd"
   },
   "outputs": [],
   "source": [
    "def output_array(arr):\n",
    "    raise NotImplementedError('Write this function!')"
   ]
  },
  {
   "cell_type": "code",
   "execution_count": null,
   "metadata": {
    "id": "SXP2byLL4pnm"
   },
   "outputs": [],
   "source": [
    "assert output_array(np.random.randn(16, 16)).shape == (14, 14)\n",
    "assert output_array(np.random.randn(16, 16, 3)).shape == (14, 14, 3)"
   ]
  },
  {
   "cell_type": "code",
   "execution_count": null,
   "metadata": {
    "cellView": "form",
    "id": "Do063ur64F2J"
   },
   "outputs": [],
   "source": [
    "#@title Double-click this cell for solution\n",
    "def output_array(arr):\n",
    "    \"\"\"\n",
    "    Returns a np array of zeros of type float\n",
    "    that's the size of the output feature map.\n",
    "    \"\"\"\n",
    "    if arr.ndim == 2:\n",
    "        x, y = arr.shape\n",
    "        return np.zeros((x-2, y-2), dtype=np.float)\n",
    "    elif arr.ndim == 3:\n",
    "        x, y, z = arr.shape\n",
    "        return np.zeros((x-2, y-2, z), dtype=np.float)\n",
    "    else:\n",
    "        raise ValueError()"
   ]
  },
  {
   "cell_type": "code",
   "execution_count": null,
   "metadata": {
    "id": "yb-i-PampTi5"
   },
   "outputs": [],
   "source": [
    "def convolve(arr, filter, pad=True):\n",
    "    raise NotImplementedError()"
   ]
  },
  {
   "cell_type": "code",
   "execution_count": null,
   "metadata": {
    "id": "R3AfTsfppYqF"
   },
   "outputs": [],
   "source": [
    "assert convolve(np.random.randn(244, 244), np.random.randn(3, 3)).shape == (244, 244)\n",
    "assert convolve(np.random.randn(244, 244), np.random.randn(3, 3), pad=False).shape == (242, 242)"
   ]
  },
  {
   "cell_type": "code",
   "execution_count": null,
   "metadata": {
    "cellView": "form",
    "id": "4v16_uPzmv5X"
   },
   "outputs": [],
   "source": [
    "#@title Double-click this cell for solution\n",
    "def convolve(arr, filter, pad=True):\n",
    "    \"\"\"\n",
    "    Applies a filter over an image array.\n",
    "    Expects images to be 1-channel images (h, w) or \n",
    "    3-channel images (h, w, c).\n",
    "\n",
    "    arr: image array\n",
    "    filter: also an array, filter you want to apply\n",
    "    pad: whether to apply zero padding\n",
    "    \"\"\"\n",
    "    a = arr.copy()\n",
    "    \n",
    "    if pad:\n",
    "        a = zero_pad(a)\n",
    "    \n",
    "    output = output_array(a)\n",
    "    n_rows, n_cols = output.shape[:2]\n",
    "    filter_rows, filter_cols = filter.shape[:2]\n",
    "\n",
    "\n",
    "    for i in range(n_rows):\n",
    "        for j in range(n_cols):\n",
    "            window = a[i:i+filter_rows, j:j+filter_cols]\n",
    "            o = (window * filter).sum()\n",
    "            output[i,j] = o\n",
    "    \n",
    "    return output"
   ]
  },
  {
   "cell_type": "code",
   "execution_count": null,
   "metadata": {
    "id": "q30IQjI0ZSUZ"
   },
   "outputs": [],
   "source": [
    "# Initially, let's work with a grayscale image.\n",
    "# This will help make some of the concepts easier.\n",
    "# Later, we will go back to working with the color image.\n",
    "grayscale_img = color.rgb2gray(img_arr)"
   ]
  },
  {
   "cell_type": "code",
   "execution_count": null,
   "metadata": {
    "colab": {
     "base_uri": "https://localhost:8080/"
    },
    "executionInfo": {
     "elapsed": 8,
     "status": "ok",
     "timestamp": 1625711384549,
     "user": {
      "displayName": "Mike Frantz",
      "photoUrl": "https://lh3.googleusercontent.com/a-/AOh14GiGYCwZXGfGg-CE4_33PQcH9SW8fN6MyRkenN8-IA=s64",
      "userId": "08482506601269125384"
     },
     "user_tz": 420
    },
    "id": "BBuU8h4RdILw",
    "outputId": "d8edf3f6-4d24-47eb-b0aa-662f18a829f7"
   },
   "outputs": [],
   "source": [
    "grayscale_img.shape"
   ]
  },
  {
   "cell_type": "code",
   "execution_count": null,
   "metadata": {
    "colab": {
     "base_uri": "https://localhost:8080/",
     "height": 269
    },
    "executionInfo": {
     "elapsed": 10,
     "status": "ok",
     "timestamp": 1625711385414,
     "user": {
      "displayName": "Mike Frantz",
      "photoUrl": "https://lh3.googleusercontent.com/a-/AOh14GiGYCwZXGfGg-CE4_33PQcH9SW8fN6MyRkenN8-IA=s64",
      "userId": "08482506601269125384"
     },
     "user_tz": 420
    },
    "id": "-pZskhiWc47j",
    "outputId": "4504151d-43a4-4420-9649-951de8d17740"
   },
   "outputs": [],
   "source": [
    "plt.imshow(grayscale_img, cmap='Greys_r')\n",
    "plt.xticks([])\n",
    "plt.yticks([])"
   ]
  },
  {
   "cell_type": "code",
   "execution_count": null,
   "metadata": {
    "id": "Xv4eDHkobCE-"
   },
   "outputs": [],
   "source": [
    "# This filter will create large values when\n",
    "# there's a high value on the upper-left\n",
    "# and a low value on the lower-right\n",
    "diag_edges = np.array([\n",
    "    [1, 0, 0],\n",
    "    [0, 0, 0],\n",
    "    [0, 0, -1]\n",
    "])\n",
    "\n",
    "# This filter will create large values when\n",
    "# there's a high value on the upper-right\n",
    "# and a low value on the lower-left\n",
    "other_diag_edges = np.array([\n",
    "    [0, 0, 1],\n",
    "    [0, 0, 0],\n",
    "    [-1, 0, 0]\n",
    "])\n",
    "\n",
    "# This filter will create large values when\n",
    "# there's a high value on the top\n",
    "# and a low value on the bottom\n",
    "horizontal_edges = np.array([\n",
    "    [0, 1, 0],\n",
    "    [0, 0, 0],\n",
    "    [0, -1, 0]\n",
    "])\n",
    "\n",
    "# This filter will create large values when\n",
    "# there's a high value on the left\n",
    "# and a low value on the right\n",
    "vert_edges = horizontal_edges.T"
   ]
  },
  {
   "cell_type": "code",
   "execution_count": null,
   "metadata": {
    "colab": {
     "base_uri": "https://localhost:8080/",
     "height": 613
    },
    "executionInfo": {
     "elapsed": 923,
     "status": "ok",
     "timestamp": 1625711390809,
     "user": {
      "displayName": "Mike Frantz",
      "photoUrl": "https://lh3.googleusercontent.com/a-/AOh14GiGYCwZXGfGg-CE4_33PQcH9SW8fN6MyRkenN8-IA=s64",
      "userId": "08482506601269125384"
     },
     "user_tz": 420
    },
    "id": "OVGspVwEbKc6",
    "outputId": "06942f3a-e4b7-40ca-93c7-a0c2331cefcd"
   },
   "outputs": [],
   "source": [
    "# Play around with the different filters to see if you\n",
    "# can get a feel for how they're applied to images\n",
    "# and the type of features they can generate\n",
    "plt.figure(figsize=(10, 10))\n",
    "conv_image = convolve(grayscale_img, diag_edges, pad=False)\n",
    "print(conv_image.shape)\n",
    "plt.imshow(conv_image, cmap='Greys_r')\n",
    "plt.colorbar()\n",
    "plt.xticks([])\n",
    "plt.yticks([])"
   ]
  },
  {
   "cell_type": "code",
   "execution_count": null,
   "metadata": {
    "colab": {
     "base_uri": "https://localhost:8080/",
     "height": 1000
    },
    "executionInfo": {
     "elapsed": 2303,
     "status": "ok",
     "timestamp": 1625711394960,
     "user": {
      "displayName": "Mike Frantz",
      "photoUrl": "https://lh3.googleusercontent.com/a-/AOh14GiGYCwZXGfGg-CE4_33PQcH9SW8fN6MyRkenN8-IA=s64",
      "userId": "08482506601269125384"
     },
     "user_tz": 420
    },
    "id": "6-Iq41Y8ewdH",
    "outputId": "09937db5-a107-4e82-81fc-6b8321cca135"
   },
   "outputs": [],
   "source": [
    "fig = plt.figure(figsize=(12, 12))\n",
    "np.random.seed(8)\n",
    "for i in range(4):\n",
    "    ax = fig.add_subplot(2, 2, 1+i)\n",
    "    filter = np.random.randn(3, 3)\n",
    "    pad = i>1\n",
    "    print(f\"Filter {i}:\", '\\n', filter, '\\n')\n",
    "    conv_image = convolve(grayscale_img, filter, pad=pad)\n",
    "    ax.imshow(conv_image, cmap='Greys_r')\n",
    "    ax.set_title(f'Shape: {conv_image.shape} (zero_pad = {str(pad)})')\n",
    "    ax.set_xticks([])\n",
    "    ax.set_yticks([])"
   ]
  },
  {
   "cell_type": "code",
   "execution_count": null,
   "metadata": {
    "colab": {
     "base_uri": "https://localhost:8080/",
     "height": 771
    },
    "executionInfo": {
     "elapsed": 2186,
     "status": "ok",
     "timestamp": 1625711399352,
     "user": {
      "displayName": "Mike Frantz",
      "photoUrl": "https://lh3.googleusercontent.com/a-/AOh14GiGYCwZXGfGg-CE4_33PQcH9SW8fN6MyRkenN8-IA=s64",
      "userId": "08482506601269125384"
     },
     "user_tz": 420
    },
    "id": "GqHYU6gdsnjO",
    "outputId": "9fbc2376-108f-4a64-bd56-704bf5a920f2"
   },
   "outputs": [],
   "source": [
    "fig = plt.figure(figsize=(12, 12))\n",
    "np.random.seed(8)\n",
    "for i in range(4):\n",
    "    ax = fig.add_subplot(2, 2, 1+i)\n",
    "    filter = np.random.randn(3, 3, 3)\n",
    "    pad = i>1\n",
    "    # print(f\"Filter {i}:\", '\\n', filter, '\\n')\n",
    "    conv_image = convolve(img_arr/255, filter, pad=pad)\n",
    "    ax.imshow(conv_image, cmap='Greys_r')\n",
    "    ax.set_title(f'Shape: {conv_image.shape} (zero_pad = {str(pad)})')\n",
    "    ax.set_xticks([])\n",
    "    ax.set_yticks([])"
   ]
  },
  {
   "cell_type": "code",
   "execution_count": null,
   "metadata": {
    "id": "QRDjYprf68Ap"
   },
   "outputs": [],
   "source": [
    "# Instantiate a convolutional layer\n",
    "# We can have any number of outputs - we chose 4 here\n",
    "# just because we wanted a number of feature maps that are easy to visualize.\n",
    "conv_layer = nn.Conv2d(in_channels=3, out_channels=4, kernel_size=3, stride=1, padding=1)"
   ]
  },
  {
   "cell_type": "code",
   "execution_count": null,
   "metadata": {
    "id": "rf1tpqC9GLov"
   },
   "outputs": [],
   "source": [
    "img_tensor = torch.tensor(img_arr/255).float().moveaxis(2, 0).unsqueeze(0)"
   ]
  },
  {
   "cell_type": "code",
   "execution_count": null,
   "metadata": {
    "colab": {
     "base_uri": "https://localhost:8080/"
    },
    "executionInfo": {
     "elapsed": 4,
     "status": "ok",
     "timestamp": 1625712963249,
     "user": {
      "displayName": "Mike Frantz",
      "photoUrl": "https://lh3.googleusercontent.com/a-/AOh14GiGYCwZXGfGg-CE4_33PQcH9SW8fN6MyRkenN8-IA=s64",
      "userId": "08482506601269125384"
     },
     "user_tz": 420
    },
    "id": "X2EB7Shq8XRO",
    "outputId": "d571fb74-3984-4917-ccf1-ffc85980720e"
   },
   "outputs": [],
   "source": [
    "# Change our image to a scaled tensor with shape \n",
    "# (batch_size, n_channels, n_rows, n_cols)\n",
    "img_tensor = (\n",
    "    torch.tensor(img_arr/255) # Scale the image array and turn it into a tensor\n",
    "    .float() # Convert it to a float\n",
    "    .permute(2, 0, 1) # Move the channels axis first\n",
    "    .unsqueeze(0) # Give it a batch dimension\n",
    ")\n",
    "img_tensor.shape"
   ]
  },
  {
   "cell_type": "code",
   "execution_count": null,
   "metadata": {
    "id": "U83wI29f7u_G"
   },
   "outputs": [],
   "source": [
    "# Get the outputs of our 4 channels\n",
    "outputs = conv_layer(img_tensor).squeeze()"
   ]
  },
  {
   "cell_type": "code",
   "execution_count": null,
   "metadata": {
    "colab": {
     "base_uri": "https://localhost:8080/",
     "height": 703
    },
    "executionInfo": {
     "elapsed": 983,
     "status": "ok",
     "timestamp": 1625712965475,
     "user": {
      "displayName": "Mike Frantz",
      "photoUrl": "https://lh3.googleusercontent.com/a-/AOh14GiGYCwZXGfGg-CE4_33PQcH9SW8fN6MyRkenN8-IA=s64",
      "userId": "08482506601269125384"
     },
     "user_tz": 420
    },
    "id": "lv_lc5QV70Qk",
    "outputId": "31022e41-ab45-403f-aa77-dbd880af91ba"
   },
   "outputs": [],
   "source": [
    "fig = plt.figure(figsize=(12, 12))\n",
    "for i, o in enumerate(outputs):\n",
    "    ax = fig.add_subplot(2, 2, 1+i)\n",
    "    ax.imshow(o.detach().numpy(), cmap='Greys_r')\n",
    "    ax.set_title(f\"Output shape: {o.shape}\")\n",
    "    ax.set_xticks([])\n",
    "    ax.set_yticks([])"
   ]
  },
  {
   "cell_type": "code",
   "execution_count": null,
   "metadata": {
    "colab": {
     "base_uri": "https://localhost:8080/"
    },
    "executionInfo": {
     "elapsed": 159,
     "status": "ok",
     "timestamp": 1625712967445,
     "user": {
      "displayName": "Mike Frantz",
      "photoUrl": "https://lh3.googleusercontent.com/a-/AOh14GiGYCwZXGfGg-CE4_33PQcH9SW8fN6MyRkenN8-IA=s64",
      "userId": "08482506601269125384"
     },
     "user_tz": 420
    },
    "id": "rlAzD6iSFDtW",
    "outputId": "0c8d6774-6d26-46d0-f78a-48bd5d4261a1"
   },
   "outputs": [],
   "source": [
    "# What is the shape of our parameters?\n",
    "# (n_filters x n_channels x filter_height x filter_width)\n",
    "list(conv_layer.parameters())[0].shape"
   ]
  },
  {
   "cell_type": "code",
   "execution_count": null,
   "metadata": {
    "id": "wQLi2NPzgrzc"
   },
   "outputs": [],
   "source": []
  }
 ],
 "metadata": {
  "colab": {
   "authorship_tag": "ABX9TyOqXS8/J6BnP0XZLae0ewFP",
   "collapsed_sections": [],
   "name": "10_images_filters_and_convolutions.ipynb",
   "provenance": []
  },
  "kernelspec": {
   "display_name": "Python 3",
   "name": "python3"
  },
  "language_info": {
   "name": "python"
  }
 },
 "nbformat": 4,
 "nbformat_minor": 0
}
