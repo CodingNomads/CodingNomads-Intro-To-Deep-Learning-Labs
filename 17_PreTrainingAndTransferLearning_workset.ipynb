{
 "cells": [
  {
   "cell_type": "code",
   "execution_count": null,
   "metadata": {
    "colab": {
     "base_uri": "https://localhost:8080/"
    },
    "executionInfo": {
     "elapsed": 7911,
     "status": "ok",
     "timestamp": 1650741016478,
     "user": {
      "displayName": "Mike Frantz",
      "userId": "08482506601269125384"
     },
     "user_tz": 420
    },
    "id": "m9ex7R3QJ3s_",
    "outputId": "ec02aaa6-2708-46c5-9aa8-59ac33cd2556"
   },
   "outputs": [],
   "source": [
    "!pip install -Uqq fastai"
   ]
  },
  {
   "cell_type": "code",
   "execution_count": null,
   "metadata": {
    "id": "-JJstQtEKF7_"
   },
   "outputs": [],
   "source": [
    "from fastai import *\n",
    "from fastai.text.all import *\n",
    "import pandas as pd\n",
    "import numpy as np\n",
    "import matplotlib.pyplot as plt\n",
    "from IPython.display import display, Markdown"
   ]
  },
  {
   "cell_type": "code",
   "execution_count": null,
   "metadata": {
    "colab": {
     "base_uri": "https://localhost:8080/",
     "height": 159
    },
    "executionInfo": {
     "elapsed": 34717,
     "status": "ok",
     "timestamp": 1650741061247,
     "user": {
      "displayName": "Mike Frantz",
      "userId": "08482506601269125384"
     },
     "user_tz": 420
    },
    "id": "9azkSag8KPn3",
    "outputId": "690f4049-6c34-4fcf-801a-b271de3c6750"
   },
   "outputs": [],
   "source": [
    "# Download the data\n",
    "path = untar_data(URLs.IMDB)\n",
    "list(path.ls())"
   ]
  },
  {
   "cell_type": "code",
   "execution_count": null,
   "metadata": {
    "id": "_WWjGTs33JkE"
   },
   "outputs": [],
   "source": [
    "get_imdb = partial(get_text_files, folders=['train', 'unsup'])\n",
    "\n",
    "lm_dls = DataBlock(\n",
    "    blocks=TextBlock.from_folder(path, is_lm=True),\n",
    "    get_items=get_imdb, splitter=RandomSplitter(0.1)\n",
    ").dataloaders(path, path=path)"
   ]
  },
  {
   "cell_type": "code",
   "execution_count": null,
   "metadata": {
    "colab": {
     "base_uri": "https://localhost:8080/",
     "height": 147
    },
    "executionInfo": {
     "elapsed": 548,
     "status": "ok",
     "timestamp": 1650741772306,
     "user": {
      "displayName": "Mike Frantz",
      "userId": "08482506601269125384"
     },
     "user_tz": 420
    },
    "id": "gxJ4hen938hi",
    "outputId": "f482ea82-1866-4fcc-c0bc-5aaa59a9068f"
   },
   "outputs": [],
   "source": [
    "lm_dls.show_batch(max_n=2)"
   ]
  },
  {
   "cell_type": "code",
   "execution_count": null,
   "metadata": {
    "id": "7vLJCANZMrqc"
   },
   "outputs": [],
   "source": [
    "x, y = lm_dls.one_batch()"
   ]
  },
  {
   "cell_type": "code",
   "execution_count": null,
   "metadata": {
    "colab": {
     "base_uri": "https://localhost:8080/"
    },
    "executionInfo": {
     "elapsed": 3,
     "status": "ok",
     "timestamp": 1650741797381,
     "user": {
      "displayName": "Mike Frantz",
      "userId": "08482506601269125384"
     },
     "user_tz": 420
    },
    "id": "vbLyhkRfzbBC",
    "outputId": "f4199be3-7df2-4f81-e0df-e024e01d36c5"
   },
   "outputs": [],
   "source": [
    "x[0]"
   ]
  },
  {
   "cell_type": "code",
   "execution_count": null,
   "metadata": {
    "colab": {
     "base_uri": "https://localhost:8080/"
    },
    "executionInfo": {
     "elapsed": 197,
     "status": "ok",
     "timestamp": 1650741798047,
     "user": {
      "displayName": "Mike Frantz",
      "userId": "08482506601269125384"
     },
     "user_tz": 420
    },
    "id": "mvX8nxKNzchr",
    "outputId": "8e5ec364-f28f-42df-d214-98912d636d09"
   },
   "outputs": [],
   "source": [
    "y[0]"
   ]
  },
  {
   "cell_type": "code",
   "execution_count": null,
   "metadata": {
    "id": "wWP93cDAzeBW"
   },
   "outputs": [],
   "source": [
    "# Check that the same shift occurs for the entire batch\n",
    "assert (x[:, 1:] == y[:, :-1]).all()"
   ]
  },
  {
   "cell_type": "code",
   "execution_count": null,
   "metadata": {
    "colab": {
     "base_uri": "https://localhost:8080/",
     "height": 37
    },
    "executionInfo": {
     "elapsed": 5563,
     "status": "ok",
     "timestamp": 1650741845962,
     "user": {
      "displayName": "Mike Frantz",
      "userId": "08482506601269125384"
     },
     "user_tz": 420
    },
    "id": "vHUnq2AFM07o",
    "outputId": "7412372a-8034-4c2e-b39a-d9f415c42338"
   },
   "outputs": [],
   "source": [
    "lm_learn = language_model_learner(lm_dls, AWD_LSTM, pretrained=True)"
   ]
  },
  {
   "cell_type": "code",
   "execution_count": null,
   "metadata": {
    "colab": {
     "base_uri": "https://localhost:8080/"
    },
    "executionInfo": {
     "elapsed": 3,
     "status": "ok",
     "timestamp": 1650741845963,
     "user": {
      "displayName": "Mike Frantz",
      "userId": "08482506601269125384"
     },
     "user_tz": 420
    },
    "id": "_g6fFRDlNG7u",
    "outputId": "abd5fdcd-144b-46d7-dfdf-970bcfc65907"
   },
   "outputs": [],
   "source": [
    "lm_learn.model"
   ]
  },
  {
   "cell_type": "code",
   "execution_count": null,
   "metadata": {
    "colab": {
     "base_uri": "https://localhost:8080/",
     "height": 35
    },
    "executionInfo": {
     "elapsed": 310,
     "status": "ok",
     "timestamp": 1650741860742,
     "user": {
      "displayName": "Mike Frantz",
      "userId": "08482506601269125384"
     },
     "user_tz": 420
    },
    "id": "ALRYmzTVSZmg",
    "outputId": "de5f01f7-71e1-44d5-b8f7-e305020a7e96"
   },
   "outputs": [],
   "source": [
    "# The model is trained on wikitext, so it will be able to\n",
    "# generate semi-sensible sentences, but they will likely\n",
    "# have nothing to do with movies.\n",
    "lm_learn.predict('This movie was terrible, ', n_words=10)"
   ]
  },
  {
   "cell_type": "code",
   "execution_count": null,
   "metadata": {
    "id": "t4ZtYSwHNT1L"
   },
   "outputs": [],
   "source": [
    "LR = 1e-3"
   ]
  },
  {
   "cell_type": "code",
   "execution_count": null,
   "metadata": {
    "colab": {
     "base_uri": "https://localhost:8080/",
     "height": 81
    },
    "executionInfo": {
     "elapsed": 2288634,
     "status": "ok",
     "timestamp": 1650744155794,
     "user": {
      "displayName": "Mike Frantz",
      "userId": "08482506601269125384"
     },
     "user_tz": 420
    },
    "id": "0D8I3jgONkYx",
    "outputId": "54229b3c-e255-4e64-f34e-642eabe28c0c"
   },
   "outputs": [],
   "source": [
    "lm_learn.fit_one_cycle(1, LR)"
   ]
  },
  {
   "cell_type": "code",
   "execution_count": null,
   "metadata": {
    "colab": {
     "base_uri": "https://localhost:8080/",
     "height": 35
    },
    "executionInfo": {
     "elapsed": 142,
     "status": "ok",
     "timestamp": 1650744156083,
     "user": {
      "displayName": "Mike Frantz",
      "userId": "08482506601269125384"
     },
     "user_tz": 420
    },
    "id": "71zVnOptNpiW",
    "outputId": "a722495c-fad0-4a2c-db53-166967668660"
   },
   "outputs": [],
   "source": [
    "lm_learn.predict('This movie was terrible, ', n_words=10)"
   ]
  },
  {
   "cell_type": "code",
   "execution_count": null,
   "metadata": {
    "id": "3dXm-EP7bj2Z"
   },
   "outputs": [],
   "source": [
    "# Save the model\n",
    "lm_learn.save_encoder('lm_encoder')"
   ]
  },
  {
   "cell_type": "code",
   "execution_count": null,
   "metadata": {
    "id": "bywruUvrbEUV"
   },
   "outputs": [],
   "source": [
    "# Create dataloaders for text classification.\n",
    "# Let's make sure to pass our vocab from our pre-training\n",
    "# so the word indices are the same.\n",
    "dls = TextDataLoaders.from_folder(path, train='train', valid='test', text_vocab=lm_dls.vocab)"
   ]
  },
  {
   "cell_type": "code",
   "execution_count": null,
   "metadata": {
    "colab": {
     "base_uri": "https://localhost:8080/",
     "height": 196
    },
    "executionInfo": {
     "elapsed": 186,
     "status": "ok",
     "timestamp": 1650744162215,
     "user": {
      "displayName": "Mike Frantz",
      "userId": "08482506601269125384"
     },
     "user_tz": 420
    },
    "id": "eSlZwbrtb3jW",
    "outputId": "d2f620a0-5249-4da0-8080-265721fb152d"
   },
   "outputs": [],
   "source": [
    "dls.show_batch(max_n=3)"
   ]
  },
  {
   "cell_type": "code",
   "execution_count": null,
   "metadata": {
    "id": "JkZVWtvMdLNg"
   },
   "outputs": [],
   "source": [
    "cbs = [\n",
    "    EarlyStoppingCallback(),\n",
    "    SaveModelCallback()\n",
    "]"
   ]
  },
  {
   "cell_type": "code",
   "execution_count": null,
   "metadata": {
    "id": "hIJhNvUZcELQ"
   },
   "outputs": [],
   "source": [
    "# Create a learner for text classification.\n",
    "learn = text_classifier_learner(dls, AWD_LSTM, metrics=[accuracy, error_rate], cbs=cbs)"
   ]
  },
  {
   "cell_type": "code",
   "execution_count": null,
   "metadata": {
    "id": "vTTf8YJNcbTp"
   },
   "outputs": [],
   "source": [
    "# Load our weights from fine-tuning on full IMDB\n",
    "learn = learn.load_encoder('lm_encoder')"
   ]
  },
  {
   "cell_type": "code",
   "execution_count": null,
   "metadata": {
    "colab": {
     "base_uri": "https://localhost:8080/",
     "height": 618
    },
    "executionInfo": {
     "elapsed": 4613870,
     "status": "ok",
     "timestamp": 1650748777466,
     "user": {
      "displayName": "Mike Frantz",
      "userId": "08482506601269125384"
     },
     "user_tz": 420
    },
    "id": "TmGgUoCDczAD",
    "outputId": "02b430a5-9ad5-43f1-f55d-b1cbb19ce100"
   },
   "outputs": [],
   "source": [
    "learn.fine_tune(10, 1e-3)"
   ]
  },
  {
   "cell_type": "code",
   "execution_count": null,
   "metadata": {
    "colab": {
     "base_uri": "https://localhost:8080/",
     "height": 34
    },
    "executionInfo": {
     "elapsed": 247,
     "status": "ok",
     "timestamp": 1650748777707,
     "user": {
      "displayName": "Mike Frantz",
      "userId": "08482506601269125384"
     },
     "user_tz": 420
    },
    "id": "qmUKkNbYc3Lw",
    "outputId": "a590c47d-1677-42d5-f5cd-19054a1ef44e"
   },
   "outputs": [],
   "source": [
    "learn.predict('This movie was horrible!')"
   ]
  },
  {
   "cell_type": "code",
   "execution_count": null,
   "metadata": {
    "colab": {
     "base_uri": "https://localhost:8080/",
     "height": 34
    },
    "executionInfo": {
     "elapsed": 4,
     "status": "ok",
     "timestamp": 1650748777707,
     "user": {
      "displayName": "Mike Frantz",
      "userId": "08482506601269125384"
     },
     "user_tz": 420
    },
    "id": "uBU-H5x_zgDd",
    "outputId": "c99bde47-1b7c-444b-ac9d-76946615e403"
   },
   "outputs": [],
   "source": [
    "learn.predict('This movie was great!')"
   ]
  },
  {
   "cell_type": "code",
   "execution_count": null,
   "metadata": {
    "colab": {
     "base_uri": "https://localhost:8080/"
    },
    "executionInfo": {
     "elapsed": 1656,
     "status": "ok",
     "timestamp": 1650748779360,
     "user": {
      "displayName": "Mike Frantz",
      "userId": "08482506601269125384"
     },
     "user_tz": 420
    },
    "id": "0H_8IrkzYFE1",
    "outputId": "23412667-be75-497b-cdd4-0ae7986bbc22"
   },
   "outputs": [],
   "source": [
    "learn.save('clf_fine_tuned')"
   ]
  },
  {
   "cell_type": "code",
   "execution_count": null,
   "metadata": {
    "colab": {
     "base_uri": "https://localhost:8080/",
     "height": 17
    },
    "executionInfo": {
     "elapsed": 109405,
     "status": "ok",
     "timestamp": 1650748888761,
     "user": {
      "displayName": "Mike Frantz",
      "userId": "08482506601269125384"
     },
     "user_tz": 420
    },
    "id": "s_ILus5NK0Eq",
    "outputId": "9beb8c84-9b5a-404c-b3c6-0c8cb188fa0c"
   },
   "outputs": [],
   "source": [
    "interp = ClassificationInterpretation.from_learner(learn)"
   ]
  },
  {
   "cell_type": "code",
   "execution_count": null,
   "metadata": {
    "colab": {
     "base_uri": "https://localhost:8080/",
     "height": 311
    },
    "executionInfo": {
     "elapsed": 109906,
     "status": "ok",
     "timestamp": 1650748998651,
     "user": {
      "displayName": "Mike Frantz",
      "userId": "08482506601269125384"
     },
     "user_tz": 420
    },
    "id": "6xGqBUaaLypH",
    "outputId": "d33d947c-eac0-4b6a-eba5-78db9e541181"
   },
   "outputs": [],
   "source": [
    "interp.plot_confusion_matrix()"
   ]
  },
  {
   "cell_type": "code",
   "execution_count": null,
   "metadata": {
    "colab": {
     "base_uri": "https://localhost:8080/",
     "height": 436
    },
    "executionInfo": {
     "elapsed": 448,
     "status": "ok",
     "timestamp": 1650748999094,
     "user": {
      "displayName": "Mike Frantz",
      "userId": "08482506601269125384"
     },
     "user_tz": 420
    },
    "id": "pvT0MgA3iqa6",
    "outputId": "d6b6a35c-3e90-443b-9b97-a2ce105f967a"
   },
   "outputs": [],
   "source": [
    "interp.plot_top_losses(10)"
   ]
  },
  {
   "cell_type": "code",
   "execution_count": null,
   "metadata": {
    "id": "Cz6KTZeq8XW3"
   },
   "outputs": [],
   "source": [
    "cbs = [\n",
    "    EarlyStoppingCallback(),\n",
    "    SaveModelCallback()\n",
    "]"
   ]
  },
  {
   "cell_type": "code",
   "execution_count": null,
   "metadata": {
    "id": "AYitiaKC8Sx3"
   },
   "outputs": [],
   "source": [
    "control = text_classifier_learner(dls, AWD_LSTM, pretrained=False, metrics=[accuracy, error_rate], cbs=cbs).to_fp16()"
   ]
  },
  {
   "cell_type": "code",
   "execution_count": null,
   "metadata": {
    "colab": {
     "base_uri": "https://localhost:8080/",
     "height": 228
    },
    "executionInfo": {
     "elapsed": 386950,
     "status": "ok",
     "timestamp": 1650749386614,
     "user": {
      "displayName": "Mike Frantz",
      "userId": "08482506601269125384"
     },
     "user_tz": 420
    },
    "id": "BqhFD98D8l5L",
    "outputId": "fb3527d8-bf31-409d-b270-99f95000fdcd"
   },
   "outputs": [],
   "source": [
    "control.fine_tune(2, base_lr=1e-3)"
   ]
  },
  {
   "cell_type": "code",
   "execution_count": null,
   "metadata": {
    "id": "H3GoEfV3_XIF"
   },
   "outputs": [],
   "source": [
    "cbs = [\n",
    "    EarlyStoppingCallback(),\n",
    "    SaveModelCallback()\n",
    "]"
   ]
  },
  {
   "cell_type": "code",
   "execution_count": null,
   "metadata": {
    "id": "PtoPnV_V_myZ"
   },
   "outputs": [],
   "source": [
    "control = text_classifier_learner(dls, AWD_LSTM, pretrained=True, metrics=[accuracy, error_rate], cbs=cbs).to_fp16()"
   ]
  },
  {
   "cell_type": "code",
   "execution_count": null,
   "metadata": {
    "colab": {
     "base_uri": "https://localhost:8080/",
     "height": 228
    },
    "executionInfo": {
     "elapsed": 388450,
     "status": "ok",
     "timestamp": 1650749776272,
     "user": {
      "displayName": "Mike Frantz",
      "userId": "08482506601269125384"
     },
     "user_tz": 420
    },
    "id": "7A3a5ubD_pny",
    "outputId": "38257358-6e53-4aea-cf8c-e1edaf3c6fa6"
   },
   "outputs": [],
   "source": [
    "control.fine_tune(2, base_lr=1e-3)"
   ]
  },
  {
   "cell_type": "markdown",
   "metadata": {
    "id": "7H8zBqaD4-TX"
   },
   "source": [
    "# Exercise 17.1\n",
    "\n",
    "In this exercise, you will perform an experiment of your own.\n",
    "We want to know how much of a head-start starting with a pre-trained model gives us in our fine-tuning step.\n",
    "In this exercise, train two language models - one that is pre-trained, and one that is not - on the `train` and `unsup` directories.\n",
    "Feel free to use the `lm_dls` we defined earlier, or practice creating your own.\n",
    "After the same number of epochs, is the loss lower with the pre-trained model?\n",
    "\n",
    "<!-- startquestion -->"
   ]
  },
  {
   "cell_type": "code",
   "execution_count": null,
   "metadata": {
    "id": "xCgEmjYY5f_1"
   },
   "outputs": [],
   "source": [
    "# Your code here"
   ]
  },
  {
   "cell_type": "code",
   "execution_count": null,
   "metadata": {
    "id": "4ZQExfxrOLIF"
   },
   "outputs": [],
   "source": []
  }
 ],
 "metadata": {
  "accelerator": "GPU",
  "colab": {
   "authorship_tag": "ABX9TyPdTogQH4VWR0eHorf8fXTG",
   "collapsed_sections": [],
   "name": "17_PreTrainingAndTransferLearning.ipynb",
   "provenance": []
  },
  "kernelspec": {
   "display_name": "Python 3",
   "name": "python3"
  },
  "language_info": {
   "name": "python"
  }
 },
 "nbformat": 4,
 "nbformat_minor": 0
}
