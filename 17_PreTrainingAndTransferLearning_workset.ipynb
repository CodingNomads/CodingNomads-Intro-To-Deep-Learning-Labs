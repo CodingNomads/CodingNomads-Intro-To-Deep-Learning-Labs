{
 "cells": [
  {
   "cell_type": "code",
   "execution_count": 1,
   "metadata": {
    "executionInfo": {
     "elapsed": 7290,
     "status": "ok",
     "timestamp": 1650143203026,
     "user": {
      "displayName": "Mike Frantz",
      "userId": "08482506601269125384"
     },
     "user_tz": 420
    },
    "id": "m9ex7R3QJ3s_"
   },
   "outputs": [],
   "source": [
    "!pip install -Uqq fastai"
   ]
  },
  {
   "cell_type": "code",
   "execution_count": 2,
   "metadata": {
    "executionInfo": {
     "elapsed": 4508,
     "status": "ok",
     "timestamp": 1650143207529,
     "user": {
      "displayName": "Mike Frantz",
      "userId": "08482506601269125384"
     },
     "user_tz": 420
    },
    "id": "-JJstQtEKF7_"
   },
   "outputs": [],
   "source": [
    "from fastai import *\n",
    "from fastai.text.all import *\n",
    "import pandas as pd\n",
    "import numpy as np\n",
    "import matplotlib.pyplot as plt\n",
    "from IPython.display import display, Markdown"
   ]
  },
  {
   "cell_type": "code",
   "execution_count": 3,
   "metadata": {
    "colab": {
     "base_uri": "https://localhost:8080/"
    },
    "executionInfo": {
     "elapsed": 12,
     "status": "ok",
     "timestamp": 1650143207531,
     "user": {
      "displayName": "Mike Frantz",
      "userId": "08482506601269125384"
     },
     "user_tz": 420
    },
    "id": "9azkSag8KPn3",
    "outputId": "dbcaa2d8-b0cd-44eb-bc6e-962c5b53d8eb"
   },
   "outputs": [],
   "source": [
    "# Download the data\n",
    "path = untar_data(URLs.IMDB)\n",
    "list(path.ls())"
   ]
  },
  {
   "cell_type": "code",
   "execution_count": 4,
   "metadata": {
    "colab": {
     "base_uri": "https://localhost:8080/",
     "height": 745
    },
    "executionInfo": {
     "elapsed": 9,
     "status": "ok",
     "timestamp": 1650143207532,
     "user": {
      "displayName": "Mike Frantz",
      "userId": "08482506601269125384"
     },
     "user_tz": 420
    },
    "id": "Vk1LeL_tKaoK",
    "outputId": "7b04023e-4eb0-4910-bb55-f1111979461c"
   },
   "outputs": [],
   "source": [
    "Markdown(Path.open(path/'README').read())"
   ]
  },
  {
   "cell_type": "code",
   "execution_count": 5,
   "metadata": {
    "executionInfo": {
     "elapsed": 10333,
     "status": "ok",
     "timestamp": 1650143217858,
     "user": {
      "displayName": "Mike Frantz",
      "userId": "08482506601269125384"
     },
     "user_tz": 420
    },
    "id": "QoDgb5kwKvKo"
   },
   "outputs": [],
   "source": [
    "# Create DataLoaders for our language model\n",
    "lm_dls = TextDataLoaders.from_folder(path, is_lm=True)"
   ]
  },
  {
   "cell_type": "code",
   "execution_count": 6,
   "metadata": {
    "colab": {
     "base_uri": "https://localhost:8080/",
     "height": 248
    },
    "executionInfo": {
     "elapsed": 503,
     "status": "ok",
     "timestamp": 1650143218348,
     "user": {
      "displayName": "Mike Frantz",
      "userId": "08482506601269125384"
     },
     "user_tz": 420
    },
    "id": "oqn-DGSbLKAU",
    "outputId": "40e33139-6fad-49de-e8d4-cebe1fa336d1"
   },
   "outputs": [],
   "source": [
    "# Show one batch of data\n",
    "lm_dls.show_batch(max_n=3)"
   ]
  },
  {
   "cell_type": "code",
   "execution_count": 7,
   "metadata": {
    "executionInfo": {
     "elapsed": 544,
     "status": "ok",
     "timestamp": 1650143218890,
     "user": {
      "displayName": "Mike Frantz",
      "userId": "08482506601269125384"
     },
     "user_tz": 420
    },
    "id": "7vLJCANZMrqc"
   },
   "outputs": [],
   "source": [
    "x, y = lm_dls.one_batch()"
   ]
  },
  {
   "cell_type": "code",
   "execution_count": 8,
   "metadata": {
    "colab": {
     "base_uri": "https://localhost:8080/"
    },
    "executionInfo": {
     "elapsed": 10,
     "status": "ok",
     "timestamp": 1650143218890,
     "user": {
      "displayName": "Mike Frantz",
      "userId": "08482506601269125384"
     },
     "user_tz": 420
    },
    "id": "vbLyhkRfzbBC",
    "outputId": "73e2a586-820f-45e7-a0dd-0fd759036adf"
   },
   "outputs": [],
   "source": [
    "x[0]"
   ]
  },
  {
   "cell_type": "code",
   "execution_count": 9,
   "metadata": {
    "colab": {
     "base_uri": "https://localhost:8080/"
    },
    "executionInfo": {
     "elapsed": 8,
     "status": "ok",
     "timestamp": 1650143218890,
     "user": {
      "displayName": "Mike Frantz",
      "userId": "08482506601269125384"
     },
     "user_tz": 420
    },
    "id": "mvX8nxKNzchr",
    "outputId": "13f6e87b-09b3-49bf-9702-8591f486a1f3"
   },
   "outputs": [],
   "source": [
    "y[0]"
   ]
  },
  {
   "cell_type": "code",
   "execution_count": 10,
   "metadata": {
    "colab": {
     "base_uri": "https://localhost:8080/"
    },
    "executionInfo": {
     "elapsed": 7,
     "status": "ok",
     "timestamp": 1650143218891,
     "user": {
      "displayName": "Mike Frantz",
      "userId": "08482506601269125384"
     },
     "user_tz": 420
    },
    "id": "wWP93cDAzeBW",
    "outputId": "7b4a2ed7-f914-42f7-84d1-92dd675264bb"
   },
   "outputs": [],
   "source": [
    "# Check that x[1:] and y[:-1] are the same\n",
    "(x[0][1:] == y[0][:-1]).all()"
   ]
  },
  {
   "cell_type": "code",
   "execution_count": 11,
   "metadata": {
    "executionInfo": {
     "elapsed": 2617,
     "status": "ok",
     "timestamp": 1650143221503,
     "user": {
      "displayName": "Mike Frantz",
      "userId": "08482506601269125384"
     },
     "user_tz": 420
    },
    "id": "vHUnq2AFM07o"
   },
   "outputs": [],
   "source": [
    "lm_learn = language_model_learner(lm_dls, AWD_LSTM, pretrained=True)"
   ]
  },
  {
   "cell_type": "code",
   "execution_count": 12,
   "metadata": {
    "colab": {
     "base_uri": "https://localhost:8080/"
    },
    "executionInfo": {
     "elapsed": 7,
     "status": "ok",
     "timestamp": 1650143221503,
     "user": {
      "displayName": "Mike Frantz",
      "userId": "08482506601269125384"
     },
     "user_tz": 420
    },
    "id": "_g6fFRDlNG7u",
    "outputId": "92afb890-ece8-4052-df29-a6af4d561423"
   },
   "outputs": [],
   "source": [
    "lm_learn.model"
   ]
  },
  {
   "cell_type": "code",
   "execution_count": 13,
   "metadata": {
    "colab": {
     "base_uri": "https://localhost:8080/",
     "height": 35
    },
    "executionInfo": {
     "elapsed": 189,
     "status": "ok",
     "timestamp": 1650143221687,
     "user": {
      "displayName": "Mike Frantz",
      "userId": "08482506601269125384"
     },
     "user_tz": 420
    },
    "id": "ALRYmzTVSZmg",
    "outputId": "af4d7358-c604-41f0-cb15-fdd95df8c9ef"
   },
   "outputs": [],
   "source": [
    "# The model is trained on wikitext, so it will be able to\n",
    "# generate semi-sensible sentences, but they will likely\n",
    "# have nothing to do with movies.\n",
    "lm_learn.predict('This movie was terrible, ', n_words=10)"
   ]
  },
  {
   "cell_type": "code",
   "execution_count": 15,
   "metadata": {
    "executionInfo": {
     "elapsed": 20,
     "status": "ok",
     "timestamp": 1650143268019,
     "user": {
      "displayName": "Mike Frantz",
      "userId": "08482506601269125384"
     },
     "user_tz": 420
    },
    "id": "t4ZtYSwHNT1L"
   },
   "outputs": [],
   "source": [
    "LR = 1e-3"
   ]
  },
  {
   "cell_type": "code",
   "execution_count": 16,
   "metadata": {
    "colab": {
     "base_uri": "https://localhost:8080/",
     "height": 115
    },
    "executionInfo": {
     "elapsed": 785344,
     "status": "ok",
     "timestamp": 1650144053344,
     "user": {
      "displayName": "Mike Frantz",
      "userId": "08482506601269125384"
     },
     "user_tz": 420
    },
    "id": "0D8I3jgONkYx",
    "outputId": "78260094-ea40-42ab-8e59-f6b8097e7358"
   },
   "outputs": [],
   "source": [
    "lm_learn.fit_one_cycle(1, LR)"
   ]
  },
  {
   "cell_type": "code",
   "execution_count": 17,
   "metadata": {
    "colab": {
     "base_uri": "https://localhost:8080/",
     "height": 35
    },
    "executionInfo": {
     "elapsed": 265,
     "status": "ok",
     "timestamp": 1650144053603,
     "user": {
      "displayName": "Mike Frantz",
      "userId": "08482506601269125384"
     },
     "user_tz": 420
    },
    "id": "71zVnOptNpiW",
    "outputId": "568e5400-c559-4d0c-dc9e-66887a3bfd25"
   },
   "outputs": [],
   "source": [
    "lm_learn.predict('This movie was terrible, ', n_words=10)"
   ]
  },
  {
   "cell_type": "code",
   "execution_count": 18,
   "metadata": {
    "executionInfo": {
     "elapsed": 223,
     "status": "ok",
     "timestamp": 1650144053825,
     "user": {
      "displayName": "Mike Frantz",
      "userId": "08482506601269125384"
     },
     "user_tz": 420
    },
    "id": "3dXm-EP7bj2Z"
   },
   "outputs": [],
   "source": [
    "# Save the model\n",
    "lm_learn.save_encoder('lm_encoder')"
   ]
  },
  {
   "cell_type": "code",
   "execution_count": 19,
   "metadata": {
    "executionInfo": {
     "elapsed": 5435,
     "status": "ok",
     "timestamp": 1650144059257,
     "user": {
      "displayName": "Mike Frantz",
      "userId": "08482506601269125384"
     },
     "user_tz": 420
    },
    "id": "bywruUvrbEUV"
   },
   "outputs": [],
   "source": [
    "# Create dataloaders for text classification.\n",
    "# Let's make sure to pass our vocab from our pre-training\n",
    "# so the word indices are the same.\n",
    "dls = TextDataLoaders.from_folder(path, train='train', valid='test', text_vocab=lm_dls.vocab)"
   ]
  },
  {
   "cell_type": "code",
   "execution_count": 20,
   "metadata": {
    "colab": {
     "base_uri": "https://localhost:8080/",
     "height": 282
    },
    "executionInfo": {
     "elapsed": 15,
     "status": "ok",
     "timestamp": 1650144059257,
     "user": {
      "displayName": "Mike Frantz",
      "userId": "08482506601269125384"
     },
     "user_tz": 420
    },
    "id": "eSlZwbrtb3jW",
    "outputId": "c5d08b9f-a34c-41fa-b222-760d3f3033d5"
   },
   "outputs": [],
   "source": [
    "dls.show_batch(max_n=3)"
   ]
  },
  {
   "cell_type": "code",
   "execution_count": 21,
   "metadata": {
    "executionInfo": {
     "elapsed": 4,
     "status": "ok",
     "timestamp": 1650144059257,
     "user": {
      "displayName": "Mike Frantz",
      "userId": "08482506601269125384"
     },
     "user_tz": 420
    },
    "id": "JkZVWtvMdLNg"
   },
   "outputs": [],
   "source": [
    "cbs = [\n",
    "    EarlyStoppingCallback(),\n",
    "    SaveModelCallback()\n",
    "]"
   ]
  },
  {
   "cell_type": "code",
   "execution_count": 22,
   "metadata": {
    "executionInfo": {
     "elapsed": 1228,
     "status": "ok",
     "timestamp": 1650144060481,
     "user": {
      "displayName": "Mike Frantz",
      "userId": "08482506601269125384"
     },
     "user_tz": 420
    },
    "id": "hIJhNvUZcELQ"
   },
   "outputs": [],
   "source": [
    "# Create a learner for text classification.\n",
    "learn = text_classifier_learner(dls, AWD_LSTM, metrics=[accuracy, error_rate], cbs=cbs)"
   ]
  },
  {
   "cell_type": "code",
   "execution_count": 23,
   "metadata": {
    "executionInfo": {
     "elapsed": 218,
     "status": "ok",
     "timestamp": 1650144060698,
     "user": {
      "displayName": "Mike Frantz",
      "userId": "08482506601269125384"
     },
     "user_tz": 420
    },
    "id": "vTTf8YJNcbTp"
   },
   "outputs": [],
   "source": [
    "# Load our weights from fine-tuning on full IMDB\n",
    "learn = learn.load_encoder('lm_encoder')"
   ]
  },
  {
   "cell_type": "code",
   "execution_count": 24,
   "metadata": {
    "colab": {
     "base_uri": "https://localhost:8080/",
     "height": 471
    },
    "executionInfo": {
     "elapsed": 3334396,
     "status": "ok",
     "timestamp": 1650147395090,
     "user": {
      "displayName": "Mike Frantz",
      "userId": "08482506601269125384"
     },
     "user_tz": 420
    },
    "id": "TmGgUoCDczAD",
    "outputId": "d212abdd-3639-4abe-c1dd-8970fd4e0fbc"
   },
   "outputs": [],
   "source": [
    "learn.fine_tune(10, 1e-3)"
   ]
  },
  {
   "cell_type": "code",
   "execution_count": 25,
   "metadata": {
    "colab": {
     "base_uri": "https://localhost:8080/",
     "height": 34
    },
    "executionInfo": {
     "elapsed": 10,
     "status": "ok",
     "timestamp": 1650147395091,
     "user": {
      "displayName": "Mike Frantz",
      "userId": "08482506601269125384"
     },
     "user_tz": 420
    },
    "id": "qmUKkNbYc3Lw",
    "outputId": "e26c83b5-155e-4af0-bf7e-3d57ca2af506"
   },
   "outputs": [],
   "source": [
    "learn.predict('This movie was horrible!')"
   ]
  },
  {
   "cell_type": "code",
   "execution_count": 26,
   "metadata": {
    "colab": {
     "base_uri": "https://localhost:8080/",
     "height": 34
    },
    "executionInfo": {
     "elapsed": 8,
     "status": "ok",
     "timestamp": 1650147395091,
     "user": {
      "displayName": "Mike Frantz",
      "userId": "08482506601269125384"
     },
     "user_tz": 420
    },
    "id": "uBU-H5x_zgDd",
    "outputId": "366567eb-3954-4469-bd46-920c027ce999"
   },
   "outputs": [],
   "source": [
    "learn.predict('This movie was great!')"
   ]
  },
  {
   "cell_type": "code",
   "execution_count": 27,
   "metadata": {
    "colab": {
     "base_uri": "https://localhost:8080/"
    },
    "executionInfo": {
     "elapsed": 1563,
     "status": "ok",
     "timestamp": 1650147396962,
     "user": {
      "displayName": "Mike Frantz",
      "userId": "08482506601269125384"
     },
     "user_tz": 420
    },
    "id": "0H_8IrkzYFE1",
    "outputId": "4b24ca9a-0159-4951-c074-8d2c7355b098"
   },
   "outputs": [],
   "source": [
    "learn.save('clf_fine_tuned')"
   ]
  },
  {
   "cell_type": "code",
   "execution_count": 28,
   "metadata": {
    "colab": {
     "base_uri": "https://localhost:8080/",
     "height": 17
    },
    "executionInfo": {
     "elapsed": 111116,
     "status": "ok",
     "timestamp": 1650147508074,
     "user": {
      "displayName": "Mike Frantz",
      "userId": "08482506601269125384"
     },
     "user_tz": 420
    },
    "id": "s_ILus5NK0Eq",
    "outputId": "8b67d0c1-dd76-4468-9560-d7f2f150116c"
   },
   "outputs": [],
   "source": [
    "interp = ClassificationInterpretation.from_learner(learn)"
   ]
  },
  {
   "cell_type": "code",
   "execution_count": 36,
   "metadata": {
    "colab": {
     "base_uri": "https://localhost:8080/",
     "height": 311
    },
    "executionInfo": {
     "elapsed": 100738,
     "status": "ok",
     "timestamp": 1650149058431,
     "user": {
      "displayName": "Mike Frantz",
      "userId": "08482506601269125384"
     },
     "user_tz": 420
    },
    "id": "6xGqBUaaLypH",
    "outputId": "0e6151ec-e2be-4378-db70-668b222c0bcb"
   },
   "outputs": [],
   "source": [
    "interp.plot_confusion_matrix()"
   ]
  },
  {
   "cell_type": "code",
   "execution_count": 39,
   "metadata": {
    "colab": {
     "base_uri": "https://localhost:8080/",
     "height": 731
    },
    "executionInfo": {
     "elapsed": 864,
     "status": "ok",
     "timestamp": 1650149079696,
     "user": {
      "displayName": "Mike Frantz",
      "userId": "08482506601269125384"
     },
     "user_tz": 420
    },
    "id": "pvT0MgA3iqa6",
    "outputId": "0b1ab0f8-3a73-463e-d137-7768394bbcf2"
   },
   "outputs": [],
   "source": [
    "interp.plot_top_losses(10)"
   ]
  },
  {
   "cell_type": "code",
   "execution_count": 30,
   "metadata": {
    "executionInfo": {
     "elapsed": 13,
     "status": "ok",
     "timestamp": 1650147618284,
     "user": {
      "displayName": "Mike Frantz",
      "userId": "08482506601269125384"
     },
     "user_tz": 420
    },
    "id": "Cz6KTZeq8XW3"
   },
   "outputs": [],
   "source": [
    "cbs = [\n",
    "    EarlyStoppingCallback(),\n",
    "    SaveModelCallback()\n",
    "]"
   ]
  },
  {
   "cell_type": "code",
   "execution_count": 31,
   "metadata": {
    "executionInfo": {
     "elapsed": 575,
     "status": "ok",
     "timestamp": 1650147618847,
     "user": {
      "displayName": "Mike Frantz",
      "userId": "08482506601269125384"
     },
     "user_tz": 420
    },
    "id": "AYitiaKC8Sx3"
   },
   "outputs": [],
   "source": [
    "control = text_classifier_learner(dls, AWD_LSTM, pretrained=False, metrics=[accuracy, error_rate], cbs=cbs).to_fp16()"
   ]
  },
  {
   "cell_type": "code",
   "execution_count": 32,
   "metadata": {
    "colab": {
     "base_uri": "https://localhost:8080/",
     "height": 228
    },
    "executionInfo": {
     "elapsed": 388838,
     "status": "ok",
     "timestamp": 1650148007681,
     "user": {
      "displayName": "Mike Frantz",
      "userId": "08482506601269125384"
     },
     "user_tz": 420
    },
    "id": "BqhFD98D8l5L",
    "outputId": "7f63b2f2-4850-4c39-cd32-75bb3cc356c0"
   },
   "outputs": [],
   "source": [
    "control.fine_tune(2, base_lr=1e-3)"
   ]
  },
  {
   "cell_type": "code",
   "execution_count": 33,
   "metadata": {
    "executionInfo": {
     "elapsed": 13,
     "status": "ok",
     "timestamp": 1650148007682,
     "user": {
      "displayName": "Mike Frantz",
      "userId": "08482506601269125384"
     },
     "user_tz": 420
    },
    "id": "H3GoEfV3_XIF"
   },
   "outputs": [],
   "source": [
    "cbs = [\n",
    "    EarlyStoppingCallback(),\n",
    "    SaveModelCallback()\n",
    "]"
   ]
  },
  {
   "cell_type": "code",
   "execution_count": 34,
   "metadata": {
    "executionInfo": {
     "elapsed": 1302,
     "status": "ok",
     "timestamp": 1650148008981,
     "user": {
      "displayName": "Mike Frantz",
      "userId": "08482506601269125384"
     },
     "user_tz": 420
    },
    "id": "PtoPnV_V_myZ"
   },
   "outputs": [],
   "source": [
    "control = text_classifier_learner(dls, AWD_LSTM, pretrained=True, metrics=[accuracy, error_rate], cbs=cbs).to_fp16()"
   ]
  },
  {
   "cell_type": "code",
   "execution_count": 35,
   "metadata": {
    "colab": {
     "base_uri": "https://localhost:8080/",
     "height": 228
    },
    "executionInfo": {
     "elapsed": 391211,
     "status": "ok",
     "timestamp": 1650148400188,
     "user": {
      "displayName": "Mike Frantz",
      "userId": "08482506601269125384"
     },
     "user_tz": 420
    },
    "id": "7A3a5ubD_pny",
    "outputId": "91b1c499-08ee-4f50-9936-72cecfe66d5d"
   },
   "outputs": [],
   "source": [
    "control.fine_tune(2, base_lr=1e-3)"
   ]
  },
  {
   "cell_type": "code",
   "execution_count": 35,
   "metadata": {
    "executionInfo": {
     "elapsed": 14,
     "status": "ok",
     "timestamp": 1650148400189,
     "user": {
      "displayName": "Mike Frantz",
      "userId": "08482506601269125384"
     },
     "user_tz": 420
    },
    "id": "4ZQExfxrOLIF"
   },
   "outputs": [],
   "source": []
  }
 ],
 "metadata": {
  "accelerator": "GPU",
  "colab": {
   "authorship_tag": "ABX9TyMXPsxmkb1ELh7oOfXPYY6q",
   "collapsed_sections": [],
   "name": "17_PreTrainingAndTransferLearning.ipynb",
   "provenance": []
  },
  "kernelspec": {
   "display_name": "Python 3",
   "name": "python3"
  },
  "language_info": {
   "name": "python"
  }
 },
 "nbformat": 4,
 "nbformat_minor": 0
}
