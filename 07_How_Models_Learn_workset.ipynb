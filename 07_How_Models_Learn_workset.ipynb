{
 "cells": [
  {
   "cell_type": "code",
   "execution_count": null,
   "id": "030c1766-f1f2-4af1-85a1-3d788615875f",
   "metadata": {
    "id": "030c1766-f1f2-4af1-85a1-3d788615875f"
   },
   "outputs": [],
   "source": [
    "import torch\n",
    "from torch import nn\n",
    "import torch.nn.functional as F\n",
    "from graphviz import Digraph\n",
    "import matplotlib.pyplot as plt\n",
    "import numpy as np\n",
    "import ipywidgets as widgets"
   ]
  },
  {
   "cell_type": "code",
   "execution_count": null,
   "id": "4bbda347-5187-4548-83db-346dfc917435",
   "metadata": {
    "colab": {
     "base_uri": "https://localhost:8080/",
     "height": 519,
     "referenced_widgets": [
      "fab7a7019dbd420687a5c039cd0b35fb",
      "15688f93839645a78dc6ab69ce742a9b",
      "d40ea3440fe84df7a2fdc283a3b52f23",
      "4a9affd6cdf343cfb01a908cc7f0bcd2",
      "fafb437f3b294eb7a690a15340ec802e",
      "86cfc0d33c344e2d81f8009f32bb01c1",
      "c921801b027a47ba9ba817974139eeed"
     ]
    },
    "id": "4bbda347-5187-4548-83db-346dfc917435",
    "outputId": "8682c49a-58ef-4d26-c34c-27064000c991"
   },
   "outputs": [],
   "source": [
    "# Create x and y values for our function over a range of values\n",
    "X = torch.arange(-2, 2.1, step=.1)\n",
    "\n",
    "def f(x):\n",
    "    return x**2\n",
    "\n",
    "Y = f(X)\n",
    "\n",
    "def plot_derivative_at(point, ax):\n",
    "    _x, _y = point\n",
    "    slope = 2*_x # What's the derivative of y with respect to x?\n",
    "    intercept = slope * _x  - _y # Figure out the intercept\n",
    "    x = torch.arange(-2, 2.1, .1) # xs to plot\n",
    "    y = slope * X - _y # ys to plot\n",
    "    ax.scatter(_x, _y, c='r', label=f'({float(_x):.02f}, {float(_y):.02f})', linewidth=8)\n",
    "    ax.plot(x, y, label=f'dy/dx = {float(slope):.02f}', linewidth=3, ls='--')\n",
    "\n",
    "@widgets.interact(\n",
    "    x = widgets.FloatSlider(value=1.4, min=-2, max=2)\n",
    ")\n",
    "def show_derivative_at(x):\n",
    "    x = torch.tensor(x).float()\n",
    "    point = (x, f(x))\n",
    "    fig, ax = plt.subplots(figsize=(12,8))\n",
    "    ax.plot(X, Y, label='f(x)', linewidth=3)\n",
    "    ax.set_xlim(-2, 2)\n",
    "    ax.set_ylim(0, 4)\n",
    "    plot_derivative_at(point, ax)\n",
    "    ax.legend()\n",
    "    plt.show()"
   ]
  },
  {
   "cell_type": "code",
   "execution_count": null,
   "id": "7fb9cf2f-9230-4b35-98d2-8283ff3406ee",
   "metadata": {
    "id": "7fb9cf2f-9230-4b35-98d2-8283ff3406ee"
   },
   "outputs": [],
   "source": [
    "# Declare a tensor x with value 2.0\n",
    "x = torch.tensor(2., requires_grad=True, dtype=torch.float32)"
   ]
  },
  {
   "cell_type": "code",
   "execution_count": null,
   "id": "1d406a1c-8b48-4afd-81b6-c8ec58f389c5",
   "metadata": {
    "colab": {
     "base_uri": "https://localhost:8080/"
    },
    "id": "1d406a1c-8b48-4afd-81b6-c8ec58f389c5",
    "outputId": "b6e8a048-b6fb-4a5f-eca0-2d66992f1313"
   },
   "outputs": [],
   "source": [
    "# Define the function we used previously\n",
    "a = x + 2\n",
    "b = a ** 2\n",
    "y = b + 3\n",
    "y"
   ]
  },
  {
   "cell_type": "code",
   "execution_count": null,
   "id": "03cfcf72-db3f-4407-8da8-99724ca49669",
   "metadata": {
    "id": "03cfcf72-db3f-4407-8da8-99724ca49669"
   },
   "outputs": [],
   "source": [
    "# Calculate the gradeients\n",
    "y.backward()"
   ]
  },
  {
   "cell_type": "code",
   "execution_count": null,
   "id": "19f6f1b6-bd74-48f1-9667-0176cc88c2dc",
   "metadata": {
    "colab": {
     "base_uri": "https://localhost:8080/"
    },
    "id": "19f6f1b6-bd74-48f1-9667-0176cc88c2dc",
    "outputId": "37b5b821-1adf-4824-be2a-a95aac406573"
   },
   "outputs": [],
   "source": [
    "# Observe the gradients\n",
    "x.grad"
   ]
  },
  {
   "cell_type": "code",
   "execution_count": null,
   "id": "5d4fa79f-ae01-4dd5-867f-889b47b9a299",
   "metadata": {
    "id": "5d4fa79f-ae01-4dd5-867f-889b47b9a299"
   },
   "outputs": [],
   "source": [
    "# Declare a tensor x with value 2.0\n",
    "x = torch.tensor(2., requires_grad=True)"
   ]
  },
  {
   "cell_type": "code",
   "execution_count": null,
   "id": "e3dbbc20-ebee-43ee-bd41-b547263e9ad5",
   "metadata": {
    "id": "e3dbbc20-ebee-43ee-bd41-b547263e9ad5"
   },
   "outputs": [],
   "source": [
    "# Define the same f we saw in the example\n",
    "def f(x):\n",
    "    return ((x+2)**2) + 3"
   ]
  },
  {
   "cell_type": "code",
   "execution_count": null,
   "id": "ea111ecb-655d-401f-895c-7f996347081d",
   "metadata": {
    "id": "ea111ecb-655d-401f-895c-7f996347081d"
   },
   "outputs": [],
   "source": [
    "# Calculate f(x)\n",
    "y = f(x)"
   ]
  },
  {
   "cell_type": "code",
   "execution_count": null,
   "id": "13de81ed-6193-4edf-99e8-4af7aff9267b",
   "metadata": {
    "colab": {
     "base_uri": "https://localhost:8080/"
    },
    "id": "13de81ed-6193-4edf-99e8-4af7aff9267b",
    "outputId": "7577938b-d80c-4a8d-9d18-8a230fcda74d"
   },
   "outputs": [],
   "source": [
    "# Observe the output\n",
    "y"
   ]
  },
  {
   "cell_type": "code",
   "execution_count": null,
   "id": "febef235-008f-4455-bbce-b9da818fd0db",
   "metadata": {
    "id": "febef235-008f-4455-bbce-b9da818fd0db"
   },
   "outputs": [],
   "source": [
    "# Calculate the gradients\n",
    "y.backward()"
   ]
  },
  {
   "cell_type": "code",
   "execution_count": null,
   "id": "98b668f8-d163-4ba7-814a-a3a9096cce02",
   "metadata": {
    "colab": {
     "base_uri": "https://localhost:8080/"
    },
    "id": "98b668f8-d163-4ba7-814a-a3a9096cce02",
    "outputId": "732c1578-2a7c-4d34-8780-2355bf6e3fa7"
   },
   "outputs": [],
   "source": [
    "# Observe the gradients\n",
    "x.grad"
   ]
  },
  {
   "cell_type": "code",
   "execution_count": null,
   "id": "9AujlZviWp_P",
   "metadata": {
    "id": "9AujlZviWp_P"
   },
   "outputs": [],
   "source": [
    "# Write your own function\n",
    "def g(x):\n",
    "    raise NotImplementedError"
   ]
  },
  {
   "cell_type": "code",
   "execution_count": null,
   "id": "ZdMGKtOLW7tJ",
   "metadata": {
    "id": "ZdMGKtOLW7tJ"
   },
   "outputs": [],
   "source": [
    "# Complete this cell to find the derivative of y with respect to x."
   ]
  },
  {
   "cell_type": "code",
   "execution_count": null,
   "id": "9fcdd825-66d2-4a3e-9a6f-b521a9a48a45",
   "metadata": {
    "colab": {
     "base_uri": "https://localhost:8080/"
    },
    "id": "9fcdd825-66d2-4a3e-9a6f-b521a9a48a45",
    "outputId": "8415b488-f40b-4b63-950a-5df7eae44764"
   },
   "outputs": [],
   "source": [
    "# Define a tensor of numbers\n",
    "x = torch.arange(3, dtype=torch.float32, requires_grad=True)\n",
    "x"
   ]
  },
  {
   "cell_type": "code",
   "execution_count": null,
   "id": "ca384249-60cf-462b-ba06-db9fa0688864",
   "metadata": {
    "id": "ca384249-60cf-462b-ba06-db9fa0688864"
   },
   "outputs": [],
   "source": [
    "# Define a function that returns a single value.\n",
    "# We will want to find the gradient this value with respect to every\n",
    "# value in `x`.\n",
    "def f(x):\n",
    "    a = torch.exp(x)\n",
    "    b = a / 1+torch.exp(x)\n",
    "    return b.mean()"
   ]
  },
  {
   "cell_type": "code",
   "execution_count": null,
   "id": "927b7f23-74d2-43f3-aeed-b1873a2bf38a",
   "metadata": {
    "id": "927b7f23-74d2-43f3-aeed-b1873a2bf38a"
   },
   "outputs": [],
   "source": [
    "# Let's pass x through f to obtain y\n",
    "y = f(x)"
   ]
  },
  {
   "cell_type": "code",
   "execution_count": null,
   "id": "BwMMoAqT0aZm",
   "metadata": {
    "colab": {
     "base_uri": "https://localhost:8080/"
    },
    "id": "BwMMoAqT0aZm",
    "outputId": "71d9e6bd-91cb-4d00-fd35-a96b5db7410f"
   },
   "outputs": [],
   "source": [
    "# Observe y\n",
    "y"
   ]
  },
  {
   "cell_type": "code",
   "execution_count": null,
   "id": "8385d2e1-65e9-4dad-a025-c642e92520f5",
   "metadata": {
    "id": "8385d2e1-65e9-4dad-a025-c642e92520f5"
   },
   "outputs": [],
   "source": [
    "# Calculate the gradients\n",
    "y.backward()"
   ]
  },
  {
   "cell_type": "code",
   "execution_count": null,
   "id": "947b0d94-96d5-47f1-9322-935c3cabf8a9",
   "metadata": {
    "colab": {
     "base_uri": "https://localhost:8080/"
    },
    "id": "947b0d94-96d5-47f1-9322-935c3cabf8a9",
    "outputId": "69dccc2c-1e73-4b99-bca5-98457092193d"
   },
   "outputs": [],
   "source": [
    "# Observe the gradients\n",
    "x.grad"
   ]
  },
  {
   "cell_type": "code",
   "execution_count": null,
   "id": "24454b79-9da2-4736-8c04-90d3fd031c53",
   "metadata": {
    "colab": {
     "base_uri": "https://localhost:8080/",
     "height": 517
    },
    "id": "24454b79-9da2-4736-8c04-90d3fd031c53",
    "outputId": "a95b9467-f102-460d-ae81-5f6f31ed24a6"
   },
   "outputs": [],
   "source": [
    "rng = torch.arange(-5, 5.01, 0.05)\n",
    "fig, ax = plt.subplots(figsize=(14, 8))\n",
    "ax.plot(rng, F.relu(rng), label='ReLU')\n",
    "ax.plot(rng, torch.tanh(rng), label='tanh')\n",
    "ax.plot(rng, torch.sigmoid(rng), label='sigmoid')\n",
    "ax.plot(rng, F.leaky_relu(rng, negative_slope=0.01), ls='--', label='leaky ReLU')\n",
    "ax.plot(rng, F.gelu(rng), ls=':', label='gelu')\n",
    "ax.plot(rng, F.silu(rng), ls='dashdot', label='swish')\n",
    "ax.plot(rng, F.mish(rng), label='mish')\n",
    "ax.set_ylim(-1.1, 2)\n",
    "ax.set_title('Common activation functions')\n",
    "ax.legend()"
   ]
  },
  {
   "cell_type": "code",
   "execution_count": null,
   "id": "d298f64a-5966-403d-92aa-31d16d26b222",
   "metadata": {
    "id": "d298f64a-5966-403d-92aa-31d16d26b222"
   },
   "outputs": [],
   "source": [
    "rng = torch.arange(-1, 1, .2)"
   ]
  },
  {
   "cell_type": "code",
   "execution_count": null,
   "id": "4Eq3-gSwN2Ye",
   "metadata": {
    "colab": {
     "base_uri": "https://localhost:8080/"
    },
    "id": "4Eq3-gSwN2Ye",
    "outputId": "eaa91603-f93e-42f0-8a4b-3c24b133ddc4"
   },
   "outputs": [],
   "source": [
    "rng"
   ]
  },
  {
   "cell_type": "code",
   "execution_count": null,
   "id": "0f950646-7783-44db-ad4c-919d37e915cd",
   "metadata": {
    "colab": {
     "base_uri": "https://localhost:8080/"
    },
    "id": "0f950646-7783-44db-ad4c-919d37e915cd",
    "outputId": "0bf13727-f678-4af5-acbc-11c440e5dee4"
   },
   "outputs": [],
   "source": [
    "rng.max(torch.tensor(0.))"
   ]
  },
  {
   "cell_type": "code",
   "execution_count": null,
   "id": "75c428dd-a299-4583-b81a-9374d46691f0",
   "metadata": {
    "colab": {
     "base_uri": "https://localhost:8080/"
    },
    "id": "75c428dd-a299-4583-b81a-9374d46691f0",
    "outputId": "87bec681-6735-490c-c8bb-7cf0dd183005"
   },
   "outputs": [],
   "source": [
    "F.relu(rng)"
   ]
  },
  {
   "cell_type": "code",
   "execution_count": null,
   "id": "f238a253-dabf-4b1c-abb9-818a4c73c06c",
   "metadata": {
    "colab": {
     "base_uri": "https://localhost:8080/"
    },
    "id": "f238a253-dabf-4b1c-abb9-818a4c73c06c",
    "outputId": "3ed10233-5788-438c-eb1e-32fd816b3641"
   },
   "outputs": [],
   "source": [
    "nn.ReLU()(rng)"
   ]
  },
  {
   "cell_type": "code",
   "execution_count": null,
   "id": "e2202eae-45d1-4474-b264-0292a988700d",
   "metadata": {
    "id": "e2202eae-45d1-4474-b264-0292a988700d"
   },
   "outputs": [],
   "source": [
    "leak = 0.1"
   ]
  },
  {
   "cell_type": "code",
   "execution_count": null,
   "id": "769bb75e-d051-44a9-9d1e-574226c74404",
   "metadata": {
    "colab": {
     "base_uri": "https://localhost:8080/"
    },
    "id": "769bb75e-d051-44a9-9d1e-574226c74404",
    "outputId": "b2bc3357-c25e-4909-90fb-dbe4e843473f"
   },
   "outputs": [],
   "source": [
    "rng.max(rng * leak)"
   ]
  },
  {
   "cell_type": "code",
   "execution_count": null,
   "id": "589a4421-cc6b-4150-b433-3651a749b264",
   "metadata": {
    "colab": {
     "base_uri": "https://localhost:8080/"
    },
    "id": "589a4421-cc6b-4150-b433-3651a749b264",
    "outputId": "e2c17592-3f36-4de3-9c9a-5e090eafa3da"
   },
   "outputs": [],
   "source": [
    "F.leaky_relu(rng, leak)"
   ]
  },
  {
   "cell_type": "code",
   "execution_count": null,
   "id": "40ee97f4-9a57-4acb-b02b-bf0d49234f3a",
   "metadata": {
    "colab": {
     "base_uri": "https://localhost:8080/"
    },
    "id": "40ee97f4-9a57-4acb-b02b-bf0d49234f3a",
    "outputId": "3616d4c4-2781-4ece-df26-655a31d299a7"
   },
   "outputs": [],
   "source": [
    "nn.LeakyReLU(leak)(rng)"
   ]
  },
  {
   "cell_type": "code",
   "execution_count": null,
   "id": "a904f14d-f71f-4361-93b2-cff4e20a3a11",
   "metadata": {
    "colab": {
     "base_uri": "https://localhost:8080/"
    },
    "id": "a904f14d-f71f-4361-93b2-cff4e20a3a11",
    "outputId": "85a42186-3246-44aa-afae-8b1ff04d2993"
   },
   "outputs": [],
   "source": [
    "# Make our fake activations\n",
    "activations = torch.tensor(np.random.normal(loc=1.5, scale=7, size=(10, 5)))\n",
    "activations"
   ]
  },
  {
   "cell_type": "code",
   "execution_count": null,
   "id": "7493970d-3e67-4d83-b720-c300a0906eed",
   "metadata": {
    "colab": {
     "base_uri": "https://localhost:8080/"
    },
    "id": "7493970d-3e67-4d83-b720-c300a0906eed",
    "outputId": "21d72a13-e45f-4aab-cf72-5b185cf9c12c"
   },
   "outputs": [],
   "source": [
    "ub = activations.mean(dim=0)\n",
    "ub"
   ]
  },
  {
   "cell_type": "code",
   "execution_count": null,
   "id": "62ef33d2-47eb-455d-8006-ece3526661f2",
   "metadata": {
    "colab": {
     "base_uri": "https://localhost:8080/"
    },
    "id": "62ef33d2-47eb-455d-8006-ece3526661f2",
    "outputId": "cdd490f0-670b-484c-9e6d-509f52690be0"
   },
   "outputs": [],
   "source": [
    "vb = activations.var(dim=0)\n",
    "vb"
   ]
  },
  {
   "cell_type": "code",
   "execution_count": null,
   "id": "f7f3e9f6-53d5-4be8-8f17-3c022696a5c5",
   "metadata": {
    "colab": {
     "base_uri": "https://localhost:8080/"
    },
    "id": "f7f3e9f6-53d5-4be8-8f17-3c022696a5c5",
    "outputId": "dce065b3-a555-4897-c0f6-d7f5518e177b"
   },
   "outputs": [],
   "source": [
    "xhat = (activations - ub) / torch.sqrt(vb + 1e-5)\n",
    "xhat"
   ]
  },
  {
   "cell_type": "code",
   "execution_count": null,
   "id": "4d3e6632-fecb-47cc-900b-7d94f0ba3ebf",
   "metadata": {
    "colab": {
     "base_uri": "https://localhost:8080/"
    },
    "id": "4d3e6632-fecb-47cc-900b-7d94f0ba3ebf",
    "outputId": "0e1a10c0-01d3-4f17-ee6a-44a239d446cc"
   },
   "outputs": [],
   "source": [
    "# Check that the mean of each \"feature\" is close to zero\n",
    "np.allclose(xhat.mean(dim=0), 0)"
   ]
  },
  {
   "cell_type": "code",
   "execution_count": null,
   "id": "2832cea2-85c4-44c8-b05e-fd5f26923361",
   "metadata": {
    "id": "2832cea2-85c4-44c8-b05e-fd5f26923361"
   },
   "outputs": [],
   "source": [
    "scale = torch.tensor(np.random.normal(loc=0.1, scale=1.2, size=(5)))\n",
    "shift = torch.tensor(np.random.normal(loc=0.1, scale=1.2, size=(5)))"
   ]
  },
  {
   "cell_type": "code",
   "execution_count": null,
   "id": "bb771952-5114-427a-a17b-29a6b91aadc0",
   "metadata": {
    "colab": {
     "base_uri": "https://localhost:8080/"
    },
    "id": "bb771952-5114-427a-a17b-29a6b91aadc0",
    "outputId": "49c1b9c4-ac77-4130-8b88-75e5fe30c0e4"
   },
   "outputs": [],
   "source": [
    "outputs = xhat * scale + shift\n",
    "outputs"
   ]
  },
  {
   "cell_type": "code",
   "execution_count": null,
   "id": "ARgpGE6E_HKD",
   "metadata": {
    "id": "ARgpGE6E_HKD"
   },
   "outputs": [],
   "source": []
  }
 ],
 "metadata": {
  "colab": {
   "include_colab_link": true,
   "name": "07_How_Models_Learn.ipynb",
   "provenance": []
  },
  "kernelspec": {
   "display_name": "cndl",
   "language": "python",
   "name": "cndl"
  },
  "language_info": {
   "codemirror_mode": {
    "name": "ipython",
    "version": 3
   },
   "file_extension": ".py",
   "mimetype": "text/x-python",
   "name": "python",
   "nbconvert_exporter": "python",
   "pygments_lexer": "ipython3",
   "version": "3.9.4"
  },
  "widgets": {
   "application/vnd.jupyter.widget-state+json": {
    "15688f93839645a78dc6ab69ce742a9b": {
     "model_module": "@jupyter-widgets/controls",
     "model_module_version": "1.5.0",
     "model_name": "FloatSliderModel",
     "state": {
      "_dom_classes": [],
      "_model_module": "@jupyter-widgets/controls",
      "_model_module_version": "1.5.0",
      "_model_name": "FloatSliderModel",
      "_view_count": null,
      "_view_module": "@jupyter-widgets/controls",
      "_view_module_version": "1.5.0",
      "_view_name": "FloatSliderView",
      "continuous_update": true,
      "description": "x",
      "description_tooltip": null,
      "disabled": false,
      "layout": "IPY_MODEL_fafb437f3b294eb7a690a15340ec802e",
      "max": 2,
      "min": -2,
      "orientation": "horizontal",
      "readout": true,
      "readout_format": ".2f",
      "step": 0.1,
      "style": "IPY_MODEL_86cfc0d33c344e2d81f8009f32bb01c1",
      "value": 1.4
     }
    },
    "4a9affd6cdf343cfb01a908cc7f0bcd2": {
     "model_module": "@jupyter-widgets/base",
     "model_module_version": "1.2.0",
     "model_name": "LayoutModel",
     "state": {
      "_model_module": "@jupyter-widgets/base",
      "_model_module_version": "1.2.0",
      "_model_name": "LayoutModel",
      "_view_count": null,
      "_view_module": "@jupyter-widgets/base",
      "_view_module_version": "1.2.0",
      "_view_name": "LayoutView",
      "align_content": null,
      "align_items": null,
      "align_self": null,
      "border": null,
      "bottom": null,
      "display": null,
      "flex": null,
      "flex_flow": null,
      "grid_area": null,
      "grid_auto_columns": null,
      "grid_auto_flow": null,
      "grid_auto_rows": null,
      "grid_column": null,
      "grid_gap": null,
      "grid_row": null,
      "grid_template_areas": null,
      "grid_template_columns": null,
      "grid_template_rows": null,
      "height": null,
      "justify_content": null,
      "justify_items": null,
      "left": null,
      "margin": null,
      "max_height": null,
      "max_width": null,
      "min_height": null,
      "min_width": null,
      "object_fit": null,
      "object_position": null,
      "order": null,
      "overflow": null,
      "overflow_x": null,
      "overflow_y": null,
      "padding": null,
      "right": null,
      "top": null,
      "visibility": null,
      "width": null
     }
    },
    "86cfc0d33c344e2d81f8009f32bb01c1": {
     "model_module": "@jupyter-widgets/controls",
     "model_module_version": "1.5.0",
     "model_name": "SliderStyleModel",
     "state": {
      "_model_module": "@jupyter-widgets/controls",
      "_model_module_version": "1.5.0",
      "_model_name": "SliderStyleModel",
      "_view_count": null,
      "_view_module": "@jupyter-widgets/base",
      "_view_module_version": "1.2.0",
      "_view_name": "StyleView",
      "description_width": "",
      "handle_color": null
     }
    },
    "c921801b027a47ba9ba817974139eeed": {
     "model_module": "@jupyter-widgets/base",
     "model_module_version": "1.2.0",
     "model_name": "LayoutModel",
     "state": {
      "_model_module": "@jupyter-widgets/base",
      "_model_module_version": "1.2.0",
      "_model_name": "LayoutModel",
      "_view_count": null,
      "_view_module": "@jupyter-widgets/base",
      "_view_module_version": "1.2.0",
      "_view_name": "LayoutView",
      "align_content": null,
      "align_items": null,
      "align_self": null,
      "border": null,
      "bottom": null,
      "display": null,
      "flex": null,
      "flex_flow": null,
      "grid_area": null,
      "grid_auto_columns": null,
      "grid_auto_flow": null,
      "grid_auto_rows": null,
      "grid_column": null,
      "grid_gap": null,
      "grid_row": null,
      "grid_template_areas": null,
      "grid_template_columns": null,
      "grid_template_rows": null,
      "height": null,
      "justify_content": null,
      "justify_items": null,
      "left": null,
      "margin": null,
      "max_height": null,
      "max_width": null,
      "min_height": null,
      "min_width": null,
      "object_fit": null,
      "object_position": null,
      "order": null,
      "overflow": null,
      "overflow_x": null,
      "overflow_y": null,
      "padding": null,
      "right": null,
      "top": null,
      "visibility": null,
      "width": null
     }
    },
    "d40ea3440fe84df7a2fdc283a3b52f23": {
     "model_module": "@jupyter-widgets/output",
     "model_module_version": "1.0.0",
     "model_name": "OutputModel",
     "state": {
      "_dom_classes": [],
      "_model_module": "@jupyter-widgets/output",
      "_model_module_version": "1.0.0",
      "_model_name": "OutputModel",
      "_view_count": null,
      "_view_module": "@jupyter-widgets/output",
      "_view_module_version": "1.0.0",
      "_view_name": "OutputView",
      "layout": "IPY_MODEL_c921801b027a47ba9ba817974139eeed",
      "msg_id": "",
      "outputs": [
       {
        "data": {
         "image/png": "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\n",
         "text/plain": "<Figure size 864x576 with 1 Axes>"
        },
        "metadata": {
         "needs_background": "light"
        },
        "output_type": "display_data"
       }
      ]
     }
    },
    "fab7a7019dbd420687a5c039cd0b35fb": {
     "model_module": "@jupyter-widgets/controls",
     "model_module_version": "1.5.0",
     "model_name": "VBoxModel",
     "state": {
      "_dom_classes": [
       "widget-interact"
      ],
      "_model_module": "@jupyter-widgets/controls",
      "_model_module_version": "1.5.0",
      "_model_name": "VBoxModel",
      "_view_count": null,
      "_view_module": "@jupyter-widgets/controls",
      "_view_module_version": "1.5.0",
      "_view_name": "VBoxView",
      "box_style": "",
      "children": [
       "IPY_MODEL_15688f93839645a78dc6ab69ce742a9b",
       "IPY_MODEL_d40ea3440fe84df7a2fdc283a3b52f23"
      ],
      "layout": "IPY_MODEL_4a9affd6cdf343cfb01a908cc7f0bcd2"
     }
    },
    "fafb437f3b294eb7a690a15340ec802e": {
     "model_module": "@jupyter-widgets/base",
     "model_module_version": "1.2.0",
     "model_name": "LayoutModel",
     "state": {
      "_model_module": "@jupyter-widgets/base",
      "_model_module_version": "1.2.0",
      "_model_name": "LayoutModel",
      "_view_count": null,
      "_view_module": "@jupyter-widgets/base",
      "_view_module_version": "1.2.0",
      "_view_name": "LayoutView",
      "align_content": null,
      "align_items": null,
      "align_self": null,
      "border": null,
      "bottom": null,
      "display": null,
      "flex": null,
      "flex_flow": null,
      "grid_area": null,
      "grid_auto_columns": null,
      "grid_auto_flow": null,
      "grid_auto_rows": null,
      "grid_column": null,
      "grid_gap": null,
      "grid_row": null,
      "grid_template_areas": null,
      "grid_template_columns": null,
      "grid_template_rows": null,
      "height": null,
      "justify_content": null,
      "justify_items": null,
      "left": null,
      "margin": null,
      "max_height": null,
      "max_width": null,
      "min_height": null,
      "min_width": null,
      "object_fit": null,
      "object_position": null,
      "order": null,
      "overflow": null,
      "overflow_x": null,
      "overflow_y": null,
      "padding": null,
      "right": null,
      "top": null,
      "visibility": null,
      "width": null
     }
    }
   }
  }
 },
 "nbformat": 4,
 "nbformat_minor": 5
}
