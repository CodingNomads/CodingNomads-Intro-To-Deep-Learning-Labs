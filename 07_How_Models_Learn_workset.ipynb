{
 "cells": [
  {
   "cell_type": "code",
   "execution_count": 1,
   "id": "030c1766-f1f2-4af1-85a1-3d788615875f",
   "metadata": {
    "executionInfo": {
     "elapsed": 6719,
     "status": "ok",
     "timestamp": 1641756456484,
     "user": {
      "displayName": "Mike Frantz",
      "photoUrl": "https://lh3.googleusercontent.com/a-/AOh14GiGYCwZXGfGg-CE4_33PQcH9SW8fN6MyRkenN8-IA=s64",
      "userId": "08482506601269125384"
     },
     "user_tz": 480
    },
    "id": "030c1766-f1f2-4af1-85a1-3d788615875f"
   },
   "outputs": [],
   "source": [
    "import torch\n",
    "from torch import nn\n",
    "import torch.nn.functional as F\n",
    "from graphviz import Digraph\n",
    "import matplotlib.pyplot as plt\n",
    "import numpy as np\n",
    "import ipywidgets as widgets\n",
    "\n",
    "%matplotlib inline"
   ]
  },
  {
   "cell_type": "code",
   "execution_count": 34,
   "id": "4bbda347-5187-4548-83db-346dfc917435",
   "metadata": {
    "colab": {
     "base_uri": "https://localhost:8080/",
     "height": 519,
     "referenced_widgets": [
      "67c1d56ee61b4da982f390bfe487e1b5",
      "239236c4118b4c038cc36ee82b44a326",
      "5b4ad9b78a5741d9b9c83284fa60efd6",
      "b018b01896ba4eeb917e80a0404f7025",
      "efeda299c54f4fe592841aa849d2faa9",
      "d4ce2277ffc640e2bf5ebe830b668c83",
      "81228fc06dcd4762a4c20dd309e920f0"
     ]
    },
    "executionInfo": {
     "elapsed": 494,
     "status": "ok",
     "timestamp": 1641756483101,
     "user": {
      "displayName": "Mike Frantz",
      "photoUrl": "https://lh3.googleusercontent.com/a-/AOh14GiGYCwZXGfGg-CE4_33PQcH9SW8fN6MyRkenN8-IA=s64",
      "userId": "08482506601269125384"
     },
     "user_tz": 480
    },
    "id": "4bbda347-5187-4548-83db-346dfc917435",
    "outputId": "f2bf0c9e-567b-49a3-dc63-84e289fbe9c9"
   },
   "outputs": [],
   "source": [
    "# Create x and y values for our function over a range of values\n",
    "X = torch.arange(-2, 2.1, step=.1)\n",
    "\n",
    "def f(x):\n",
    "    return x**2\n",
    "\n",
    "Y = f(X)\n",
    "\n",
    "def plot_derivative_at(point, ax):\n",
    "    _x, _y = point\n",
    "    slope = 2*_x # What's the derivative of y with respect to x?\n",
    "    intercept = slope * _x  - _y # Figure out the intercept\n",
    "    x = torch.arange(-2, 2.1, .1) # xs to plot\n",
    "    y = slope * X - _y # ys to plot\n",
    "    ax.scatter(_x, _y, c='r', label=f'({float(_x):.02f}, {float(_y):.02f})', linewidth=8)\n",
    "    ax.plot(x, y, label=f'dy/dx = {float(slope):.02f}', linewidth=3, ls='--')\n",
    "\n",
    "@widgets.interact(\n",
    "    x = widgets.FloatSlider(value=1.4, min=-2, max=2)\n",
    ")\n",
    "def show_derivative_at(x):\n",
    "    x = torch.tensor(x).float()\n",
    "    point = (x, f(x))\n",
    "    fig, ax = plt.subplots(figsize=(12,8))\n",
    "    ax.plot(X, Y, label='f(x)', linewidth=3)\n",
    "    ax.set_xlim(-2, 2)\n",
    "    ax.set_ylim(0, 4)\n",
    "    plot_derivative_at(point, ax)\n",
    "    ax.legend()\n",
    "    plt.show()"
   ]
  },
  {
   "cell_type": "code",
   "execution_count": 3,
   "id": "7fb9cf2f-9230-4b35-98d2-8283ff3406ee",
   "metadata": {
    "executionInfo": {
     "elapsed": 18,
     "status": "ok",
     "timestamp": 1641756457079,
     "user": {
      "displayName": "Mike Frantz",
      "photoUrl": "https://lh3.googleusercontent.com/a-/AOh14GiGYCwZXGfGg-CE4_33PQcH9SW8fN6MyRkenN8-IA=s64",
      "userId": "08482506601269125384"
     },
     "user_tz": 480
    },
    "id": "7fb9cf2f-9230-4b35-98d2-8283ff3406ee"
   },
   "outputs": [],
   "source": [
    "x = torch.tensor(2., requires_grad=True, dtype=torch.float32)"
   ]
  },
  {
   "cell_type": "code",
   "execution_count": 4,
   "id": "1d406a1c-8b48-4afd-81b6-c8ec58f389c5",
   "metadata": {
    "colab": {
     "base_uri": "https://localhost:8080/"
    },
    "executionInfo": {
     "elapsed": 18,
     "status": "ok",
     "timestamp": 1641756457080,
     "user": {
      "displayName": "Mike Frantz",
      "photoUrl": "https://lh3.googleusercontent.com/a-/AOh14GiGYCwZXGfGg-CE4_33PQcH9SW8fN6MyRkenN8-IA=s64",
      "userId": "08482506601269125384"
     },
     "user_tz": 480
    },
    "id": "1d406a1c-8b48-4afd-81b6-c8ec58f389c5",
    "outputId": "49205d02-bb4b-40af-9d22-45dcebab59d6"
   },
   "outputs": [],
   "source": [
    "a = x + 2\n",
    "b = a ** 2\n",
    "y = b + 3\n",
    "y"
   ]
  },
  {
   "cell_type": "code",
   "execution_count": 5,
   "id": "03cfcf72-db3f-4407-8da8-99724ca49669",
   "metadata": {
    "executionInfo": {
     "elapsed": 16,
     "status": "ok",
     "timestamp": 1641756457080,
     "user": {
      "displayName": "Mike Frantz",
      "photoUrl": "https://lh3.googleusercontent.com/a-/AOh14GiGYCwZXGfGg-CE4_33PQcH9SW8fN6MyRkenN8-IA=s64",
      "userId": "08482506601269125384"
     },
     "user_tz": 480
    },
    "id": "03cfcf72-db3f-4407-8da8-99724ca49669"
   },
   "outputs": [],
   "source": [
    "y.backward()"
   ]
  },
  {
   "cell_type": "code",
   "execution_count": 6,
   "id": "19f6f1b6-bd74-48f1-9667-0176cc88c2dc",
   "metadata": {
    "colab": {
     "base_uri": "https://localhost:8080/"
    },
    "executionInfo": {
     "elapsed": 16,
     "status": "ok",
     "timestamp": 1641756457081,
     "user": {
      "displayName": "Mike Frantz",
      "photoUrl": "https://lh3.googleusercontent.com/a-/AOh14GiGYCwZXGfGg-CE4_33PQcH9SW8fN6MyRkenN8-IA=s64",
      "userId": "08482506601269125384"
     },
     "user_tz": 480
    },
    "id": "19f6f1b6-bd74-48f1-9667-0176cc88c2dc",
    "outputId": "822238d9-0be1-42e2-9490-76f930bf02b2"
   },
   "outputs": [],
   "source": [
    "x.grad"
   ]
  },
  {
   "cell_type": "code",
   "execution_count": 7,
   "id": "5d4fa79f-ae01-4dd5-867f-889b47b9a299",
   "metadata": {
    "executionInfo": {
     "elapsed": 13,
     "status": "ok",
     "timestamp": 1641756457081,
     "user": {
      "displayName": "Mike Frantz",
      "photoUrl": "https://lh3.googleusercontent.com/a-/AOh14GiGYCwZXGfGg-CE4_33PQcH9SW8fN6MyRkenN8-IA=s64",
      "userId": "08482506601269125384"
     },
     "user_tz": 480
    },
    "id": "5d4fa79f-ae01-4dd5-867f-889b47b9a299"
   },
   "outputs": [],
   "source": [
    "x = torch.tensor(2., requires_grad=True)"
   ]
  },
  {
   "cell_type": "code",
   "execution_count": 8,
   "id": "e3dbbc20-ebee-43ee-bd41-b547263e9ad5",
   "metadata": {
    "executionInfo": {
     "elapsed": 13,
     "status": "ok",
     "timestamp": 1641756457082,
     "user": {
      "displayName": "Mike Frantz",
      "photoUrl": "https://lh3.googleusercontent.com/a-/AOh14GiGYCwZXGfGg-CE4_33PQcH9SW8fN6MyRkenN8-IA=s64",
      "userId": "08482506601269125384"
     },
     "user_tz": 480
    },
    "id": "e3dbbc20-ebee-43ee-bd41-b547263e9ad5"
   },
   "outputs": [],
   "source": [
    "def f(x):\n",
    "    return ((x+2)**2) + 3"
   ]
  },
  {
   "cell_type": "code",
   "execution_count": 9,
   "id": "ea111ecb-655d-401f-895c-7f996347081d",
   "metadata": {
    "executionInfo": {
     "elapsed": 12,
     "status": "ok",
     "timestamp": 1641756457082,
     "user": {
      "displayName": "Mike Frantz",
      "photoUrl": "https://lh3.googleusercontent.com/a-/AOh14GiGYCwZXGfGg-CE4_33PQcH9SW8fN6MyRkenN8-IA=s64",
      "userId": "08482506601269125384"
     },
     "user_tz": 480
    },
    "id": "ea111ecb-655d-401f-895c-7f996347081d"
   },
   "outputs": [],
   "source": [
    "y = f(x)"
   ]
  },
  {
   "cell_type": "code",
   "execution_count": 10,
   "id": "13de81ed-6193-4edf-99e8-4af7aff9267b",
   "metadata": {
    "colab": {
     "base_uri": "https://localhost:8080/"
    },
    "executionInfo": {
     "elapsed": 13,
     "status": "ok",
     "timestamp": 1641756457083,
     "user": {
      "displayName": "Mike Frantz",
      "photoUrl": "https://lh3.googleusercontent.com/a-/AOh14GiGYCwZXGfGg-CE4_33PQcH9SW8fN6MyRkenN8-IA=s64",
      "userId": "08482506601269125384"
     },
     "user_tz": 480
    },
    "id": "13de81ed-6193-4edf-99e8-4af7aff9267b",
    "outputId": "193a9bf1-9703-4c9b-8956-b48f4a9d9ded"
   },
   "outputs": [],
   "source": [
    "y"
   ]
  },
  {
   "cell_type": "code",
   "execution_count": 11,
   "id": "febef235-008f-4455-bbce-b9da818fd0db",
   "metadata": {
    "executionInfo": {
     "elapsed": 20,
     "status": "ok",
     "timestamp": 1641756457333,
     "user": {
      "displayName": "Mike Frantz",
      "photoUrl": "https://lh3.googleusercontent.com/a-/AOh14GiGYCwZXGfGg-CE4_33PQcH9SW8fN6MyRkenN8-IA=s64",
      "userId": "08482506601269125384"
     },
     "user_tz": 480
    },
    "id": "febef235-008f-4455-bbce-b9da818fd0db"
   },
   "outputs": [],
   "source": [
    "y.backward()"
   ]
  },
  {
   "cell_type": "code",
   "execution_count": 12,
   "id": "98b668f8-d163-4ba7-814a-a3a9096cce02",
   "metadata": {
    "colab": {
     "base_uri": "https://localhost:8080/"
    },
    "executionInfo": {
     "elapsed": 35,
     "status": "ok",
     "timestamp": 1641756457349,
     "user": {
      "displayName": "Mike Frantz",
      "photoUrl": "https://lh3.googleusercontent.com/a-/AOh14GiGYCwZXGfGg-CE4_33PQcH9SW8fN6MyRkenN8-IA=s64",
      "userId": "08482506601269125384"
     },
     "user_tz": 480
    },
    "id": "98b668f8-d163-4ba7-814a-a3a9096cce02",
    "outputId": "4b31644a-12f1-41d4-d265-bf0521a4cc6e"
   },
   "outputs": [],
   "source": [
    "x.grad"
   ]
  },
  {
   "cell_type": "markdown",
   "id": "wmFIYwvIWkjG",
   "metadata": {
    "id": "wmFIYwvIWkjG"
   },
   "source": [
    "# Exercise 7.1\n",
    "\n",
    "Complete the function `g` below with your own mathematical operation.\n",
    "What is $\\frac{dg}{dx}$ at `x=10`? `x=42` `x=3.14`?\n",
    "\n",
    "<!-- startquestion -->"
   ]
  },
  {
   "cell_type": "code",
   "execution_count": null,
   "id": "9AujlZviWp_P",
   "metadata": {
    "id": "9AujlZviWp_P"
   },
   "outputs": [],
   "source": [
    "# Write your own function\n",
    "def g(x):\n",
    "    raise NotImplementedError()"
   ]
  },
  {
   "cell_type": "code",
   "execution_count": null,
   "id": "ZdMGKtOLW7tJ",
   "metadata": {
    "id": "ZdMGKtOLW7tJ"
   },
   "outputs": [],
   "source": [
    "x = ...\n",
    "y = ...\n",
    "# Complete this cell to find the derivative of y with respect to x."
   ]
  },
  {
   "cell_type": "code",
   "execution_count": 13,
   "id": "9fcdd825-66d2-4a3e-9a6f-b521a9a48a45",
   "metadata": {
    "executionInfo": {
     "elapsed": 35,
     "status": "ok",
     "timestamp": 1641756457351,
     "user": {
      "displayName": "Mike Frantz",
      "photoUrl": "https://lh3.googleusercontent.com/a-/AOh14GiGYCwZXGfGg-CE4_33PQcH9SW8fN6MyRkenN8-IA=s64",
      "userId": "08482506601269125384"
     },
     "user_tz": 480
    },
    "id": "9fcdd825-66d2-4a3e-9a6f-b521a9a48a45"
   },
   "outputs": [],
   "source": [
    "x = torch.arange(3, dtype=torch.float32, requires_grad=True)"
   ]
  },
  {
   "cell_type": "code",
   "execution_count": 14,
   "id": "ca384249-60cf-462b-ba06-db9fa0688864",
   "metadata": {
    "executionInfo": {
     "elapsed": 35,
     "status": "ok",
     "timestamp": 1641756457352,
     "user": {
      "displayName": "Mike Frantz",
      "photoUrl": "https://lh3.googleusercontent.com/a-/AOh14GiGYCwZXGfGg-CE4_33PQcH9SW8fN6MyRkenN8-IA=s64",
      "userId": "08482506601269125384"
     },
     "user_tz": 480
    },
    "id": "ca384249-60cf-462b-ba06-db9fa0688864"
   },
   "outputs": [],
   "source": [
    "def f(x):\n",
    "    a = torch.exp(x)\n",
    "    b = a / 1+torch.exp(x)\n",
    "    return b.mean()"
   ]
  },
  {
   "cell_type": "code",
   "execution_count": 15,
   "id": "927b7f23-74d2-43f3-aeed-b1873a2bf38a",
   "metadata": {
    "executionInfo": {
     "elapsed": 36,
     "status": "ok",
     "timestamp": 1641756457354,
     "user": {
      "displayName": "Mike Frantz",
      "photoUrl": "https://lh3.googleusercontent.com/a-/AOh14GiGYCwZXGfGg-CE4_33PQcH9SW8fN6MyRkenN8-IA=s64",
      "userId": "08482506601269125384"
     },
     "user_tz": 480
    },
    "id": "927b7f23-74d2-43f3-aeed-b1873a2bf38a"
   },
   "outputs": [],
   "source": [
    "y = f(x)"
   ]
  },
  {
   "cell_type": "code",
   "execution_count": 16,
   "id": "8385d2e1-65e9-4dad-a025-c642e92520f5",
   "metadata": {
    "executionInfo": {
     "elapsed": 37,
     "status": "ok",
     "timestamp": 1641756457355,
     "user": {
      "displayName": "Mike Frantz",
      "photoUrl": "https://lh3.googleusercontent.com/a-/AOh14GiGYCwZXGfGg-CE4_33PQcH9SW8fN6MyRkenN8-IA=s64",
      "userId": "08482506601269125384"
     },
     "user_tz": 480
    },
    "id": "8385d2e1-65e9-4dad-a025-c642e92520f5"
   },
   "outputs": [],
   "source": [
    "y.backward()"
   ]
  },
  {
   "cell_type": "code",
   "execution_count": 17,
   "id": "947b0d94-96d5-47f1-9322-935c3cabf8a9",
   "metadata": {
    "colab": {
     "base_uri": "https://localhost:8080/"
    },
    "executionInfo": {
     "elapsed": 38,
     "status": "ok",
     "timestamp": 1641756457356,
     "user": {
      "displayName": "Mike Frantz",
      "photoUrl": "https://lh3.googleusercontent.com/a-/AOh14GiGYCwZXGfGg-CE4_33PQcH9SW8fN6MyRkenN8-IA=s64",
      "userId": "08482506601269125384"
     },
     "user_tz": 480
    },
    "id": "947b0d94-96d5-47f1-9322-935c3cabf8a9",
    "outputId": "55eb379a-989b-420e-d103-3cf0314d97fc"
   },
   "outputs": [],
   "source": [
    "x.grad"
   ]
  },
  {
   "cell_type": "code",
   "execution_count": 39,
   "id": "24454b79-9da2-4736-8c04-90d3fd031c53",
   "metadata": {
    "colab": {
     "base_uri": "https://localhost:8080/",
     "height": 516
    },
    "executionInfo": {
     "elapsed": 605,
     "status": "ok",
     "timestamp": 1641757864116,
     "user": {
      "displayName": "Mike Frantz",
      "photoUrl": "https://lh3.googleusercontent.com/a-/AOh14GiGYCwZXGfGg-CE4_33PQcH9SW8fN6MyRkenN8-IA=s64",
      "userId": "08482506601269125384"
     },
     "user_tz": 480
    },
    "id": "24454b79-9da2-4736-8c04-90d3fd031c53",
    "outputId": "2c765ee9-6700-419b-b6a5-59e892f684d0"
   },
   "outputs": [],
   "source": [
    "rng = torch.arange(-5, 5.01, 0.05)\n",
    "fig, ax = plt.subplots(figsize=(14, 8))\n",
    "ax.plot(rng, F.relu(rng), label='ReLU')\n",
    "ax.plot(rng, torch.tanh(rng), label='tanh')\n",
    "ax.plot(rng, torch.sigmoid(rng), label='sigmoid')\n",
    "ax.plot(rng, F.leaky_relu(rng, negative_slope=0.01), ls='--', label='leaky ReLU')\n",
    "ax.plot(rng, F.gelu(rng), ls=':', label='gelu')\n",
    "ax.plot(rng, F.silu(rng), ls='dashdot', label='swish')\n",
    "ax.plot(rng, F.mish(rng), label='mish')\n",
    "ax.set_ylim(-1.1, 2)\n",
    "ax.set_title('Common activation functions')\n",
    "ax.legend()"
   ]
  },
  {
   "cell_type": "code",
   "execution_count": 19,
   "id": "d298f64a-5966-403d-92aa-31d16d26b222",
   "metadata": {
    "executionInfo": {
     "elapsed": 20,
     "status": "ok",
     "timestamp": 1641756457651,
     "user": {
      "displayName": "Mike Frantz",
      "photoUrl": "https://lh3.googleusercontent.com/a-/AOh14GiGYCwZXGfGg-CE4_33PQcH9SW8fN6MyRkenN8-IA=s64",
      "userId": "08482506601269125384"
     },
     "user_tz": 480
    },
    "id": "d298f64a-5966-403d-92aa-31d16d26b222"
   },
   "outputs": [],
   "source": [
    "rng = torch.arange(-1, 1, .2)"
   ]
  },
  {
   "cell_type": "code",
   "execution_count": 20,
   "id": "0f950646-7783-44db-ad4c-919d37e915cd",
   "metadata": {
    "colab": {
     "base_uri": "https://localhost:8080/"
    },
    "executionInfo": {
     "elapsed": 20,
     "status": "ok",
     "timestamp": 1641756457652,
     "user": {
      "displayName": "Mike Frantz",
      "photoUrl": "https://lh3.googleusercontent.com/a-/AOh14GiGYCwZXGfGg-CE4_33PQcH9SW8fN6MyRkenN8-IA=s64",
      "userId": "08482506601269125384"
     },
     "user_tz": 480
    },
    "id": "0f950646-7783-44db-ad4c-919d37e915cd",
    "outputId": "b0d704e6-0846-403b-9d71-17ba91b3fb62"
   },
   "outputs": [],
   "source": [
    "rng.max(torch.tensor(0.))"
   ]
  },
  {
   "cell_type": "code",
   "execution_count": 21,
   "id": "75c428dd-a299-4583-b81a-9374d46691f0",
   "metadata": {
    "colab": {
     "base_uri": "https://localhost:8080/"
    },
    "executionInfo": {
     "elapsed": 18,
     "status": "ok",
     "timestamp": 1641756457652,
     "user": {
      "displayName": "Mike Frantz",
      "photoUrl": "https://lh3.googleusercontent.com/a-/AOh14GiGYCwZXGfGg-CE4_33PQcH9SW8fN6MyRkenN8-IA=s64",
      "userId": "08482506601269125384"
     },
     "user_tz": 480
    },
    "id": "75c428dd-a299-4583-b81a-9374d46691f0",
    "outputId": "f283bf13-4ea0-444a-c87e-20d146785316"
   },
   "outputs": [],
   "source": [
    "F.relu(rng)"
   ]
  },
  {
   "cell_type": "code",
   "execution_count": 22,
   "id": "f238a253-dabf-4b1c-abb9-818a4c73c06c",
   "metadata": {
    "colab": {
     "base_uri": "https://localhost:8080/"
    },
    "executionInfo": {
     "elapsed": 18,
     "status": "ok",
     "timestamp": 1641756457653,
     "user": {
      "displayName": "Mike Frantz",
      "photoUrl": "https://lh3.googleusercontent.com/a-/AOh14GiGYCwZXGfGg-CE4_33PQcH9SW8fN6MyRkenN8-IA=s64",
      "userId": "08482506601269125384"
     },
     "user_tz": 480
    },
    "id": "f238a253-dabf-4b1c-abb9-818a4c73c06c",
    "outputId": "95b7871c-bcb9-4a2f-9041-d1234b5820ef"
   },
   "outputs": [],
   "source": [
    "nn.ReLU()(rng)"
   ]
  },
  {
   "cell_type": "code",
   "execution_count": 23,
   "id": "e2202eae-45d1-4474-b264-0292a988700d",
   "metadata": {
    "executionInfo": {
     "elapsed": 17,
     "status": "ok",
     "timestamp": 1641756457653,
     "user": {
      "displayName": "Mike Frantz",
      "photoUrl": "https://lh3.googleusercontent.com/a-/AOh14GiGYCwZXGfGg-CE4_33PQcH9SW8fN6MyRkenN8-IA=s64",
      "userId": "08482506601269125384"
     },
     "user_tz": 480
    },
    "id": "e2202eae-45d1-4474-b264-0292a988700d"
   },
   "outputs": [],
   "source": [
    "leak = 0.1"
   ]
  },
  {
   "cell_type": "code",
   "execution_count": 24,
   "id": "769bb75e-d051-44a9-9d1e-574226c74404",
   "metadata": {
    "colab": {
     "base_uri": "https://localhost:8080/"
    },
    "executionInfo": {
     "elapsed": 17,
     "status": "ok",
     "timestamp": 1641756457654,
     "user": {
      "displayName": "Mike Frantz",
      "photoUrl": "https://lh3.googleusercontent.com/a-/AOh14GiGYCwZXGfGg-CE4_33PQcH9SW8fN6MyRkenN8-IA=s64",
      "userId": "08482506601269125384"
     },
     "user_tz": 480
    },
    "id": "769bb75e-d051-44a9-9d1e-574226c74404",
    "outputId": "44273d23-a633-4e90-d226-13e95f7099ce"
   },
   "outputs": [],
   "source": [
    "rng.max(rng * leak)"
   ]
  },
  {
   "cell_type": "code",
   "execution_count": 25,
   "id": "589a4421-cc6b-4150-b433-3651a749b264",
   "metadata": {
    "colab": {
     "base_uri": "https://localhost:8080/"
    },
    "executionInfo": {
     "elapsed": 17,
     "status": "ok",
     "timestamp": 1641756457654,
     "user": {
      "displayName": "Mike Frantz",
      "photoUrl": "https://lh3.googleusercontent.com/a-/AOh14GiGYCwZXGfGg-CE4_33PQcH9SW8fN6MyRkenN8-IA=s64",
      "userId": "08482506601269125384"
     },
     "user_tz": 480
    },
    "id": "589a4421-cc6b-4150-b433-3651a749b264",
    "outputId": "ab73049f-ae9e-4a38-d633-3bcf78acf485"
   },
   "outputs": [],
   "source": [
    "F.leaky_relu(rng, leak)"
   ]
  },
  {
   "cell_type": "code",
   "execution_count": 26,
   "id": "40ee97f4-9a57-4acb-b02b-bf0d49234f3a",
   "metadata": {
    "colab": {
     "base_uri": "https://localhost:8080/"
    },
    "executionInfo": {
     "elapsed": 19,
     "status": "ok",
     "timestamp": 1641756457657,
     "user": {
      "displayName": "Mike Frantz",
      "photoUrl": "https://lh3.googleusercontent.com/a-/AOh14GiGYCwZXGfGg-CE4_33PQcH9SW8fN6MyRkenN8-IA=s64",
      "userId": "08482506601269125384"
     },
     "user_tz": 480
    },
    "id": "40ee97f4-9a57-4acb-b02b-bf0d49234f3a",
    "outputId": "5f6bfe49-841d-47bc-8f8d-10000b8bb732"
   },
   "outputs": [],
   "source": [
    "nn.LeakyReLU(leak)(rng)"
   ]
  },
  {
   "cell_type": "code",
   "execution_count": 27,
   "id": "a904f14d-f71f-4361-93b2-cff4e20a3a11",
   "metadata": {
    "colab": {
     "base_uri": "https://localhost:8080/"
    },
    "executionInfo": {
     "elapsed": 19,
     "status": "ok",
     "timestamp": 1641756457658,
     "user": {
      "displayName": "Mike Frantz",
      "photoUrl": "https://lh3.googleusercontent.com/a-/AOh14GiGYCwZXGfGg-CE4_33PQcH9SW8fN6MyRkenN8-IA=s64",
      "userId": "08482506601269125384"
     },
     "user_tz": 480
    },
    "id": "a904f14d-f71f-4361-93b2-cff4e20a3a11",
    "outputId": "9018da6b-a3c3-46b2-c8b2-579672dbca61"
   },
   "outputs": [],
   "source": [
    "activations = torch.tensor(np.random.normal(loc=1.5, scale=7, size=(10, 5)))\n",
    "activations"
   ]
  },
  {
   "cell_type": "code",
   "execution_count": 28,
   "id": "7493970d-3e67-4d83-b720-c300a0906eed",
   "metadata": {
    "colab": {
     "base_uri": "https://localhost:8080/"
    },
    "executionInfo": {
     "elapsed": 18,
     "status": "ok",
     "timestamp": 1641756457658,
     "user": {
      "displayName": "Mike Frantz",
      "photoUrl": "https://lh3.googleusercontent.com/a-/AOh14GiGYCwZXGfGg-CE4_33PQcH9SW8fN6MyRkenN8-IA=s64",
      "userId": "08482506601269125384"
     },
     "user_tz": 480
    },
    "id": "7493970d-3e67-4d83-b720-c300a0906eed",
    "outputId": "83bd978b-9589-44cb-c469-2bc8332847ea"
   },
   "outputs": [],
   "source": [
    "ub = activations.mean(dim=0)\n",
    "ub"
   ]
  },
  {
   "cell_type": "code",
   "execution_count": 29,
   "id": "62ef33d2-47eb-455d-8006-ece3526661f2",
   "metadata": {
    "colab": {
     "base_uri": "https://localhost:8080/"
    },
    "executionInfo": {
     "elapsed": 17,
     "status": "ok",
     "timestamp": 1641756457659,
     "user": {
      "displayName": "Mike Frantz",
      "photoUrl": "https://lh3.googleusercontent.com/a-/AOh14GiGYCwZXGfGg-CE4_33PQcH9SW8fN6MyRkenN8-IA=s64",
      "userId": "08482506601269125384"
     },
     "user_tz": 480
    },
    "id": "62ef33d2-47eb-455d-8006-ece3526661f2",
    "outputId": "69bc7788-f3c0-475b-b4bc-88452252969d"
   },
   "outputs": [],
   "source": [
    "vb = activations.var(dim=0)\n",
    "vb"
   ]
  },
  {
   "cell_type": "code",
   "execution_count": 30,
   "id": "f7f3e9f6-53d5-4be8-8f17-3c022696a5c5",
   "metadata": {
    "colab": {
     "base_uri": "https://localhost:8080/"
    },
    "executionInfo": {
     "elapsed": 242,
     "status": "ok",
     "timestamp": 1641756457886,
     "user": {
      "displayName": "Mike Frantz",
      "photoUrl": "https://lh3.googleusercontent.com/a-/AOh14GiGYCwZXGfGg-CE4_33PQcH9SW8fN6MyRkenN8-IA=s64",
      "userId": "08482506601269125384"
     },
     "user_tz": 480
    },
    "id": "f7f3e9f6-53d5-4be8-8f17-3c022696a5c5",
    "outputId": "305f25bf-f492-4b5c-e640-8404b6a011b4"
   },
   "outputs": [],
   "source": [
    "xhat = (activations - ub) / torch.sqrt(vb + 1e-5)\n",
    "xhat"
   ]
  },
  {
   "cell_type": "code",
   "execution_count": 31,
   "id": "4d3e6632-fecb-47cc-900b-7d94f0ba3ebf",
   "metadata": {
    "colab": {
     "base_uri": "https://localhost:8080/"
    },
    "executionInfo": {
     "elapsed": 14,
     "status": "ok",
     "timestamp": 1641756457887,
     "user": {
      "displayName": "Mike Frantz",
      "photoUrl": "https://lh3.googleusercontent.com/a-/AOh14GiGYCwZXGfGg-CE4_33PQcH9SW8fN6MyRkenN8-IA=s64",
      "userId": "08482506601269125384"
     },
     "user_tz": 480
    },
    "id": "4d3e6632-fecb-47cc-900b-7d94f0ba3ebf",
    "outputId": "2c3d9784-a542-4049-ef4a-4e1a617c18be"
   },
   "outputs": [],
   "source": [
    "# Check that the mean of each \"feature\" is close to zero\n",
    "np.allclose(xhat.mean(dim=0), 0)"
   ]
  },
  {
   "cell_type": "code",
   "execution_count": 32,
   "id": "2832cea2-85c4-44c8-b05e-fd5f26923361",
   "metadata": {
    "executionInfo": {
     "elapsed": 10,
     "status": "ok",
     "timestamp": 1641756457887,
     "user": {
      "displayName": "Mike Frantz",
      "photoUrl": "https://lh3.googleusercontent.com/a-/AOh14GiGYCwZXGfGg-CE4_33PQcH9SW8fN6MyRkenN8-IA=s64",
      "userId": "08482506601269125384"
     },
     "user_tz": 480
    },
    "id": "2832cea2-85c4-44c8-b05e-fd5f26923361"
   },
   "outputs": [],
   "source": [
    "scale = torch.tensor(np.random.normal(loc=0.1, scale=1.2, size=(5)))\n",
    "shift = torch.tensor(np.random.normal(loc=0.1, scale=1.2, size=(5)))"
   ]
  },
  {
   "cell_type": "code",
   "execution_count": 33,
   "id": "bb771952-5114-427a-a17b-29a6b91aadc0",
   "metadata": {
    "colab": {
     "base_uri": "https://localhost:8080/"
    },
    "executionInfo": {
     "elapsed": 9,
     "status": "ok",
     "timestamp": 1641756457887,
     "user": {
      "displayName": "Mike Frantz",
      "photoUrl": "https://lh3.googleusercontent.com/a-/AOh14GiGYCwZXGfGg-CE4_33PQcH9SW8fN6MyRkenN8-IA=s64",
      "userId": "08482506601269125384"
     },
     "user_tz": 480
    },
    "id": "bb771952-5114-427a-a17b-29a6b91aadc0",
    "outputId": "bbaf9773-0ccd-45da-ff9f-68a49709a04e"
   },
   "outputs": [],
   "source": [
    "outputs = xhat * scale + shift\n",
    "outputs"
   ]
  },
  {
   "cell_type": "code",
   "execution_count": 33,
   "id": "ARgpGE6E_HKD",
   "metadata": {
    "executionInfo": {
     "elapsed": 8,
     "status": "ok",
     "timestamp": 1641756457888,
     "user": {
      "displayName": "Mike Frantz",
      "photoUrl": "https://lh3.googleusercontent.com/a-/AOh14GiGYCwZXGfGg-CE4_33PQcH9SW8fN6MyRkenN8-IA=s64",
      "userId": "08482506601269125384"
     },
     "user_tz": 480
    },
    "id": "ARgpGE6E_HKD"
   },
   "outputs": [],
   "source": []
  }
 ],
 "metadata": {
  "colab": {
   "collapsed_sections": [],
   "name": "07_How_Models_Learn.ipynb",
   "provenance": []
  },
  "kernelspec": {
   "display_name": "cndl",
   "language": "python",
   "name": "cndl"
  },
  "language_info": {
   "codemirror_mode": {
    "name": "ipython",
    "version": 3
   },
   "file_extension": ".py",
   "mimetype": "text/x-python",
   "name": "python",
   "nbconvert_exporter": "python",
   "pygments_lexer": "ipython3",
   "version": "3.9.4"
  },
  "widgets": {
   "application/vnd.jupyter.widget-state+json": {
    "239236c4118b4c038cc36ee82b44a326": {
     "model_module": "@jupyter-widgets/base",
     "model_module_version": "1.2.0",
     "model_name": "LayoutModel",
     "state": {
      "_model_module": "@jupyter-widgets/base",
      "_model_module_version": "1.2.0",
      "_model_name": "LayoutModel",
      "_view_count": null,
      "_view_module": "@jupyter-widgets/base",
      "_view_module_version": "1.2.0",
      "_view_name": "LayoutView",
      "align_content": null,
      "align_items": null,
      "align_self": null,
      "border": null,
      "bottom": null,
      "display": null,
      "flex": null,
      "flex_flow": null,
      "grid_area": null,
      "grid_auto_columns": null,
      "grid_auto_flow": null,
      "grid_auto_rows": null,
      "grid_column": null,
      "grid_gap": null,
      "grid_row": null,
      "grid_template_areas": null,
      "grid_template_columns": null,
      "grid_template_rows": null,
      "height": null,
      "justify_content": null,
      "justify_items": null,
      "left": null,
      "margin": null,
      "max_height": null,
      "max_width": null,
      "min_height": null,
      "min_width": null,
      "object_fit": null,
      "object_position": null,
      "order": null,
      "overflow": null,
      "overflow_x": null,
      "overflow_y": null,
      "padding": null,
      "right": null,
      "top": null,
      "visibility": null,
      "width": null
     }
    },
    "5b4ad9b78a5741d9b9c83284fa60efd6": {
     "model_module": "@jupyter-widgets/controls",
     "model_module_version": "1.5.0",
     "model_name": "FloatSliderModel",
     "state": {
      "_dom_classes": [],
      "_model_module": "@jupyter-widgets/controls",
      "_model_module_version": "1.5.0",
      "_model_name": "FloatSliderModel",
      "_view_count": null,
      "_view_module": "@jupyter-widgets/controls",
      "_view_module_version": "1.5.0",
      "_view_name": "FloatSliderView",
      "continuous_update": true,
      "description": "x",
      "description_tooltip": null,
      "disabled": false,
      "layout": "IPY_MODEL_d4ce2277ffc640e2bf5ebe830b668c83",
      "max": 2,
      "min": -2,
      "orientation": "horizontal",
      "readout": true,
      "readout_format": ".2f",
      "step": 0.1,
      "style": "IPY_MODEL_efeda299c54f4fe592841aa849d2faa9",
      "value": -1.9
     }
    },
    "67c1d56ee61b4da982f390bfe487e1b5": {
     "model_module": "@jupyter-widgets/controls",
     "model_module_version": "1.5.0",
     "model_name": "VBoxModel",
     "state": {
      "_dom_classes": [
       "widget-interact"
      ],
      "_model_module": "@jupyter-widgets/controls",
      "_model_module_version": "1.5.0",
      "_model_name": "VBoxModel",
      "_view_count": null,
      "_view_module": "@jupyter-widgets/controls",
      "_view_module_version": "1.5.0",
      "_view_name": "VBoxView",
      "box_style": "",
      "children": [
       "IPY_MODEL_5b4ad9b78a5741d9b9c83284fa60efd6",
       "IPY_MODEL_b018b01896ba4eeb917e80a0404f7025"
      ],
      "layout": "IPY_MODEL_239236c4118b4c038cc36ee82b44a326"
     }
    },
    "81228fc06dcd4762a4c20dd309e920f0": {
     "model_module": "@jupyter-widgets/base",
     "model_module_version": "1.2.0",
     "model_name": "LayoutModel",
     "state": {
      "_model_module": "@jupyter-widgets/base",
      "_model_module_version": "1.2.0",
      "_model_name": "LayoutModel",
      "_view_count": null,
      "_view_module": "@jupyter-widgets/base",
      "_view_module_version": "1.2.0",
      "_view_name": "LayoutView",
      "align_content": null,
      "align_items": null,
      "align_self": null,
      "border": null,
      "bottom": null,
      "display": null,
      "flex": null,
      "flex_flow": null,
      "grid_area": null,
      "grid_auto_columns": null,
      "grid_auto_flow": null,
      "grid_auto_rows": null,
      "grid_column": null,
      "grid_gap": null,
      "grid_row": null,
      "grid_template_areas": null,
      "grid_template_columns": null,
      "grid_template_rows": null,
      "height": null,
      "justify_content": null,
      "justify_items": null,
      "left": null,
      "margin": null,
      "max_height": null,
      "max_width": null,
      "min_height": null,
      "min_width": null,
      "object_fit": null,
      "object_position": null,
      "order": null,
      "overflow": null,
      "overflow_x": null,
      "overflow_y": null,
      "padding": null,
      "right": null,
      "top": null,
      "visibility": null,
      "width": null
     }
    },
    "b018b01896ba4eeb917e80a0404f7025": {
     "model_module": "@jupyter-widgets/output",
     "model_module_version": "1.0.0",
     "model_name": "OutputModel",
     "state": {
      "_dom_classes": [],
      "_model_module": "@jupyter-widgets/output",
      "_model_module_version": "1.0.0",
      "_model_name": "OutputModel",
      "_view_count": null,
      "_view_module": "@jupyter-widgets/output",
      "_view_module_version": "1.0.0",
      "_view_name": "OutputView",
      "layout": "IPY_MODEL_81228fc06dcd4762a4c20dd309e920f0",
      "msg_id": "",
      "outputs": [
       {
        "data": {
         "image/png": "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\n",
         "text/plain": "<Figure size 864x576 with 1 Axes>"
        },
        "metadata": {
         "needs_background": "light"
        },
        "output_type": "display_data"
       }
      ]
     }
    },
    "d4ce2277ffc640e2bf5ebe830b668c83": {
     "model_module": "@jupyter-widgets/base",
     "model_module_version": "1.2.0",
     "model_name": "LayoutModel",
     "state": {
      "_model_module": "@jupyter-widgets/base",
      "_model_module_version": "1.2.0",
      "_model_name": "LayoutModel",
      "_view_count": null,
      "_view_module": "@jupyter-widgets/base",
      "_view_module_version": "1.2.0",
      "_view_name": "LayoutView",
      "align_content": null,
      "align_items": null,
      "align_self": null,
      "border": null,
      "bottom": null,
      "display": null,
      "flex": null,
      "flex_flow": null,
      "grid_area": null,
      "grid_auto_columns": null,
      "grid_auto_flow": null,
      "grid_auto_rows": null,
      "grid_column": null,
      "grid_gap": null,
      "grid_row": null,
      "grid_template_areas": null,
      "grid_template_columns": null,
      "grid_template_rows": null,
      "height": null,
      "justify_content": null,
      "justify_items": null,
      "left": null,
      "margin": null,
      "max_height": null,
      "max_width": null,
      "min_height": null,
      "min_width": null,
      "object_fit": null,
      "object_position": null,
      "order": null,
      "overflow": null,
      "overflow_x": null,
      "overflow_y": null,
      "padding": null,
      "right": null,
      "top": null,
      "visibility": null,
      "width": null
     }
    },
    "efeda299c54f4fe592841aa849d2faa9": {
     "model_module": "@jupyter-widgets/controls",
     "model_module_version": "1.5.0",
     "model_name": "SliderStyleModel",
     "state": {
      "_model_module": "@jupyter-widgets/controls",
      "_model_module_version": "1.5.0",
      "_model_name": "SliderStyleModel",
      "_view_count": null,
      "_view_module": "@jupyter-widgets/base",
      "_view_module_version": "1.2.0",
      "_view_name": "StyleView",
      "description_width": "",
      "handle_color": null
     }
    }
   }
  }
 },
 "nbformat": 4,
 "nbformat_minor": 5
}
