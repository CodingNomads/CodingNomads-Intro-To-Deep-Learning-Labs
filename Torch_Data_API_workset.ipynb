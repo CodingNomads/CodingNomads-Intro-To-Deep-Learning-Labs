{
 "cells": [
  {
   "cell_type": "markdown",
   "metadata": {
    "id": "1128ukpCsPSP"
   },
   "source": [
    "<a href=\"https://colab.research.google.com/github/mgfrantz/CodingNomads-Intro-To-Deep-Learning-Labs/blob/master/Torch_Data_API_workset.ipynb\" target=\"_parent\"><img src=\"https://colab.research.google.com/assets/colab-badge.svg\" alt=\"Open In Colab\"/></a>"
   ]
  },
  {
   "cell_type": "code",
   "execution_count": null,
   "metadata": {
    "id": "LST--PuAXxvU"
   },
   "outputs": [],
   "source": [
    "import pandas as pd\n",
    "import numpy as np\n",
    "from torch.utils.data import Dataset, DataLoader\n",
    "import torch\n",
    "from torch import nn\n",
    "import os\n",
    "from sklearn.preprocessing import StandardScaler\n",
    "from multiprocessing import cpu_count"
   ]
  },
  {
   "cell_type": "code",
   "execution_count": null,
   "metadata": {
    "id": "irHkC09MZIYs"
   },
   "outputs": [],
   "source": [
    "# Load data into memory\n",
    "# These datasets come come pre-packaged with colab, so it's best to run this lesson there.\n",
    "housing = pd.read_csv('sample_data/california_housing_train.csv')\n",
    "housing_test = pd.read_csv('sample_data/california_housing_test.csv')"
   ]
  },
  {
   "cell_type": "code",
   "execution_count": null,
   "metadata": {
    "colab": {
     "base_uri": "https://localhost:8080/",
     "height": 204
    },
    "executionInfo": {
     "elapsed": 6,
     "status": "ok",
     "timestamp": 1636229635611,
     "user": {
      "displayName": "Mike Frantz",
      "photoUrl": "https://lh3.googleusercontent.com/a-/AOh14GiGYCwZXGfGg-CE4_33PQcH9SW8fN6MyRkenN8-IA=s64",
      "userId": "08482506601269125384"
     },
     "user_tz": 420
    },
    "id": "lAhOBwfBcrgg",
    "outputId": "b6168f45-7572-4da7-8938-646502dc8384"
   },
   "outputs": [],
   "source": [
    "housing.head()"
   ]
  },
  {
   "cell_type": "code",
   "execution_count": null,
   "metadata": {
    "colab": {
     "base_uri": "https://localhost:8080/",
     "height": 111
    },
    "executionInfo": {
     "elapsed": 209,
     "status": "ok",
     "timestamp": 1636229636801,
     "user": {
      "displayName": "Mike Frantz",
      "photoUrl": "https://lh3.googleusercontent.com/a-/AOh14GiGYCwZXGfGg-CE4_33PQcH9SW8fN6MyRkenN8-IA=s64",
      "userId": "08482506601269125384"
     },
     "user_tz": 420
    },
    "id": "vlIjCGoPmLmW",
    "outputId": "c2d2d0aa-8cd1-4454-9f82-70abaedacb1b"
   },
   "outputs": [],
   "source": [
    "housing.agg(['mean','std'])"
   ]
  },
  {
   "cell_type": "code",
   "execution_count": null,
   "metadata": {
    "id": "UwbCL-mzdHHE"
   },
   "outputs": [],
   "source": [
    "x_train = housing.drop('median_house_value', axis=1)\n",
    "y_train = housing.median_house_value.values\n",
    "\n",
    "x_valid = housing_test.drop('median_house_value', axis=1)\n",
    "y_valid = housing_test.median_house_value.values"
   ]
  },
  {
   "cell_type": "code",
   "execution_count": null,
   "metadata": {
    "id": "M2k1dpohdMCQ"
   },
   "outputs": [],
   "source": [
    "scaler = StandardScaler()\n",
    "x_train_scaled = scaler.fit_transform(x_train)\n",
    "x_valid_scaled = scaler.transform(x_valid)"
   ]
  },
  {
   "cell_type": "code",
   "execution_count": null,
   "metadata": {
    "id": "mrVbqzsMmgJx"
   },
   "outputs": [],
   "source": [
    "# Check that the means of each column are close to 0\n",
    "assert np.allclose(x_train_scaled.mean(axis=0), np.zeros(x_train_scaled.shape[1]))\n",
    "# Check that the stds of each column are close to 1\n",
    "assert np.allclose(x_train_scaled.std(axis=0), np.ones(x_train_scaled.shape[1]))"
   ]
  },
  {
   "cell_type": "code",
   "execution_count": null,
   "metadata": {
    "id": "2T2J0jz7dX9s"
   },
   "outputs": [],
   "source": [
    "class HousingDataset(Dataset):\n",
    "    def __init__(self, X, y):\n",
    "        super().__init__()\n",
    "        self.X = X\n",
    "        self.y = y\n",
    "    \n",
    "    def __len__(self):\n",
    "        # What are some other ways we could do this?\n",
    "        return len(self.y)\n",
    "\n",
    "    def __getitem__(self, idx):\n",
    "        return self.X[idx], self.y[idx]"
   ]
  },
  {
   "cell_type": "code",
   "execution_count": null,
   "metadata": {
    "id": "pw23weTVdgH_"
   },
   "outputs": [],
   "source": [
    "train_ds = HousingDataset(x_train_scaled, y_train)\n",
    "valid_ds = HousingDataset(x_valid_scaled, y_valid)"
   ]
  },
  {
   "cell_type": "code",
   "execution_count": null,
   "metadata": {
    "colab": {
     "base_uri": "https://localhost:8080/"
    },
    "executionInfo": {
     "elapsed": 309,
     "status": "ok",
     "timestamp": 1636229644747,
     "user": {
      "displayName": "Mike Frantz",
      "photoUrl": "https://lh3.googleusercontent.com/a-/AOh14GiGYCwZXGfGg-CE4_33PQcH9SW8fN6MyRkenN8-IA=s64",
      "userId": "08482506601269125384"
     },
     "user_tz": 420
    },
    "id": "Oa_dtzmE7XAP",
    "outputId": "f8b3d107-b411-4ec9-df70-90c9d75a26e3"
   },
   "outputs": [],
   "source": [
    "# What are the number of items in each dataset?\n",
    "len(train_ds), len(valid_ds)"
   ]
  },
  {
   "cell_type": "code",
   "execution_count": null,
   "metadata": {
    "id": "CvJh9XDue1wt"
   },
   "outputs": [],
   "source": [
    "# What is the x and y at a given index?\n",
    "idx = 8"
   ]
  },
  {
   "cell_type": "code",
   "execution_count": null,
   "metadata": {
    "colab": {
     "base_uri": "https://localhost:8080/"
    },
    "executionInfo": {
     "elapsed": 63,
     "status": "ok",
     "timestamp": 1636229645799,
     "user": {
      "displayName": "Mike Frantz",
      "photoUrl": "https://lh3.googleusercontent.com/a-/AOh14GiGYCwZXGfGg-CE4_33PQcH9SW8fN6MyRkenN8-IA=s64",
      "userId": "08482506601269125384"
     },
     "user_tz": 420
    },
    "id": "taVAR13Cd8Bv",
    "outputId": "ae1a6019-7013-4d16-9409-57552e520102"
   },
   "outputs": [],
   "source": [
    "x, y = train_ds[idx]\n",
    "x, y"
   ]
  },
  {
   "cell_type": "markdown",
   "metadata": {
    "id": "J6BLi0FNnjhE"
   },
   "source": [
    "## Exercise 4.1: Perform some sanity checks\n",
    "\n",
    "Use `assert` to perform the following sanity checks. \n",
    "For a random `(x, y)` item from `train_ds` ad a given index...\n",
    "\n",
    "* check that the `x` value is the same as the corresponding value from `x_train_scaled` at the same index\n",
    "* check that the `y` value is the same as the corresponding value from `y_train` at the same index"
   ]
  },
  {
   "cell_type": "code",
   "execution_count": null,
   "metadata": {
    "id": "FihpdFn5o6ps"
   },
   "outputs": [],
   "source": [
    "# Choose an index in your dataset\n",
    "idx = ...\n",
    "# Fetch an item at that index from train_ds\n",
    "x, y = ...\n",
    "# check that the x value is the same as the corresponding value from x_train_scaled at the same index\n",
    "assert ...\n",
    "# check that the y value is the same as the corresponding value from y_train at the same index\n",
    "assert ..."
   ]
  },
  {
   "cell_type": "code",
   "execution_count": null,
   "metadata": {
    "colab": {
     "base_uri": "https://localhost:8080/"
    },
    "executionInfo": {
     "elapsed": 206,
     "status": "ok",
     "timestamp": 1636229651262,
     "user": {
      "displayName": "Mike Frantz",
      "photoUrl": "https://lh3.googleusercontent.com/a-/AOh14GiGYCwZXGfGg-CE4_33PQcH9SW8fN6MyRkenN8-IA=s64",
      "userId": "08482506601269125384"
     },
     "user_tz": 420
    },
    "id": "hFYhFSjl8v1E",
    "outputId": "96b629a1-5785-4dc0-bff1-5359b56a0884"
   },
   "outputs": [],
   "source": [
    "BATCH_SIZE = 64\n",
    "N_WORKERS = cpu_count()\n",
    "print(f\"\"\"\n",
    "In this example, each batch will contain {BATCH_SIZE} items.\n",
    "We will use {N_WORKERS} workers to load data more efficiently.\n",
    "\"\"\")"
   ]
  },
  {
   "cell_type": "code",
   "execution_count": null,
   "metadata": {
    "id": "f__XXpSqegyG"
   },
   "outputs": [],
   "source": [
    "train_dl = DataLoader(\n",
    "    train_ds, \n",
    "    batch_size=BATCH_SIZE, \n",
    "    shuffle=True, # We generally want to shuffle the train dataloader\n",
    "    num_workers=N_WORKERS\n",
    ")"
   ]
  },
  {
   "cell_type": "markdown",
   "metadata": {
    "id": "AAD0pTdqqf9G"
   },
   "source": [
    "## Exercise 4.2: Create the `valid_dl`\n",
    "\n",
    "Create the validation dataloader below.\n",
    "This can be mostly the same as the `train_dl`, but `shuffle` should be set to `False`.\n",
    "Think critically about how you're going to evaluate your model.\n",
    "Why is setting `shuffle=False` in the validation dataloader a good idea?"
   ]
  },
  {
   "cell_type": "code",
   "execution_count": null,
   "metadata": {
    "id": "Q_fIo1Faqm03"
   },
   "outputs": [],
   "source": [
    "valid_dl = ..."
   ]
  },
  {
   "cell_type": "code",
   "execution_count": null,
   "metadata": {
    "id": "qUxUSvzcfWVK"
   },
   "outputs": [],
   "source": [
    "# Pull one batch of data\n",
    "for batch in train_dl:\n",
    "    break"
   ]
  },
  {
   "cell_type": "code",
   "execution_count": null,
   "metadata": {
    "colab": {
     "base_uri": "https://localhost:8080/"
    },
    "executionInfo": {
     "elapsed": 4,
     "status": "ok",
     "timestamp": 1636229655294,
     "user": {
      "displayName": "Mike Frantz",
      "photoUrl": "https://lh3.googleusercontent.com/a-/AOh14GiGYCwZXGfGg-CE4_33PQcH9SW8fN6MyRkenN8-IA=s64",
      "userId": "08482506601269125384"
     },
     "user_tz": 420
    },
    "id": "JCn6xuYorbD9",
    "outputId": "e3825b09-152c-4159-b42c-9748513a5057"
   },
   "outputs": [],
   "source": [
    "# What's the type? The length?\n",
    "type(batch), len(batch)"
   ]
  },
  {
   "cell_type": "code",
   "execution_count": null,
   "metadata": {
    "colab": {
     "base_uri": "https://localhost:8080/"
    },
    "executionInfo": {
     "elapsed": 5,
     "status": "ok",
     "timestamp": 1636229655798,
     "user": {
      "displayName": "Mike Frantz",
      "photoUrl": "https://lh3.googleusercontent.com/a-/AOh14GiGYCwZXGfGg-CE4_33PQcH9SW8fN6MyRkenN8-IA=s64",
      "userId": "08482506601269125384"
     },
     "user_tz": 420
    },
    "id": "2l6lnnNBrhKt",
    "outputId": "61c7826a-6c91-442f-eba7-094f153e76bc"
   },
   "outputs": [],
   "source": [
    "# This looks like our X\n",
    "batch[0].shape"
   ]
  },
  {
   "cell_type": "code",
   "execution_count": null,
   "metadata": {
    "colab": {
     "base_uri": "https://localhost:8080/"
    },
    "executionInfo": {
     "elapsed": 6,
     "status": "ok",
     "timestamp": 1636229656475,
     "user": {
      "displayName": "Mike Frantz",
      "photoUrl": "https://lh3.googleusercontent.com/a-/AOh14GiGYCwZXGfGg-CE4_33PQcH9SW8fN6MyRkenN8-IA=s64",
      "userId": "08482506601269125384"
     },
     "user_tz": 420
    },
    "id": "7Yz1yxGnrkFy",
    "outputId": "ad62d48b-94c5-404a-c79d-6bede98b1a56"
   },
   "outputs": [],
   "source": [
    "# This looks like our y\n",
    "batch[1].shape"
   ]
  },
  {
   "cell_type": "code",
   "execution_count": null,
   "metadata": {
    "id": "hCJxT_7jAxSU"
   },
   "outputs": [],
   "source": [
    "for x_batch, y_batch in train_dl:\n",
    "    break"
   ]
  },
  {
   "cell_type": "code",
   "execution_count": null,
   "metadata": {
    "colab": {
     "base_uri": "https://localhost:8080/"
    },
    "executionInfo": {
     "elapsed": 4,
     "status": "ok",
     "timestamp": 1636229657767,
     "user": {
      "displayName": "Mike Frantz",
      "photoUrl": "https://lh3.googleusercontent.com/a-/AOh14GiGYCwZXGfGg-CE4_33PQcH9SW8fN6MyRkenN8-IA=s64",
      "userId": "08482506601269125384"
     },
     "user_tz": 420
    },
    "id": "_rbn83vLAgJ7",
    "outputId": "5e76c3f3-ec67-4751-976b-f59637e21e92"
   },
   "outputs": [],
   "source": [
    "x_batch.shape, y_batch.shape"
   ]
  },
  {
   "cell_type": "code",
   "execution_count": null,
   "metadata": {
    "colab": {
     "base_uri": "https://localhost:8080/"
    },
    "executionInfo": {
     "elapsed": 11,
     "status": "ok",
     "timestamp": 1636229658123,
     "user": {
      "displayName": "Mike Frantz",
      "photoUrl": "https://lh3.googleusercontent.com/a-/AOh14GiGYCwZXGfGg-CE4_33PQcH9SW8fN6MyRkenN8-IA=s64",
      "userId": "08482506601269125384"
     },
     "user_tz": 420
    },
    "id": "V5HxCHYefX1P",
    "outputId": "dcfb680a-275d-4664-e886-d683d63bf446"
   },
   "outputs": [],
   "source": [
    "x_batch"
   ]
  },
  {
   "cell_type": "code",
   "execution_count": null,
   "metadata": {
    "colab": {
     "base_uri": "https://localhost:8080/"
    },
    "executionInfo": {
     "elapsed": 9,
     "status": "ok",
     "timestamp": 1636229658124,
     "user": {
      "displayName": "Mike Frantz",
      "photoUrl": "https://lh3.googleusercontent.com/a-/AOh14GiGYCwZXGfGg-CE4_33PQcH9SW8fN6MyRkenN8-IA=s64",
      "userId": "08482506601269125384"
     },
     "user_tz": 420
    },
    "id": "qmN0W7NCfYS7",
    "outputId": "efd48cf2-50c8-4a2d-8bbd-6401a7ce2663"
   },
   "outputs": [],
   "source": [
    "y_batch"
   ]
  },
  {
   "cell_type": "markdown",
   "metadata": {
    "id": "jdO6OoSPsIWJ"
   },
   "source": [
    "## Exercise 4.3: Exploring the `DataLoader`\n",
    "\n",
    "Explore the `train_dl` object to answer the following questions.\n",
    "\n",
    "1. How many batches are there in `train_dl`? How many items?\n",
    "1. Are all the batches the same size? What's the minimum and maximum batch sizes? If there is a difference here, why might that be occurring?\n",
    "1. Can we index into `train_dl`? Does this behavior make sense? Why?"
   ]
  },
  {
   "cell_type": "code",
   "execution_count": null,
   "metadata": {
    "id": "Pv-h762H52Wv"
   },
   "outputs": [],
   "source": [
    "# Your code here"
   ]
  },
  {
   "cell_type": "markdown",
   "metadata": {
    "id": "tjucIsxW53cS"
   },
   "source": [
    "---"
   ]
  },
  {
   "cell_type": "code",
   "execution_count": null,
   "metadata": {
    "id": "Vl-rx_cWHWcq"
   },
   "outputs": [],
   "source": [
    "# We're just using fastai for the datasets for now.\n",
    "# We'll learn how to use it for modeling later on.\n",
    "!pip install -Uqq fastai"
   ]
  },
  {
   "cell_type": "code",
   "execution_count": null,
   "metadata": {
    "id": "T-9Hlz_jDPRZ"
   },
   "outputs": [],
   "source": [
    "# Download and extract the data\n",
    "from fastai.data.all import URLs, untar_data\n",
    "from fastcore.basics import Path\n",
    "from PIL import Image\n",
    "import numpy as np\n",
    "\n",
    "path = untar_data(URLs.CIFAR)"
   ]
  },
  {
   "cell_type": "markdown",
   "metadata": {
    "id": "4Sq3dH51w0zv"
   },
   "source": [
    "## Exercise 4.4: Exploring data on disk\n",
    "\n",
    "The variable `path` refers to where our raw data is.\n",
    "The directory structure is listed above.\n",
    "In this exercise, we'll explore what's in that directory.\n",
    "Using `path`, answer the following questions:\n",
    "\n",
    "1. What files or directories are in `path`?\n",
    "1. What is contained in `path/'train'`?\n",
    "1. Find the paths for 10 images of airplanes from the train dataset.\n",
    "1. If we had to label the image from its path, how might we do that?"
   ]
  },
  {
   "cell_type": "code",
   "execution_count": null,
   "metadata": {
    "id": "2ZJTZpP-58jm"
   },
   "outputs": [],
   "source": [
    "# Your code here"
   ]
  },
  {
   "cell_type": "code",
   "execution_count": null,
   "metadata": {
    "id": "yJA4e2agJIIj"
   },
   "outputs": [],
   "source": [
    "def list_png_files(path):\n",
    "    return list(path.glob('**/*.png'))"
   ]
  },
  {
   "cell_type": "code",
   "execution_count": null,
   "metadata": {
    "colab": {
     "base_uri": "https://localhost:8080/"
    },
    "executionInfo": {
     "elapsed": 722,
     "status": "ok",
     "timestamp": 1636229676133,
     "user": {
      "displayName": "Mike Frantz",
      "photoUrl": "https://lh3.googleusercontent.com/a-/AOh14GiGYCwZXGfGg-CE4_33PQcH9SW8fN6MyRkenN8-IA=s64",
      "userId": "08482506601269125384"
     },
     "user_tz": 420
    },
    "id": "s1ltVn2VG_HU",
    "outputId": "da27e8f9-f999-43b7-f7b3-165ad2b5944d"
   },
   "outputs": [],
   "source": [
    "sample_files = list_png_files(path/'train')[:10]\n",
    "sample_files"
   ]
  },
  {
   "cell_type": "code",
   "execution_count": null,
   "metadata": {
    "id": "OLqc9xFQI_fk"
   },
   "outputs": [],
   "source": [
    "def label_from_path_parent(path:Path) -> str:\n",
    "    return path.parent.name"
   ]
  },
  {
   "cell_type": "code",
   "execution_count": null,
   "metadata": {
    "id": "z-mb_cpQz6E0"
   },
   "outputs": [],
   "source": [
    "# Sanity check for label_from_parent_path\n",
    "assert label_from_path_parent(Path('/root/.fastai/data/cifar10/train/horse/42500_horse.png')) == 'horse'"
   ]
  },
  {
   "cell_type": "code",
   "execution_count": null,
   "metadata": {
    "id": "UvvZpZNPJwh5"
   },
   "outputs": [],
   "source": [
    "def load_image_and_label(path):\n",
    "    img = Image.open(path)\n",
    "    label = label_from_path_parent(path)\n",
    "    return img, label"
   ]
  },
  {
   "cell_type": "code",
   "execution_count": null,
   "metadata": {
    "colab": {
     "base_uri": "https://localhost:8080/",
     "height": 66
    },
    "executionInfo": {
     "elapsed": 7,
     "status": "ok",
     "timestamp": 1636229678767,
     "user": {
      "displayName": "Mike Frantz",
      "photoUrl": "https://lh3.googleusercontent.com/a-/AOh14GiGYCwZXGfGg-CE4_33PQcH9SW8fN6MyRkenN8-IA=s64",
      "userId": "08482506601269125384"
     },
     "user_tz": 420
    },
    "id": "vTsKfGM4J6Pq",
    "outputId": "6b2b9341-a5ee-4416-eff5-db32497e9821"
   },
   "outputs": [],
   "source": [
    "img, label = load_image_and_label(sample_files[0])\n",
    "print(label)\n",
    "img"
   ]
  },
  {
   "cell_type": "code",
   "execution_count": null,
   "metadata": {
    "colab": {
     "base_uri": "https://localhost:8080/",
     "height": 241
    },
    "executionInfo": {
     "elapsed": 6,
     "status": "ok",
     "timestamp": 1636229679678,
     "user": {
      "displayName": "Mike Frantz",
      "photoUrl": "https://lh3.googleusercontent.com/a-/AOh14GiGYCwZXGfGg-CE4_33PQcH9SW8fN6MyRkenN8-IA=s64",
      "userId": "08482506601269125384"
     },
     "user_tz": 420
    },
    "id": "dF7O4ggkKLAX",
    "outputId": "e2503884-ca78-4be9-b4df-688764eba19b"
   },
   "outputs": [],
   "source": [
    "# Let's resize this image and inspect what it looks like\n",
    "img.resize((224,224))"
   ]
  },
  {
   "cell_type": "markdown",
   "metadata": {
    "id": "siNnRNtK1iZb"
   },
   "source": [
    "## Exercise 4.5: The `CifarDataset`\n",
    "\n",
    "Use the `list_image_files` and `load_image_and_label` functions to complete the `CifarDataset`."
   ]
  },
  {
   "cell_type": "code",
   "execution_count": null,
   "metadata": {
    "id": "gPDJO3iwJpmC"
   },
   "outputs": [],
   "source": [
    "class CifarDataset(Dataset):\n",
    "    def __init__(self, path):\n",
    "        self.path = path\n",
    "        self.files = ...\n",
    "    \n",
    "    def __len__(self):\n",
    "        return ...\n",
    "\n",
    "    def __getitem__(self, idx):\n",
    "        return ..."
   ]
  },
  {
   "cell_type": "code",
   "execution_count": null,
   "metadata": {
    "id": "EuPZ_aVKK6za"
   },
   "outputs": [],
   "source": [
    "train_cifar = CifarDataset(path/'train')"
   ]
  },
  {
   "cell_type": "code",
   "execution_count": null,
   "metadata": {
    "colab": {
     "base_uri": "https://localhost:8080/",
     "height": 258
    },
    "executionInfo": {
     "elapsed": 9,
     "status": "ok",
     "timestamp": 1636229683774,
     "user": {
      "displayName": "Mike Frantz",
      "photoUrl": "https://lh3.googleusercontent.com/a-/AOh14GiGYCwZXGfGg-CE4_33PQcH9SW8fN6MyRkenN8-IA=s64",
      "userId": "08482506601269125384"
     },
     "user_tz": 420
    },
    "id": "DouJ2oSAK-lw",
    "outputId": "222860fa-1b32-4af0-d286-5ebe6a253eec"
   },
   "outputs": [],
   "source": [
    "img, label = train_cifar[8000]\n",
    "print(label)\n",
    "img.resize((224, 224))"
   ]
  },
  {
   "cell_type": "code",
   "execution_count": null,
   "metadata": {
    "id": "60Q6K78pLVl3"
   },
   "outputs": [],
   "source": [
    "def img_to_scaled_tensor(img, channels_first=True):\n",
    "    t = torch.tensor(np.array(img) / 255).float()\n",
    "    if channels_first:\n",
    "        return t.permute(2, 0, 1)\n",
    "    return t"
   ]
  },
  {
   "cell_type": "code",
   "execution_count": null,
   "metadata": {
    "colab": {
     "base_uri": "https://localhost:8080/"
    },
    "executionInfo": {
     "elapsed": 6,
     "status": "ok",
     "timestamp": 1636229686069,
     "user": {
      "displayName": "Mike Frantz",
      "photoUrl": "https://lh3.googleusercontent.com/a-/AOh14GiGYCwZXGfGg-CE4_33PQcH9SW8fN6MyRkenN8-IA=s64",
      "userId": "08482506601269125384"
     },
     "user_tz": 420
    },
    "id": "Z6Wi6oVXNjSE",
    "outputId": "4b05572f-a392-4be3-b913-c67cd1da6cd9"
   },
   "outputs": [],
   "source": [
    "img_t = img_to_scaled_tensor(img)\n",
    "img_t.shape"
   ]
  },
  {
   "cell_type": "markdown",
   "metadata": {
    "id": "8cM7oE0Z4O32"
   },
   "source": [
    "With regard to our labels, they're still in string format, which is not something our loss functions understand.\n",
    "Let's convert these to label indices."
   ]
  },
  {
   "cell_type": "code",
   "execution_count": null,
   "metadata": {
    "colab": {
     "base_uri": "https://localhost:8080/"
    },
    "executionInfo": {
     "elapsed": 226,
     "status": "ok",
     "timestamp": 1636229687019,
     "user": {
      "displayName": "Mike Frantz",
      "photoUrl": "https://lh3.googleusercontent.com/a-/AOh14GiGYCwZXGfGg-CE4_33PQcH9SW8fN6MyRkenN8-IA=s64",
      "userId": "08482506601269125384"
     },
     "user_tz": 420
    },
    "id": "yxjgnzKIL14w",
    "outputId": "34860d1b-7dc3-4730-c38d-b76a49c1b91b"
   },
   "outputs": [],
   "source": [
    "classes = {d.name:i  for i, d in enumerate((path/'train').ls())}\n",
    "classes"
   ]
  },
  {
   "cell_type": "code",
   "execution_count": null,
   "metadata": {
    "id": "_qZYHzV9MA7t"
   },
   "outputs": [],
   "source": [
    "def class_to_idx(class_name):\n",
    "    return classes.get(class_name)"
   ]
  },
  {
   "cell_type": "code",
   "execution_count": null,
   "metadata": {
    "id": "feO5VhKBMdsH"
   },
   "outputs": [],
   "source": [
    "def collate_fn(batch):\n",
    "    xs, ys = list(zip(*batch))\n",
    "    xs = torch.cat([img_to_scaled_tensor(i).unsqueeze(0) for i in xs], dim=0)\n",
    "    ys = torch.tensor([class_to_idx(i) for i in ys])\n",
    "\n",
    "    return xs, ys"
   ]
  },
  {
   "cell_type": "code",
   "execution_count": null,
   "metadata": {
    "colab": {
     "base_uri": "https://localhost:8080/"
    },
    "executionInfo": {
     "elapsed": 6,
     "status": "ok",
     "timestamp": 1636229689701,
     "user": {
      "displayName": "Mike Frantz",
      "photoUrl": "https://lh3.googleusercontent.com/a-/AOh14GiGYCwZXGfGg-CE4_33PQcH9SW8fN6MyRkenN8-IA=s64",
      "userId": "08482506601269125384"
     },
     "user_tz": 420
    },
    "id": "W4WZRrI2RMkG",
    "outputId": "df235bbd-7ac3-427b-ee93-e52d299310cc"
   },
   "outputs": [],
   "source": [
    "# Test the collate function\n",
    "items = (train_cifar[0], train_cifar[1])\n",
    "items"
   ]
  },
  {
   "cell_type": "code",
   "execution_count": null,
   "metadata": {
    "id": "9Yt5u64MRX_f"
   },
   "outputs": [],
   "source": [
    "x_b, y_b = collate_fn(items)"
   ]
  },
  {
   "cell_type": "code",
   "execution_count": null,
   "metadata": {
    "colab": {
     "base_uri": "https://localhost:8080/"
    },
    "executionInfo": {
     "elapsed": 5,
     "status": "ok",
     "timestamp": 1636229691109,
     "user": {
      "displayName": "Mike Frantz",
      "photoUrl": "https://lh3.googleusercontent.com/a-/AOh14GiGYCwZXGfGg-CE4_33PQcH9SW8fN6MyRkenN8-IA=s64",
      "userId": "08482506601269125384"
     },
     "user_tz": 420
    },
    "id": "iHuef7duRap2",
    "outputId": "24867715-a020-4b29-d890-49479a54592a"
   },
   "outputs": [],
   "source": [
    "x_b.shape, y_b.shape"
   ]
  },
  {
   "cell_type": "code",
   "execution_count": null,
   "metadata": {
    "id": "uBx2hrMiPBwt"
   },
   "outputs": [],
   "source": [
    "train_cifar_dl = DataLoader(\n",
    "    train_cifar, \n",
    "    batch_size=BATCH_SIZE, \n",
    "    num_workers=N_WORKERS,\n",
    "    shuffle=True, \n",
    "    collate_fn=collate_fn\n",
    ")"
   ]
  },
  {
   "cell_type": "code",
   "execution_count": null,
   "metadata": {
    "id": "7JEK0-_dPETh"
   },
   "outputs": [],
   "source": [
    "for x_b, y_b in train_cifar_dl:\n",
    "    break"
   ]
  },
  {
   "cell_type": "code",
   "execution_count": null,
   "metadata": {
    "colab": {
     "base_uri": "https://localhost:8080/"
    },
    "executionInfo": {
     "elapsed": 6,
     "status": "ok",
     "timestamp": 1636229694078,
     "user": {
      "displayName": "Mike Frantz",
      "photoUrl": "https://lh3.googleusercontent.com/a-/AOh14GiGYCwZXGfGg-CE4_33PQcH9SW8fN6MyRkenN8-IA=s64",
      "userId": "08482506601269125384"
     },
     "user_tz": 420
    },
    "id": "4IJw3fb5NGba",
    "outputId": "673e364b-0ebf-48bc-cc70-da9125f71b0c"
   },
   "outputs": [],
   "source": [
    "x_b.shape"
   ]
  },
  {
   "cell_type": "code",
   "execution_count": null,
   "metadata": {
    "colab": {
     "base_uri": "https://localhost:8080/"
    },
    "executionInfo": {
     "elapsed": 5,
     "status": "ok",
     "timestamp": 1636229694790,
     "user": {
      "displayName": "Mike Frantz",
      "photoUrl": "https://lh3.googleusercontent.com/a-/AOh14GiGYCwZXGfGg-CE4_33PQcH9SW8fN6MyRkenN8-IA=s64",
      "userId": "08482506601269125384"
     },
     "user_tz": 420
    },
    "id": "hjSj5gcVOpb9",
    "outputId": "f7803177-aa47-448e-ca07-bc6c6bdb8234"
   },
   "outputs": [],
   "source": [
    "y_b.shape"
   ]
  },
  {
   "cell_type": "code",
   "execution_count": null,
   "metadata": {
    "id": "fGbVes-rSI9P"
   },
   "outputs": [],
   "source": []
  }
 ],
 "metadata": {
  "colab": {
   "collapsed_sections": [],
   "name": "Torch_Data_API_workset.ipynb",
   "provenance": []
  },
  "kernelspec": {
   "display_name": "Python 3",
   "language": "python",
   "name": "python3"
  },
  "language_info": {
   "codemirror_mode": {
    "name": "ipython",
    "version": 3
   },
   "file_extension": ".py",
   "mimetype": "text/x-python",
   "name": "python",
   "nbconvert_exporter": "python",
   "pygments_lexer": "ipython3",
   "version": "3.9.4"
  }
 },
 "nbformat": 4,
 "nbformat_minor": 4
}
