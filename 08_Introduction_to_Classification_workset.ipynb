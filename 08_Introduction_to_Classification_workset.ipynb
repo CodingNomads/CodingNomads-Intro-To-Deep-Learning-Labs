{
 "cells": [
  {
   "cell_type": "code",
   "execution_count": 1,
   "metadata": {
    "executionInfo": {
     "elapsed": 3209,
     "status": "ok",
     "timestamp": 1641972478386,
     "user": {
      "displayName": "Mike Frantz",
      "photoUrl": "https://lh3.googleusercontent.com/a-/AOh14GiGYCwZXGfGg-CE4_33PQcH9SW8fN6MyRkenN8-IA=s64",
      "userId": "08482506601269125384"
     },
     "user_tz": 480
    },
    "id": "EBDfgfJY6X2F"
   },
   "outputs": [],
   "source": [
    "!pip install torchmetrics attrdict -q"
   ]
  },
  {
   "cell_type": "code",
   "execution_count": 2,
   "metadata": {
    "executionInfo": {
     "elapsed": 360,
     "status": "ok",
     "timestamp": 1641972478743,
     "user": {
      "displayName": "Mike Frantz",
      "photoUrl": "https://lh3.googleusercontent.com/a-/AOh14GiGYCwZXGfGg-CE4_33PQcH9SW8fN6MyRkenN8-IA=s64",
      "userId": "08482506601269125384"
     },
     "user_tz": 480
    },
    "id": "_6FyQ11IDHTG"
   },
   "outputs": [],
   "source": [
    "import torch\n",
    "from torch import nn\n",
    "import torch.nn.functional as F\n",
    "import torchmetrics\n",
    "from torchvision.datasets import MNIST\n",
    "from torch.utils.data import Dataset, DataLoader\n",
    "import matplotlib.pyplot as plt\n",
    "from PIL import Image\n",
    "import pandas as pd\n",
    "import numpy as np\n",
    "from IPython.display import display\n",
    "from attrdict import AttrDict"
   ]
  },
  {
   "cell_type": "code",
   "execution_count": 3,
   "metadata": {
    "colab": {
     "base_uri": "https://localhost:8080/",
     "height": 35
    },
    "executionInfo": {
     "elapsed": 6,
     "status": "ok",
     "timestamp": 1641972478744,
     "user": {
      "displayName": "Mike Frantz",
      "photoUrl": "https://lh3.googleusercontent.com/a-/AOh14GiGYCwZXGfGg-CE4_33PQcH9SW8fN6MyRkenN8-IA=s64",
      "userId": "08482506601269125384"
     },
     "user_tz": 480
    },
    "id": "aVnQSeXZahJI",
    "outputId": "4086e4ed-40ed-43f8-97fc-283f35d51b24"
   },
   "outputs": [],
   "source": [
    "# Maybe delete this. Not sure if I want to get into GPUs yet, that should be a separate lesson.\n",
    "device = 'cuda' if torch.cuda.is_available() else 'cpu'\n",
    "device"
   ]
  },
  {
   "cell_type": "code",
   "execution_count": 4,
   "metadata": {
    "executionInfo": {
     "elapsed": 1817,
     "status": "ok",
     "timestamp": 1641972480556,
     "user": {
      "displayName": "Mike Frantz",
      "photoUrl": "https://lh3.googleusercontent.com/a-/AOh14GiGYCwZXGfGg-CE4_33PQcH9SW8fN6MyRkenN8-IA=s64",
      "userId": "08482506601269125384"
     },
     "user_tz": 480
    },
    "id": "WvKaTo03-UQ-"
   },
   "outputs": [],
   "source": [
    "# Load the train and validation data\n",
    "mnist_train = pd.read_csv('sample_data/mnist_train_small.csv', header=None)\n",
    "mnist_valid = pd.read_csv('sample_data/mnist_test.csv', header=None)"
   ]
  },
  {
   "cell_type": "code",
   "execution_count": 5,
   "metadata": {
    "colab": {
     "base_uri": "https://localhost:8080/",
     "height": 317
    },
    "executionInfo": {
     "elapsed": 14,
     "status": "ok",
     "timestamp": 1641972480562,
     "user": {
      "displayName": "Mike Frantz",
      "photoUrl": "https://lh3.googleusercontent.com/a-/AOh14GiGYCwZXGfGg-CE4_33PQcH9SW8fN6MyRkenN8-IA=s64",
      "userId": "08482506601269125384"
     },
     "user_tz": 480
    },
    "id": "zGuzgVZD9Zg9",
    "outputId": "085efcf8-3550-4c97-c8f3-02020c37982b"
   },
   "outputs": [],
   "source": [
    "# Take a look at the data.\n",
    "# It looks like the first column is the label,\n",
    "# And columns 1 - 785 are pixels.\n",
    "print(mnist_train.shape)\n",
    "mnist_train.head()"
   ]
  },
  {
   "cell_type": "code",
   "execution_count": 6,
   "metadata": {
    "colab": {
     "base_uri": "https://localhost:8080/",
     "height": 297
    },
    "executionInfo": {
     "elapsed": 11,
     "status": "ok",
     "timestamp": 1641972480562,
     "user": {
      "displayName": "Mike Frantz",
      "photoUrl": "https://lh3.googleusercontent.com/a-/AOh14GiGYCwZXGfGg-CE4_33PQcH9SW8fN6MyRkenN8-IA=s64",
      "userId": "08482506601269125384"
     },
     "user_tz": 480
    },
    "id": "K9KSy4IBJsHN",
    "outputId": "0a2e50ed-46ee-41eb-f710-c4d579f6d545"
   },
   "outputs": [],
   "source": [
    "# What's the distribuiont of labels in the train set?\n",
    "display(mnist_train[0].value_counts().sort_index().plot.bar())\n",
    "display(mnist_train[0].value_counts(normalize=True).max())"
   ]
  },
  {
   "cell_type": "code",
   "execution_count": 7,
   "metadata": {
    "colab": {
     "base_uri": "https://localhost:8080/",
     "height": 297
    },
    "executionInfo": {
     "elapsed": 203,
     "status": "ok",
     "timestamp": 1641972480755,
     "user": {
      "displayName": "Mike Frantz",
      "photoUrl": "https://lh3.googleusercontent.com/a-/AOh14GiGYCwZXGfGg-CE4_33PQcH9SW8fN6MyRkenN8-IA=s64",
      "userId": "08482506601269125384"
     },
     "user_tz": 480
    },
    "id": "uJHfKi8cJ985",
    "outputId": "150d394d-e688-48a4-f9ce-2632f92dbbeb"
   },
   "outputs": [],
   "source": [
    "# What's the distribuion of labels in the validation set?\n",
    "display(mnist_train[0].value_counts().sort_index().plot.bar())\n",
    "display(mnist_train[0].value_counts(normalize=True).max())"
   ]
  },
  {
   "cell_type": "code",
   "execution_count": 8,
   "metadata": {
    "executionInfo": {
     "elapsed": 5,
     "status": "ok",
     "timestamp": 1641972480755,
     "user": {
      "displayName": "Mike Frantz",
      "photoUrl": "https://lh3.googleusercontent.com/a-/AOh14GiGYCwZXGfGg-CE4_33PQcH9SW8fN6MyRkenN8-IA=s64",
      "userId": "08482506601269125384"
     },
     "user_tz": 480
    },
    "id": "cIYGoVRMx91l"
   },
   "outputs": [],
   "source": [
    "def show_number(row, ax=None):\n",
    "    \"\"\"\n",
    "    This function shows a row as an image, and titles it with the label.\n",
    "    \n",
    "    Options:\n",
    "    * row: a row from either of the mnist_train or mnist_valid dataframes.\n",
    "    * ax: if not None, will plot the digit on the provided ax.\n",
    "        Otherwise, this function should create a figure and \n",
    "    \"\"\"\n",
    "    return_fig = ax == None\n",
    "    target, values = row.values[0], row.values[1:].reshape(28, 28)\n",
    "    if not ax:\n",
    "        fig, ax = plt.subplots()\n",
    "    ax.imshow(values, cmap='gray_r')\n",
    "    ax.set_title(target)\n",
    "    \n",
    "    plt.close()\n",
    "    if return_fig:\n",
    "        return fig"
   ]
  },
  {
   "cell_type": "code",
   "execution_count": 9,
   "metadata": {
    "colab": {
     "base_uri": "https://localhost:8080/",
     "height": 281
    },
    "executionInfo": {
     "elapsed": 328,
     "status": "ok",
     "timestamp": 1641972481079,
     "user": {
      "displayName": "Mike Frantz",
      "photoUrl": "https://lh3.googleusercontent.com/a-/AOh14GiGYCwZXGfGg-CE4_33PQcH9SW8fN6MyRkenN8-IA=s64",
      "userId": "08482506601269125384"
     },
     "user_tz": 480
    },
    "id": "pjwuD3W7Ay7j",
    "outputId": "0815e5d8-5eff-4ff2-aaa3-6509ee3cb245"
   },
   "outputs": [],
   "source": [
    "show_number(mnist_train.sample(1).iloc[0])"
   ]
  },
  {
   "cell_type": "code",
   "execution_count": 10,
   "metadata": {
    "executionInfo": {
     "elapsed": 3,
     "status": "ok",
     "timestamp": 1641972481080,
     "user": {
      "displayName": "Mike Frantz",
      "photoUrl": "https://lh3.googleusercontent.com/a-/AOh14GiGYCwZXGfGg-CE4_33PQcH9SW8fN6MyRkenN8-IA=s64",
      "userId": "08482506601269125384"
     },
     "user_tz": 480
    },
    "id": "YbhVnnjW-wHK"
   },
   "outputs": [],
   "source": [
    "def show_many(n_rows=3, n_cols=3):\n",
    "    \"\"\"\n",
    "    This function shows a number of images at a time, by default 9.\n",
    "    It takes a random sample of (n_rows * n_cols) of the training data to show.\n",
    "    \"\"\"\n",
    "    # Sample the training data\n",
    "    train_df_sample = mnist_train.sample(n_rows * n_cols)\n",
    "    # Create the figure\n",
    "    fig = plt.figure(figsize=(4*n_cols, 4*n_rows))\n",
    "    # For each row in the sample, plot the number\n",
    "    for i, (_, row) in enumerate(train_df_sample.iterrows()):\n",
    "        ax = fig.add_subplot(n_rows, n_cols, 1+i)\n",
    "        show_number(row, ax)\n",
    "    plt.close()\n",
    "    return fig"
   ]
  },
  {
   "cell_type": "code",
   "execution_count": 11,
   "metadata": {
    "colab": {
     "base_uri": "https://localhost:8080/",
     "height": 716
    },
    "executionInfo": {
     "elapsed": 1079,
     "status": "ok",
     "timestamp": 1641972482156,
     "user": {
      "displayName": "Mike Frantz",
      "photoUrl": "https://lh3.googleusercontent.com/a-/AOh14GiGYCwZXGfGg-CE4_33PQcH9SW8fN6MyRkenN8-IA=s64",
      "userId": "08482506601269125384"
     },
     "user_tz": 480
    },
    "id": "QAmtLzYP07er",
    "outputId": "91f6a3c5-75a3-4ace-c45a-fdfb5815d5ed"
   },
   "outputs": [],
   "source": [
    "show_many()"
   ]
  },
  {
   "cell_type": "code",
   "execution_count": 12,
   "metadata": {
    "colab": {
     "base_uri": "https://localhost:8080/"
    },
    "executionInfo": {
     "elapsed": 6,
     "status": "ok",
     "timestamp": 1641972482156,
     "user": {
      "displayName": "Mike Frantz",
      "photoUrl": "https://lh3.googleusercontent.com/a-/AOh14GiGYCwZXGfGg-CE4_33PQcH9SW8fN6MyRkenN8-IA=s64",
      "userId": "08482506601269125384"
     },
     "user_tz": 480
    },
    "id": "0CTuMZo532Kn",
    "outputId": "47764ef2-1cd9-4610-b576-924644de6120"
   },
   "outputs": [],
   "source": [
    "# What are the min and max values of the data?\n",
    "mnist_train.loc[:, 1:].values.max(), \\\n",
    "mnist_train.loc[:, 1:].values.min()"
   ]
  },
  {
   "cell_type": "code",
   "execution_count": 13,
   "metadata": {
    "colab": {
     "base_uri": "https://localhost:8080/",
     "height": 279
    },
    "executionInfo": {
     "elapsed": 867,
     "status": "ok",
     "timestamp": 1641972483020,
     "user": {
      "displayName": "Mike Frantz",
      "photoUrl": "https://lh3.googleusercontent.com/a-/AOh14GiGYCwZXGfGg-CE4_33PQcH9SW8fN6MyRkenN8-IA=s64",
      "userId": "08482506601269125384"
     },
     "user_tz": 480
    },
    "id": "CYRHdIphKc2V",
    "outputId": "2ebdba10-72fd-4dc7-bb43-2c9e71ba680a"
   },
   "outputs": [],
   "source": [
    "plt.hist(mnist_train.loc[:, 1:].values.ravel())\n",
    "plt.ylabel('Number of pixels')\n",
    "plt.xlabel('Value')\n",
    "plt.yscale('log')"
   ]
  },
  {
   "cell_type": "code",
   "execution_count": 14,
   "metadata": {
    "executionInfo": {
     "elapsed": 10530,
     "status": "ok",
     "timestamp": 1641972493548,
     "user": {
      "displayName": "Mike Frantz",
      "photoUrl": "https://lh3.googleusercontent.com/a-/AOh14GiGYCwZXGfGg-CE4_33PQcH9SW8fN6MyRkenN8-IA=s64",
      "userId": "08482506601269125384"
     },
     "user_tz": 480
    },
    "id": "1A1BoEqQ3_YP"
   },
   "outputs": [],
   "source": [
    "# Let's scale all the data between 0 and 1.\n",
    "mnist_train_scaled = mnist_train.copy()\n",
    "mnist_train_scaled.loc[:, 1:] /= 255"
   ]
  },
  {
   "cell_type": "code",
   "execution_count": 15,
   "metadata": {
    "executionInfo": {
     "elapsed": 5759,
     "status": "ok",
     "timestamp": 1641972499293,
     "user": {
      "displayName": "Mike Frantz",
      "photoUrl": "https://lh3.googleusercontent.com/a-/AOh14GiGYCwZXGfGg-CE4_33PQcH9SW8fN6MyRkenN8-IA=s64",
      "userId": "08482506601269125384"
     },
     "user_tz": 480
    },
    "id": "KKUlrbHx4T3x"
   },
   "outputs": [],
   "source": [
    "mnist_valid_scaled = mnist_valid.copy()\n",
    "mnist_valid_scaled.loc[:, 1:] /= 255"
   ]
  },
  {
   "cell_type": "code",
   "execution_count": 16,
   "metadata": {
    "colab": {
     "base_uri": "https://localhost:8080/"
    },
    "executionInfo": {
     "elapsed": 15,
     "status": "ok",
     "timestamp": 1641972499294,
     "user": {
      "displayName": "Mike Frantz",
      "photoUrl": "https://lh3.googleusercontent.com/a-/AOh14GiGYCwZXGfGg-CE4_33PQcH9SW8fN6MyRkenN8-IA=s64",
      "userId": "08482506601269125384"
     },
     "user_tz": 480
    },
    "id": "Pk6BerUY4Rrg",
    "outputId": "9936fd7f-bb2e-41ad-d99e-89ac146111a9"
   },
   "outputs": [],
   "source": [
    "mnist_train_scaled.loc[:, 1:].values.max(), \\\n",
    "mnist_train_scaled.loc[:, 1:].values.min()"
   ]
  },
  {
   "cell_type": "markdown",
   "metadata": {
    "id": "EoR-Esrkz90U"
   },
   "source": [
    "# Exercise 8.1\n",
    "\n",
    "Now that we've preprocessed our data, we require objects to feed data to our model.\n",
    "Using your knowledge about `torch` datasets, complete the `MnistDataset` class.\n",
    "Your `__getitem__` method should return a tuple of two values - the first is a vector of lenth 784 representing the pixel values of the image, and the second is an integer representing the label (0-9).\n",
    "Both items should be of type `torch.Tensor`.\n",
    "\n",
    "<!-- startquestion -->\n"
   ]
  },
  {
   "cell_type": "code",
   "execution_count": 17,
   "metadata": {
    "executionInfo": {
     "elapsed": 341,
     "status": "ok",
     "timestamp": 1641972499622,
     "user": {
      "displayName": "Mike Frantz",
      "photoUrl": "https://lh3.googleusercontent.com/a-/AOh14GiGYCwZXGfGg-CE4_33PQcH9SW8fN6MyRkenN8-IA=s64",
      "userId": "08482506601269125384"
     },
     "user_tz": 480
    },
    "id": "WPtwZS5A2j9j"
   },
   "outputs": [],
   "source": [
    "class MnistDataset(Dataset):\n",
    "    pass"
   ]
  },
  {
   "cell_type": "code",
   "execution_count": 19,
   "metadata": {
    "executionInfo": {
     "elapsed": 8,
     "status": "ok",
     "timestamp": 1641972499622,
     "user": {
      "displayName": "Mike Frantz",
      "photoUrl": "https://lh3.googleusercontent.com/a-/AOh14GiGYCwZXGfGg-CE4_33PQcH9SW8fN6MyRkenN8-IA=s64",
      "userId": "08482506601269125384"
     },
     "user_tz": 480
    },
    "id": "vH_VYzCz4irc"
   },
   "outputs": [],
   "source": [
    "# Create datasets from the dataframes\n",
    "train_ds = MnistDataset(mnist_train_scaled)\n",
    "valid_ds = MnistDataset(mnist_valid_scaled)"
   ]
  },
  {
   "cell_type": "code",
   "execution_count": 20,
   "metadata": {
    "executionInfo": {
     "elapsed": 8,
     "status": "ok",
     "timestamp": 1641972499623,
     "user": {
      "displayName": "Mike Frantz",
      "photoUrl": "https://lh3.googleusercontent.com/a-/AOh14GiGYCwZXGfGg-CE4_33PQcH9SW8fN6MyRkenN8-IA=s64",
      "userId": "08482506601269125384"
     },
     "user_tz": 480
    },
    "id": "du9MTd3B0_gX"
   },
   "outputs": [],
   "source": [
    "# Sanity check!\n",
    "_x, _y = train_ds[0]\n",
    "assert _x.shape[0] == mnist_train_scaled.shape[1] - 1\n",
    "assert _y == mnist_train_scaled.loc[0,0]"
   ]
  },
  {
   "cell_type": "code",
   "execution_count": 21,
   "metadata": {
    "executionInfo": {
     "elapsed": 8,
     "status": "ok",
     "timestamp": 1641972499623,
     "user": {
      "displayName": "Mike Frantz",
      "photoUrl": "https://lh3.googleusercontent.com/a-/AOh14GiGYCwZXGfGg-CE4_33PQcH9SW8fN6MyRkenN8-IA=s64",
      "userId": "08482506601269125384"
     },
     "user_tz": 480
    },
    "id": "VO4G7cPA4zQd"
   },
   "outputs": [],
   "source": [
    "# Create dataloaders from the datasets.\n",
    "# During the training phase, we need to keep both the activations \n",
    "# and the gradients in memory. However during the validation phase,\n",
    "# we don't have to store gradients so we can double the batch size!\n",
    "\n",
    "train_dl = None\n",
    "valid_dl = None"
   ]
  },
  {
   "cell_type": "code",
   "execution_count": 23,
   "metadata": {
    "executionInfo": {
     "elapsed": 9,
     "status": "ok",
     "timestamp": 1641972499624,
     "user": {
      "displayName": "Mike Frantz",
      "photoUrl": "https://lh3.googleusercontent.com/a-/AOh14GiGYCwZXGfGg-CE4_33PQcH9SW8fN6MyRkenN8-IA=s64",
      "userId": "08482506601269125384"
     },
     "user_tz": 480
    },
    "id": "4jZFug0E3JcB"
   },
   "outputs": [],
   "source": [
    "def linear(in_features, out_features, dropout=0.2):\n",
    "    \"\"\"\n",
    "    Returns an nn.Sequential module that we want to repeat a lot.\n",
    "    The module contains a linear layer, ReLU activation, BatchNorm, and dropout.\n",
    "    \"\"\"\n",
    "    raise NotImplementedError"
   ]
  },
  {
   "cell_type": "code",
   "execution_count": 25,
   "metadata": {
    "executionInfo": {
     "elapsed": 9,
     "status": "ok",
     "timestamp": 1641972499625,
     "user": {
      "displayName": "Mike Frantz",
      "photoUrl": "https://lh3.googleusercontent.com/a-/AOh14GiGYCwZXGfGg-CE4_33PQcH9SW8fN6MyRkenN8-IA=s64",
      "userId": "08482506601269125384"
     },
     "user_tz": 480
    },
    "id": "nXUhyeGN4nU-"
   },
   "outputs": [],
   "source": [
    "# Sanity check!\n",
    "assert len(linear(1,1)) == 4"
   ]
  },
  {
   "cell_type": "code",
   "execution_count": 26,
   "metadata": {
    "executionInfo": {
     "elapsed": 9,
     "status": "ok",
     "timestamp": 1641972499625,
     "user": {
      "displayName": "Mike Frantz",
      "photoUrl": "https://lh3.googleusercontent.com/a-/AOh14GiGYCwZXGfGg-CE4_33PQcH9SW8fN6MyRkenN8-IA=s64",
      "userId": "08482506601269125384"
     },
     "user_tz": 480
    },
    "id": "ukf-1HXu2CyR"
   },
   "outputs": [],
   "source": [
    "# Define some parameters for the model\n",
    "class Config(AttrDict):\n",
    "    def __init__(self, num_input_features=28*28, n_hidden_layers=2, hidden_dim=256, n_labels=10):\n",
    "        self.num_input_features = num_input_features\n",
    "        self.n_hidden_layers = n_hidden_layers\n",
    "        self.hidden_dim = hidden_dim\n",
    "        self.n_labels = n_labels\n",
    "        self.device = 'cuda' if torch.cuda.is_available() else 'cpu'\n",
    "\n",
    "config = Config()"
   ]
  },
  {
   "cell_type": "code",
   "execution_count": 27,
   "metadata": {
    "executionInfo": {
     "elapsed": 8,
     "status": "ok",
     "timestamp": 1641972499625,
     "user": {
      "displayName": "Mike Frantz",
      "photoUrl": "https://lh3.googleusercontent.com/a-/AOh14GiGYCwZXGfGg-CE4_33PQcH9SW8fN6MyRkenN8-IA=s64",
      "userId": "08482506601269125384"
     },
     "user_tz": 480
    },
    "id": "Sj4grtALSRi1"
   },
   "outputs": [],
   "source": [
    "def build_model(config):\n",
    "    raise NotImplementedError()"
   ]
  },
  {
   "cell_type": "code",
   "execution_count": 29,
   "metadata": {
    "executionInfo": {
     "elapsed": 9,
     "status": "ok",
     "timestamp": 1641972499626,
     "user": {
      "displayName": "Mike Frantz",
      "photoUrl": "https://lh3.googleusercontent.com/a-/AOh14GiGYCwZXGfGg-CE4_33PQcH9SW8fN6MyRkenN8-IA=s64",
      "userId": "08482506601269125384"
     },
     "user_tz": 480
    },
    "id": "TFTpRLFg5ela"
   },
   "outputs": [],
   "source": [
    "# instantiate the model\n",
    "model = build_model(config)"
   ]
  },
  {
   "cell_type": "code",
   "execution_count": 30,
   "metadata": {
    "colab": {
     "base_uri": "https://localhost:8080/"
    },
    "executionInfo": {
     "elapsed": 2793,
     "status": "ok",
     "timestamp": 1641972502411,
     "user": {
      "displayName": "Mike Frantz",
      "photoUrl": "https://lh3.googleusercontent.com/a-/AOh14GiGYCwZXGfGg-CE4_33PQcH9SW8fN6MyRkenN8-IA=s64",
      "userId": "08482506601269125384"
     },
     "user_tz": 480
    },
    "id": "z1c5ckLZTKyq",
    "outputId": "1f55c2bd-e9ba-45ff-e8c8-ecd6eb41d0e6"
   },
   "outputs": [],
   "source": [
    "# if the model's not on the GPU but it's available, put it there.\n",
    "print('Model device: ', next(model.parameters()).device)\n",
    "if not next(model.parameters()).is_cuda & torch.cuda.is_available():\n",
    "    print('Model is on CPU, but GPU is available. Putting model on GPU.')\n",
    "    model = model.to(config.device)\n",
    "    print('Model device: ', next(model.parameters()).device)"
   ]
  },
  {
   "cell_type": "code",
   "execution_count": 31,
   "metadata": {
    "executionInfo": {
     "elapsed": 10,
     "status": "ok",
     "timestamp": 1641972502412,
     "user": {
      "displayName": "Mike Frantz",
      "photoUrl": "https://lh3.googleusercontent.com/a-/AOh14GiGYCwZXGfGg-CE4_33PQcH9SW8fN6MyRkenN8-IA=s64",
      "userId": "08482506601269125384"
     },
     "user_tz": 480
    },
    "id": "z0vDVxKo2jij"
   },
   "outputs": [],
   "source": [
    "# Sanity check!\n",
    "assert len(model) == config.n_hidden_layers + 2"
   ]
  },
  {
   "cell_type": "code",
   "execution_count": 32,
   "metadata": {
    "colab": {
     "base_uri": "https://localhost:8080/"
    },
    "executionInfo": {
     "elapsed": 9,
     "status": "ok",
     "timestamp": 1641972502412,
     "user": {
      "displayName": "Mike Frantz",
      "photoUrl": "https://lh3.googleusercontent.com/a-/AOh14GiGYCwZXGfGg-CE4_33PQcH9SW8fN6MyRkenN8-IA=s64",
      "userId": "08482506601269125384"
     },
     "user_tz": 480
    },
    "id": "i32PHOveL5E8",
    "outputId": "c545aa80-c6d3-404d-d461-85678725c784"
   },
   "outputs": [],
   "source": [
    "# Another sanity check: our model should be able to operate on a batch of data.\n",
    "for x_b, y_b in train_dl:\n",
    "    break\n",
    "model(x_b.to(config.device)).shape"
   ]
  },
  {
   "cell_type": "code",
   "execution_count": 33,
   "metadata": {
    "executionInfo": {
     "elapsed": 8,
     "status": "ok",
     "timestamp": 1641972502413,
     "user": {
      "displayName": "Mike Frantz",
      "photoUrl": "https://lh3.googleusercontent.com/a-/AOh14GiGYCwZXGfGg-CE4_33PQcH9SW8fN6MyRkenN8-IA=s64",
      "userId": "08482506601269125384"
     },
     "user_tz": 480
    },
    "id": "ZgqtKpau5RjN"
   },
   "outputs": [],
   "source": [
    "loss_func = ...\n",
    "opt = ...\n",
    "metric = torchmetrics.Accuracy()"
   ]
  },
  {
   "cell_type": "code",
   "execution_count": 34,
   "metadata": {
    "executionInfo": {
     "elapsed": 8,
     "status": "ok",
     "timestamp": 1641972502413,
     "user": {
      "displayName": "Mike Frantz",
      "photoUrl": "https://lh3.googleusercontent.com/a-/AOh14GiGYCwZXGfGg-CE4_33PQcH9SW8fN6MyRkenN8-IA=s64",
      "userId": "08482506601269125384"
     },
     "user_tz": 480
    },
    "id": "0xOfbQ4T-L3S"
   },
   "outputs": [],
   "source": [
    "def train_step(x_b, y_b):\n",
    "    # Send x_b and y_b to the GPU, if available\n",
    "    x_b = x_b.to(config.device)\n",
    "    y_b = y_b.to(config.device)\n",
    "    # Generate yhat\n",
    "    yhat = ...\n",
    "    # Calculate the loss\n",
    "    loss = ...\n",
    "    # Calculate gradients\n",
    "\n",
    "    # Perform your update and zero out your gradients\n",
    "    opt\n",
    "    opt\n",
    "\n",
    "    # Update your accuracy metric. We'll give you this one!\n",
    "    batch_acc = metric(yhat.cpu().softmax(axis=1), y_b.cpu())\n",
    "\n",
    "    # Return the loss\n",
    "    return loss"
   ]
  },
  {
   "cell_type": "code",
   "execution_count": 35,
   "metadata": {
    "executionInfo": {
     "elapsed": 9,
     "status": "ok",
     "timestamp": 1641972502414,
     "user": {
      "displayName": "Mike Frantz",
      "photoUrl": "https://lh3.googleusercontent.com/a-/AOh14GiGYCwZXGfGg-CE4_33PQcH9SW8fN6MyRkenN8-IA=s64",
      "userId": "08482506601269125384"
     },
     "user_tz": 480
    },
    "id": "pS45cCPv_gbo"
   },
   "outputs": [],
   "source": [
    "def validation_step(x_b, y_b):\n",
    "    # Send x_b and y_b to the GPU, if available\n",
    "    x_b = ...\n",
    "    y_b = ...\n",
    "    # Tell torch not to calculate gradients on the validation batch\n",
    "    with torch.no_grad():\n",
    "        # Generate yhat\n",
    "        yhat = ...\n",
    "        # Calculate the loss\n",
    "        loss = ...\n",
    "\n",
    "    # Ok, you've seen this before, you do it this time!\n",
    "    batch_acc = ...\n",
    "\n",
    "    # Return the loss\n",
    "    return loss"
   ]
  },
  {
   "cell_type": "code",
   "execution_count": 39,
   "metadata": {
    "executionInfo": {
     "elapsed": 341,
     "status": "ok",
     "timestamp": 1641972502748,
     "user": {
      "displayName": "Mike Frantz",
      "photoUrl": "https://lh3.googleusercontent.com/a-/AOh14GiGYCwZXGfGg-CE4_33PQcH9SW8fN6MyRkenN8-IA=s64",
      "userId": "08482506601269125384"
     },
     "user_tz": 480
    },
    "id": "1gsDzYhJ5SpS"
   },
   "outputs": [],
   "source": [
    "N_EPOCHS = 10"
   ]
  },
  {
   "cell_type": "code",
   "execution_count": 40,
   "metadata": {
    "colab": {
     "base_uri": "https://localhost:8080/"
    },
    "executionInfo": {
     "elapsed": 194314,
     "status": "ok",
     "timestamp": 1641972697059,
     "user": {
      "displayName": "Mike Frantz",
      "photoUrl": "https://lh3.googleusercontent.com/a-/AOh14GiGYCwZXGfGg-CE4_33PQcH9SW8fN6MyRkenN8-IA=s64",
      "userId": "08482506601269125384"
     },
     "user_tz": 480
    },
    "id": "KjPF8YoZ5jxr",
    "outputId": "165e1e9f-0a26-40b9-dd39-8b116eff3c86"
   },
   "outputs": [],
   "source": [
    "train_losses_step = []\n",
    "train_losses = []\n",
    "valid_losses = []\n",
    "for epoch in range(N_EPOCHS):\n",
    "    # Training loop\n",
    "    model.train() # Put the model in train mode\n",
    "    train_loss_epoch = 0.\n",
    "    for x_b, y_b in train_dl:\n",
    "        loss = train_step(x_b, y_b)\n",
    "        train_loss_epoch += loss\n",
    "        train_losses_step.append(loss.item())\n",
    "    \n",
    "    # Compute the train loss and accuracy for the epoch.\n",
    "    # The epoch loss is a little bit off if our final batch\n",
    "    # is a different size - we're going to ignore that for now,\n",
    "    # since higher-level libraries will solve this for us.\n",
    "    train_loss_epoch /= len(train_dl)\n",
    "    train_losses.append(train_loss_epoch.item())\n",
    "    train_acc = metric.compute()\n",
    "    \n",
    "    # Validation loop\n",
    "    model.eval() # Put the model in eval mode (affects dropout and batch norm)\n",
    "    val_loss_epoch = 0.\n",
    "    for x_b, y_b in valid_dl:\n",
    "        loss = validation_step(x_b, y_b)\n",
    "        val_loss_epoch += loss\n",
    "    \n",
    "    val_loss_epoch /= len(valid_dl)\n",
    "    valid_acc = metric.compute()\n",
    "    valid_losses.append(val_loss_epoch.item())\n",
    "\n",
    "    print(f\"Epoch: {epoch}, Train loss: {train_loss_epoch:.04f} Train acc: {float(train_acc):.04f}, Valid loss: {val_loss_epoch} Valid Acc: {float(valid_acc):.04f}\")"
   ]
  },
  {
   "cell_type": "code",
   "execution_count": 41,
   "metadata": {
    "colab": {
     "base_uri": "https://localhost:8080/",
     "height": 514
    },
    "executionInfo": {
     "elapsed": 473,
     "status": "ok",
     "timestamp": 1641972697518,
     "user": {
      "displayName": "Mike Frantz",
      "photoUrl": "https://lh3.googleusercontent.com/a-/AOh14GiGYCwZXGfGg-CE4_33PQcH9SW8fN6MyRkenN8-IA=s64",
      "userId": "08482506601269125384"
     },
     "user_tz": 480
    },
    "id": "Hnlh1c1SLur1",
    "outputId": "d6994daa-64f8-40da-c4d0-3fb648b55a2a"
   },
   "outputs": [],
   "source": [
    "fig, axes = plt.subplots(ncols=2, nrows=1, figsize=(20,8))\n",
    "ax1, ax2 = axes\n",
    "ax1.plot(train_losses_step, label='Train Loss')\n",
    "ax2.plot(train_losses, label='Train Loss')\n",
    "ax2.plot(valid_losses, label='Valid Loss')\n",
    "ax1.legend()\n",
    "ax2.legend()\n",
    "ax1.set_xlabel('Step')\n",
    "ax1.set_ylabel('Cross Entropy Loss')\n",
    "ax2.set_xlabel('Epoch')"
   ]
  },
  {
   "cell_type": "code",
   "execution_count": 42,
   "metadata": {
    "executionInfo": {
     "elapsed": 4,
     "status": "ok",
     "timestamp": 1641972697519,
     "user": {
      "displayName": "Mike Frantz",
      "photoUrl": "https://lh3.googleusercontent.com/a-/AOh14GiGYCwZXGfGg-CE4_33PQcH9SW8fN6MyRkenN8-IA=s64",
      "userId": "08482506601269125384"
     },
     "user_tz": 480
    },
    "id": "-Y-goUHmfMAo"
   },
   "outputs": [],
   "source": [
    "def show_preds(sample=None):\n",
    "    \"\"\"\n",
    "    Shows a actuals and inferences from a random sample of the validation dataset.\n",
    "    \"\"\"\n",
    "    # Sample a few images\n",
    "    if sample is None:\n",
    "        sample = mnist_valid_scaled.sample(9)\n",
    "    # Get the sample into a format we can feed into the model\n",
    "    x_b = torch.FloatTensor(sample.loc[:, 1:].values)\n",
    "    y_b = sample.loc[:,0].values\n",
    "\n",
    "    # Make inferences on the sample\n",
    "    model.eval()\n",
    "    with torch.no_grad():\n",
    "        # Get the inferences, apply softmax to convert to predicted probabilities,\n",
    "        # and use argmax to get the index of the highest probability.\n",
    "        # This is the digit!\n",
    "        preds = model(x_b.to(config.device)).softmax(dim=-1).argmax(dim=-1).cpu().numpy()\n",
    "    \n",
    "    # Plot a 3x3 grid of digits, where the title\n",
    "    # contains the predictiona nd the actual value.\n",
    "    fig = plt.figure(figsize=(12, 12))\n",
    "    for i, (x, y, p) in enumerate(zip(x_b, y_b, preds)):\n",
    "        ax = fig.add_subplot(3, 3, 1+i)\n",
    "        ax.matshow(x.reshape(28, 28), cmap='Greys_r')\n",
    "        ax.set_title(f'Actual: {y}, Pred: {int(p)}')\n",
    "        ax.set_xticks([])\n",
    "        ax.set_yticks([])\n",
    "    fig.tight_layout()\n",
    "    plt.close()\n",
    "    return fig"
   ]
  },
  {
   "cell_type": "code",
   "execution_count": 43,
   "metadata": {
    "colab": {
     "base_uri": "https://localhost:8080/",
     "height": 876
    },
    "executionInfo": {
     "elapsed": 442,
     "status": "ok",
     "timestamp": 1641972697958,
     "user": {
      "displayName": "Mike Frantz",
      "photoUrl": "https://lh3.googleusercontent.com/a-/AOh14GiGYCwZXGfGg-CE4_33PQcH9SW8fN6MyRkenN8-IA=s64",
      "userId": "08482506601269125384"
     },
     "user_tz": 480
    },
    "id": "L_f4JkNyC4X7",
    "outputId": "9f6fd612-5290-4e62-93d0-dc093a627f31"
   },
   "outputs": [],
   "source": [
    "show_preds()"
   ]
  },
  {
   "cell_type": "code",
   "execution_count": 44,
   "metadata": {
    "executionInfo": {
     "elapsed": 304,
     "status": "ok",
     "timestamp": 1641972698259,
     "user": {
      "displayName": "Mike Frantz",
      "photoUrl": "https://lh3.googleusercontent.com/a-/AOh14GiGYCwZXGfGg-CE4_33PQcH9SW8fN6MyRkenN8-IA=s64",
      "userId": "08482506601269125384"
     },
     "user_tz": 480
    },
    "id": "iA7uKJcGcCoA"
   },
   "outputs": [],
   "source": [
    "from sklearn.metrics import confusion_matrix, ConfusionMatrixDisplay, classification_report"
   ]
  },
  {
   "cell_type": "code",
   "execution_count": 45,
   "metadata": {
    "colab": {
     "base_uri": "https://localhost:8080/"
    },
    "executionInfo": {
     "elapsed": 6121,
     "status": "ok",
     "timestamp": 1641972704378,
     "user": {
      "displayName": "Mike Frantz",
      "photoUrl": "https://lh3.googleusercontent.com/a-/AOh14GiGYCwZXGfGg-CE4_33PQcH9SW8fN6MyRkenN8-IA=s64",
      "userId": "08482506601269125384"
     },
     "user_tz": 480
    },
    "id": "7i3GFLl_cLeM",
    "outputId": "27423366-28d7-4f66-ba90-e0b8cbf3841c"
   },
   "outputs": [],
   "source": [
    "probas = []\n",
    "preds = []\n",
    "losses = []\n",
    "ys = []\n",
    "model.eval()\n",
    "for x_b, y_b in valid_dl:\n",
    "    with torch.no_grad():\n",
    "        logits = model(x_b.to(config.device)).cpu()\n",
    "        _probas = logits.softmax(dim=-1).numpy()\n",
    "        _preds = _probas.argmax(axis=-1)\n",
    "        _losses = F.cross_entropy(logits, y_b, reduce=False)\n",
    "    probas.append(_probas)\n",
    "    preds.append(_preds)\n",
    "    losses.append(_losses.numpy())\n",
    "    ys.append(y_b.numpy())\n",
    "probas = np.vstack(probas)\n",
    "preds = np.concatenate(preds)\n",
    "losses = np.concatenate(losses)\n",
    "ys = np.concatenate(ys)"
   ]
  },
  {
   "cell_type": "code",
   "execution_count": 46,
   "metadata": {
    "colab": {
     "base_uri": "https://localhost:8080/",
     "height": 597
    },
    "executionInfo": {
     "elapsed": 557,
     "status": "ok",
     "timestamp": 1641972704921,
     "user": {
      "displayName": "Mike Frantz",
      "photoUrl": "https://lh3.googleusercontent.com/a-/AOh14GiGYCwZXGfGg-CE4_33PQcH9SW8fN6MyRkenN8-IA=s64",
      "userId": "08482506601269125384"
     },
     "user_tz": 480
    },
    "id": "5n0VSjh7GprO",
    "outputId": "4f1300f0-eeee-475d-e52d-b29bb0c3a6ce"
   },
   "outputs": [],
   "source": [
    "disp = ConfusionMatrixDisplay(confusion_matrix(ys, preds, normalize='true'), display_labels=range(10))\n",
    "cm_fig, ax = plt.subplots(figsize=(10,10))\n",
    "disp.plot(ax=ax)"
   ]
  },
  {
   "cell_type": "code",
   "execution_count": 47,
   "metadata": {
    "colab": {
     "base_uri": "https://localhost:8080/"
    },
    "executionInfo": {
     "elapsed": 8,
     "status": "ok",
     "timestamp": 1641972704922,
     "user": {
      "displayName": "Mike Frantz",
      "photoUrl": "https://lh3.googleusercontent.com/a-/AOh14GiGYCwZXGfGg-CE4_33PQcH9SW8fN6MyRkenN8-IA=s64",
      "userId": "08482506601269125384"
     },
     "user_tz": 480
    },
    "id": "3QnFFnG-HZ43",
    "outputId": "88332cb9-da36-4654-eed2-bf7c6092a3ee"
   },
   "outputs": [],
   "source": [
    "print(classification_report(ys, preds))"
   ]
  },
  {
   "cell_type": "code",
   "execution_count": 48,
   "metadata": {
    "executionInfo": {
     "elapsed": 4,
     "status": "ok",
     "timestamp": 1641972704923,
     "user": {
      "displayName": "Mike Frantz",
      "photoUrl": "https://lh3.googleusercontent.com/a-/AOh14GiGYCwZXGfGg-CE4_33PQcH9SW8fN6MyRkenN8-IA=s64",
      "userId": "08482506601269125384"
     },
     "user_tz": 480
    },
    "id": "1k8CKxH3Khwr"
   },
   "outputs": [],
   "source": [
    "# Your code here!"
   ]
  },
  {
   "cell_type": "code",
   "execution_count": 49,
   "metadata": {
    "executionInfo": {
     "elapsed": 6,
     "status": "ok",
     "timestamp": 1641972705426,
     "user": {
      "displayName": "Mike Frantz",
      "photoUrl": "https://lh3.googleusercontent.com/a-/AOh14GiGYCwZXGfGg-CE4_33PQcH9SW8fN6MyRkenN8-IA=s64",
      "userId": "08482506601269125384"
     },
     "user_tz": 480
    },
    "id": "8aZCjBKEL3Oy"
   },
   "outputs": [],
   "source": []
  }
 ],
 "metadata": {
  "accelerator": "GPU",
  "colab": {
   "collapsed_sections": [],
   "name": "08_Introduction_to_Classification.ipynb",
   "provenance": []
  },
  "kernelspec": {
   "display_name": "Python 3",
   "language": "python",
   "name": "python3"
  },
  "language_info": {
   "codemirror_mode": {
    "name": "ipython",
    "version": 3
   },
   "file_extension": ".py",
   "mimetype": "text/x-python",
   "name": "python",
   "nbconvert_exporter": "python",
   "pygments_lexer": "ipython3",
   "version": "3.9.4"
  }
 },
 "nbformat": 4,
 "nbformat_minor": 0
}
