{
 "cells": [
  {
   "cell_type": "code",
   "execution_count": 1,
   "metadata": {
    "id": "EBDfgfJY6X2F"
   },
   "outputs": [],
   "source": [
    "!pip install torchmetrics attridict -q"
   ]
  },
  {
   "cell_type": "code",
   "execution_count": 2,
   "metadata": {
    "id": "_6FyQ11IDHTG"
   },
   "outputs": [],
   "source": [
    "import torch\n",
    "from torch import nn\n",
    "import torch.nn.functional as F\n",
    "import torchmetrics\n",
    "from torchvision.datasets import MNIST\n",
    "from torch.utils.data import Dataset, DataLoader\n",
    "import matplotlib.pyplot as plt\n",
    "from PIL import Image\n",
    "import pandas as pd\n",
    "import numpy as np\n",
    "from IPython.display import display\n",
    "import attridict"
   ]
  },
  {
   "cell_type": "code",
   "execution_count": 3,
   "metadata": {
    "colab": {
     "base_uri": "https://localhost:8080/",
     "height": 35
    },
    "id": "aVnQSeXZahJI",
    "outputId": "da0d1c62-a4de-4168-fdc9-2b54758d69ee"
   },
   "outputs": [],
   "source": [
    "# Maybe delete this. Not sure if I want to get into GPUs yet, that should be a separate lesson.\n",
    "device = 'cuda' if torch.cuda.is_available() else 'cpu'\n",
    "device"
   ]
  },
  {
   "cell_type": "code",
   "execution_count": 4,
   "metadata": {
    "id": "WvKaTo03-UQ-"
   },
   "outputs": [],
   "source": [
    "# Load the train and validation data\n",
    "mnist_train = pd.read_csv('sample_data/mnist_train_small.csv', header=None)\n",
    "mnist_valid = pd.read_csv('sample_data/mnist_test.csv', header=None)"
   ]
  },
  {
   "cell_type": "code",
   "execution_count": 5,
   "metadata": {
    "colab": {
     "base_uri": "https://localhost:8080/",
     "height": 253
    },
    "id": "zGuzgVZD9Zg9",
    "outputId": "c4631e3c-c028-4fe0-e46c-b23fa72c1650"
   },
   "outputs": [],
   "source": [
    "# Take a look at the data.\n",
    "# It looks like the first column is the label,\n",
    "# And columns 1 - 785 are pixels.\n",
    "print(mnist_train.shape)\n",
    "mnist_train.head()"
   ]
  },
  {
   "cell_type": "code",
   "execution_count": 6,
   "metadata": {
    "colab": {
     "base_uri": "https://localhost:8080/",
     "height": 460
    },
    "id": "K9KSy4IBJsHN",
    "outputId": "773cfe2f-05b6-43af-b99a-ce1fb6f9aa28"
   },
   "outputs": [],
   "source": [
    "# What's the distribuiont of labels in the train set?\n",
    "display(mnist_train[0].value_counts().sort_index().plot.bar())\n",
    "display(mnist_train[0].value_counts(normalize=True).max())"
   ]
  },
  {
   "cell_type": "code",
   "execution_count": 7,
   "metadata": {
    "colab": {
     "base_uri": "https://localhost:8080/",
     "height": 460
    },
    "id": "uJHfKi8cJ985",
    "outputId": "456d05bc-6551-4364-8c84-d46d8f37b5c5"
   },
   "outputs": [],
   "source": [
    "# What's the distribuion of labels in the validation set?\n",
    "display(mnist_valid[0].value_counts().sort_index().plot.bar())\n",
    "display(mnist_valid[0].value_counts(normalize=True).max())"
   ]
  },
  {
   "cell_type": "code",
   "execution_count": 8,
   "metadata": {
    "id": "cIYGoVRMx91l"
   },
   "outputs": [],
   "source": [
    "def show_number(row, ax=None):\n",
    "    \"\"\"\n",
    "    This function shows a row as an image, and titles it with the label.\n",
    "\n",
    "    Options:\n",
    "    * row: a row from either of the mnist_train or mnist_valid dataframes.\n",
    "    * ax: if not None, will plot the digit on the provided ax.\n",
    "        Otherwise, this function should create a figure and\n",
    "    \"\"\"\n",
    "    return_fig = ax == None\n",
    "    target, values = row.values[0], row.values[1:].reshape(28, 28)\n",
    "    if not ax:\n",
    "        fig, ax = plt.subplots()\n",
    "    ax.imshow(values, cmap='gray_r')\n",
    "    ax.set_title(target)\n",
    "\n",
    "    plt.close()\n",
    "    if return_fig:\n",
    "        return fig"
   ]
  },
  {
   "cell_type": "code",
   "execution_count": 9,
   "metadata": {
    "colab": {
     "base_uri": "https://localhost:8080/",
     "height": 452
    },
    "id": "pjwuD3W7Ay7j",
    "outputId": "bf5fb76a-4953-4201-8643-aa93e113ee22"
   },
   "outputs": [],
   "source": [
    "show_number(mnist_train.sample(1).iloc[0])"
   ]
  },
  {
   "cell_type": "code",
   "execution_count": 10,
   "metadata": {
    "id": "YbhVnnjW-wHK"
   },
   "outputs": [],
   "source": [
    "def show_many(n_rows=3, n_cols=3):\n",
    "    \"\"\"\n",
    "    This function shows a number of images at a time, by default 9.\n",
    "    It takes a random sample of (n_rows * n_cols) of the training data to show.\n",
    "    \"\"\"\n",
    "    # Sample the training data\n",
    "    train_df_sample = mnist_train.sample(n_rows * n_cols)\n",
    "    # Create the figure\n",
    "    fig = plt.figure(figsize=(4*n_cols, 4*n_rows))\n",
    "    # For each row in the sample, plot the number\n",
    "    for i, (_, row) in enumerate(train_df_sample.iterrows()):\n",
    "        ax = fig.add_subplot(n_rows, n_cols, 1+i)\n",
    "        show_number(row, ax)\n",
    "    plt.close()\n",
    "    return fig"
   ]
  },
  {
   "cell_type": "code",
   "execution_count": 11,
   "metadata": {
    "colab": {
     "base_uri": "https://localhost:8080/",
     "height": 1000
    },
    "id": "QAmtLzYP07er",
    "outputId": "6d1a87ff-49ec-465f-f694-d2706af62882"
   },
   "outputs": [],
   "source": [
    "show_many()"
   ]
  },
  {
   "cell_type": "code",
   "execution_count": 12,
   "metadata": {
    "colab": {
     "base_uri": "https://localhost:8080/"
    },
    "id": "0CTuMZo532Kn",
    "outputId": "340fe367-4636-4348-8270-e0d90f4fe6ae"
   },
   "outputs": [],
   "source": [
    "# What are the min and max values of the data?\n",
    "mnist_train.loc[:, 1:].values.max(), \\\n",
    "mnist_train.loc[:, 1:].values.min()"
   ]
  },
  {
   "cell_type": "code",
   "execution_count": 13,
   "metadata": {
    "colab": {
     "base_uri": "https://localhost:8080/",
     "height": 449
    },
    "id": "CYRHdIphKc2V",
    "outputId": "7858b18a-2bf1-4276-e367-fcfe7b1aea7b"
   },
   "outputs": [],
   "source": [
    "plt.hist(mnist_train.loc[:, 1:].values.ravel())\n",
    "plt.ylabel('Number of pixels')\n",
    "plt.xlabel('Value')\n",
    "plt.yscale('log')"
   ]
  },
  {
   "cell_type": "code",
   "execution_count": 14,
   "metadata": {
    "colab": {
     "base_uri": "https://localhost:8080/"
    },
    "id": "1A1BoEqQ3_YP",
    "outputId": "0efe9b7a-2641-407f-db97-41cfd1f42cd9"
   },
   "outputs": [],
   "source": [
    "# Let's scale all the data between 0 and 1.\n",
    "mnist_train_scaled = mnist_train.copy()\n",
    "mnist_train_scaled.loc[:, 1:] /= 255"
   ]
  },
  {
   "cell_type": "code",
   "execution_count": 15,
   "metadata": {
    "colab": {
     "base_uri": "https://localhost:8080/"
    },
    "id": "KKUlrbHx4T3x",
    "outputId": "5d862d13-d964-42d6-a45d-b0f9917d8573"
   },
   "outputs": [],
   "source": [
    "mnist_valid_scaled = mnist_valid.copy()\n",
    "mnist_valid_scaled.loc[:, 1:] /= 255"
   ]
  },
  {
   "cell_type": "code",
   "execution_count": 16,
   "metadata": {
    "colab": {
     "base_uri": "https://localhost:8080/"
    },
    "id": "Pk6BerUY4Rrg",
    "outputId": "cf037147-2b86-414d-c823-f34700dc70f6"
   },
   "outputs": [],
   "source": [
    "mnist_train_scaled.loc[:, 1:].values.max(), \\\n",
    "mnist_train_scaled.loc[:, 1:].values.min()"
   ]
  },
  {
   "cell_type": "markdown",
   "metadata": {
    "id": "EoR-Esrkz90U"
   },
   "source": [
    "# Exercise 8.1\n",
    "\n",
    "Now that we've preprocessed our data, we require objects to feed data to our model.\n",
    "Using your knowledge about `torch` datasets, complete the `MnistDataset` class.\n",
    "Your `__getitem__` method should return a tuple of two values - the first is a vector of lenth 784 representing the pixel values of the image, and the second is an integer representing the label (0-9).\n",
    "Both items should be of type `torch.Tensor`.\n",
    "\n",
    "<!-- startquestion -->\n"
   ]
  },
  {
   "cell_type": "code",
   "execution_count": 17,
   "metadata": {
    "id": "WPtwZS5A2j9j"
   },
   "outputs": [],
   "source": [
    "class MnistDataset(Dataset):\n",
    "    pass"
   ]
  },
  {
   "cell_type": "code",
   "execution_count": 19,
   "metadata": {
    "id": "vH_VYzCz4irc"
   },
   "outputs": [],
   "source": [
    "# Create datasets from the dataframes\n",
    "train_ds = MnistDataset(mnist_train_scaled)\n",
    "valid_ds = MnistDataset(mnist_valid_scaled)"
   ]
  },
  {
   "cell_type": "code",
   "execution_count": 20,
   "metadata": {
    "id": "du9MTd3B0_gX"
   },
   "outputs": [],
   "source": [
    "# Sanity check!\n",
    "_x, _y = train_ds[0]\n",
    "assert _x.shape[0] == mnist_train_scaled.shape[1] - 1\n",
    "assert _y == mnist_train_scaled.loc[0,0]"
   ]
  },
  {
   "cell_type": "markdown",
   "metadata": {
    "id": "kweDlauk08tG"
   },
   "source": [
    "# Exercise 8.2\n",
    "\n",
    "Now that we've created our datasets, use them to create our train and validation dataloaders.\n",
    "Remember to shuffle your train dataloader but not your valid!\n",
    "\n",
    "<!-- startquestion -->"
   ]
  },
  {
   "cell_type": "code",
   "execution_count": 21,
   "metadata": {
    "id": "VO4G7cPA4zQd"
   },
   "outputs": [],
   "source": [
    "# Create dataloaders from the datasets.\n",
    "# During the training phase, we need to keep both the activations\n",
    "# and the gradients in memory. However during the validation phase,\n",
    "# we don't have to store gradients (with torch.no_grad()) so we can double the batch size!\n",
    "\n",
    "train_dl = None\n",
    "valid_dl = None"
   ]
  },
  {
   "cell_type": "code",
   "execution_count": 23,
   "metadata": {
    "id": "4jZFug0E3JcB"
   },
   "outputs": [],
   "source": [
    "def linear(in_features, out_features, dropout=0.2):\n",
    "    \"\"\"\n",
    "    Returns an nn.Sequential module that we want to repeat a lot.\n",
    "    The module contains a linear layer, ReLU activation, BatchNorm, and dropout.\n",
    "    \"\"\"\n",
    "    raise NotImplementedError"
   ]
  },
  {
   "cell_type": "code",
   "execution_count": 25,
   "metadata": {
    "id": "nXUhyeGN4nU-"
   },
   "outputs": [],
   "source": [
    "# Sanity check!\n",
    "assert len(linear(1,1)) == 4"
   ]
  },
  {
   "cell_type": "code",
   "execution_count": 26,
   "metadata": {
    "id": "ukf-1HXu2CyR"
   },
   "outputs": [],
   "source": [
    "# Define some parameters for the model\n",
    "class Config(attridict):\n",
    "    def __init__(self, num_input_features=28*28, n_hidden_layers=2, hidden_dim=256, n_labels=10):\n",
    "        self.num_input_features = num_input_features\n",
    "        self.n_hidden_layers = n_hidden_layers\n",
    "        self.hidden_dim = hidden_dim\n",
    "        self.n_labels = n_labels\n",
    "        self.device = 'cuda' if torch.cuda.is_available() else 'cpu'\n",
    "\n",
    "config = Config()"
   ]
  },
  {
   "cell_type": "code",
   "execution_count": 27,
   "metadata": {
    "id": "Sj4grtALSRi1"
   },
   "outputs": [],
   "source": [
    "def build_model(config):\n",
    "    raise NotImplementedError()"
   ]
  },
  {
   "cell_type": "code",
   "execution_count": 29,
   "metadata": {
    "id": "TFTpRLFg5ela"
   },
   "outputs": [],
   "source": [
    "# instantiate the model\n",
    "model = build_model(config)"
   ]
  },
  {
   "cell_type": "code",
   "execution_count": 30,
   "metadata": {
    "colab": {
     "base_uri": "https://localhost:8080/"
    },
    "id": "z1c5ckLZTKyq",
    "outputId": "8532bf2c-2a3d-445b-e428-20a1ee9ab416"
   },
   "outputs": [],
   "source": [
    "# if the model's not on the GPU but it's available, put it there.\n",
    "print('Model device: ', next(model.parameters()).device)\n",
    "if not next(model.parameters()).is_cuda & torch.cuda.is_available():\n",
    "    print('Model is on CPU, but GPU is available. Putting model on GPU.')\n",
    "    model = model.to(config.device)\n",
    "    print('Model device: ', next(model.parameters()).device)"
   ]
  },
  {
   "cell_type": "code",
   "execution_count": 31,
   "metadata": {
    "id": "z0vDVxKo2jij"
   },
   "outputs": [],
   "source": [
    "# Sanity check!\n",
    "assert len(model) == config.n_hidden_layers + 2"
   ]
  },
  {
   "cell_type": "code",
   "execution_count": 32,
   "metadata": {
    "colab": {
     "base_uri": "https://localhost:8080/"
    },
    "id": "i32PHOveL5E8",
    "outputId": "8eb2ab6b-66df-428e-e678-9eac0865afba"
   },
   "outputs": [],
   "source": [
    "# Another sanity check: our model should be able to operate on a batch of data.\n",
    "for x_b, y_b in train_dl:\n",
    "    break\n",
    "model(x_b.to(config.device)).shape"
   ]
  },
  {
   "cell_type": "code",
   "execution_count": 33,
   "metadata": {
    "id": "ZgqtKpau5RjN"
   },
   "outputs": [],
   "source": [
    "loss_func = ...\n",
    "opt = ...\n",
    "metric = torchmetrics.Accuracy(task=\"multiclass\", num_classes=10)"
   ]
  },
  {
   "cell_type": "code",
   "execution_count": 34,
   "metadata": {
    "id": "0xOfbQ4T-L3S"
   },
   "outputs": [],
   "source": [
    "def train_step(x_b, y_b):\n",
    "    # Send x_b and y_b to the GPU, if available\n",
    "    x_b = x_b.to(config.device)\n",
    "    y_b = y_b.to(config.device)\n",
    "    # Generate yhat\n",
    "    yhat = ...\n",
    "    # Calculate the loss\n",
    "    loss = ...\n",
    "    # Calculate gradients\n",
    "\n",
    "    # Perform your update and zero out your gradients\n",
    "    opt\n",
    "    opt\n",
    "\n",
    "    # Update your accuracy metric. We'll give you this one!\n",
    "    batch_acc = metric(yhat.cpu().softmax(axis=1), y_b.cpu())\n",
    "\n",
    "    # Return the loss\n",
    "    return loss"
   ]
  },
  {
   "cell_type": "code",
   "execution_count": 35,
   "metadata": {
    "id": "pS45cCPv_gbo"
   },
   "outputs": [],
   "source": [
    "def validation_step(x_b, y_b):\n",
    "    # Send x_b and y_b to the GPU, if available\n",
    "    x_b = ...\n",
    "    y_b = ...\n",
    "    # Tell torch not to calculate gradients on the validation batch\n",
    "    with torch.no_grad():\n",
    "        # Generate yhat\n",
    "        yhat = ...\n",
    "        # Calculate the loss\n",
    "        loss = ...\n",
    "\n",
    "    # Ok, you've seen this before, you do it this time!\n",
    "    batch_acc = ...\n",
    "\n",
    "    # Return the loss\n",
    "    return loss"
   ]
  },
  {
   "cell_type": "code",
   "execution_count": 39,
   "metadata": {
    "id": "1gsDzYhJ5SpS"
   },
   "outputs": [],
   "source": [
    "N_EPOCHS = 10"
   ]
  },
  {
   "cell_type": "code",
   "execution_count": 40,
   "metadata": {
    "colab": {
     "base_uri": "https://localhost:8080/"
    },
    "id": "KjPF8YoZ5jxr",
    "outputId": "e9018dcd-9905-4f83-c7cc-5b4e805c4a6d"
   },
   "outputs": [],
   "source": [
    "train_losses_step = []\n",
    "train_losses = []\n",
    "valid_losses = []\n",
    "for epoch in range(N_EPOCHS):\n",
    "    # Training loop\n",
    "    model.train() # Put the model in train mode\n",
    "    train_loss_epoch = 0.\n",
    "    for x_b, y_b in train_dl:\n",
    "        loss = train_step(x_b, y_b)\n",
    "        train_loss_epoch += loss\n",
    "        train_losses_step.append(loss.item())\n",
    "\n",
    "    # Compute the train loss and accuracy for the epoch.\n",
    "    # The epoch loss is a little bit off if our final batch\n",
    "    # is a different size - we're going to ignore that for now,\n",
    "    # since higher-level libraries will solve this for us.\n",
    "    train_loss_epoch /= len(train_dl)\n",
    "    train_losses.append(train_loss_epoch.item())\n",
    "    train_acc = metric.compute()\n",
    "\n",
    "    # Validation loop\n",
    "    model.eval() # Put the model in eval mode (affects dropout and batch norm)\n",
    "    val_loss_epoch = 0.\n",
    "    for x_b, y_b in valid_dl:\n",
    "        loss = validation_step(x_b, y_b)\n",
    "        val_loss_epoch += loss\n",
    "\n",
    "    val_loss_epoch /= len(valid_dl)\n",
    "    valid_acc = metric.compute()\n",
    "    valid_losses.append(val_loss_epoch.item())\n",
    "\n",
    "    print(f\"Epoch: {epoch}, Train loss: {train_loss_epoch:.04f} Train acc: {float(train_acc):.04f}, Valid loss: {val_loss_epoch} Valid Acc: {float(valid_acc):.04f}\")"
   ]
  },
  {
   "cell_type": "code",
   "execution_count": 41,
   "metadata": {
    "colab": {
     "base_uri": "https://localhost:8080/",
     "height": 713
    },
    "id": "Hnlh1c1SLur1",
    "outputId": "a3ac97a0-0a41-43bc-8b4f-081c26f74240"
   },
   "outputs": [],
   "source": [
    "fig, axes = plt.subplots(ncols=2, nrows=1, figsize=(20,8))\n",
    "ax1, ax2 = axes\n",
    "ax1.plot(train_losses_step, label='Train Loss')\n",
    "ax2.plot(train_losses, label='Train Loss')\n",
    "ax2.plot(valid_losses, label='Valid Loss')\n",
    "ax1.legend()\n",
    "ax2.legend()\n",
    "ax1.set_xlabel('Step')\n",
    "ax1.set_ylabel('Cross Entropy Loss')\n",
    "ax2.set_xlabel('Epoch')"
   ]
  },
  {
   "cell_type": "code",
   "execution_count": 42,
   "metadata": {
    "id": "-Y-goUHmfMAo"
   },
   "outputs": [],
   "source": [
    "def show_preds(sample=None):\n",
    "    \"\"\"\n",
    "    Shows a actuals and inferences from a random sample of the validation dataset.\n",
    "    \"\"\"\n",
    "    # Sample a few images\n",
    "    if sample is None:\n",
    "        sample = mnist_valid_scaled.sample(9)\n",
    "    # Get the sample into a format we can feed into the model\n",
    "    x_b = torch.FloatTensor(sample.loc[:, 1:].values)\n",
    "    y_b = sample.loc[:,0].values\n",
    "\n",
    "    # Make inferences on the sample\n",
    "    model.eval()\n",
    "    with torch.no_grad():\n",
    "        # Get the inferences, apply softmax to convert to predicted probabilities,\n",
    "        # and use argmax to get the index of the highest probability.\n",
    "        # This is the digit!\n",
    "        preds = model(x_b.to(config.device)).softmax(dim=-1).argmax(dim=-1).cpu().numpy()\n",
    "\n",
    "    # Plot a 3x3 grid of digits, where the title\n",
    "    # contains the predictiona nd the actual value.\n",
    "    fig = plt.figure(figsize=(12, 12))\n",
    "    for i, (x, y, p) in enumerate(zip(x_b, y_b, preds)):\n",
    "        ax = fig.add_subplot(3, 3, 1+i)\n",
    "        ax.matshow(x.reshape(28, 28), cmap='Greys_r')\n",
    "        ax.set_title(f'Actual: {y}, Pred: {int(p)}')\n",
    "        ax.set_xticks([])\n",
    "        ax.set_yticks([])\n",
    "    fig.tight_layout()\n",
    "    plt.close()\n",
    "    return fig"
   ]
  },
  {
   "cell_type": "code",
   "execution_count": 43,
   "metadata": {
    "colab": {
     "base_uri": "https://localhost:8080/",
     "height": 1000
    },
    "id": "L_f4JkNyC4X7",
    "outputId": "d031022d-df85-4a26-e39c-c0a9d884ae64"
   },
   "outputs": [],
   "source": [
    "show_preds()"
   ]
  },
  {
   "cell_type": "code",
   "execution_count": 44,
   "metadata": {
    "id": "iA7uKJcGcCoA"
   },
   "outputs": [],
   "source": [
    "from sklearn.metrics import confusion_matrix, ConfusionMatrixDisplay, classification_report"
   ]
  },
  {
   "cell_type": "code",
   "execution_count": 45,
   "metadata": {
    "colab": {
     "base_uri": "https://localhost:8080/"
    },
    "id": "7i3GFLl_cLeM",
    "outputId": "e3e70f7c-ef4e-41df-974a-a79f5f353c17"
   },
   "outputs": [],
   "source": [
    "probas = []\n",
    "preds = []\n",
    "losses = []\n",
    "ys = []\n",
    "model.eval()\n",
    "for x_b, y_b in valid_dl:\n",
    "    with torch.no_grad():\n",
    "        logits = model(x_b.to(config.device)).cpu()\n",
    "        _probas = logits.softmax(dim=-1).numpy()\n",
    "        _preds = _probas.argmax(axis=-1)\n",
    "        _losses = F.cross_entropy(logits, y_b, reduce=False)\n",
    "    probas.append(_probas)\n",
    "    preds.append(_preds)\n",
    "    losses.append(_losses.numpy())\n",
    "    ys.append(y_b.numpy())\n",
    "probas = np.vstack(probas)\n",
    "preds = np.concatenate(preds)\n",
    "losses = np.concatenate(losses)\n",
    "ys = np.concatenate(ys)"
   ]
  },
  {
   "cell_type": "code",
   "execution_count": 46,
   "metadata": {
    "colab": {
     "base_uri": "https://localhost:8080/",
     "height": 832
    },
    "id": "5n0VSjh7GprO",
    "outputId": "cc6cd55e-8d0b-45a4-ec14-5bda8b76e88e"
   },
   "outputs": [],
   "source": [
    "disp = ConfusionMatrixDisplay(confusion_matrix(ys, preds, normalize='true'), display_labels=range(10))\n",
    "cm_fig, ax = plt.subplots(figsize=(10,10))\n",
    "disp.plot(ax=ax)"
   ]
  },
  {
   "cell_type": "code",
   "execution_count": 47,
   "metadata": {
    "colab": {
     "base_uri": "https://localhost:8080/"
    },
    "id": "3QnFFnG-HZ43",
    "outputId": "d0bf77a9-5436-413b-9db4-688e86e4cc8d"
   },
   "outputs": [],
   "source": [
    "print(classification_report(ys, preds))"
   ]
  },
  {
   "cell_type": "code",
   "execution_count": 48,
   "metadata": {
    "id": "1k8CKxH3Khwr"
   },
   "outputs": [],
   "source": [
    "# Your code here!"
   ]
  },
  {
   "cell_type": "code",
   "execution_count": 49,
   "metadata": {
    "id": "8aZCjBKEL3Oy"
   },
   "outputs": [],
   "source": []
  }
 ],
 "metadata": {
  "accelerator": "GPU",
  "colab": {
   "include_colab_link": true,
   "name": "08_Introduction_to_Classification.ipynb",
   "provenance": []
  },
  "gpuClass": "standard",
  "kernelspec": {
   "display_name": "Python 3",
   "language": "python",
   "name": "python3"
  },
  "language_info": {
   "codemirror_mode": {
    "name": "ipython",
    "version": 3
   },
   "file_extension": ".py",
   "mimetype": "text/x-python",
   "name": "python",
   "nbconvert_exporter": "python",
   "pygments_lexer": "ipython3",
   "version": "3.9.4"
  }
 },
 "nbformat": 4,
 "nbformat_minor": 0
}
