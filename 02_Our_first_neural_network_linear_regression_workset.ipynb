{
 "cells": [
  {
   "cell_type": "code",
   "execution_count": 1,
   "metadata": {
    "executionInfo": {
     "elapsed": 7668,
     "status": "ok",
     "timestamp": 1660321669707,
     "user": {
      "displayName": "Mike Frantz",
      "userId": "08482506601269125384"
     },
     "user_tz": 420
    },
    "id": "UVZlK6AjphyK"
   },
   "outputs": [],
   "source": [
    "# Imports\n",
    "import torch\n",
    "from torch import nn, optim\n",
    "import torch.nn.functional as F\n",
    "import matplotlib.pyplot as plt\n",
    "import numpy as np\n",
    "import seaborn as sns\n",
    "from sklearn.model_selection import train_test_split\n",
    "\n",
    "%matplotlib inline"
   ]
  },
  {
   "cell_type": "code",
   "execution_count": 2,
   "metadata": {
    "executionInfo": {
     "elapsed": 224,
     "status": "ok",
     "timestamp": 1660321675978,
     "user": {
      "displayName": "Mike Frantz",
      "userId": "08482506601269125384"
     },
     "user_tz": 420
    },
    "id": "Zhrag2TVqUut"
   },
   "outputs": [],
   "source": [
    "def seed_all(seed=42):\n",
    "    \"\"\"\n",
    "    Sets the numpy and torch random seed.\n",
    "    \"\"\"\n",
    "    np.random.seed(seed)\n",
    "    torch.random.seed = seed\n",
    "\n",
    "seed_all()"
   ]
  },
  {
   "cell_type": "code",
   "execution_count": 3,
   "metadata": {
    "executionInfo": {
     "elapsed": 3,
     "status": "ok",
     "timestamp": 1660321676794,
     "user": {
      "displayName": "Mike Frantz",
      "userId": "08482506601269125384"
     },
     "user_tz": 420
    },
    "id": "3i5JbcrJp8Ng"
   },
   "outputs": [],
   "source": [
    "# Create some X data\n",
    "X = np.random.uniform(0, 10, 100)"
   ]
  },
  {
   "cell_type": "code",
   "execution_count": 4,
   "metadata": {
    "executionInfo": {
     "elapsed": 240,
     "status": "ok",
     "timestamp": 1660321677834,
     "user": {
      "displayName": "Mike Frantz",
      "userId": "08482506601269125384"
     },
     "user_tz": 420
    },
    "id": "uWXuFmJPqglE"
   },
   "outputs": [],
   "source": [
    "# Define the slope (m), bias (b), and some noise we want to add to X to make y\n",
    "m = 3\n",
    "b = 1.8\n",
    "noise = np.random.normal(scale=3, size=100)"
   ]
  },
  {
   "cell_type": "markdown",
   "metadata": {
    "id": "YaATIViIcyK_"
   },
   "source": [
    "# Exercise 2.1\n",
    "\n",
    "Based on your knowledge of linear regression, please use the variables `X`, `m`, `b`, and `noise` to generate a new variable `y`.\n",
    "\n",
    "<!-- startquestion -->"
   ]
  },
  {
   "cell_type": "code",
   "execution_count": 5,
   "metadata": {
    "executionInfo": {
     "elapsed": 2,
     "status": "ok",
     "timestamp": 1660321679228,
     "user": {
      "displayName": "Mike Frantz",
      "userId": "08482506601269125384"
     },
     "user_tz": 420
    },
    "id": "cCGl3ng2dSRw"
   },
   "outputs": [],
   "source": [
    "y = ..."
   ]
  },
  {
   "cell_type": "code",
   "execution_count": 7,
   "metadata": {
    "colab": {
     "base_uri": "https://localhost:8080/",
     "height": 623
    },
    "executionInfo": {
     "elapsed": 454,
     "status": "ok",
     "timestamp": 1660321681454,
     "user": {
      "displayName": "Mike Frantz",
      "userId": "08482506601269125384"
     },
     "user_tz": 420
    },
    "id": "6R0i1APRq0SW",
    "outputId": "54b5085e-4c0c-43a4-c5c4-69a01e5645d0"
   },
   "outputs": [],
   "source": [
    "fig, ax = plt.subplots(figsize=(10,10))\n",
    "ax.set_xlabel('X')\n",
    "ax.set_ylabel('y')\n",
    "ax.scatter(X, y)"
   ]
  },
  {
   "cell_type": "markdown",
   "metadata": {
    "id": "5mMYN-sAdqc1"
   },
   "source": [
    "# Exercise 2.2\n",
    "\n",
    "Please complete the `mse` function below.\n",
    "There is a sanity check implemented that shoudl let you know if you've implemented the function correctly.\n",
    "\n",
    "<!-- startquestion -->"
   ]
  },
  {
   "cell_type": "code",
   "execution_count": 8,
   "metadata": {
    "executionInfo": {
     "elapsed": 181,
     "status": "ok",
     "timestamp": 1660321684737,
     "user": {
      "displayName": "Mike Frantz",
      "userId": "08482506601269125384"
     },
     "user_tz": 420
    },
    "id": "duBXRwuidjI0"
   },
   "outputs": [],
   "source": [
    "# Define MSE\n",
    "def mse(predictions:torch.Tensor, actuals:torch.Tensor) -> torch.Tensor:\n",
    "    # your code here\n",
    "    raise NotImplementedError(\"Implement MSE, then remove this line\")"
   ]
  },
  {
   "cell_type": "code",
   "execution_count": 10,
   "metadata": {
    "executionInfo": {
     "elapsed": 2,
     "status": "ok",
     "timestamp": 1660321685992,
     "user": {
      "displayName": "Mike Frantz",
      "userId": "08482506601269125384"
     },
     "user_tz": 420
    },
    "id": "YXVJjYjQYS-r"
   },
   "outputs": [],
   "source": [
    "ys = torch.tensor([1,2,3])\n",
    "yhats = torch.tensor([1.1, 2.1, 3.1])"
   ]
  },
  {
   "cell_type": "code",
   "execution_count": 11,
   "metadata": {
    "colab": {
     "base_uri": "https://localhost:8080/",
     "height": 166
    },
    "executionInfo": {
     "elapsed": 251,
     "status": "error",
     "timestamp": 1660321686856,
     "user": {
      "displayName": "Mike Frantz",
      "userId": "08482506601269125384"
     },
     "user_tz": 420
    },
    "id": "aqjXsI8dr4ba",
    "outputId": "408857d3-e041-4068-f9a4-e165d65a5d90"
   },
   "outputs": [],
   "source": [
    "assert mse(ys, yhats) == 0.01"
   ]
  },
  {
   "cell_type": "code",
   "execution_count": 12,
   "metadata": {
    "colab": {
     "base_uri": "https://localhost:8080/"
    },
    "executionInfo": {
     "elapsed": 170,
     "status": "ok",
     "timestamp": 1660321711770,
     "user": {
      "displayName": "Mike Frantz",
      "userId": "08482506601269125384"
     },
     "user_tz": 420
    },
    "id": "JXN3G-Fq4m9a",
    "outputId": "6d2e04ab-ab80-4cb3-c718-e25676e99656"
   },
   "outputs": [],
   "source": [
    "print(mse(ys, yhats))\n",
    "print(mse(ys, yhats).numpy())"
   ]
  },
  {
   "cell_type": "code",
   "execution_count": 14,
   "metadata": {
    "executionInfo": {
     "elapsed": 2,
     "status": "ok",
     "timestamp": 1660321739812,
     "user": {
      "displayName": "Mike Frantz",
      "userId": "08482506601269125384"
     },
     "user_tz": 420
    },
    "id": "T4dfoBM14tOq"
   },
   "outputs": [],
   "source": [
    "assert torch.allclose(mse(ys, yhats), torch.tensor(0.01))"
   ]
  },
  {
   "cell_type": "code",
   "execution_count": 15,
   "metadata": {
    "colab": {
     "base_uri": "https://localhost:8080/"
    },
    "executionInfo": {
     "elapsed": 232,
     "status": "ok",
     "timestamp": 1660321748998,
     "user": {
      "displayName": "Mike Frantz",
      "userId": "08482506601269125384"
     },
     "user_tz": 420
    },
    "id": "lmtAEb1_YOo6",
    "outputId": "549a42c1-cf61-4659-eba5-273fa60717f3"
   },
   "outputs": [],
   "source": [
    "# Now that we've defined MSE, let's just use Torch's.\n",
    "mse_loss = nn.MSELoss()\n",
    "mse_loss(ys, yhats)"
   ]
  },
  {
   "cell_type": "code",
   "execution_count": 16,
   "metadata": {
    "colab": {
     "base_uri": "https://localhost:8080/"
    },
    "executionInfo": {
     "elapsed": 2,
     "status": "ok",
     "timestamp": 1660321749635,
     "user": {
      "displayName": "Mike Frantz",
      "userId": "08482506601269125384"
     },
     "user_tz": 420
    },
    "id": "HROGoKWjY0g1",
    "outputId": "2c4c4aaa-5e19-4859-a54c-2fd0b2826ef9"
   },
   "outputs": [],
   "source": [
    "# We can also use the functional API to calculate MSE\n",
    "F.mse_loss(ys, yhats)"
   ]
  },
  {
   "cell_type": "code",
   "execution_count": 17,
   "metadata": {
    "executionInfo": {
     "elapsed": 2,
     "status": "ok",
     "timestamp": 1660321751132,
     "user": {
      "displayName": "Mike Frantz",
      "userId": "08482506601269125384"
     },
     "user_tz": 420
    },
    "id": "_i03QSwHZQFj"
   },
   "outputs": [],
   "source": [
    "from sklearn.linear_model import LinearRegression\n",
    "from sklearn.metrics import mean_squared_error"
   ]
  },
  {
   "cell_type": "markdown",
   "metadata": {
    "id": "1yIFPBzglI7u"
   },
   "source": [
    "# Exercise 2.3\n",
    "\n",
    "In the exercise below, use the notebook to fit a `LinearRegression` model. \n",
    "We will inspect the parameters (the coefficient and intercept), and calculate the mean squared error.\n",
    "In the cells below, complete the exercise to determine the coefficient and intercept learned by a `LinearRegression`.\n",
    "\n",
    "<!-- startquestion -->"
   ]
  },
  {
   "cell_type": "code",
   "execution_count": 18,
   "metadata": {
    "executionInfo": {
     "elapsed": 171,
     "status": "ok",
     "timestamp": 1660321752506,
     "user": {
      "displayName": "Mike Frantz",
      "userId": "08482506601269125384"
     },
     "user_tz": 420
    },
    "id": "M1rMNqDneidD"
   },
   "outputs": [],
   "source": [
    "# your code here\n",
    "lr = ..."
   ]
  },
  {
   "cell_type": "code",
   "execution_count": 20,
   "metadata": {
    "colab": {
     "base_uri": "https://localhost:8080/"
    },
    "executionInfo": {
     "elapsed": 2,
     "status": "ok",
     "timestamp": 1660321754092,
     "user": {
      "displayName": "Mike Frantz",
      "userId": "08482506601269125384"
     },
     "user_tz": 420
    },
    "id": "Lp5rB1BWZnyE",
    "outputId": "e9d009ac-e18a-40f0-b4cc-4a41617bc806"
   },
   "outputs": [],
   "source": [
    "# Display the slope and intercept\n",
    "lr.coef_, lr.intercept_"
   ]
  },
  {
   "cell_type": "code",
   "execution_count": 21,
   "metadata": {
    "colab": {
     "base_uri": "https://localhost:8080/"
    },
    "executionInfo": {
     "elapsed": 4,
     "status": "ok",
     "timestamp": 1660321757098,
     "user": {
      "displayName": "Mike Frantz",
      "userId": "08482506601269125384"
     },
     "user_tz": 420
    },
    "id": "1PAk2Xt3cAEy",
    "outputId": "48d140b5-885c-42b4-f609-66f1484ff8d0"
   },
   "outputs": [],
   "source": [
    "# Calculate the mean squared error\n",
    "mean_squared_error(y, lr.predict(X.reshape(-1, 1)))"
   ]
  },
  {
   "cell_type": "code",
   "execution_count": 22,
   "metadata": {
    "colab": {
     "base_uri": "https://localhost:8080/",
     "height": 623
    },
    "executionInfo": {
     "elapsed": 243,
     "status": "ok",
     "timestamp": 1660321757876,
     "user": {
      "displayName": "Mike Frantz",
      "userId": "08482506601269125384"
     },
     "user_tz": 420
    },
    "id": "8eIhs0pjZyem",
    "outputId": "91bffe1b-6bb1-4712-d216-5adb290ac630"
   },
   "outputs": [],
   "source": [
    "# Plot our line of best fit\n",
    "fig, ax = plt.subplots(figsize=(10,10))\n",
    "ax.set_xlabel('X')\n",
    "ax.set_ylabel('y')\n",
    "ax.scatter(X, y)\n",
    "_x = np.arange(0, 10)\n",
    "_y = _x * lr.coef_[0] + lr.intercept_\n",
    "ax.plot(_x, _y, c='red', label=f\"Line of best fit\")\n",
    "ax.legend()"
   ]
  },
  {
   "cell_type": "code",
   "execution_count": 23,
   "metadata": {
    "executionInfo": {
     "elapsed": 153,
     "status": "ok",
     "timestamp": 1660321759341,
     "user": {
      "displayName": "Mike Frantz",
      "userId": "08482506601269125384"
     },
     "user_tz": 420
    },
    "id": "zOJ2WiAyxGyo"
   },
   "outputs": [],
   "source": [
    "# Because we're in torch now, let's just turn X and y into tensors.\n",
    "X = torch.tensor(X)\n",
    "y = torch.tensor(y)"
   ]
  },
  {
   "cell_type": "markdown",
   "metadata": {
    "id": "u5Kd4qcgnnK3"
   },
   "source": [
    "# Exercise 2.4\n",
    "\n",
    "In the exercise below, complete the `forward` method. \n",
    "What is the input `X`? \n",
    "How should that be transformed to the output for a linear regression?\n",
    "\n",
    "<!-- startquestion -->"
   ]
  },
  {
   "cell_type": "code",
   "execution_count": 24,
   "metadata": {
    "executionInfo": {
     "elapsed": 1,
     "status": "ok",
     "timestamp": 1660321760357,
     "user": {
      "displayName": "Mike Frantz",
      "userId": "08482506601269125384"
     },
     "user_tz": 420
    },
    "id": "-2dfhB3fg1Jn"
   },
   "outputs": [],
   "source": [
    "# Build our linear regression model\n",
    "class LinReg(nn.Module):\n",
    "    def __init__(self):\n",
    "        super().__init__()\n",
    "        # Randomly initialize 2 parameters, one for our slope and one for our bias.\n",
    "        self.slope = nn.Parameter(torch.rand(1))\n",
    "        self.bias = nn.Parameter(torch.rand(1))\n",
    "\n",
    "    def forward(self, X):\n",
    "        raise NotImplementedError()"
   ]
  },
  {
   "cell_type": "code",
   "execution_count": 26,
   "metadata": {
    "executionInfo": {
     "elapsed": 2,
     "status": "ok",
     "timestamp": 1660321763371,
     "user": {
      "displayName": "Mike Frantz",
      "userId": "08482506601269125384"
     },
     "user_tz": 420
    },
    "id": "okgeYEnUtfHx"
   },
   "outputs": [],
   "source": [
    "lr = LinReg()"
   ]
  },
  {
   "cell_type": "code",
   "execution_count": 27,
   "metadata": {
    "executionInfo": {
     "elapsed": 2,
     "status": "ok",
     "timestamp": 1660321763575,
     "user": {
      "displayName": "Mike Frantz",
      "userId": "08482506601269125384"
     },
     "user_tz": 420
    },
    "id": "g5peJppY0Tsm"
   },
   "outputs": [],
   "source": [
    "N_EPOCHS = 300\n",
    "LR = 1e-3"
   ]
  },
  {
   "cell_type": "code",
   "execution_count": 28,
   "metadata": {
    "colab": {
     "base_uri": "https://localhost:8080/"
    },
    "executionInfo": {
     "elapsed": 179,
     "status": "ok",
     "timestamp": 1660321764153,
     "user": {
      "displayName": "Mike Frantz",
      "userId": "08482506601269125384"
     },
     "user_tz": 420
    },
    "id": "WGi-JIk-0ZP7",
    "outputId": "56a2dc72-b14a-4eb6-ffa2-995d230be046"
   },
   "outputs": [],
   "source": [
    "slopes = []\n",
    "biases = []\n",
    "losses = []\n",
    "_alphas = []\n",
    "for i in range(N_EPOCHS):\n",
    "    # Make some inferences\n",
    "    yhat = lr(X)\n",
    "    # Measure how bad those guesses were\n",
    "    loss = F.mse_loss(yhat, y)\n",
    "    if i%(N_EPOCHS/10)==0:\n",
    "        print(f\"Epoch {i} Train Loss: {loss:.04f}\")\n",
    "    # Calculate the gradient of all the parameters with respect to the loss\n",
    "    loss.backward()\n",
    "    # Apply the SGD update rule\n",
    "    lr.slope.data.sub_(lr.slope.grad * LR)\n",
    "    lr.bias.data.sub_(lr.bias.grad * LR)\n",
    "    # Zero out the gradients for the next round\n",
    "    lr.slope.grad.zero_()\n",
    "    lr.bias.grad.zero_()\n",
    "\n",
    "    # Record the parameters and losses so we can plot them out later\n",
    "    slopes.append(float(lr.slope.data.detach().numpy()))\n",
    "    biases.append(float(lr.bias.data.detach().numpy()))\n",
    "    losses.append(float(loss.detach().numpy()))\n",
    "    _alphas.append(i/N_EPOCHS)"
   ]
  },
  {
   "cell_type": "code",
   "execution_count": 29,
   "metadata": {
    "colab": {
     "base_uri": "https://localhost:8080/"
    },
    "executionInfo": {
     "elapsed": 192,
     "status": "ok",
     "timestamp": 1660321764535,
     "user": {
      "displayName": "Mike Frantz",
      "userId": "08482506601269125384"
     },
     "user_tz": 420
    },
    "id": "wgyFeEBudKpF",
    "outputId": "9d0c1d9a-53e8-46ca-d0b5-2a443ed0bfee"
   },
   "outputs": [],
   "source": [
    "lr.slope, lr.bias"
   ]
  },
  {
   "cell_type": "code",
   "execution_count": 30,
   "metadata": {
    "colab": {
     "base_uri": "https://localhost:8080/",
     "height": 606
    },
    "executionInfo": {
     "elapsed": 972,
     "status": "ok",
     "timestamp": 1660321766345,
     "user": {
      "displayName": "Mike Frantz",
      "userId": "08482506601269125384"
     },
     "user_tz": 420
    },
    "id": "qrWoCKIV1z4X",
    "outputId": "988597e0-0f5c-404a-9068-9b8aafc0fc08"
   },
   "outputs": [],
   "source": [
    "fig, ax = plt.subplots(figsize=(10,10))\n",
    "ax.set_xlabel('X')\n",
    "ax.set_ylabel('y')\n",
    "ax.scatter(X, y)\n",
    "for s, b, a in zip(slopes, biases, _alphas):\n",
    "    _x = np.arange(0, 10)\n",
    "    _y = _x * s + b\n",
    "    ax.plot(_x, _y, alpha=a, c='red', label=f\"Epoch {int(a)}\")\n"
   ]
  },
  {
   "cell_type": "code",
   "execution_count": 31,
   "metadata": {
    "colab": {
     "base_uri": "https://localhost:8080/",
     "height": 621
    },
    "executionInfo": {
     "elapsed": 319,
     "status": "ok",
     "timestamp": 1660321766661,
     "user": {
      "displayName": "Mike Frantz",
      "userId": "08482506601269125384"
     },
     "user_tz": 420
    },
    "id": "7gQXK8bw2NL-",
    "outputId": "6ce66ab8-36f4-460b-f817-dfe58f2c81ee"
   },
   "outputs": [],
   "source": [
    "fig, ax = plt.subplots(figsize=(14,10))\n",
    "ax.plot(losses)\n",
    "ax.set_xlabel('Epoch')\n",
    "ax.set_ylabel('Loss (MSE)')\n",
    "if (losses[-1] > losses[0]) | np.isnan(losses[-1]):\n",
    "    ax.set_title('Diverging - BAD!')\n",
    "else:\n",
    "    ax.set_title('Converging - goood!')"
   ]
  },
  {
   "cell_type": "markdown",
   "metadata": {
    "id": "kMMiW5YRhCQF"
   },
   "source": [
    "# Exercise 2.5\n",
    "\n",
    "Change the learning rate and number of epochs, then re-run the code up to this point, making sure to re-instantiate your model every time.\n",
    "What do you notice?\n",
    "What happens if you make the learning rate too large or too small?\n",
    "\n",
    "<!-- startquestion -->"
   ]
  },
  {
   "cell_type": "code",
   "execution_count": 32,
   "metadata": {
    "executionInfo": {
     "elapsed": 3,
     "status": "ok",
     "timestamp": 1660321766662,
     "user": {
      "displayName": "Mike Frantz",
      "userId": "08482506601269125384"
     },
     "user_tz": 420
    },
    "id": "1BMXex0Xjlty"
   },
   "outputs": [],
   "source": [
    "# Go back and re-run the code with different hyperparameters."
   ]
  },
  {
   "cell_type": "code",
   "execution_count": 33,
   "metadata": {
    "executionInfo": {
     "elapsed": 2,
     "status": "ok",
     "timestamp": 1660321767522,
     "user": {
      "displayName": "Mike Frantz",
      "userId": "08482506601269125384"
     },
     "user_tz": 420
    },
    "id": "-VVJBDwN6X-_"
   },
   "outputs": [],
   "source": [
    "# Make yet another fake dataset\n",
    "from sklearn.datasets import make_regression\n",
    "X, y = make_regression(n_samples=1000, n_features=3, n_informative=2, bias=3, noise=2)"
   ]
  },
  {
   "cell_type": "code",
   "execution_count": 34,
   "metadata": {
    "executionInfo": {
     "elapsed": 1,
     "status": "ok",
     "timestamp": 1660321767737,
     "user": {
      "displayName": "Mike Frantz",
      "userId": "08482506601269125384"
     },
     "user_tz": 420
    },
    "id": "3XHTBONL8APT"
   },
   "outputs": [],
   "source": [
    "# No more bad habits, we need to split our data.\n",
    "X_train, X_valid, y_train, y_valid = (torch.tensor(i).float() for i in train_test_split(X, y, test_size=0.1, random_state=42))"
   ]
  },
  {
   "cell_type": "markdown",
   "metadata": {
    "id": "h9o7gG1hqaey"
   },
   "source": [
    "# Exercise 2.6\n",
    "\n",
    "Complete the exercise below to create a few `nn.Parameter`s for our weights and bias.\n",
    "The `weights` parameter should have the same number of elements as `X_train` has columns, and the `bias` parameter should just be a single value.\n",
    "Use `torch.rand` to generate random numbers to populate the parameters.\n",
    "\n",
    "<!-- startquestion -->"
   ]
  },
  {
   "cell_type": "code",
   "execution_count": 35,
   "metadata": {
    "executionInfo": {
     "elapsed": 2,
     "status": "ok",
     "timestamp": 1660321768326,
     "user": {
      "displayName": "Mike Frantz",
      "userId": "08482506601269125384"
     },
     "user_tz": 420
    },
    "id": "e79s8POBiRaF"
   },
   "outputs": [],
   "source": [
    "# Let's create some temporary weights and biases and test out our matrix operations before we build our model.\n",
    "# Create a weights parameter with 1 beta per column in X\n",
    "weights = ...\n",
    "# Create our bias parameter\n",
    "bias = ..."
   ]
  },
  {
   "cell_type": "code",
   "execution_count": 37,
   "metadata": {
    "colab": {
     "base_uri": "https://localhost:8080/"
    },
    "executionInfo": {
     "elapsed": 4,
     "status": "ok",
     "timestamp": 1660321769018,
     "user": {
      "displayName": "Mike Frantz",
      "userId": "08482506601269125384"
     },
     "user_tz": 420
    },
    "id": "ZW3sWkn49A9r",
    "outputId": "657c010c-95e2-4073-e960-275a0fa585ed"
   },
   "outputs": [],
   "source": [
    "# Test out the operation we want to perform in the forward pass\n",
    "torch.matmul(X_train[:10], weights) + bias"
   ]
  },
  {
   "cell_type": "code",
   "execution_count": 38,
   "metadata": {
    "colab": {
     "base_uri": "https://localhost:8080/"
    },
    "executionInfo": {
     "elapsed": 3,
     "status": "ok",
     "timestamp": 1660321769782,
     "user": {
      "displayName": "Mike Frantz",
      "userId": "08482506601269125384"
     },
     "user_tz": 420
    },
    "id": "y8bauLhD7N8V",
    "outputId": "1fc5cf64-37ac-482b-df53-ec2039e262bd"
   },
   "outputs": [],
   "source": [
    "# FYI: @ does the same thing as matmul in this context and is easier\n",
    "X_train[:10]@weights + bias"
   ]
  },
  {
   "cell_type": "code",
   "execution_count": 39,
   "metadata": {
    "executionInfo": {
     "elapsed": 2,
     "status": "ok",
     "timestamp": 1660321770800,
     "user": {
      "displayName": "Mike Frantz",
      "userId": "08482506601269125384"
     },
     "user_tz": 420
    },
    "id": "mYRcEdGH8aN3"
   },
   "outputs": [],
   "source": [
    "# Sanity check: different implementations of our forward pass are the same\n",
    "assert (X_train@weights + bias == torch.matmul(X_train, weights) + bias).all()"
   ]
  },
  {
   "cell_type": "code",
   "execution_count": 40,
   "metadata": {
    "executionInfo": {
     "elapsed": 2,
     "status": "ok",
     "timestamp": 1660321771769,
     "user": {
      "displayName": "Mike Frantz",
      "userId": "08482506601269125384"
     },
     "user_tz": 420
    },
    "id": "gNzWV8938wjO"
   },
   "outputs": [],
   "source": [
    "# Let's make our model\n",
    "class LinRegMulti(nn.Module):\n",
    "    def __init__(self, n_cols):\n",
    "        super().__init__()\n",
    "        self.n_cols = n_cols\n",
    "\n",
    "        self.weights = nn.Parameter(torch.rand(self.n_cols))\n",
    "        self.bias = nn.Parameter(torch.rand(1))\n",
    "    \n",
    "    def forward(self, X):\n",
    "        return X@self.weights.T + self.bias"
   ]
  },
  {
   "cell_type": "code",
   "execution_count": 41,
   "metadata": {
    "executionInfo": {
     "elapsed": 159,
     "status": "ok",
     "timestamp": 1660321772758,
     "user": {
      "displayName": "Mike Frantz",
      "userId": "08482506601269125384"
     },
     "user_tz": 420
    },
    "id": "wEzQbpnR8hqO"
   },
   "outputs": [],
   "source": [
    "N_EPOCHS = 10000\n",
    "LR = 1e-3"
   ]
  },
  {
   "cell_type": "code",
   "execution_count": 42,
   "metadata": {
    "executionInfo": {
     "elapsed": 2,
     "status": "ok",
     "timestamp": 1660321773691,
     "user": {
      "displayName": "Mike Frantz",
      "userId": "08482506601269125384"
     },
     "user_tz": 420
    },
    "id": "MfWaPFjW9dfb"
   },
   "outputs": [],
   "source": [
    "lrm = LinRegMulti(X_train.shape[1])"
   ]
  },
  {
   "cell_type": "code",
   "execution_count": 43,
   "metadata": {
    "executionInfo": {
     "elapsed": 2,
     "status": "ok",
     "timestamp": 1660321774481,
     "user": {
      "displayName": "Mike Frantz",
      "userId": "08482506601269125384"
     },
     "user_tz": 420
    },
    "id": "UlRs5GF7-CQh"
   },
   "outputs": [],
   "source": [
    "# Instead of updating each parameter individually, let's make an update rule function.\n",
    "def gd_update_rule(parameters, lr):\n",
    "    parameters.data.sub_(parameters.grad * lr)\n",
    "    parameters.grad.zero_()"
   ]
  },
  {
   "cell_type": "code",
   "execution_count": 44,
   "metadata": {
    "executionInfo": {
     "elapsed": 171,
     "status": "ok",
     "timestamp": 1660321775591,
     "user": {
      "displayName": "Mike Frantz",
      "userId": "08482506601269125384"
     },
     "user_tz": 420
    },
    "id": "zzk5omp6-hEX"
   },
   "outputs": [],
   "source": [
    "train_losses = []\n",
    "valid_losses = []"
   ]
  },
  {
   "cell_type": "code",
   "execution_count": 45,
   "metadata": {
    "colab": {
     "base_uri": "https://localhost:8080/"
    },
    "executionInfo": {
     "elapsed": 3503,
     "status": "ok",
     "timestamp": 1660321780071,
     "user": {
      "displayName": "Mike Frantz",
      "userId": "08482506601269125384"
     },
     "user_tz": 420
    },
    "id": "GczinipS9hRz",
    "outputId": "ddf1eef3-95e1-4b7d-e256-b4383775e99b"
   },
   "outputs": [],
   "source": [
    "for i in range(N_EPOCHS):\n",
    "    yhat = lrm(X_train)\n",
    "    loss = mse(yhat, y_train)\n",
    "    loss.backward()\n",
    "    for p in lrm.parameters():\n",
    "        gd_update_rule(p, LR)\n",
    "    train_losses.append(loss.detach().numpy())\n",
    "\n",
    "    with torch.no_grad():\n",
    "        yhat = lrm(X_valid)\n",
    "        valid_loss = mse(yhat, y_valid)\n",
    "        valid_losses.append(valid_loss.numpy())\n",
    "\n",
    "    if i%(N_EPOCHS/10) == 0:\n",
    "        print(f\"Epoch {i} Train Loss: {loss:.04f}, Valid Loss: {valid_loss:.04f}\")"
   ]
  },
  {
   "cell_type": "code",
   "execution_count": 46,
   "metadata": {
    "colab": {
     "base_uri": "https://localhost:8080/",
     "height": 717
    },
    "executionInfo": {
     "elapsed": 246,
     "status": "ok",
     "timestamp": 1660321780313,
     "user": {
      "displayName": "Mike Frantz",
      "userId": "08482506601269125384"
     },
     "user_tz": 420
    },
    "id": "RoVuHW7a9iau",
    "outputId": "8b5bb379-0bd3-4fa9-e4e9-2d628b6c7790"
   },
   "outputs": [],
   "source": [
    "EPOCHS_TO_SHOW = 2000\n",
    "fig, ax = plt.subplots(figsize=(12, 12))\n",
    "ax.plot(train_losses[:EPOCHS_TO_SHOW], label='Train', linewidth=3, alpha=0.5)\n",
    "ax.plot(valid_losses[:EPOCHS_TO_SHOW], ls='--', label='Valid')\n",
    "ax.legend()"
   ]
  },
  {
   "cell_type": "code",
   "execution_count": 47,
   "metadata": {
    "colab": {
     "base_uri": "https://localhost:8080/"
    },
    "executionInfo": {
     "elapsed": 2,
     "status": "ok",
     "timestamp": 1660321780522,
     "user": {
      "displayName": "Mike Frantz",
      "userId": "08482506601269125384"
     },
     "user_tz": 420
    },
    "id": "nVxNByIg-mas",
    "outputId": "db894b17-819e-428d-b41f-b5d7134e4d08"
   },
   "outputs": [],
   "source": [
    "lrm.weights"
   ]
  },
  {
   "cell_type": "code",
   "execution_count": 48,
   "metadata": {
    "colab": {
     "base_uri": "https://localhost:8080/"
    },
    "executionInfo": {
     "elapsed": 2,
     "status": "ok",
     "timestamp": 1660321781052,
     "user": {
      "displayName": "Mike Frantz",
      "userId": "08482506601269125384"
     },
     "user_tz": 420
    },
    "id": "fYNLiUqy-yxx",
    "outputId": "263b7373-9949-44bf-ff46-40ded2f8e845"
   },
   "outputs": [],
   "source": [
    "lrm.bias"
   ]
  },
  {
   "cell_type": "code",
   "execution_count": 49,
   "metadata": {
    "executionInfo": {
     "elapsed": 159,
     "status": "ok",
     "timestamp": 1660321783167,
     "user": {
      "displayName": "Mike Frantz",
      "userId": "08482506601269125384"
     },
     "user_tz": 420
    },
    "id": "59HrUTC5_YfS"
   },
   "outputs": [],
   "source": [
    "class Linear(nn.Module):\n",
    "    def __init__(self, dim_in, dim_out):\n",
    "        super().__init__()\n",
    "        self.weights = nn.Parameter(torch.rand((dim_in, dim_out)))\n",
    "        self.bias = nn.Parameter(torch.rand(dim_out))\n",
    "    \n",
    "    def forward(self, X):\n",
    "\n",
    "        return X@self.weights + self.bias"
   ]
  },
  {
   "cell_type": "code",
   "execution_count": 50,
   "metadata": {
    "executionInfo": {
     "elapsed": 179,
     "status": "ok",
     "timestamp": 1660321784402,
     "user": {
      "displayName": "Mike Frantz",
      "userId": "08482506601269125384"
     },
     "user_tz": 420
    },
    "id": "glH-bIYp8JxC"
   },
   "outputs": [],
   "source": [
    "# Let's compare our Linear class with nn.Linear\n",
    "l1 = Linear(3, 5)\n",
    "l2 = nn.Linear(3, 5)"
   ]
  },
  {
   "cell_type": "code",
   "execution_count": 51,
   "metadata": {
    "colab": {
     "base_uri": "https://localhost:8080/"
    },
    "executionInfo": {
     "elapsed": 177,
     "status": "ok",
     "timestamp": 1660321785617,
     "user": {
      "displayName": "Mike Frantz",
      "userId": "08482506601269125384"
     },
     "user_tz": 420
    },
    "id": "SNAS7jI99yGE",
    "outputId": "0622c5e6-5ab9-479e-b9ee-4f0fdb96c332"
   },
   "outputs": [],
   "source": [
    "l2.weight"
   ]
  },
  {
   "cell_type": "code",
   "execution_count": 52,
   "metadata": {
    "colab": {
     "base_uri": "https://localhost:8080/"
    },
    "executionInfo": {
     "elapsed": 4,
     "status": "ok",
     "timestamp": 1660321786327,
     "user": {
      "displayName": "Mike Frantz",
      "userId": "08482506601269125384"
     },
     "user_tz": 420
    },
    "id": "QgwbpaGw9wCT",
    "outputId": "554809f6-a1ed-488c-9b76-80c66ae66d88"
   },
   "outputs": [],
   "source": [
    "l1.weights"
   ]
  },
  {
   "cell_type": "code",
   "execution_count": 53,
   "metadata": {
    "colab": {
     "base_uri": "https://localhost:8080/"
    },
    "executionInfo": {
     "elapsed": 165,
     "status": "ok",
     "timestamp": 1660321788039,
     "user": {
      "displayName": "Mike Frantz",
      "userId": "08482506601269125384"
     },
     "user_tz": 420
    },
    "id": "ZHTeLzXP_Rzc",
    "outputId": "1c1f710d-a982-40ed-e14f-db52ccc49a73"
   },
   "outputs": [],
   "source": [
    "# We need to make sure the weights have the same values.\n",
    "# If they don't, we won't be able to compare the output.\n",
    "# I'm not sure why the Linear layer's weights are transposed,\n",
    "# but we'll see it doesn't matter.\n",
    "l1.weights.data.copy_(l2.weight.T)\n",
    "l1.bias.data.copy_(l2.bias)"
   ]
  },
  {
   "cell_type": "code",
   "execution_count": 54,
   "metadata": {
    "colab": {
     "base_uri": "https://localhost:8080/"
    },
    "executionInfo": {
     "elapsed": 210,
     "status": "ok",
     "timestamp": 1660321789763,
     "user": {
      "displayName": "Mike Frantz",
      "userId": "08482506601269125384"
     },
     "user_tz": 420
    },
    "id": "LZsxCvsZ8c5R",
    "outputId": "cd7953f5-f9bc-46bb-a44e-25a5c6056d15"
   },
   "outputs": [],
   "source": [
    "l1(X_train[:5])"
   ]
  },
  {
   "cell_type": "code",
   "execution_count": 55,
   "metadata": {
    "colab": {
     "base_uri": "https://localhost:8080/"
    },
    "executionInfo": {
     "elapsed": 3,
     "status": "ok",
     "timestamp": 1660321790182,
     "user": {
      "displayName": "Mike Frantz",
      "userId": "08482506601269125384"
     },
     "user_tz": 420
    },
    "id": "o-l2dsw78oyO",
    "outputId": "ab315e31-dc38-4de8-f177-ae855f82e391"
   },
   "outputs": [],
   "source": [
    "l2(X_train[:5])"
   ]
  },
  {
   "cell_type": "code",
   "execution_count": 56,
   "metadata": {
    "executionInfo": {
     "elapsed": 176,
     "status": "ok",
     "timestamp": 1660321791429,
     "user": {
      "displayName": "Mike Frantz",
      "userId": "08482506601269125384"
     },
     "user_tz": 420
    },
    "id": "OJK1Q27O_cdR"
   },
   "outputs": [],
   "source": [
    "assert (l1(X_train[:5]) == l2(X_train[:5])).all()"
   ]
  },
  {
   "cell_type": "code",
   "execution_count": 57,
   "metadata": {
    "colab": {
     "base_uri": "https://localhost:8080/"
    },
    "executionInfo": {
     "elapsed": 1343,
     "status": "ok",
     "timestamp": 1660321794431,
     "user": {
      "displayName": "Mike Frantz",
      "userId": "08482506601269125384"
     },
     "user_tz": 420
    },
    "id": "iRV8GSei7rt_",
    "outputId": "8ab62565-5a7f-458e-d0ac-344042a8aff2"
   },
   "outputs": [],
   "source": [
    "%%timeit \n",
    "l1(X_train[:5])"
   ]
  },
  {
   "cell_type": "code",
   "execution_count": 58,
   "metadata": {
    "colab": {
     "base_uri": "https://localhost:8080/"
    },
    "executionInfo": {
     "elapsed": 1292,
     "status": "ok",
     "timestamp": 1660321795720,
     "user": {
      "displayName": "Mike Frantz",
      "userId": "08482506601269125384"
     },
     "user_tz": 420
    },
    "id": "WFOymbqq7wHO",
    "outputId": "4ce9ffc5-25e4-4eb8-b628-f3112cd50431"
   },
   "outputs": [],
   "source": [
    "%%timeit\n",
    " l2(X_train[:5])"
   ]
  },
  {
   "cell_type": "code",
   "execution_count": 59,
   "metadata": {
    "colab": {
     "base_uri": "https://localhost:8080/",
     "height": 516
    },
    "executionInfo": {
     "elapsed": 426,
     "status": "ok",
     "timestamp": 1660321801826,
     "user": {
      "displayName": "Mike Frantz",
      "userId": "08482506601269125384"
     },
     "user_tz": 420
    },
    "id": "gE7TAbIG2tjD",
    "outputId": "e00a2dfe-b2b0-42fd-f546-9f624ce76b97"
   },
   "outputs": [],
   "source": [
    "rng = torch.arange(-5, 5.01, 0.05)\n",
    "fig, ax = plt.subplots(figsize=(14, 8))\n",
    "ax.plot(rng, F.relu(rng), label='ReLU')\n",
    "ax.plot(rng, torch.tanh(rng), label='tanh')\n",
    "ax.plot(rng, torch.sigmoid(rng), label='sigmoid')\n",
    "ax.plot(rng, F.leaky_relu(rng, negative_slope=0.01), ls='--', label='leaky ReLU')\n",
    "ax.set_ylim(-1.1, 1.1)\n",
    "ax.set_title('Common activation functions')\n",
    "ax.legend()"
   ]
  },
  {
   "cell_type": "code",
   "execution_count": 60,
   "metadata": {
    "executionInfo": {
     "elapsed": 197,
     "status": "ok",
     "timestamp": 1660321804718,
     "user": {
      "displayName": "Mike Frantz",
      "userId": "08482506601269125384"
     },
     "user_tz": 420
    },
    "id": "E1zUoNys_9QL"
   },
   "outputs": [],
   "source": [
    "class MultiLayerRegressor(nn.Module):\n",
    "    def __init__(self, dim_in, hidden_dim):\n",
    "        super().__init__()\n",
    "        # self.first_layer = Linear(dim_in, hidden_dim)\n",
    "        self.first_layer = nn.Linear(dim_in, hidden_dim)\n",
    "        # self.second_layer = Linear(hidden_dim, 1)\n",
    "        self.second_layer = nn.Linear(hidden_dim, 1)\n",
    "    \n",
    "    def forward(self, X):\n",
    "        x = self.first_layer(X)\n",
    "        # x = relu(x)\n",
    "        x = F.relu(x)\n",
    "        x = self.second_layer(x)\n",
    "        return x"
   ]
  },
  {
   "cell_type": "code",
   "execution_count": 61,
   "metadata": {
    "executionInfo": {
     "elapsed": 2,
     "status": "ok",
     "timestamp": 1660321804925,
     "user": {
      "displayName": "Mike Frantz",
      "userId": "08482506601269125384"
     },
     "user_tz": 420
    },
    "id": "mc0dA6sxIFoe"
   },
   "outputs": [],
   "source": [
    "def multilayer_regressor(in_dim, hidden_dim):\n",
    "    return nn.Sequential(\n",
    "        nn.Linear(in_dim, hidden_dim),\n",
    "        nn.ReLU(),\n",
    "        nn.Linear(hidden_dim, 1)\n",
    "    )"
   ]
  },
  {
   "cell_type": "code",
   "execution_count": 62,
   "metadata": {
    "executionInfo": {
     "elapsed": 3,
     "status": "ok",
     "timestamp": 1660321805617,
     "user": {
      "displayName": "Mike Frantz",
      "userId": "08482506601269125384"
     },
     "user_tz": 420
    },
    "id": "FKLZZbRBAaBD"
   },
   "outputs": [],
   "source": [
    "# mlr = MultiLayerRegressor(3, 4)\n",
    "mlr = multilayer_regressor(3, 4)"
   ]
  },
  {
   "cell_type": "code",
   "execution_count": 63,
   "metadata": {
    "executionInfo": {
     "elapsed": 1,
     "status": "ok",
     "timestamp": 1660321805829,
     "user": {
      "displayName": "Mike Frantz",
      "userId": "08482506601269125384"
     },
     "user_tz": 420
    },
    "id": "0oaN64-iAwJ4"
   },
   "outputs": [],
   "source": [
    "train_losses = []\n",
    "valid_losses = []"
   ]
  },
  {
   "cell_type": "code",
   "execution_count": 64,
   "metadata": {
    "executionInfo": {
     "elapsed": 2,
     "status": "ok",
     "timestamp": 1660321806245,
     "user": {
      "displayName": "Mike Frantz",
      "userId": "08482506601269125384"
     },
     "user_tz": 420
    },
    "id": "Yt1uzMjZBkWQ"
   },
   "outputs": [],
   "source": [
    "LR = 1e-3\n",
    "N_EPOCHS = 20000"
   ]
  },
  {
   "cell_type": "code",
   "execution_count": 65,
   "metadata": {
    "executionInfo": {
     "elapsed": 2,
     "status": "ok",
     "timestamp": 1660321806729,
     "user": {
      "displayName": "Mike Frantz",
      "userId": "08482506601269125384"
     },
     "user_tz": 420
    },
    "id": "CPuw46kBFdty"
   },
   "outputs": [],
   "source": [
    "# Notice that instead of iterating through our parameters and applying\n",
    "# an update rule, we're just using torch's built in SGD optimizer.\n",
    "opt = optim.SGD(mlr.parameters(), lr=LR)"
   ]
  },
  {
   "cell_type": "code",
   "execution_count": 71,
   "metadata": {
    "colab": {
     "base_uri": "https://localhost:8080/"
    },
    "executionInfo": {
     "elapsed": 10826,
     "status": "ok",
     "timestamp": 1660322553779,
     "user": {
      "displayName": "Mike Frantz",
      "userId": "08482506601269125384"
     },
     "user_tz": 420
    },
    "id": "Bf91-OmaAepE",
    "outputId": "f75d4128-a731-4ef5-b310-9efa7cc175fe"
   },
   "outputs": [],
   "source": [
    "for i in range(N_EPOCHS):\n",
    "    yhat = mlr(X_train).squeeze()\n",
    "    loss = F.mse_loss(yhat, y_train)\n",
    "    loss.backward()\n",
    "    opt.step()\n",
    "    opt.zero_grad()\n",
    "    train_losses.append(loss.detach().numpy())\n",
    "\n",
    "    with torch.no_grad():\n",
    "        yhat = mlr(X_valid).squeeze()\n",
    "        valid_loss = F.mse_loss(yhat, y_valid)\n",
    "        valid_losses.append(loss.numpy())\n",
    "    \n",
    "    if i%(N_EPOCHS/10) == 0:\n",
    "        print(f\"Epoch {i} Train loss: {loss:.04f}, Valid loss: {valid_loss:.04f}\")"
   ]
  },
  {
   "cell_type": "code",
   "execution_count": 73,
   "metadata": {
    "colab": {
     "base_uri": "https://localhost:8080/",
     "height": 717
    },
    "executionInfo": {
     "elapsed": 771,
     "status": "ok",
     "timestamp": 1660322583998,
     "user": {
      "displayName": "Mike Frantz",
      "userId": "08482506601269125384"
     },
     "user_tz": 420
    },
    "id": "1FImQTDQA278",
    "outputId": "67f3be1c-b807-4a95-f95c-91b187e658af"
   },
   "outputs": [],
   "source": [
    "idx=10000\n",
    "fig, ax = plt.subplots(figsize=(12, 12))\n",
    "ax.plot(train_losses[:idx], label='Train', linewidth=3, alpha=0.5)\n",
    "ax.plot(valid_losses[:idx], ls='--', label='Valid')\n",
    "ax.legend()"
   ]
  },
  {
   "cell_type": "code",
   "execution_count": 68,
   "metadata": {
    "executionInfo": {
     "elapsed": 3,
     "status": "ok",
     "timestamp": 1660321818619,
     "user": {
      "displayName": "Mike Frantz",
      "userId": "08482506601269125384"
     },
     "user_tz": 420
    },
    "id": "SXkBM19al6Ge"
   },
   "outputs": [],
   "source": [
    "# Modify the code above to complete the exercise"
   ]
  },
  {
   "cell_type": "code",
   "execution_count": null,
   "metadata": {
    "id": "q-WNsgD3UZlj"
   },
   "outputs": [],
   "source": []
  }
 ],
 "metadata": {
  "colab": {
   "collapsed_sections": [],
   "name": "02_Our_first_neural_network_linear_regression.ipynb",
   "provenance": []
  },
  "kernelspec": {
   "display_name": "cndl",
   "language": "python",
   "name": "cndl"
  },
  "language_info": {
   "codemirror_mode": {
    "name": "ipython",
    "version": 3
   },
   "file_extension": ".py",
   "mimetype": "text/x-python",
   "name": "python",
   "nbconvert_exporter": "python",
   "pygments_lexer": "ipython3",
   "version": "3.9.4"
  }
 },
 "nbformat": 4,
 "nbformat_minor": 0
}
