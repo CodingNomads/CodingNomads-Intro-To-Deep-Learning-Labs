{
 "cells": [
  {
   "cell_type": "code",
   "execution_count": null,
   "metadata": {
    "colab": {
     "base_uri": "https://localhost:8080/"
    },
    "executionInfo": {
     "elapsed": 5374,
     "status": "ok",
     "timestamp": 1625937789740,
     "user": {
      "displayName": "Mike Frantz",
      "photoUrl": "https://lh3.googleusercontent.com/a-/AOh14GiGYCwZXGfGg-CE4_33PQcH9SW8fN6MyRkenN8-IA=s64",
      "userId": "08482506601269125384"
     },
     "user_tz": 420
    },
    "id": "oH3FdUWcC-aG",
    "outputId": "8c4c747a-85a1-46cc-a2e7-bdccb142ae8e"
   },
   "outputs": [],
   "source": [
    "!pip install -Uqq fastai"
   ]
  },
  {
   "cell_type": "code",
   "execution_count": null,
   "metadata": {
    "id": "H4QMDFeqDbnF"
   },
   "outputs": [],
   "source": [
    "import torch\n",
    "from torch import nn, optim\n",
    "from torch.nn import functional as F\n",
    "from fastai.vision.all import *\n",
    "from fastai import *\n",
    "from torchvision.datasets import MNIST\n",
    "from torchvision import transforms"
   ]
  },
  {
   "cell_type": "code",
   "execution_count": null,
   "metadata": {
    "colab": {
     "base_uri": "https://localhost:8080/",
     "height": 17
    },
    "executionInfo": {
     "elapsed": 23316,
     "status": "ok",
     "timestamp": 1625937816775,
     "user": {
      "displayName": "Mike Frantz",
      "photoUrl": "https://lh3.googleusercontent.com/a-/AOh14GiGYCwZXGfGg-CE4_33PQcH9SW8fN6MyRkenN8-IA=s64",
      "userId": "08482506601269125384"
     },
     "user_tz": 420
    },
    "id": "aYR4_WHt9ZK-",
    "outputId": "081296e0-604b-4208-c80d-f914305f8888"
   },
   "outputs": [],
   "source": [
    "path = untar_data(URLs.MNIST)"
   ]
  },
  {
   "cell_type": "code",
   "execution_count": null,
   "metadata": {
    "id": "3EjamsZC9lf2"
   },
   "outputs": [],
   "source": [
    "dls = ImageDataLoaders.from_folder(path, 'training', 'testing')"
   ]
  },
  {
   "cell_type": "code",
   "execution_count": null,
   "metadata": {
    "colab": {
     "base_uri": "https://localhost:8080/",
     "height": 536
    },
    "executionInfo": {
     "elapsed": 820,
     "status": "ok",
     "timestamp": 1625937832738,
     "user": {
      "displayName": "Mike Frantz",
      "photoUrl": "https://lh3.googleusercontent.com/a-/AOh14GiGYCwZXGfGg-CE4_33PQcH9SW8fN6MyRkenN8-IA=s64",
      "userId": "08482506601269125384"
     },
     "user_tz": 420
    },
    "id": "Q0249nNPHQ7p",
    "outputId": "d810540d-be62-4ddd-fd70-0257eae3acd8"
   },
   "outputs": [],
   "source": [
    "dls.show_batch()"
   ]
  },
  {
   "cell_type": "code",
   "execution_count": null,
   "metadata": {
    "id": "ZxbyaardGJ7B"
   },
   "outputs": [],
   "source": [
    "x_b, y_b = dls.one_batch()"
   ]
  },
  {
   "cell_type": "code",
   "execution_count": null,
   "metadata": {
    "colab": {
     "base_uri": "https://localhost:8080/"
    },
    "executionInfo": {
     "elapsed": 369,
     "status": "ok",
     "timestamp": 1625937833104,
     "user": {
      "displayName": "Mike Frantz",
      "photoUrl": "https://lh3.googleusercontent.com/a-/AOh14GiGYCwZXGfGg-CE4_33PQcH9SW8fN6MyRkenN8-IA=s64",
      "userId": "08482506601269125384"
     },
     "user_tz": 420
    },
    "id": "jGmd4JlFGC-Q",
    "outputId": "7de772bc-7e8b-4b4e-f751-934580774627"
   },
   "outputs": [],
   "source": [
    "x_b.max(), x_b.min(), x_b.shape, y_b"
   ]
  },
  {
   "cell_type": "code",
   "execution_count": null,
   "metadata": {
    "id": "7PDtufjVFlJ7"
   },
   "outputs": [],
   "source": [
    "def conv_block(in_channels, out_channels, kernel_size=3, stride=1, dropout=0.2, *args, **kwargs):\n",
    "    \"\"\"\n",
    "    Returns a sequential module of a conv block that we want to repeat.\n",
    "    \"\"\"\n",
    "    return nn.Sequential(\n",
    "        nn.Conv2d(in_channels=in_channels, out_channels=out_channels, kernel_size=kernel_size, stride=stride, padding=1, **kwargs),\n",
    "        nn.PReLU(),\n",
    "        nn.BatchNorm2d(out_channels),\n",
    "        nn.Dropout2d(dropout)\n",
    "    )"
   ]
  },
  {
   "cell_type": "code",
   "execution_count": null,
   "metadata": {
    "id": "2eICy_4C-TCF"
   },
   "outputs": [],
   "source": [
    "model = nn.Sequential(\n",
    "    conv_block(3, 32), # 3x28x28 --> 32x28x28\n",
    "    conv_block(32, 64), # 32x28x28 --> 64x28x28\n",
    "    conv_block(64, 64, stride=2), # 64x28x28 --> 64x14x14\n",
    "    conv_block(64, 128), # 64x14x14 --> 128x14x14\n",
    "    conv_block(128, 128, stride=2), # 128x14x14 --> 128x7x7\n",
    "    nn.AdaptiveMaxPool2d(1), # 128x7x7 --> 128\n",
    "    nn.Flatten(), # 1x1x128 --> 128\n",
    "    nn.Linear(128, 10) # 128 features --> 10 outputs\n",
    ")"
   ]
  },
  {
   "cell_type": "code",
   "execution_count": null,
   "metadata": {
    "id": "TNNTXAR6_kU7"
   },
   "outputs": [],
   "source": [
    "cbs = [\n",
    "    EarlyStoppingCallback()\n",
    "]"
   ]
  },
  {
   "cell_type": "code",
   "execution_count": null,
   "metadata": {
    "id": "sHyqcuKS-YqB"
   },
   "outputs": [],
   "source": [
    "learn = Learner(dls, model, nn.CrossEntropyLoss(), metrics=[metrics.accuracy, metrics.error_rate], cbs=cbs)"
   ]
  },
  {
   "cell_type": "code",
   "execution_count": null,
   "metadata": {
    "colab": {
     "base_uri": "https://localhost:8080/",
     "height": 301
    },
    "executionInfo": {
     "elapsed": 9603,
     "status": "ok",
     "timestamp": 1625937842699,
     "user": {
      "displayName": "Mike Frantz",
      "photoUrl": "https://lh3.googleusercontent.com/a-/AOh14GiGYCwZXGfGg-CE4_33PQcH9SW8fN6MyRkenN8-IA=s64",
      "userId": "08482506601269125384"
     },
     "user_tz": 420
    },
    "id": "2ZvOl-sb-0S2",
    "outputId": "6322e8cd-7eea-445f-fa75-2fbb7f6745bb"
   },
   "outputs": [],
   "source": [
    "learn.lr_find()"
   ]
  },
  {
   "cell_type": "code",
   "execution_count": null,
   "metadata": {
    "id": "Yx2P9Svj_RGe"
   },
   "outputs": [],
   "source": [
    "LR = 1e-3"
   ]
  },
  {
   "cell_type": "code",
   "execution_count": null,
   "metadata": {
    "colab": {
     "base_uri": "https://localhost:8080/",
     "height": 142
    },
    "executionInfo": {
     "elapsed": 279506,
     "status": "ok",
     "timestamp": 1625938122192,
     "user": {
      "displayName": "Mike Frantz",
      "photoUrl": "https://lh3.googleusercontent.com/a-/AOh14GiGYCwZXGfGg-CE4_33PQcH9SW8fN6MyRkenN8-IA=s64",
      "userId": "08482506601269125384"
     },
     "user_tz": 420
    },
    "id": "o-0PhCG2_hvn",
    "outputId": "b74a3367-b92d-47fc-b8b2-43077077d643"
   },
   "outputs": [],
   "source": [
    "learn.fit_one_cycle(3, LR)"
   ]
  },
  {
   "cell_type": "code",
   "execution_count": null,
   "metadata": {
    "colab": {
     "base_uri": "https://localhost:8080/",
     "height": 265
    },
    "executionInfo": {
     "elapsed": 240,
     "status": "ok",
     "timestamp": 1625938122417,
     "user": {
      "displayName": "Mike Frantz",
      "photoUrl": "https://lh3.googleusercontent.com/a-/AOh14GiGYCwZXGfGg-CE4_33PQcH9SW8fN6MyRkenN8-IA=s64",
      "userId": "08482506601269125384"
     },
     "user_tz": 420
    },
    "id": "kbT3efor3nF3",
    "outputId": "fd72ef86-5853-4a17-ff9a-8d5373be5d90"
   },
   "outputs": [],
   "source": [
    "learn.recorder.plot_loss()"
   ]
  },
  {
   "cell_type": "code",
   "execution_count": null,
   "metadata": {
    "colab": {
     "base_uri": "https://localhost:8080/",
     "height": 265
    },
    "executionInfo": {
     "elapsed": 620,
     "status": "ok",
     "timestamp": 1625938123032,
     "user": {
      "displayName": "Mike Frantz",
      "photoUrl": "https://lh3.googleusercontent.com/a-/AOh14GiGYCwZXGfGg-CE4_33PQcH9SW8fN6MyRkenN8-IA=s64",
      "userId": "08482506601269125384"
     },
     "user_tz": 420
    },
    "id": "zjPqrVXA3jsY",
    "outputId": "59b782aa-9a7d-462b-a139-d19aa3566e25"
   },
   "outputs": [],
   "source": [
    "learn.recorder.plot_sched()"
   ]
  },
  {
   "cell_type": "code",
   "execution_count": null,
   "metadata": {
    "id": "RiPt64zLwyHr"
   },
   "outputs": [],
   "source": [
    "# Pick which block we want to inspect\n",
    "layer = 4\n",
    "# \"hook\" the output of the conv layer of that block\n",
    "with hook_output(model[layer][0]) as hook:\n",
    "    # Pass one batch through the model, outputs will be stored in hook.stored\n",
    "    with torch.no_grad():\n",
    "        _ = learn.model(x_b)\n",
    "        # Store the outputs\n",
    "        outputs = hook.stored"
   ]
  },
  {
   "cell_type": "code",
   "execution_count": null,
   "metadata": {
    "colab": {
     "base_uri": "https://localhost:8080/",
     "height": 499
    },
    "executionInfo": {
     "elapsed": 334,
     "status": "ok",
     "timestamp": 1625938949562,
     "user": {
      "displayName": "Mike Frantz",
      "photoUrl": "https://lh3.googleusercontent.com/a-/AOh14GiGYCwZXGfGg-CE4_33PQcH9SW8fN6MyRkenN8-IA=s64",
      "userId": "08482506601269125384"
     },
     "user_tz": 420
    },
    "id": "ftA82-ePxpQY",
    "outputId": "dcfa9677-2530-452e-b070-7edfc7bef768"
   },
   "outputs": [],
   "source": [
    "# Pick an index in the batch\n",
    "idx = 2\n",
    "n_filters = outputs.shape[1]\n",
    "output_size = outputs.shape[2]\n",
    "# Pick 9 random filters to visualize\n",
    "sampled_filters = np.random.choice(range(n_filters), 9)\n",
    "# Show the image \n",
    "show_image(x_b[idx], figsize=(8,8), title=str(y_b[idx]))"
   ]
  },
  {
   "cell_type": "code",
   "execution_count": null,
   "metadata": {
    "colab": {
     "base_uri": "https://localhost:8080/",
     "height": 729
    },
    "executionInfo": {
     "elapsed": 926,
     "status": "ok",
     "timestamp": 1625938951564,
     "user": {
      "displayName": "Mike Frantz",
      "photoUrl": "https://lh3.googleusercontent.com/a-/AOh14GiGYCwZXGfGg-CE4_33PQcH9SW8fN6MyRkenN8-IA=s64",
      "userId": "08482506601269125384"
     },
     "user_tz": 420
    },
    "id": "VsE_AE-LyUzI",
    "outputId": "c3c9359a-9d86-40a7-aaf4-840ce81d9848"
   },
   "outputs": [],
   "source": [
    "# Show the outputs for our 9 randomly sampled filters\n",
    "fig = plt.figure(figsize=(10, 10))\n",
    "for i, fidx in enumerate(sampled_filters):\n",
    "    ax = fig.add_subplot(3, 3, 1+i)\n",
    "    ax.matshow(\n",
    "        outputs[idx, fidx].squeeze().cpu().numpy(), \n",
    "        cmap='Greys_r'\n",
    "    )\n",
    "    ax.set_xticklabels([])\n",
    "    ax.set_xticks([])\n",
    "    ax.set_yticklabels([])\n",
    "    ax.set_yticks([])\n",
    "fig.tight_layout()"
   ]
  },
  {
   "cell_type": "code",
   "execution_count": null,
   "metadata": {
    "id": "gwBOd4mB42lb"
   },
   "outputs": [],
   "source": []
  }
 ],
 "metadata": {
  "accelerator": "GPU",
  "colab": {
   "authorship_tag": "ABX9TyOcImQnKHWTMDoe+/hbIyx7",
   "collapsed_sections": [],
   "name": "11_our_first_cnn_fastai.ipynb",
   "provenance": []
  },
  "kernelspec": {
   "display_name": "Python 3",
   "name": "python3"
  },
  "language_info": {
   "name": "python"
  }
 },
 "nbformat": 4,
 "nbformat_minor": 0
}
