{
 "cells": [
  {
   "cell_type": "code",
   "execution_count": null,
   "metadata": {
    "id": "hbt1PgApTPT6"
   },
   "outputs": [],
   "source": [
    "%%capture\n",
    "!pip install -Uqq gradio fastai"
   ]
  },
  {
   "cell_type": "code",
   "execution_count": null,
   "metadata": {
    "id": "ntuiRR2nTVm8"
   },
   "outputs": [],
   "source": [
    "# imports\n",
    "from torchvision import models, transforms\n",
    "from fastai.vision.all import imagenet_stats\n",
    "import requests\n",
    "from PIL import Image\n",
    "from io import BytesIO\n",
    "import ast\n",
    "import gradio as gr"
   ]
  },
  {
   "cell_type": "code",
   "execution_count": null,
   "metadata": {
    "colab": {
     "base_uri": "https://localhost:8080/"
    },
    "executionInfo": {
     "elapsed": 123,
     "status": "ok",
     "timestamp": 1652470767832,
     "user": {
      "displayName": "Mike Frantz",
      "userId": "08482506601269125384"
     },
     "user_tz": 420
    },
    "id": "nRBoSiYETaul",
    "outputId": "5fc3bef9-4ab0-4c1c-bb38-1a9e9679d41b"
   },
   "outputs": [],
   "source": [
    "# download ImageNet categories\n",
    "categories_dict = ast.literal_eval(requests.get('https://gist.githubusercontent.com/yrevar/942d3a0ac09ec9e5eb3a/raw/238f720ff059c1f82f368259d1ca4ffa5dd8f9f5/imagenet1000_clsidx_to_labels.txt').text)\n",
    "\n",
    "print('Number of categories: ', len(categories_dict))\n",
    "print('First 3 categories:')\n",
    "for i in range(3):\n",
    "    print(i, categories_dict.get(i))"
   ]
  },
  {
   "cell_type": "markdown",
   "metadata": {
    "id": "kIRqeI8_8qjz"
   },
   "source": [
    "# Exercise 21.1\n",
    "\n",
    "In this exercise, we'll download a ResNet model from `torchvision`.\n",
    "In the cell below, use the `models` module to download a pre-trained ResNet.\n",
    "\n",
    "<!-- startquestion -->"
   ]
  },
  {
   "cell_type": "code",
   "execution_count": null,
   "metadata": {
    "id": "Rs01CRfZ83w8"
   },
   "outputs": [],
   "source": [
    "# Download a resnet model\n",
    "model = ...\n",
    "if model is not ...:\n",
    "    model = model.eval()"
   ]
  },
  {
   "cell_type": "markdown",
   "metadata": {
    "id": "f6Rgp9Lb9C60"
   },
   "source": [
    "# Exercise 21.2\n",
    "\n",
    "At this point, you should have downloaded a pre-trained model.\n",
    "Howevever, we can't directly pass raw images into this model - they have to be resized, turned into tensors, and normalized.\n",
    "In the cell below, please use either `torchvision.transforms` or `albumentations` to:\n",
    "\n",
    "* resize the image to (224, 224)\n",
    "* convert the resized image to a tensor\n",
    "* normalize the image tensor by `imagenet_stats`\n",
    "\n",
    "<!-- startquestion -->"
   ]
  },
  {
   "cell_type": "code",
   "execution_count": null,
   "metadata": {
    "id": "eLh2o9wG9x1t"
   },
   "outputs": [],
   "source": [
    "tfms = ..."
   ]
  },
  {
   "cell_type": "code",
   "execution_count": null,
   "metadata": {
    "id": "xemTFHF7-nzD"
   },
   "outputs": [],
   "source": [
    "def predict(img):\n",
    "    raise NotImplementedError()"
   ]
  },
  {
   "cell_type": "code",
   "execution_count": null,
   "metadata": {
    "colab": {
     "base_uri": "https://localhost:8080/",
     "height": 524
    },
    "executionInfo": {
     "elapsed": 845,
     "status": "ok",
     "timestamp": 1652472977484,
     "user": {
      "displayName": "Mike Frantz",
      "userId": "08482506601269125384"
     },
     "user_tz": 420
    },
    "id": "xlx_AiwT-13o",
    "outputId": "e5988b09-d298-49e6-ba93-183e0ea4355c"
   },
   "outputs": [],
   "source": [
    "IMG_URL = 'https://oodmag.com/wp-content/uploads/2018/06/dreamstime_l_111345996_tench-resized.jpg'\n",
    "resp = requests.get(IMG_URL)\n",
    "test_img = Image.open(BytesIO(resp.content))\n",
    "test_img"
   ]
  },
  {
   "cell_type": "code",
   "execution_count": null,
   "metadata": {
    "colab": {
     "base_uri": "https://localhost:8080/"
    },
    "executionInfo": {
     "elapsed": 680,
     "status": "ok",
     "timestamp": 1652473459078,
     "user": {
      "displayName": "Mike Frantz",
      "userId": "08482506601269125384"
     },
     "user_tz": 420
    },
    "id": "uxM9vpWh_YJb",
    "outputId": "5e918fb8-d595-4af5-f6f9-322865d0179a"
   },
   "outputs": [],
   "source": [
    "print(predict(test_img))"
   ]
  },
  {
   "cell_type": "code",
   "execution_count": null,
   "metadata": {
    "id": "1r_FtN7gQM49"
   },
   "outputs": [],
   "source": [
    "input = gr.inputs.Image(shape=(224, 224), type='pil')\n",
    "output = gr.outputs.Textbox()"
   ]
  },
  {
   "cell_type": "code",
   "execution_count": null,
   "metadata": {
    "id": "EEqcoXfcG-YH"
   },
   "outputs": [],
   "source": [
    "title = \"ResNet Inference Tool\"\n",
    "\n",
    "description = \"\"\"\n",
    "Have you ever wanted to use AI to identify the contents of an image?\n",
    "With this service, now you can!\n",
    "All you need to do is drag-and-drop an image into the tool, and click submit.\n",
    "\"\"\"\n",
    "\n",
    "article = \"\"\"\n",
    "![](https://miro.medium.com/max/1400/1*6hF97Upuqg_LdsqWY6n_wg.png)\n",
    "\"\"\""
   ]
  },
  {
   "cell_type": "markdown",
   "metadata": {
    "id": "nvaCQlTQQvx1"
   },
   "source": [
    "# Exercise 21.4\n",
    "\n",
    "In this exercise, you will create your `interface` object.\n",
    "Use the `predict`, `input`, and `output` we previously defined to complete the class.\n",
    "Optionally, pass in the title, descritpion, and article.\n",
    "Once you've instantiated your `interface` class, call `interface.launch(inline=True)` to launch it in the notebook!\n",
    "`gradio` also provides a temporary link that you can provide to others as long as the service is running.\n",
    "\n",
    "<!-- startquestion -->"
   ]
  },
  {
   "cell_type": "code",
   "execution_count": null,
   "metadata": {
    "id": "2S4o54iSSmNk"
   },
   "outputs": [],
   "source": [
    "# your code here\n",
    "interface = ..."
   ]
  },
  {
   "cell_type": "code",
   "execution_count": null,
   "metadata": {
    "id": "J9a-dp-BUWNk"
   },
   "outputs": [],
   "source": []
  }
 ],
 "metadata": {
  "colab": {
   "authorship_tag": "ABX9TyNne3wuzl3TtzCiNdas4zH1",
   "collapsed_sections": [],
   "name": "21_serving_a_ui_with_gradio.ipynb",
   "provenance": []
  },
  "kernelspec": {
   "display_name": "Python 3",
   "name": "python3"
  },
  "language_info": {
   "name": "python"
  }
 },
 "nbformat": 4,
 "nbformat_minor": 0
}
